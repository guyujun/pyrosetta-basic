{
 "cells": [
  {
   "cell_type": "markdown",
   "id": "0e5f3ab4-d13b-44da-8311-a9b3e918c480",
   "metadata": {},
   "source": [
    "# Rosetta Filter API\n",
    "\n",
    "@Author: 吴炜坤 @email：weikun.wu@xtalpi.com\n",
    "\n",
    "更多参考: https://new.rosettacommons.org/docs/latest/scripting_documentation/RosettaScripts/Filters/Filters-RosettaScripts\n",
    "\n"
   ]
  },
  {
   "cell_type": "markdown",
   "id": "98b36454-303d-4f55-a2a4-0dcbd3fc251b",
   "metadata": {},
   "source": [
    "本章节将详细介绍Pyrosetta中一些常用的filter的使用，并给出示例。请读者根据自己需求，需要使用时进行查询即可。"
   ]
  },
  {
   "cell_type": "code",
   "execution_count": 1,
   "id": "bebf98a9-37bf-41cd-9fb8-821b90edb879",
   "metadata": {},
   "outputs": [
    {
     "name": "stdout",
     "output_type": "stream",
     "text": [
      "PyRosetta-4 2021 [Rosetta PyRosetta4.conda.mac.cxx11thread.serialization.python37.Release 2021.26+release.b308454c455dd04f6824cc8b23e54bbb9be2cdd7 2021-07-02T13:01:54] retrieved from: http://www.pyrosetta.org\n",
      "(C) Copyright Rosetta Commons Member Institutions. Created in JHU by Sergey Lyskov and PyRosetta Team.\n",
      "\u001b[0mcore.init: {0} \u001b[0mChecking for fconfig files in pwd and ./rosetta/flags\n",
      "\u001b[0mcore.init: {0} \u001b[0mRosetta version: PyRosetta4.conda.mac.cxx11thread.serialization.python37.Release r288 2021.26+release.b308454c455 b308454c455dd04f6824cc8b23e54bbb9be2cdd7 http://www.pyrosetta.org 2021-07-02T13:01:54\n",
      "\u001b[0mcore.init: {0} \u001b[0mcommand: PyRosetta -ex1 -ex2aro -database /opt/miniconda3/lib/python3.7/site-packages/pyrosetta/database\n",
      "\u001b[0mbasic.random.init_random_generator: {0} \u001b[0m'RNG device' seed mode, using '/dev/urandom', seed=1549073982 seed_offset=0 real_seed=1549073982 thread_index=0\n",
      "\u001b[0mbasic.random.init_random_generator: {0} \u001b[0mRandomGenerator:init: Normal mode, seed=1549073982 RG_type=mt19937\n"
     ]
    }
   ],
   "source": [
    "from pyrosetta.rosetta.protocols.rosetta_scripts import *\n",
    "from pyrosetta import *\n",
    "init()"
   ]
  },
  {
   "cell_type": "markdown",
   "id": "4418fc73-3afb-43f2-ab56-a8b1e8a860b8",
   "metadata": {},
   "source": [
    "### 1. SimpleMetricFilter（简单介绍）\n",
    "基于SimpleMetric计算的值判断是否保留构象的过滤器。"
   ]
  },
  {
   "cell_type": "code",
   "execution_count": 2,
   "id": "dcc5a3b4-7f09-4d6e-86c6-0af08e89316c",
   "metadata": {},
   "outputs": [
    {
     "name": "stdout",
     "output_type": "stream",
     "text": [
      "\u001b[0mcore.chemical.GlobalResidueTypeSet: {0} \u001b[0mFinished initializing fa_standard residue type set.  Created 984 residue types\n",
      "\u001b[0mcore.chemical.GlobalResidueTypeSet: {0} \u001b[0mTotal time to initialize 0.640261 seconds.\n",
      "\u001b[0mcore.import_pose.import_pose: {0} \u001b[0mFile './data/1ubq_clean.pdb' automatically determined to be of type PDB\n",
      "PDB file name: ./data/1ubq_clean.pdb\n",
      " Pose Range  Chain    PDB Range  |   #Residues         #Atoms\n",
      "\n",
      "0001 -- 0076    A 0001  -- 0076  |   0076 residues;    01234 atoms\n",
      "                           TOTAL |   0076 residues;    01234 atoms\n",
      "\n"
     ]
    }
   ],
   "source": [
    "from pyrosetta.rosetta.protocols.simple_filters import SimpleMetricFilter\n",
    "from pyrosetta.rosetta.core.select.residue_selector import ResidueIndexSelector\n",
    "from pyrosetta.rosetta.core.simple_metrics.metrics import SasaMetric\n",
    "from pyrosetta.rosetta.protocols.simple_filters import comparison_type\n",
    "\n",
    "# 读取pose\n",
    "pose = pose_from_pdb('./data/1ubq_clean.pdb')\n",
    "print(pose.pdb_info())"
   ]
  },
  {
   "cell_type": "code",
   "execution_count": 3,
   "id": "f4bbac26-5f5a-419d-b633-5332b405b5f3",
   "metadata": {},
   "outputs": [],
   "source": [
    "# 定义SimpleMetrics计算器\n",
    "sasa_sel = ResidueIndexSelector('1-76')  # 比如计算1-76号残基每个残基的sasa值\n",
    "sasa_metrics = SasaMetric(sasa_sel)"
   ]
  },
  {
   "cell_type": "code",
   "execution_count": 4,
   "id": "ff0a8f71-9b80-481f-b010-fc74b916e833",
   "metadata": {},
   "outputs": [
    {
     "name": "stdout",
     "output_type": "stream",
     "text": [
      "\u001b[0mprotocols.simple_filters.SimpleMetricFilter: {0} \u001b[0m4738.4 gt 500 ?\n",
      "\u001b[0mprotocols.simple_filters.SimpleMetricFilter: {0} \u001b[0mFilter passed: 1\n"
     ]
    },
    {
     "data": {
      "text/plain": [
       "True"
      ]
     },
     "execution_count": 4,
     "metadata": {},
     "output_type": "execute_result"
    }
   ],
   "source": [
    "# 定义SimpleMetricFilter\n",
    "sasa_filter = SimpleMetricFilter()\n",
    "sasa_filter.set_simple_metric(sasa_metrics)  # 设定SimpleMetrics\n",
    "sasa_filter.set_cutoff(500)  # 设定截断半径;\n",
    "sasa_filter.set_comparison_type(comparison_type.gt) # gt 等于great than, filter的判断逻辑\n",
    "sasa_filter.apply(pose)"
   ]
  },
  {
   "cell_type": "markdown",
   "id": "f1135bd9-e494-48a1-9e7f-38312a5ab7c2",
   "metadata": {},
   "source": [
    "**点评**:其实在python操作中，完全没必要去设定SimpleMetricFilter。直接根据SimpleMetric返回的内容进行判断True or False。这种python语言中是非常容易实现的。\n",
    "此处仅做一个简单的案例，阐明SimpleMetricFilter的基本作用。"
   ]
  },
  {
   "cell_type": "markdown",
   "id": "9ba8302f-5dee-4d28-9531-417692f9d330",
   "metadata": {},
   "source": [
    "### 2. Basic Filters\n",
    "此部分根据官方的Filter文档介绍，ResidueCount和NetCharge的用法。"
   ]
  },
  {
   "cell_type": "markdown",
   "id": "27303003-4fe5-4e76-96ca-85f72c1f87f7",
   "metadata": {},
   "source": [
    "#### 2.1 ResidueCount\n",
    "根据残基类型、残基性质、Pack状态的计数/计频filter，可设置过滤阈值。当多个性质或类型被设置时，处理的逻辑是“或”。"
   ]
  },
  {
   "cell_type": "code",
   "execution_count": 5,
   "id": "241467e8-e39b-4377-b164-ff976bc4f2a7",
   "metadata": {},
   "outputs": [
    {
     "name": "stdout",
     "output_type": "stream",
     "text": [
      "\u001b[0mcore.import_pose.import_pose: {0} \u001b[0mFile './data/1ubq_clean.pdb' automatically determined to be of type PDB\n"
     ]
    },
    {
     "data": {
      "text/plain": [
       "41.0"
      ]
     },
     "execution_count": 5,
     "metadata": {},
     "output_type": "execute_result"
    }
   ],
   "source": [
    "from pyrosetta.rosetta.protocols.simple_filters import ResidueCountFilter\n",
    "\n",
    "# 读取结构\n",
    "pose = pose_from_pdb('./data/1ubq_clean.pdb')\n",
    "\n",
    "# 定义Filter\n",
    "res_count_filter = ResidueCountFilter()\n",
    "res_count_filter.add_residue_property_by_name('POLAR')\n",
    "res_count_filter.score(pose)"
   ]
  },
  {
   "cell_type": "code",
   "execution_count": 6,
   "id": "7850297f-4f65-4208-9ea6-1a52e1154820",
   "metadata": {},
   "outputs": [
    {
     "data": {
      "text/plain": [
       "2.0"
      ]
     },
     "execution_count": 6,
     "metadata": {},
     "output_type": "execute_result"
    }
   ],
   "source": [
    "from pyrosetta.rosetta.core.chemical import ResidueTypeSet\n",
    "from pyrosetta.rosetta.core.chemical import ChemicalManager\n",
    "from pyrosetta.rosetta.core.conformation import ResidueFactory\n",
    "\n",
    "# 获取ResidueTypeSet\n",
    "chm = ChemicalManager.get_instance()\n",
    "residue_type_sets = chm.residue_type_set(\"fa_standard\")\n",
    "\n",
    "# 定义Filter\n",
    "res_count_filter = ResidueCountFilter()\n",
    "res_count_filter.add_residue_type_by_name(residue_type_sets, 'ALA')\n",
    "res_count_filter.score(pose)"
   ]
  },
  {
   "cell_type": "markdown",
   "id": "35d33f94-4505-4b40-ab67-2280b559c90b",
   "metadata": {},
   "source": [
    "#### 2.2 NetCharge\n",
    "基于蛋白序列总电荷值的过滤器，NetCharge设定LYS和ARG残基电荷值为+1，酸性残基ASP和GLU电荷值为-1。"
   ]
  },
  {
   "cell_type": "code",
   "execution_count": 7,
   "id": "7e5a5b33-b8b1-4131-bde2-388528b534cf",
   "metadata": {},
   "outputs": [
    {
     "name": "stdout",
     "output_type": "stream",
     "text": [
      "\u001b[0mprotocols.simple_filters.NetChargeFilter: {0} \u001b[0mAA:  +1  LYS 6\n",
      "\u001b[0mprotocols.simple_filters.NetChargeFilter: {0} \u001b[0mAA:  +1  LYS 11\n",
      "\u001b[0mprotocols.simple_filters.NetChargeFilter: {0} \u001b[0mAA:  -1  GLU 16\n",
      "\u001b[0mprotocols.simple_filters.NetChargeFilter: {0} \u001b[0mAA:  -1  GLU 18\n",
      "\u001b[0mprotocols.simple_filters.NetChargeFilter: {0} \u001b[0mAA:  -1  ASP 21\n",
      "\u001b[0mprotocols.simple_filters.NetChargeFilter: {0} \u001b[0mAA:  -1  GLU 24\n",
      "\u001b[0mprotocols.simple_filters.NetChargeFilter: {0} \u001b[0mAA:  +1  LYS 27\n",
      "\u001b[0mprotocols.simple_filters.NetChargeFilter: {0} \u001b[0mAA:  +1  LYS 29\n",
      "\u001b[0mprotocols.simple_filters.NetChargeFilter: {0} \u001b[0mAA:  -1  ASP 32\n",
      "\u001b[0mprotocols.simple_filters.NetChargeFilter: {0} \u001b[0mAA:  +1  LYS 33\n",
      "\u001b[0mprotocols.simple_filters.NetChargeFilter: {0} \u001b[0mAA:  -1  GLU 34\n",
      "\u001b[0mprotocols.simple_filters.NetChargeFilter: {0} \u001b[0mAA:  -1  ASP 39\n",
      "\u001b[0mprotocols.simple_filters.NetChargeFilter: {0} \u001b[0mAA:  +1  ARG 42\n",
      "\u001b[0mprotocols.simple_filters.NetChargeFilter: {0} \u001b[0mAA:  +1  LYS 48\n",
      "\u001b[0mprotocols.simple_filters.NetChargeFilter: {0} \u001b[0mAA:  -1  GLU 51\n",
      "\u001b[0mprotocols.simple_filters.NetChargeFilter: {0} \u001b[0mAA:  -1  ASP 52\n",
      "\u001b[0mprotocols.simple_filters.NetChargeFilter: {0} \u001b[0mAA:  +1  ARG 54\n",
      "\u001b[0mprotocols.simple_filters.NetChargeFilter: {0} \u001b[0mAA:  -1  ASP 58\n",
      "\u001b[0mprotocols.simple_filters.NetChargeFilter: {0} \u001b[0mAA:  +1  LYS 63\n",
      "\u001b[0mprotocols.simple_filters.NetChargeFilter: {0} \u001b[0mAA:  -1  GLU 64\n",
      "\u001b[0mprotocols.simple_filters.NetChargeFilter: {0} \u001b[0mAA:  +1  ARG 72\n",
      "\u001b[0mprotocols.simple_filters.NetChargeFilter: {0} \u001b[0mAA:  +1  ARG 74\n",
      "\u001b[0mprotocols.simple_filters.NetChargeFilter: {0} \u001b[0mThe net charge is: 0\n",
      "\u001b[0mprotocols.simple_filters.NetChargeFilter: {0} \u001b[0mNet Charge: 0. passing.\n"
     ]
    },
    {
     "data": {
      "text/plain": [
       "True"
      ]
     },
     "execution_count": 7,
     "metadata": {},
     "output_type": "execute_result"
    }
   ],
   "source": [
    "from pyrosetta.rosetta.protocols.simple_filters import NetChargeFilter\n",
    "netcharge = NetChargeFilter()\n",
    "netcharge.apply(pose)"
   ]
  },
  {
   "cell_type": "markdown",
   "id": "665ba7a5-6b57-4779-ae7b-ae4dedbb612c",
   "metadata": {},
   "source": [
    "### 3. Energy/Score Filters"
   ]
  },
  {
   "cell_type": "markdown",
   "id": "65921b0e-a506-445a-aeb5-c4d76da483f2",
   "metadata": {},
   "source": [
    "#### 3.1 ScoreTypeFilter\n",
    "基于某特定打分项的Filter，如果没有指定打分的能量项，将默认对总能进行判断过滤。"
   ]
  },
  {
   "cell_type": "code",
   "execution_count": 8,
   "id": "ea488e8e-2a4c-4e55-b4f3-3d8b9f687990",
   "metadata": {},
   "outputs": [
    {
     "name": "stdout",
     "output_type": "stream",
     "text": [
      "\u001b[0mcore.import_pose.import_pose: {0} \u001b[0mFile './data/1ubq_clean.pdb' automatically determined to be of type PDB\n",
      "\u001b[0mcore.scoring.etable: {0} \u001b[0mStarting energy table calculation\n",
      "\u001b[0mcore.scoring.etable: {0} \u001b[0msmooth_etable: changing atr/rep split to bottom of energy well\n",
      "\u001b[0mcore.scoring.etable: {0} \u001b[0msmooth_etable: spline smoothing lj etables (maxdis = 6)\n",
      "\u001b[0mcore.scoring.etable: {0} \u001b[0msmooth_etable: spline smoothing solvation etables (max_dis = 6)\n",
      "\u001b[0mcore.scoring.etable: {0} \u001b[0mFinished calculating energy tables.\n",
      "\u001b[0mbasic.io.database: {0} \u001b[0mDatabase file opened: scoring/score_functions/hbonds/ref2015_params/HBPoly1D.csv\n",
      "\u001b[0mbasic.io.database: {0} \u001b[0mDatabase file opened: scoring/score_functions/hbonds/ref2015_params/HBFadeIntervals.csv\n",
      "\u001b[0mbasic.io.database: {0} \u001b[0mDatabase file opened: scoring/score_functions/hbonds/ref2015_params/HBEval.csv\n",
      "\u001b[0mbasic.io.database: {0} \u001b[0mDatabase file opened: scoring/score_functions/hbonds/ref2015_params/DonStrength.csv\n",
      "\u001b[0mbasic.io.database: {0} \u001b[0mDatabase file opened: scoring/score_functions/hbonds/ref2015_params/AccStrength.csv\n",
      "\u001b[0mbasic.io.database: {0} \u001b[0mDatabase file opened: scoring/score_functions/rama/fd/all.ramaProb\n",
      "\u001b[0mbasic.io.database: {0} \u001b[0mDatabase file opened: scoring/score_functions/rama/fd/prepro.ramaProb\n",
      "\u001b[0mbasic.io.database: {0} \u001b[0mDatabase file opened: scoring/score_functions/omega/omega_ppdep.all.txt\n",
      "\u001b[0mbasic.io.database: {0} \u001b[0mDatabase file opened: scoring/score_functions/omega/omega_ppdep.gly.txt\n",
      "\u001b[0mbasic.io.database: {0} \u001b[0mDatabase file opened: scoring/score_functions/omega/omega_ppdep.pro.txt\n",
      "\u001b[0mbasic.io.database: {0} \u001b[0mDatabase file opened: scoring/score_functions/omega/omega_ppdep.valile.txt\n",
      "\u001b[0mbasic.io.database: {0} \u001b[0mDatabase file opened: scoring/score_functions/P_AA_pp/P_AA\n",
      "\u001b[0mbasic.io.database: {0} \u001b[0mDatabase file opened: scoring/score_functions/P_AA_pp/P_AA_n\n",
      "\u001b[0mcore.scoring.P_AA: {0} \u001b[0mshapovalov_lib::shap_p_aa_pp_smooth_level of 1( aka low_smooth ) got activated.\n",
      "\u001b[0mbasic.io.database: {0} \u001b[0mDatabase file opened: scoring/score_functions/P_AA_pp/shapovalov/10deg/kappa131/a20.prop\n",
      "\u001b[0mbasic.io.database: {0} \u001b[0mDatabase file opened: scoring/score_functions/elec_cp_reps.dat\n",
      "\u001b[0mcore.scoring.elec.util: {0} \u001b[0mRead 40 countpair representative atoms\n",
      "\u001b[0mcore.pack.dunbrack.RotamerLibrary: {0} \u001b[0mshapovalov_lib_fixes_enable option is true.\n",
      "\u001b[0mcore.pack.dunbrack.RotamerLibrary: {0} \u001b[0mshapovalov_lib::shap_dun10_smooth_level of 1( aka lowest_smooth ) got activated.\n",
      "\u001b[0mcore.pack.dunbrack.RotamerLibrary: {0} \u001b[0mBinary rotamer library selected: /opt/miniconda3/lib/python3.7/site-packages/pyrosetta/database/rotamer/shapovalov/StpDwn_0-0-0/Dunbrack10.lib.bin\n",
      "\u001b[0mcore.pack.dunbrack.RotamerLibrary: {0} \u001b[0mUsing Dunbrack library binary file '/opt/miniconda3/lib/python3.7/site-packages/pyrosetta/database/rotamer/shapovalov/StpDwn_0-0-0/Dunbrack10.lib.bin'.\n",
      "\u001b[0mcore.pack.dunbrack.RotamerLibrary: {0} \u001b[0mDunbrack 2010 library took 0.176495 seconds to load from binary\n",
      "\u001b[0mprotocols.simple_filters.ScoreTypeFilter: {0} \u001b[0mscore fa_atr is -397.646. failing.\n"
     ]
    },
    {
     "data": {
      "text/plain": [
       "False"
      ]
     },
     "execution_count": 8,
     "metadata": {},
     "output_type": "execute_result"
    }
   ],
   "source": [
    "from pyrosetta.rosetta.protocols.score_filters import ScoreTypeFilter\n",
    "from pyrosetta.rosetta.core.scoring import ScoreType\n",
    "from pyrosetta import create_score_function\n",
    "\n",
    "# 读取结构\n",
    "pose = pose_from_pdb('./data/1ubq_clean.pdb')\n",
    "\n",
    "# 创建打分函数\n",
    "ref2015 = create_score_function('ref2015')\n",
    "\n",
    "# 定义Filter\n",
    "st_filter = ScoreTypeFilter()\n",
    "st_filter.set_scorefxn(ref2015)\n",
    "st_filter.set_score_type(ScoreType.fa_atr)  # 对范德华吸引势能量项打分，更多请参见ScoreType类型。\n",
    "st_filter.set_threshold(-400)\n",
    "st_filter.apply(pose)"
   ]
  },
  {
   "cell_type": "markdown",
   "id": "1c89bf99-4603-40fc-923b-0eaf8308a544",
   "metadata": {},
   "source": [
    "#### 3.2 TaskAwareScoreType\n",
    "TaskAwareScoreType过滤器与ScoreTypeFilter最大的区别在于，只对那些TaskOperation中可被Repack的部分进行能量评估。\n",
    "\n",
    "mode：可选\"total\", \"average\", or \"individual\"\n",
    "\n",
    "此Filter可以对Interface上的残基进行特定的过滤，特别结合individual模式可以识别出异常的Residue或Rotamer"
   ]
  },
  {
   "cell_type": "code",
   "execution_count": 9,
   "id": "1f0a9abd-de11-4708-b4dc-92c4b8951153",
   "metadata": {},
   "outputs": [
    {
     "name": "stdout",
     "output_type": "stream",
     "text": [
      "\u001b[0mcore.import_pose.import_pose: {0} \u001b[0mFile './data/1ubq_clean.pdb' automatically determined to be of type PDB\n"
     ]
    },
    {
     "data": {
      "text/plain": [
       "0.0"
      ]
     },
     "execution_count": 9,
     "metadata": {},
     "output_type": "execute_result"
    }
   ],
   "source": [
    "from pyrosetta.rosetta.protocols.simple_filters import TaskAwareScoreTypeFilter\n",
    "from pyrosetta.rosetta.core.scoring import ScoreType\n",
    "from pyrosetta import create_score_function\n",
    "from pyrosetta.rosetta.core.pack.task import TaskFactory\n",
    "from pyrosetta.rosetta.core.pack.task.operation import PreventRepackingRLT\n",
    "from pyrosetta.rosetta.core.pack.task.operation import OperateOnResidueSubset\n",
    "from pyrosetta.rosetta.core.select.residue_selector import ResidueIndexSelector\n",
    "from pyrosetta.rosetta.core.pack.task import TaskFactory\n",
    "\n",
    "# 读取结构\n",
    "pose = pose_from_pdb('./data/1ubq_clean.pdb')\n",
    "\n",
    "# 选择氨基酸范围\n",
    "select_pos = ResidueIndexSelector('2,3,4,5,6,7,8,9,10,11,12,13')\n",
    "# 使用OperateOnResidueSubset生成TaskOperations\n",
    "packing_taskop = OperateOnResidueSubset(PreventRepackingRLT(), select_pos, False)\n",
    "\n",
    "# 创建打分函数\n",
    "ref2015 = create_score_function('ref2015')\n",
    "\n",
    "# 创建tf\n",
    "tf = TaskFactory()\n",
    "tf.push_back(packing_taskop)\n",
    "\n",
    "# 定义Filter\n",
    "tast_filter = TaskAwareScoreTypeFilter()\n",
    "tast_filter.bb_bb(True)  # 考虑骨架的能量项\n",
    "tast_filter.score_type(ScoreType.fa_atr)\n",
    "tast_filter.scorefxn(ref2015)\n",
    "tast_filter.task_factory(tf)\n",
    "tast_filter.threshold(-1.0)\n",
    "tast_filter.unbound(False)  # 必须手动设置为False\n",
    "tast_filter.mode('individual')  # 单独过滤每一个打分项\n",
    "tast_filter.score(pose)"
   ]
  },
  {
   "cell_type": "markdown",
   "id": "6aebc6e6-d88b-41a0-9b11-9bb734c6ab0d",
   "metadata": {},
   "source": [
    "#### 3.3 BindingStrain\n",
    "在结合态的单体的能量张力的Filter, 此Filter可以自动检测对称性。\n",
    "\n",
    "ps: 看了下源码，这个Filter其实就是把两个刚体组分拉开，然后进行repack。然后计算bind状态下的能量-unbind状态下的能量差。\n",
    "\n",
    "如果能量差的绝对值越大，说明bind状态以unbind状态下的能量差较大。"
   ]
  },
  {
   "cell_type": "code",
   "execution_count": 10,
   "id": "4bcd356d-6571-4fab-b6e1-e61879355e83",
   "metadata": {},
   "outputs": [
    {
     "name": "stdout",
     "output_type": "stream",
     "text": [
      "PyRosetta-4 2021 [Rosetta PyRosetta4.conda.mac.cxx11thread.serialization.python37.Release 2021.26+release.b308454c455dd04f6824cc8b23e54bbb9be2cdd7 2021-07-02T13:01:54] retrieved from: http://www.pyrosetta.org\n",
      "(C) Copyright Rosetta Commons Member Institutions. Created in JHU by Sergey Lyskov and PyRosetta Team.\n",
      "\u001b[0mcore.init: {0} \u001b[0mChecking for fconfig files in pwd and ./rosetta/flags\n",
      "\u001b[0mcore.init: {0} \u001b[0mRosetta version: PyRosetta4.conda.mac.cxx11thread.serialization.python37.Release r288 2021.26+release.b308454c455 b308454c455dd04f6824cc8b23e54bbb9be2cdd7 http://www.pyrosetta.org 2021-07-02T13:01:54\n",
      "\u001b[0mcore.init: {0} \u001b[0mcommand: PyRosetta -ex1 -ex2 -corrections::beta_nov16 -database /opt/miniconda3/lib/python3.7/site-packages/pyrosetta/database\n",
      "\u001b[0mbasic.random.init_random_generator: {0} \u001b[0m'RNG device' seed mode, using '/dev/urandom', seed=1905387258 seed_offset=0 real_seed=1905387258 thread_index=0\n",
      "\u001b[0mbasic.random.init_random_generator: {0} \u001b[0mRandomGenerator:init: Normal mode, seed=1905387258 RG_type=mt19937\n",
      "\u001b[0mcore.import_pose.import_pose: {0} \u001b[0mFile './data/denovo_binder.pdb' automatically determined to be of type PDB\n",
      "\u001b[0mcore.conformation.Conformation: {0} \u001b[0mFound disulfide between residues 148 186\n",
      "\u001b[0mcore.conformation.Conformation: {0} \u001b[0mcurrent variant for 148 CYS\n",
      "\u001b[0mcore.conformation.Conformation: {0} \u001b[0mcurrent variant for 186 CYS\n",
      "\u001b[0mcore.conformation.Conformation: {0} \u001b[0mcurrent variant for 148 CYD\n",
      "\u001b[0mcore.conformation.Conformation: {0} \u001b[0mcurrent variant for 186 CYD\n",
      "\u001b[0mbasic.io.database: {0} \u001b[0mDatabase file opened: scoring/score_functions/bondlength_bondangle/hydroxyl_torsion_preference.txt\n",
      "\u001b[0mcore.pack.task: {0} \u001b[0mPacker task: initialize from command line()\n",
      "\u001b[0mprotocols.moves.RigidBodyMover: {0} \u001b[0mTranslate: Jump (before): RT 0.475346 -0.778522 0.409816 -0.138636 0.393705 0.908722 -0.868807 -0.488773 0.0792154 17.3442 -1.09276 -32.123\n",
      "\u001b[0mprotocols.moves.RigidBodyMover: {0} \u001b[0mTranslate: Jump (after):  RT 0.475346 -0.778522 0.409816 -0.138636 0.393705 0.908722 -0.868807 -0.488773 0.0792154 4858.09 4993.85 -7216.68\n",
      "\u001b[0mcore.pack.pack_rotamers: {0} \u001b[0mbuilt 984 rotamers at 61 positions.\n",
      "\u001b[0mcore.pack.pack_rotamers: {0} \u001b[0mRequesting all available threads for interaction graph computation.\n",
      "\u001b[0mcore.pack.interaction_graph.interaction_graph_factory: {0} \u001b[0mInstantiating DensePDInteractionGraph\n",
      "\u001b[0mbasic.thread_manager.RosettaThreadManager: {?} \u001b[0mCreating a thread pool of 1 threads.\n",
      "\u001b[0mbasic.thread_manager.RosettaThreadPool: {?} \u001b[0mLaunched 0 new threads.\n",
      "\u001b[0mcore.pack.rotamer_set.RotamerSets: {0} \u001b[0mCompleted interaction graph pre-calculation in 1 available threads (1 had been requested).\n"
     ]
    },
    {
     "data": {
      "text/plain": [
       "-11.974517803396395"
      ]
     },
     "execution_count": 10,
     "metadata": {},
     "output_type": "execute_result"
    }
   ],
   "source": [
    "from pyrosetta.rosetta.protocols.protein_interface_design.filters import BindingStrainFilter\n",
    "from pyrosetta.rosetta.core.pack.task.operation import PreventRepackingRLT\n",
    "from pyrosetta.rosetta.core.select.residue_selector import ChainSelector\n",
    "init('-ex1 -ex2 -corrections::beta_nov16')\n",
    "\n",
    "# 读取复合物结构\n",
    "complex_pose = pose_from_pdb('./data/denovo_binder.pdb')\n",
    "\n",
    "# 创建打分函数\n",
    "beta_16 = create_score_function('beta_nov16')\n",
    "receptor_chain = ChainSelector('A')\n",
    "\n",
    "# 创建tf\n",
    "no_repack_receptor_op = OperateOnResidueSubset(PreventRepackingRLT(), receptor_chain)\n",
    "tf = TaskFactory()\n",
    "tf.push_back(no_repack_receptor_op)\n",
    "\n",
    "# 定义Filter\n",
    "bsf = BindingStrainFilter()\n",
    "bsf.scorefxn(beta_16)\n",
    "bsf.threshold(0)\n",
    "bsf.jump(1)   # 定义binder与receptor之间的jump值。\n",
    "bsf.task_factory(tf)\n",
    "bsf.compute(complex_pose)"
   ]
  },
  {
   "cell_type": "markdown",
   "id": "42cd4664-a62a-45af-a08f-cbb16ac01e33",
   "metadata": {},
   "source": [
    "#### 3.4 ConstraintScore(有bug.不起效)\n",
    "从ConstraintGenerators产生的一系列constraints计算的打分项的Filter\n",
    "\n",
    "注意: \n",
    "1. Generators产生的约束必须通过AddConstraintsMover已经添加到Pose中\n",
    "2. 对应的score term打分必须开启。\n"
   ]
  },
  {
   "cell_type": "code",
   "execution_count": 11,
   "id": "c4ed482f-7187-430a-b6d1-5ec7ead19a4b",
   "metadata": {},
   "outputs": [
    {
     "name": "stdout",
     "output_type": "stream",
     "text": [
      "\u001b[0mcore.import_pose.import_pose: {0} \u001b[0mFile './data/1ubq_clean.pdb' automatically determined to be of type PDB\n",
      "\u001b[0mprotocols.constraint_generator.TerminiConstraintGenerator: {0} \u001b[0mConstraining atoms  atomno= 2 rsd= 1  and  atomno= 2 rsd= 76 , min_distance=8 max_distance=20\n",
      "\u001b[0mprotocols.constraint_generator.AddConstraints: {0} \u001b[0mAdding 1 constraints generated by ConstraintGenerator named test_nc\n"
     ]
    }
   ],
   "source": [
    "# 通过ConstraintGenerators产生约束\n",
    "from pyrosetta.rosetta.protocols.simple_moves import VirtualRootMover\n",
    "\n",
    "# load pose from 1ubq_clean.pdb\n",
    "pose = pose_from_pdb(\"./data/1ubq_clean.pdb\")\n",
    "\n",
    "# Score reweight\n",
    "score = create_score_function('ref2015')\n",
    "score.set_weight(ScoreType.atom_pair_constraint, 1.0) # reweight score\n",
    "\n",
    "# 定义Filter\n",
    "from pyrosetta.rosetta.protocols.constraint_generator import TerminiConstraintGenerator\n",
    "termin_cst = TerminiConstraintGenerator()\n",
    "termin_cst.set_min_distance(8)\n",
    "termin_cst.set_max_distance(20)\n",
    "termin_cst.set_sd(1.0)\n",
    "termin_cst.set_id('test_nc')\n",
    "\n",
    "# add TerminiConstraintGenerator to pose;\n",
    "from pyrosetta.rosetta.protocols.constraint_generator import AddConstraints\n",
    "add_cst = AddConstraints()\n",
    "add_cst.add_generator(termin_cst)\n",
    "add_cst.apply(pose)"
   ]
  },
  {
   "cell_type": "code",
   "execution_count": 12,
   "id": "544c041e-f58c-418b-bd26-01d4b4b5fe8a",
   "metadata": {},
   "outputs": [
    {
     "name": "stdout",
     "output_type": "stream",
     "text": [
      "\u001b[0mprotocols.constraint_filters.ConstraintScoreFilter: {0} \u001b[0m\n",
      "------------------------------------------------------------\n",
      " Scores                       Weight   Raw Score Wghtd.Score\n",
      "------------------------------------------------------------\n",
      " atom_pair_constraint         1.000       0.000       0.000\n",
      " coordinate_constraint        1.000       0.000       0.000\n",
      " angle_constraint             1.000       0.000       0.000\n",
      " dihedral_constraint          1.000       0.000       0.000\n",
      " res_type_constraint          1.000       0.000       0.000\n",
      " backbone_stub_constraint     1.000       0.000       0.000\n",
      "---------------------------------------------------\n",
      " Total weighted score:                        0.000\n"
     ]
    },
    {
     "data": {
      "text/plain": [
       "False"
      ]
     },
     "execution_count": 12,
     "metadata": {},
     "output_type": "execute_result"
    }
   ],
   "source": [
    "from pyrosetta.rosetta.protocols.constraint_filters import ConstraintScoreFilter\n",
    "from pyrosetta.rosetta.protocols.relax import FastRelax\n",
    "\n",
    "# 破坏NC构象代码(转为线性肽):\n",
    "for i in range(1, pose.total_residue()+1):\n",
    "    pose.set_phi(i, -150)\n",
    "    pose.set_psi(i, 150)\n",
    "\n",
    "# 定义Filter\n",
    "cst_score_filter = ConstraintScoreFilter()\n",
    "cst_score_filter.set_user_defined_name('test_nc')\n",
    "cst_score_filter.apply(pose)"
   ]
  },
  {
   "cell_type": "markdown",
   "id": "3bcc442a-8782-4583-b389-69766258f386",
   "metadata": {},
   "source": [
    "#### 3.5 ScorePoseSegmentFromResidueSelectorFilter\n",
    "该filter可以根据用户指定的ResidueSelector的范围进行能量打分并过滤。比如可以针对特殊region或某条链进行打分。\n",
    "\n",
    "in_context选项: 可以选择是否在打分前，将selection的区域提取到一个单独的Pose中。"
   ]
  },
  {
   "cell_type": "code",
   "execution_count": 13,
   "id": "23f8f585-5740-485a-b613-e5a7abbc7ee0",
   "metadata": {},
   "outputs": [
    {
     "name": "stdout",
     "output_type": "stream",
     "text": [
      "\u001b[0mcore.scoring.ScoreFunctionFactory: {0} \u001b[0mSCOREFUNCTION: \u001b[32mbeta_nov16.wts\u001b[0m\n"
     ]
    },
    {
     "data": {
      "text/plain": [
       "1709.9821163242043"
      ]
     },
     "execution_count": 13,
     "metadata": {},
     "output_type": "execute_result"
    }
   ],
   "source": [
    "from pyrosetta.rosetta.protocols.fold_from_loops.filters import ScorePoseSegmentFromResidueSelectorFilter\n",
    "from pyrosetta.rosetta.core.select.residue_selector import ChainSelector\n",
    "\n",
    "# 选择链\n",
    "chain_A = ChainSelector('A')\n",
    "\n",
    "# 定义Filter\n",
    "score_from_selector_filter = ScorePoseSegmentFromResidueSelectorFilter()\n",
    "score_from_selector_filter.residue_selector(chain_A)\n",
    "score_from_selector_filter.in_context(True)\n",
    "score_from_selector_filter.scorefxn(ref2015)\n",
    "score_from_selector_filter.compute(pose)"
   ]
  },
  {
   "cell_type": "markdown",
   "id": "7b05fe93-aea2-4f08-a919-2be16e331c2b",
   "metadata": {},
   "source": [
    "#### 3.6 ReadPoseExtraScoreFilter\n",
    "从Pose中的ExtraScore信息中提取score，并且设置是否进行过滤。"
   ]
  },
  {
   "cell_type": "code",
   "execution_count": 14,
   "id": "9b3b5d95-08d8-40d9-9b4a-152494684290",
   "metadata": {},
   "outputs": [
    {
     "name": "stdout",
     "output_type": "stream",
     "text": [
      "\u001b[0mcore.import_pose.import_pose: {0} \u001b[0mFile './data/1ubq_clean.pdb' automatically determined to be of type PDB\n"
     ]
    }
   ],
   "source": [
    "# 读取结构\n",
    "pose = pose_from_pdb('./data/1ubq_clean.pdb')\n",
    "\n",
    "# set ExtraScore to pose:\n",
    "from pyrosetta.rosetta.core.pose import setPoseExtraScore\n",
    "setPoseExtraScore(pose, 'test_score', '100')"
   ]
  },
  {
   "cell_type": "markdown",
   "id": "459c2279-b46a-45d0-b886-91871ca5edcf",
   "metadata": {},
   "source": [
    "下面来进行score提取并过滤。"
   ]
  },
  {
   "cell_type": "code",
   "execution_count": 15,
   "id": "599f48f3-23b1-4758-8905-7bd9703b86c9",
   "metadata": {},
   "outputs": [
    {
     "data": {
      "text/plain": [
       "True"
      ]
     },
     "execution_count": 15,
     "metadata": {},
     "output_type": "execute_result"
    }
   ],
   "source": [
    "# 定义Filter\n",
    "from pyrosetta.rosetta.protocols.simple_filters import ReadPoseExtraScoreFilter\n",
    "extra_score_filter = ReadPoseExtraScoreFilter()\n",
    "extra_score_filter.set_term_name('test_score') # 要过滤的score term\n",
    "extra_score_filter.set_threshold(300)  # returns false if the score is greater than this threshold\n",
    "extra_score_filter.apply(pose)"
   ]
  },
  {
   "cell_type": "markdown",
   "id": "098c9463-0f21-4458-993e-d3cddee00634",
   "metadata": {},
   "source": [
    "#### 3.7 Delta（完全没必要使用!）\n",
    "计算filter中的值与input结构能量差值，简单来说就是指定一个Filter后，比对native和当前pose的差异值。"
   ]
  },
  {
   "cell_type": "markdown",
   "id": "ea948786-3bd3-4bf5-94d1-75f18437c3e0",
   "metadata": {},
   "source": [
    "（略），在python中直接比较native pose和pose的值并不困难。"
   ]
  },
  {
   "cell_type": "markdown",
   "id": "89e9432a-e502-4937-806e-f34a9c9369d7",
   "metadata": {},
   "source": [
    "### 4. Distance Filter"
   ]
  },
  {
   "cell_type": "markdown",
   "id": "4012f225-983c-4e52-8032-64bff73b55b8",
   "metadata": {},
   "source": [
    "#### 4.1 ResidueDistance\n",
    "计算两个残基之间距离，以每个残基的邻原子作为计算（通常为C-β原子），此Filter支持PDB编号或Pose编号。"
   ]
  },
  {
   "cell_type": "code",
   "execution_count": 16,
   "id": "b0ef8ec9-8e89-4ebe-a812-72569d857bdf",
   "metadata": {},
   "outputs": [
    {
     "name": "stdout",
     "output_type": "stream",
     "text": [
      "\u001b[0mcore.import_pose.import_pose: {0} \u001b[0mFile './data/1ubq_clean.pdb' automatically determined to be of type PDB\n",
      "\u001b[0mprotocols.simple_filters.ResidueDistanceFilter: {0} \u001b[0mDistance between residues 5 and 10 is 10.8498\n"
     ]
    },
    {
     "data": {
      "text/plain": [
       "False"
      ]
     },
     "execution_count": 16,
     "metadata": {},
     "output_type": "execute_result"
    }
   ],
   "source": [
    "from pyrosetta.rosetta.protocols.simple_filters import ResidueDistanceFilter\n",
    "\n",
    "# 读取结构\n",
    "pose = pose_from_pdb('./data/1ubq_clean.pdb')\n",
    "\n",
    "# 定义filter\n",
    "res1 = '5'\n",
    "res2 = '10'\n",
    "two_res_dis = ResidueDistanceFilter(res1, res2, distance_threshold=10)\n",
    "two_res_dis.apply(pose)"
   ]
  },
  {
   "cell_type": "markdown",
   "id": "cc20dca3-575e-4881-b6d7-ca46aeae60d8",
   "metadata": {},
   "source": [
    "#### 4.2 AtomicContact\n",
    "判定两个残基之间在cutoff distance范围内，是否存在原子相互作用？"
   ]
  },
  {
   "cell_type": "code",
   "execution_count": 17,
   "id": "1c3aaec8-f693-459a-844b-d592493cc3b6",
   "metadata": {},
   "outputs": [
    {
     "data": {
      "text/plain": [
       "True"
      ]
     },
     "execution_count": 17,
     "metadata": {},
     "output_type": "execute_result"
    }
   ],
   "source": [
    "from pyrosetta.rosetta.protocols.simple_filters import AtomicContactFilter\n",
    "is_atom_between_res = AtomicContactFilter(res1=1, res2=5, distance=10.0, sidechain=True, backbone=True, protons=False)\n",
    "is_atom_between_res.apply(pose)"
   ]
  },
  {
   "cell_type": "markdown",
   "id": "2aa884be-3d83-4a55-a29d-79e804fc55fa",
   "metadata": {},
   "source": [
    "#### 4.3 AtomicContactCount(xmlobject)\n",
    "计算两个残基之间contact的数量，此filter运行设置taskoperation，此时filter只统计packable残基侧链上的碳原子contact数量。\n",
    "\n",
    "这个filter有3种运行模式:\n",
    "1. \"All\" mode: 计算所有侧链碳原子的contact的数量。（适合单链结构计算使用）\n",
    "2. \"jump\" mode: 计算所有复合物界面原子contact的数量。（适合相互作用界面使用）\n",
    "3. \"chain\" mode: 计算链之间的原子contact的数量。（适合两两链之间计算使用）"
   ]
  },
  {
   "cell_type": "code",
   "execution_count": 18,
   "id": "66cbf3bd-5aa9-47f4-a77b-30490e090889",
   "metadata": {
    "tags": []
   },
   "outputs": [
    {
     "name": "stdout",
     "output_type": "stream",
     "text": [
      "\u001b[0mcore.import_pose.import_pose: {0} \u001b[0mFile './data/1ubq_clean.pdb' automatically determined to be of type PDB\n",
      "\u001b[0mprotocols.rosetta_scripts.RosettaScriptsParser: {0} \u001b[0mGenerating XML Schema for rosetta_scripts...\n",
      "\u001b[0mprotocols.rosetta_scripts.RosettaScriptsParser: {0} \u001b[0m...done\n",
      "\u001b[0mprotocols.rosetta_scripts.RosettaScriptsParser: {0} \u001b[0mInitializing schema validator...\n",
      "\u001b[0mprotocols.rosetta_scripts.RosettaScriptsParser: {0} \u001b[0m...done\n",
      "\u001b[0mprotocols.rosetta_scripts.RosettaScriptsParser: {0} \u001b[0mValidating input script...\n",
      "\u001b[0mprotocols.rosetta_scripts.RosettaScriptsParser: {0} \u001b[0m...done\n",
      "\u001b[0mprotocols.rosetta_scripts.RosettaScriptsParser: {0} \u001b[0mParsed script:\n",
      "<ROSETTASCRIPTS>\n",
      "\t<FILTERS>\n",
      "\t\t<AtomicContactCount distance=\"4.5\" name=\"all_atomic_contact\" partition=\"none\"/>\n",
      "\t</FILTERS>\n",
      "\t<PROTOCOLS/>\n",
      "</ROSETTASCRIPTS>\n",
      "\u001b[0mcore.scoring.ScoreFunctionFactory: {0} \u001b[0mSCOREFUNCTION: \u001b[32mbeta_nov16.wts\u001b[0m\n",
      "\u001b[0mcore.scoring.etable: {0} \u001b[0mStarting energy table calculation\n",
      "\u001b[0mcore.scoring.etable: {0} \u001b[0msmooth_etable: changing atr/rep split to bottom of energy well\n",
      "\u001b[0mcore.scoring.etable: {0} \u001b[0msmooth_etable: spline smoothing lj etables (maxdis = 6)\n",
      "\u001b[0mcore.scoring.etable: {0} \u001b[0msmooth_etable: spline smoothing solvation etables (max_dis = 6)\n",
      "\u001b[0mcore.scoring.etable: {0} \u001b[0mFinished calculating energy tables.\n",
      "\u001b[0mbasic.io.database: {0} \u001b[0mDatabase file opened: scoring/score_functions/PairEPotential/pdb_pair_stats_fine\n",
      "\u001b[0mbasic.io.database: {0} \u001b[0mDatabase file opened: scoring/score_functions/InterchainPotential/interchain_env_log.txt\n",
      "\u001b[0mbasic.io.database: {0} \u001b[0mDatabase file opened: scoring/score_functions/InterchainPotential/interchain_pair_log.txt\n",
      "\u001b[0mbasic.io.database: {0} \u001b[0mDatabase file opened: scoring/score_functions/EnvPairPotential/env_log.txt\n",
      "\u001b[0mbasic.io.database: {0} \u001b[0mDatabase file opened: scoring/score_functions/EnvPairPotential/cbeta_den.txt\n",
      "\u001b[0mbasic.io.database: {0} \u001b[0mDatabase file opened: scoring/score_functions/EnvPairPotential/pair_log.txt\n",
      "\u001b[0mbasic.io.database: {0} \u001b[0mDatabase file opened: scoring/score_functions/EnvPairPotential/cenpack_log.txt\n",
      "\u001b[0mcore.scoring.ramachandran: {0} \u001b[0mshapovalov_lib::shap_rama_smooth_level of 4( aka highest_smooth ) got activated.\n",
      "\u001b[0mbasic.io.database: {0} \u001b[0mDatabase file opened: scoring/score_functions/rama/shapovalov/kappa25/all.ramaProb\n",
      "\u001b[0mbasic.io.database: {0} \u001b[0mDatabase file opened: scoring/score_functions/rama/flat/avg_L_rama.dat\n",
      "\u001b[0mcore.scoring.ramachandran: {0} \u001b[0mReading custom Ramachandran table from scoring/score_functions/rama/flat/avg_L_rama.dat.\n",
      "\u001b[0mbasic.io.database: {0} \u001b[0mDatabase file opened: scoring/score_functions/rama/flat/sym_all_rama.dat\n",
      "\u001b[0mcore.scoring.ramachandran: {0} \u001b[0mReading custom Ramachandran table from scoring/score_functions/rama/flat/sym_all_rama.dat.\n",
      "\u001b[0mbasic.io.database: {0} \u001b[0mDatabase file opened: scoring/score_functions/rama/flat/sym_G_rama.dat\n",
      "\u001b[0mcore.scoring.ramachandran: {0} \u001b[0mReading custom Ramachandran table from scoring/score_functions/rama/flat/sym_G_rama.dat.\n",
      "\u001b[0mbasic.io.database: {0} \u001b[0mDatabase file opened: scoring/score_functions/rama/flat/sym_P_rama.dat\n",
      "\u001b[0mcore.scoring.ramachandran: {0} \u001b[0mReading custom Ramachandran table from scoring/score_functions/rama/flat/sym_P_rama.dat.\n",
      "\u001b[0mbasic.io.database: {0} \u001b[0mDatabase file opened: scoring/score_functions/rama/flat/avg_L_rama_str.dat\n",
      "\u001b[0mcore.scoring.ramachandran: {0} \u001b[0mReading custom Ramachandran table from scoring/score_functions/rama/flat/avg_L_rama_str.dat.\n",
      "\u001b[0mbasic.io.database: {0} \u001b[0mDatabase file opened: scoring/score_functions/rama/flat/sym_all_rama_str.dat\n",
      "\u001b[0mcore.scoring.ramachandran: {0} \u001b[0mReading custom Ramachandran table from scoring/score_functions/rama/flat/sym_all_rama_str.dat.\n",
      "\u001b[0mbasic.io.database: {0} \u001b[0mDatabase file opened: scoring/score_functions/rama/flat/sym_G_rama_str.dat\n",
      "\u001b[0mcore.scoring.ramachandran: {0} \u001b[0mReading custom Ramachandran table from scoring/score_functions/rama/flat/sym_G_rama_str.dat.\n",
      "\u001b[0mbasic.io.database: {0} \u001b[0mDatabase file opened: scoring/score_functions/rama/flat/sym_P_rama_str.dat\n",
      "\u001b[0mcore.scoring.ramachandran: {0} \u001b[0mReading custom Ramachandran table from scoring/score_functions/rama/flat/sym_P_rama_str.dat.\n",
      "\u001b[0mprotocols.rosetta_scripts.RosettaScriptsParser: {0} \u001b[0mDefined filter named \"all_atomic_contact\" of type AtomicContactCount\n",
      "\u001b[0mprotocols.rosetta_scripts.ParsedProtocol: {0} \u001b[0mParsedProtocol mover with the following settings\n"
     ]
    }
   ],
   "source": [
    "from pyrosetta.rosetta.protocols import rosetta_scripts \n",
    "# \"All\" mode\n",
    "# 读取结构\n",
    "pose = pose_from_pdb('./data/1ubq_clean.pdb')\n",
    "\n",
    "# 定义Filter\n",
    "xml = rosetta_scripts.XmlObjects.create_from_string('''\n",
    "<FILTERS>\n",
    "    <AtomicContactCount name=\"all_atomic_contact\" partition=\"none\" distance=\"4.5\"/>\n",
    "</FILTERS>\n",
    "''')\n",
    "all_atomic_contact_filter = xml.get_filter('all_atomic_contact')\n",
    "# all_atomic_contact_filter.compute(pose) # 输出太多，用户请自行运行"
   ]
  },
  {
   "cell_type": "code",
   "execution_count": 19,
   "id": "3865e372-4b7e-4a36-8a19-271837ee6459",
   "metadata": {
    "tags": []
   },
   "outputs": [
    {
     "name": "stdout",
     "output_type": "stream",
     "text": [
      "\u001b[0mprotocols.rosetta_scripts.RosettaScriptsParser: {0} \u001b[0mGenerating XML Schema for rosetta_scripts...\n",
      "\u001b[0mprotocols.rosetta_scripts.RosettaScriptsParser: {0} \u001b[0m...done\n",
      "\u001b[0mprotocols.rosetta_scripts.RosettaScriptsParser: {0} \u001b[0mInitializing schema validator...\n",
      "\u001b[0mprotocols.rosetta_scripts.RosettaScriptsParser: {0} \u001b[0m...done\n",
      "\u001b[0mprotocols.rosetta_scripts.RosettaScriptsParser: {0} \u001b[0mValidating input script...\n",
      "\u001b[0mprotocols.rosetta_scripts.RosettaScriptsParser: {0} \u001b[0m...done\n",
      "\u001b[0mprotocols.rosetta_scripts.RosettaScriptsParser: {0} \u001b[0mParsed script:\n",
      "<ROSETTASCRIPTS>\n",
      "\t<FILTERS>\n",
      "\t\t<AtomicContactCount distance=\"4.5\" jump=\"1\" name=\"all_atomic_contact\" partition=\"jump\"/>\n",
      "\t</FILTERS>\n",
      "\t<PROTOCOLS/>\n",
      "</ROSETTASCRIPTS>\n",
      "\u001b[0mcore.scoring.ScoreFunctionFactory: {0} \u001b[0mSCOREFUNCTION: \u001b[32mbeta_nov16.wts\u001b[0m\n",
      "\u001b[0mprotocols.rosetta_scripts.RosettaScriptsParser: {0} \u001b[0mDefined filter named \"all_atomic_contact\" of type AtomicContactCount\n",
      "\u001b[0mprotocols.rosetta_scripts.ParsedProtocol: {0} \u001b[0mParsedProtocol mover with the following settings\n",
      "\u001b[0mcore.import_pose.import_pose: {0} \u001b[0mFile './data/denovo_binder.pdb' automatically determined to be of type PDB\n",
      "\u001b[0mcore.conformation.Conformation: {0} \u001b[0mFound disulfide between residues 148 186\n",
      "\u001b[0mcore.conformation.Conformation: {0} \u001b[0mcurrent variant for 148 CYS\n",
      "\u001b[0mcore.conformation.Conformation: {0} \u001b[0mcurrent variant for 186 CYS\n",
      "\u001b[0mcore.conformation.Conformation: {0} \u001b[0mcurrent variant for 148 CYD\n",
      "\u001b[0mcore.conformation.Conformation: {0} \u001b[0mcurrent variant for 186 CYD\n"
     ]
    }
   ],
   "source": [
    "# 定义Filter\n",
    "# \"jump\" mode\n",
    "xml = rosetta_scripts.XmlObjects.create_from_string('''\n",
    "<FILTERS>\n",
    "    <AtomicContactCount name=\"all_atomic_contact\" partition=\"jump\" distance=\"4.5\" jump=\"1\"/>\n",
    "</FILTERS>\n",
    "''')\n",
    "all_atomic_contact_filter = xml.get_filter('all_atomic_contact')\n",
    "\n",
    "# 读取复合物结构\n",
    "complex_pose = pose_from_pdb('./data/denovo_binder.pdb')\n",
    "# all_atomic_contact_filter.compute(complex_pose) # 输出有点多，用户自行运行"
   ]
  },
  {
   "cell_type": "code",
   "execution_count": 20,
   "id": "68421173-8311-421a-8927-b320f394f5ff",
   "metadata": {
    "tags": []
   },
   "outputs": [
    {
     "name": "stdout",
     "output_type": "stream",
     "text": [
      "\u001b[0mprotocols.rosetta_scripts.RosettaScriptsParser: {0} \u001b[0mGenerating XML Schema for rosetta_scripts...\n",
      "\u001b[0mprotocols.rosetta_scripts.RosettaScriptsParser: {0} \u001b[0m...done\n",
      "\u001b[0mprotocols.rosetta_scripts.RosettaScriptsParser: {0} \u001b[0mInitializing schema validator...\n",
      "\u001b[0mprotocols.rosetta_scripts.RosettaScriptsParser: {0} \u001b[0m...done\n",
      "\u001b[0mprotocols.rosetta_scripts.RosettaScriptsParser: {0} \u001b[0mValidating input script...\n",
      "\u001b[0mprotocols.rosetta_scripts.RosettaScriptsParser: {0} \u001b[0m...done\n",
      "\u001b[0mprotocols.rosetta_scripts.RosettaScriptsParser: {0} \u001b[0mParsed script:\n",
      "<ROSETTASCRIPTS>\n",
      "\t<FILTERS>\n",
      "\t\t<AtomicContactCount distance=\"4.5\" jump=\"1\" name=\"all_atomic_contact\" partition=\"jump\"/>\n",
      "\t</FILTERS>\n",
      "\t<PROTOCOLS/>\n",
      "</ROSETTASCRIPTS>\n",
      "\u001b[0mcore.scoring.ScoreFunctionFactory: {0} \u001b[0mSCOREFUNCTION: \u001b[32mbeta_nov16.wts\u001b[0m\n",
      "\u001b[0mprotocols.rosetta_scripts.RosettaScriptsParser: {0} \u001b[0mDefined filter named \"all_atomic_contact\" of type AtomicContactCount\n",
      "\u001b[0mprotocols.rosetta_scripts.ParsedProtocol: {0} \u001b[0mParsedProtocol mover with the following settings\n",
      "\u001b[0mcore.import_pose.import_pose: {0} \u001b[0mFile './data/denovo_binder.pdb' automatically determined to be of type PDB\n",
      "\u001b[0mcore.conformation.Conformation: {0} \u001b[0mFound disulfide between residues 148 186\n",
      "\u001b[0mcore.conformation.Conformation: {0} \u001b[0mcurrent variant for 148 CYS\n",
      "\u001b[0mcore.conformation.Conformation: {0} \u001b[0mcurrent variant for 186 CYS\n",
      "\u001b[0mcore.conformation.Conformation: {0} \u001b[0mcurrent variant for 148 CYD\n",
      "\u001b[0mcore.conformation.Conformation: {0} \u001b[0mcurrent variant for 186 CYD\n"
     ]
    }
   ],
   "source": [
    "# 定义Filter\n",
    "# \"chain\" mode\n",
    "xml = rosetta_scripts.XmlObjects.create_from_string('''\n",
    "<FILTERS>\n",
    "    <AtomicContactCount name=\"all_atomic_contact\" partition=\"jump\" distance=\"4.5\" jump=\"1\"/>\n",
    "</FILTERS>\n",
    "''')\n",
    "all_atomic_contact_filter = xml.get_filter('all_atomic_contact')\n",
    "\n",
    "# 读取复合物结构\n",
    "complex_pose = pose_from_pdb('./data/denovo_binder.pdb')\n",
    "# all_atomic_contact_filter.compute(complex_pose) 输出有点多，用户自行运行"
   ]
  },
  {
   "cell_type": "markdown",
   "id": "ad80b457-63e2-462a-a1de-fac450174db0",
   "metadata": {
    "tags": []
   },
   "source": [
    "#### 4.4 AtomicDistance\n",
    "计算指定两个原子之间的距离是否在cutoff距离之内呢？"
   ]
  },
  {
   "cell_type": "code",
   "execution_count": 21,
   "id": "f1e2090e-82c2-45a1-a4e6-d836625fc565",
   "metadata": {},
   "outputs": [
    {
     "name": "stdout",
     "output_type": "stream",
     "text": [
      "\u001b[0mcore.import_pose.import_pose: {0} \u001b[0mFile './data/1ubq_clean.pdb' automatically determined to be of type PDB\n",
      "Atom Type: Nlys\n",
      "\telement: N\n",
      "\tLennard Jones: radius=1.80245 wdepth=0.161725\n",
      "\tLazaridis Karplus: lambda=3.5 volume=16.514 dgfree=-20.8646\n",
      "\tproperties: DONOR \n",
      "Extra Parameters: 1.75 1.55 0.79 1.55 1.44 1.5 1.55 -20 -10.695 -1.145 -20 -0.62 0 0 0 1.85 8.52379 0.025 0.01 0.005 -289.292 -0.697267 -1933.88 -1.56243 -93.2613 93.2593 0.00202205 715.165 74.6559 -74.6539 0.00268963 -1282.36 0.633 -0.367 0.926 -0.537 0.633 -0.367\n",
      "\n",
      "Atom Type: CObb\n",
      "\telement: C\n",
      "\tLennard Jones: radius=1.91666 wdepth=0.141799\n",
      "\tLazaridis Karplus: lambda=3.5 volume=13.221 dgfree=3.10425\n",
      "\tproperties: \n",
      "Extra Parameters: 2.14 1.7 0.72 1.7 1.89 1.76 1.65 0 0 0 1 0.51 0 0 0 2 8.81363 0.025 0.01 0.005 147.227 -0.811304 -8117.41 -2.17625 -85.8924 85.8904 0.00196363 900.14 168.481 -168.287 0.00113765 -6725.43 0 0 0 0 0 0\n",
      "\n",
      "8.27940468874423\n",
      "False\n"
     ]
    }
   ],
   "source": [
    "from pyrosetta.rosetta.protocols.simple_filters import AtomicDistanceFilter\n",
    "\n",
    "# 读取结构\n",
    "pose = pose_from_pdb('./data/1ubq_clean.pdb')\n",
    "\n",
    "# 获取atom type基本信息:\n",
    "atom_NZ_index = pose.residue(11).atom_index(\"NZ\")\n",
    "atom_type = pose.residue(11).atom_type(atom_NZ_index)\n",
    "print(atom_type)\n",
    "\n",
    "atom_NZ_index = pose.residue(34).atom_index(\"C\")\n",
    "atom_type = pose.residue(34).atom_type(atom_NZ_index)\n",
    "print(atom_type)\n",
    "\n",
    "# 定义Filter\n",
    "# 原子的AtomType: atom_desig1, atom_desig2\n",
    "# res1、res2: 残基的PDB名，\n",
    "# distance_filter = AtomicDistanceFilter(res1=11, res2=34, atom_desig1='NZ', atom_desig2='OE1')\n",
    "distance_filter = AtomicDistanceFilter(11, 34, 'Nlys', 'CObb', True, True, 3.0)\n",
    "print(distance_filter.score(pose))\n",
    "print(distance_filter.apply(pose))"
   ]
  },
  {
   "cell_type": "markdown",
   "id": "3c622eda-767a-467f-bf63-3d2f6b920634",
   "metadata": {},
   "source": [
    "#### 4.5 TerminusDistance(xmlobject)\n",
    "计算N端或C端的残基是否位于蛋白-蛋白相互作用界面上，使用一级序列上的距离进行衡量。这个filter的意义在于不希望flexible的N或C端有氨基酸在相互作用界面上。"
   ]
  },
  {
   "cell_type": "code",
   "execution_count": 22,
   "id": "a9f46763-1847-4c22-a908-f939a641319e",
   "metadata": {},
   "outputs": [
    {
     "name": "stdout",
     "output_type": "stream",
     "text": [
      "\u001b[0mcore.import_pose.import_pose: {0} \u001b[0mFile './data/denovo_binder.pdb' automatically determined to be of type PDB\n",
      "\u001b[0mcore.conformation.Conformation: {0} \u001b[0mFound disulfide between residues 148 186\n",
      "\u001b[0mcore.conformation.Conformation: {0} \u001b[0mcurrent variant for 148 CYS\n",
      "\u001b[0mcore.conformation.Conformation: {0} \u001b[0mcurrent variant for 186 CYS\n",
      "\u001b[0mcore.conformation.Conformation: {0} \u001b[0mcurrent variant for 148 CYD\n",
      "\u001b[0mcore.conformation.Conformation: {0} \u001b[0mcurrent variant for 186 CYD\n",
      "\u001b[0mprotocols.rosetta_scripts.RosettaScriptsParser: {0} \u001b[0mGenerating XML Schema for rosetta_scripts...\n",
      "\u001b[0mprotocols.rosetta_scripts.RosettaScriptsParser: {0} \u001b[0m...done\n",
      "\u001b[0mprotocols.rosetta_scripts.RosettaScriptsParser: {0} \u001b[0mInitializing schema validator...\n",
      "\u001b[0mprotocols.rosetta_scripts.RosettaScriptsParser: {0} \u001b[0m...done\n",
      "\u001b[0mprotocols.rosetta_scripts.RosettaScriptsParser: {0} \u001b[0mValidating input script...\n",
      "\u001b[0mprotocols.rosetta_scripts.RosettaScriptsParser: {0} \u001b[0m...done\n",
      "\u001b[0mprotocols.rosetta_scripts.RosettaScriptsParser: {0} \u001b[0mParsed script:\n",
      "<ROSETTASCRIPTS>\n",
      "\t<FILTERS>\n",
      "\t\t<TerminusDistance distance=\"5\" jump_number=\"1\" name=\"nc_filter\"/>\n",
      "\t</FILTERS>\n",
      "\t<PROTOCOLS/>\n",
      "</ROSETTASCRIPTS>\n",
      "\u001b[0mcore.scoring.ScoreFunctionFactory: {0} \u001b[0mSCOREFUNCTION: \u001b[32mbeta_nov16.wts\u001b[0m\n",
      "\u001b[0mprotocols.simple_filters.TerminusDistanceFilter: {0} \u001b[0mDistance From Terminus filter over jump number 1 with cutoff 5\n",
      "\u001b[0mprotocols.rosetta_scripts.RosettaScriptsParser: {0} \u001b[0mDefined filter named \"nc_filter\" of type TerminusDistance\n",
      "\u001b[0mprotocols.rosetta_scripts.ParsedProtocol: {0} \u001b[0mParsedProtocol mover with the following settings\n",
      "\u001b[0mcore.scoring.ScoreFunctionFactory: {0} \u001b[0mSCOREFUNCTION: \u001b[32mbeta_nov16.wts\u001b[0m\n",
      "\u001b[0mprotocols.simple_filters.TerminusDistanceFilter: {0} \u001b[0mnear terminus: 6. passing.\n"
     ]
    },
    {
     "data": {
      "text/plain": [
       "True"
      ]
     },
     "execution_count": 22,
     "metadata": {},
     "output_type": "execute_result"
    }
   ],
   "source": [
    "from pyrosetta.rosetta.protocols import rosetta_scripts \n",
    "\n",
    "# 读取复合物结构\n",
    "complex_pose = pose_from_pdb('./data/denovo_binder.pdb')\n",
    "\n",
    "# 定义Filter\n",
    "xml = rosetta_scripts.XmlObjects.create_from_string('''\n",
    "<FILTERS>\n",
    "    <TerminusDistance name=\"nc_filter\" jump_number=\"1\" distance=\"5\"/>\n",
    "</FILTERS>\n",
    "''')\n",
    "\n",
    "terminus_distance_filter = xml.get_filter('nc_filter')\n",
    "terminus_distance_filter.apply(complex_pose)"
   ]
  },
  {
   "cell_type": "markdown",
   "id": "071ee450-d0da-477d-b718-faf3a175055d",
   "metadata": {},
   "source": [
    "### 5. Sequence analysis"
   ]
  },
  {
   "cell_type": "markdown",
   "id": "c59b6ade-e37d-4f46-9ddd-84112931a4ef",
   "metadata": {},
   "source": [
    "#### 5.1 LongestContinuousPolarSegment\n",
    "侦查Pose一级序列上，极性氨基酸残基最大连续长度的Filter。\n",
    "\n",
    "选项:\n",
    "- exclude_chain_termini： false表示极性区域能够延展到N端或C端的将被计算；true表示不被计算（默认为true，仅内部的极性残基块被计算）\n",
    "- count_gly_as_polar： true表示gly会被考虑为极性氨基酸，（默认为true）\n",
    "- filter_out_high ：true表示高于cutoff设定值的极性残基长度的pose会被reject掉；false表示低于cutoff会被reject（默认为true）\n",
    "- cutoff：最长极性残基长度的阈值，默认值为5\n",
    "- residue_selector：氨基酸选择器，应预先定义(可选)"
   ]
  },
  {
   "cell_type": "code",
   "execution_count": 23,
   "id": "206b2f1b-30b7-440f-b680-93243759bde0",
   "metadata": {},
   "outputs": [
    {
     "name": "stdout",
     "output_type": "stream",
     "text": [
      "\u001b[0mcore.import_pose.import_pose: {0} \u001b[0mFile './data/1ubq_clean.pdb' automatically determined to be of type PDB\n"
     ]
    },
    {
     "data": {
      "text/plain": [
       "5.0"
      ]
     },
     "execution_count": 23,
     "metadata": {},
     "output_type": "execute_result"
    }
   ],
   "source": [
    "from pyrosetta.rosetta.protocols.simple_filters import LongestContinuousPolarSegmentFilter\n",
    "\n",
    "# 读取结构\n",
    "pose = pose_from_pdb('./data/1ubq_clean.pdb')\n",
    "\n",
    "# 定义Filter\n",
    "lps = LongestContinuousPolarSegmentFilter()\n",
    "lps.set_exclude_chain_termini(True)\n",
    "# lps.residue_selector() # 需要时使用\n",
    "# lps.filter_out_high(False)  # 需要时使用\n",
    "lps.set_count_gly_as_polar(False)\n",
    "lps.set_cutoff(10)\n",
    "lps.score(pose)"
   ]
  },
  {
   "cell_type": "markdown",
   "id": "0b311e49-ecfb-4b0a-8441-a0f01268ce6b",
   "metadata": {},
   "source": [
    "#### 5.2 LongestContinuousApolarSegment\n",
    "侦查Pose一级序列上，非极性氨基酸残基最大连续长度的Filter。"
   ]
  },
  {
   "cell_type": "code",
   "execution_count": 24,
   "id": "71c5c86d-b639-4816-8c44-b34984afbd74",
   "metadata": {},
   "outputs": [
    {
     "name": "stdout",
     "output_type": "stream",
     "text": [
      "\u001b[0mcore.import_pose.import_pose: {0} \u001b[0mFile './data/1ubq_clean.pdb' automatically determined to be of type PDB\n"
     ]
    },
    {
     "data": {
      "text/plain": [
       "5.0"
      ]
     },
     "execution_count": 24,
     "metadata": {},
     "output_type": "execute_result"
    }
   ],
   "source": [
    "from pyrosetta.rosetta.protocols.simple_filters import LongestContinuousApolarSegmentFilter\n",
    "\n",
    "# 读取结构\n",
    "pose = pose_from_pdb('./data/1ubq_clean.pdb')\n",
    "\n",
    "# 定义Filter\n",
    "lps = LongestContinuousApolarSegmentFilter()\n",
    "lps.set_exclude_chain_termini(True)\n",
    "# lps.residue_selector() # 需要时使用\n",
    "# lps.filter_out_high(False)  # 需要时使用\n",
    "lps.set_count_gly_as_polar(False)\n",
    "lps.set_cutoff(10)\n",
    "lps.score(pose)"
   ]
  },
  {
   "cell_type": "markdown",
   "id": "4e66863a-2f0c-4d8b-be39-38c61d4f4f25",
   "metadata": {},
   "source": [
    "#### 5.3 SequenceDistanceFilter\n",
    "计算两个序列之间的hamming distance。\n",
    "\n",
    "https://zh.wikipedia.org/wiki/%E6%B1%89%E6%98%8E%E8%B7%9D%E7%A6%BB"
   ]
  },
  {
   "cell_type": "code",
   "execution_count": 25,
   "id": "52c81853-4319-4387-a26c-dc71a4ea728c",
   "metadata": {},
   "outputs": [
    {
     "name": "stdout",
     "output_type": "stream",
     "text": [
      "MQIFVKTLTGKTITLEVEPSDTIENVKAKIQDKEGIPPDQQRLIFAGKQLEDGRTLSDYNIQKESTLHLVLRLRGG\n"
     ]
    },
    {
     "data": {
      "text/plain": [
       "73.0"
      ]
     },
     "execution_count": 25,
     "metadata": {},
     "output_type": "execute_result"
    }
   ],
   "source": [
    "from pyrosetta.rosetta.protocols.simple_filters import SequenceDistance\n",
    "\n",
    "# 突变序列\n",
    "mut_seq = pose.sequence()\n",
    "mut_seq.replace('Q','C')\n",
    "print(mut_seq)\n",
    "\n",
    "# 定义Filter\n",
    "seq_dis_filter = SequenceDistance()\n",
    "seq_dis_filter.target_seq(mut_seq)\n",
    "seq_dis_filter.threshold(10)\n",
    "seq_dis_filter.score(pose)"
   ]
  },
  {
   "cell_type": "markdown",
   "id": "3e690670-3893-4480-957e-2bd4c409d102",
   "metadata": {},
   "source": [
    "### 6. Geometry"
   ]
  },
  {
   "cell_type": "markdown",
   "id": "46254e2c-eb18-4e64-9a3a-ff94cc17e3e8",
   "metadata": {},
   "source": [
    "#### 6.1 Torsion\n",
    "基于二面角角度的Filter：\n",
    "- lower和upper:最低阈值、最高阈值\n",
    "- resnum：pdb或rosetta numbering\n",
    "- torsion：\"phi\"、\"psi\"\n",
    "- task_operations：输出的residue可以是在task_operations定义过的那些残基，所有可以design的残基将被输出。不能同时使用task_operations和resnnum两个选项！ 不设置torsion选项将会输出所有phi和psi；不设置resnum会report所有残基。"
   ]
  },
  {
   "cell_type": "code",
   "execution_count": 26,
   "id": "efb248d6-1b85-496a-accc-56d70cbfff7b",
   "metadata": {},
   "outputs": [
    {
     "name": "stdout",
     "output_type": "stream",
     "text": [
      "\u001b[0mcore.import_pose.import_pose: {0} \u001b[0mFile './data/1ubq_clean.pdb' automatically determined to be of type PDB\n",
      "\u001b[0mprotocols.protein_interface_design.filters.Torsion: {0} \u001b[0mResidue F4A\t phi -115.991\n"
     ]
    },
    {
     "data": {
      "text/plain": [
       "False"
      ]
     },
     "execution_count": 26,
     "metadata": {},
     "output_type": "execute_result"
    }
   ],
   "source": [
    "from pyrosetta.rosetta.protocols.protein_interface_design.filters import Torsion\n",
    "\n",
    "# 读取结构\n",
    "pose = pose_from_pdb('./data/1ubq_clean.pdb')\n",
    "\n",
    "# 定义Filter\n",
    "torsion_filter = Torsion()\n",
    "torsion_filter.lower(110)\n",
    "torsion_filter.upper(180)\n",
    "torsion_filter.resnum(4)\n",
    "torsion_filter.torsion('phi')\n",
    "torsion_filter.apply(pose)"
   ]
  },
  {
   "cell_type": "markdown",
   "id": "e5b7a513-0d08-4d14-96b7-326e54d3db83",
   "metadata": {},
   "source": [
    "#### 6.2 HelixKink\n",
    "Helix Kink是连续螺旋中的一个短暂的转角结构，这种结构会使螺旋发生大角度的“弯折”。此过滤器即判断螺旋的弯曲程度。"
   ]
  },
  {
   "cell_type": "code",
   "execution_count": 27,
   "id": "4b425889-d73a-493a-90f6-f80dce4f94af",
   "metadata": {},
   "outputs": [
    {
     "name": "stdout",
     "output_type": "stream",
     "text": [
      "\u001b[0mcore.import_pose.import_pose: {0} \u001b[0mFile './data/1ubq_clean.pdb' automatically determined to be of type PDB\n",
      "\u001b[0mprotocols.DsspMover: {0} \u001b[0mLEEEEEELLLLEEEEELLLLLEHHHHHHHHHHHHLLLHHHEEEEELLEELLLLLELHHHLLLLLLEEEEEELLLLL\n",
      "\u001b[0mprotocols.fldsgn.filters.HelixKinkFilter: {0} \u001b[0m Pose does not have HBOND_SET. Checking hbonds will be skipped.\n",
      "\u001b[0mprotocols.fldsgn.filters.HelixKinkFilter: {0} \u001b[0mHelix 1, res 23-34, is bended angle=19.7744\n",
      "\u001b[0mprotocols.fldsgn.filters.HelixKinkFilter: {0} \u001b[0mis OK.\n",
      "\u001b[0mprotocols.fldsgn.filters.HelixKinkFilter: {0} \u001b[0mHelix 2, res 38-40, is bended angle=0\n",
      "\u001b[0mprotocols.fldsgn.filters.HelixKinkFilter: {0} \u001b[0mis OK.\n",
      "\u001b[0mprotocols.fldsgn.filters.HelixKinkFilter: {0} \u001b[0mHelix 3, res 57-59, is bended angle=0\n",
      "\u001b[0mprotocols.fldsgn.filters.HelixKinkFilter: {0} \u001b[0mis OK.\n",
      "\u001b[0mprotocols.fldsgn.filters.HelixKinkFilter: {0} \u001b[0m Filter success !\n"
     ]
    },
    {
     "data": {
      "text/plain": [
       "True"
      ]
     },
     "execution_count": 27,
     "metadata": {},
     "output_type": "execute_result"
    }
   ],
   "source": [
    "from pyrosetta.rosetta.protocols.fldsgn.filters import HelixKinkFilter\n",
    "from pyrosetta.rosetta.protocols.moves import DsspMover\n",
    "\n",
    "# 读取结构\n",
    "pose = pose_from_pdb('./data/1ubq_clean.pdb')\n",
    "\n",
    "# DsspMover确定二级结构\n",
    "DsspMover().apply(pose)\n",
    "\n",
    "# 定义Filter\n",
    "hk_filter = HelixKinkFilter()\n",
    "hk_filter.apply(pose)"
   ]
  },
  {
   "cell_type": "markdown",
   "id": "8091982f-761b-4cbb-9400-805e235a8e0e",
   "metadata": {},
   "source": [
    "#### 6.3 Geometry(xmlobject)\n",
    "基于键的几何性质和omega角度的过滤器，判断蛋白骨架中是否有异常的二面角、键角。"
   ]
  },
  {
   "cell_type": "code",
   "execution_count": 28,
   "id": "2e9d230d-2e86-4ffe-a3bb-33844a5c997c",
   "metadata": {},
   "outputs": [
    {
     "name": "stdout",
     "output_type": "stream",
     "text": [
      "\u001b[0mcore.import_pose.import_pose: {0} \u001b[0mFile './data/1ubq_clean.pdb' automatically determined to be of type PDB\n",
      "\u001b[0mprotocols.rosetta_scripts.RosettaScriptsParser: {0} \u001b[0mGenerating XML Schema for rosetta_scripts...\n",
      "\u001b[0mprotocols.rosetta_scripts.RosettaScriptsParser: {0} \u001b[0m...done\n",
      "\u001b[0mprotocols.rosetta_scripts.RosettaScriptsParser: {0} \u001b[0mInitializing schema validator...\n",
      "\u001b[0mprotocols.rosetta_scripts.RosettaScriptsParser: {0} \u001b[0m...done\n",
      "\u001b[0mprotocols.rosetta_scripts.RosettaScriptsParser: {0} \u001b[0mValidating input script...\n",
      "\u001b[0mprotocols.rosetta_scripts.RosettaScriptsParser: {0} \u001b[0m...done\n",
      "\u001b[0mprotocols.rosetta_scripts.RosettaScriptsParser: {0} \u001b[0mParsed script:\n",
      "<ROSETTASCRIPTS>\n",
      "\t<FILTERS>\n",
      "\t\t<Geometry cart_bonded=\"20\" count_bad_residues=\"true\" name=\"geometry_filter\" omega=\"165\"/>\n",
      "\t</FILTERS>\n",
      "\t<PROTOCOLS/>\n",
      "</ROSETTASCRIPTS>\n",
      "\u001b[0mcore.scoring.ScoreFunctionFactory: {0} \u001b[0mSCOREFUNCTION: \u001b[32mbeta_nov16.wts\u001b[0m\n",
      "\u001b[0mcore.select.residue_selector.util: {0} \u001b[0m\u001b[1m[ WARNING ]\u001b[0m Selector name is empty!\n",
      "\u001b[0mprotocols.rosetta_scripts.RosettaScriptsParser: {0} \u001b[0mDefined filter named \"geometry_filter\" of type Geometry\n",
      "\u001b[0mprotocols.rosetta_scripts.ParsedProtocol: {0} \u001b[0mParsedProtocol mover with the following settings\n",
      "\u001b[0mcore.scoring.ScoreFunctionFactory: {0} \u001b[0mSCOREFUNCTION: \u001b[32mbeta_nov16.wts\u001b[0m\n",
      "\u001b[0mcore.energy_methods.CartesianBondedEnergy: {0} \u001b[0mInitializing IdealParametersDatabase with default Ks=300 , 80 , 80 , 10 , 80\n",
      "\u001b[0mbasic.io.database: {0} \u001b[0mDatabase file opened: scoring/score_functions/bondlength_bondangle/default-lengths.txt\n",
      "\u001b[0mcore.energy_methods.CartesianBondedEnergy: {0} \u001b[0mRead 759 bb-independent lengths.\n",
      "\u001b[0mbasic.io.database: {0} \u001b[0mDatabase file opened: scoring/score_functions/bondlength_bondangle/default-angles.txt\n",
      "\u001b[0mcore.energy_methods.CartesianBondedEnergy: {0} \u001b[0mRead 1434 bb-independent angles.\n",
      "\u001b[0mbasic.io.database: {0} \u001b[0mDatabase file opened: scoring/score_functions/bondlength_bondangle/default-torsions.txt\n",
      "\u001b[0mcore.energy_methods.CartesianBondedEnergy: {0} \u001b[0mRead 1 bb-independent torsions.\n",
      "\u001b[0mbasic.io.database: {0} \u001b[0mDatabase file opened: scoring/score_functions/bondlength_bondangle/default-improper.txt\n",
      "\u001b[0mcore.energy_methods.CartesianBondedEnergy: {0} \u001b[0mRead 529 bb-independent improper tors.\n",
      "\u001b[0mcore.energy_methods.CartesianBondedEnergy: {0} \u001b[0mCreating new peptide-bonded energy container (203)\n",
      "\u001b[0mprotocols.simple_filters.GeometryFilter: {0} \u001b[0mScan residues between 1 and 203\n",
      "\u001b[0mprotocols.simple_filters.GeometryFilter: {0} \u001b[0mresidue 1 name THR cart_bonded term: 0.992689 omega angle: 176.092\n",
      "\u001b[0mprotocols.simple_filters.GeometryFilter: {0} \u001b[0mresidue 2 name GLN cart_bonded term: 1.65931 omega angle: -172.246\n",
      "\u001b[0mprotocols.simple_filters.GeometryFilter: {0} \u001b[0mresidue 3 name ASN cart_bonded term: 1.26268 omega angle: -177.763\n",
      "\u001b[0mprotocols.simple_filters.GeometryFilter: {0} \u001b[0mresidue 4 name VAL cart_bonded term: 1.099 omega angle: -178.738\n",
      "\u001b[0mprotocols.simple_filters.GeometryFilter: {0} \u001b[0mresidue 5 name LEU cart_bonded term: 1.35312 omega angle: -178.243\n",
      "\u001b[0mprotocols.simple_filters.GeometryFilter: {0} \u001b[0mresidue 6 name TYR cart_bonded term: 1.18849 omega angle: 178.796\n",
      "\u001b[0mprotocols.simple_filters.GeometryFilter: {0} \u001b[0mresidue 7 name GLU cart_bonded term: 1.2969 omega angle: 176.019\n",
      "\u001b[0mprotocols.simple_filters.GeometryFilter: {0} \u001b[0mresidue 8 name ASN cart_bonded term: 1.4588 omega angle: 179.075\n",
      "\u001b[0mprotocols.simple_filters.GeometryFilter: {0} \u001b[0mresidue 9 name GLN cart_bonded term: 0.990204 omega angle: 177.036\n",
      "\u001b[0mprotocols.simple_filters.GeometryFilter: {0} \u001b[0mresidue 10 name LYS cart_bonded term: 0.902491 omega angle: -178.887\n",
      "\u001b[0mprotocols.simple_filters.GeometryFilter: {0} \u001b[0mresidue 11 name LEU cart_bonded term: 0.751696 omega angle: -179.523\n",
      "\u001b[0mprotocols.simple_filters.GeometryFilter: {0} \u001b[0mresidue 12 name ILE cart_bonded term: 1.10573 omega angle: -178.423\n",
      "\u001b[0mprotocols.simple_filters.GeometryFilter: {0} \u001b[0mresidue 13 name ALA cart_bonded term: 1.19178 omega angle: -176.17\n",
      "\u001b[0mprotocols.simple_filters.GeometryFilter: {0} \u001b[0mresidue 14 name ASN cart_bonded term: 1.15318 omega angle: -179.194\n",
      "\u001b[0mprotocols.simple_filters.GeometryFilter: {0} \u001b[0mresidue 15 name GLN cart_bonded term: 1.13096 omega angle: 178.094\n",
      "\u001b[0mprotocols.simple_filters.GeometryFilter: {0} \u001b[0mresidue 16 name PHE cart_bonded term: 1.09638 omega angle: -178.37\n",
      "\u001b[0mprotocols.simple_filters.GeometryFilter: {0} \u001b[0mresidue 17 name ASN cart_bonded term: 1.04982 omega angle: -179.186\n",
      "\u001b[0mprotocols.simple_filters.GeometryFilter: {0} \u001b[0mresidue 18 name SER cart_bonded term: 1.0585 omega angle: 178.626\n",
      "\u001b[0mprotocols.simple_filters.GeometryFilter: {0} \u001b[0mresidue 19 name ALA cart_bonded term: 0.996369 omega angle: -177.708\n",
      "\u001b[0mprotocols.simple_filters.GeometryFilter: {0} \u001b[0mresidue 20 name ILE cart_bonded term: 0.8821 omega angle: 176.307\n",
      "\u001b[0mprotocols.simple_filters.GeometryFilter: {0} \u001b[0mresidue 21 name GLY cart_bonded term: 1.03466 omega angle: 177.043\n",
      "\u001b[0mprotocols.simple_filters.GeometryFilter: {0} \u001b[0mresidue 22 name LYS cart_bonded term: 1.0425 omega angle: -174.896\n",
      "\u001b[0mprotocols.simple_filters.GeometryFilter: {0} \u001b[0mresidue 23 name ILE cart_bonded term: 1.42015 omega angle: -179.604\n",
      "\u001b[0mprotocols.simple_filters.GeometryFilter: {0} \u001b[0mresidue 24 name GLN cart_bonded term: 1.37938 omega angle: -179.966\n",
      "\u001b[0mprotocols.simple_filters.GeometryFilter: {0} \u001b[0mresidue 25 name ASP cart_bonded term: 1.45033 omega angle: -174.651\n",
      "\u001b[0mprotocols.simple_filters.GeometryFilter: {0} \u001b[0mresidue 26 name SER cart_bonded term: 1.33776 omega angle: 178.37\n",
      "\u001b[0mprotocols.simple_filters.GeometryFilter: {0} \u001b[0mresidue 27 name LEU cart_bonded term: 0.760225 omega angle: 175.333\n",
      "\u001b[0mprotocols.simple_filters.GeometryFilter: {0} \u001b[0mresidue 28 name SER cart_bonded term: 0.801759 omega angle: 178.766\n",
      "\u001b[0mprotocols.simple_filters.GeometryFilter: {0} \u001b[0mresidue 29 name SER cart_bonded term: 1.05472 omega angle: -179.719\n",
      "\u001b[0mprotocols.simple_filters.GeometryFilter: {0} \u001b[0mresidue 30 name THR cart_bonded term: 1.10531 omega angle: -179.786\n",
      "\u001b[0mprotocols.simple_filters.GeometryFilter: {0} \u001b[0mresidue 31 name ALA cart_bonded term: 1.004 omega angle: 178.356\n",
      "\u001b[0mprotocols.simple_filters.GeometryFilter: {0} \u001b[0mresidue 32 name SER cart_bonded term: 0.855412 omega angle: -179.778\n",
      "\u001b[0mprotocols.simple_filters.GeometryFilter: {0} \u001b[0mresidue 33 name ALA cart_bonded term: 0.685075 omega angle: 179.849\n",
      "\u001b[0mprotocols.simple_filters.GeometryFilter: {0} \u001b[0mresidue 34 name LEU cart_bonded term: 1.06177 omega angle: 175.28\n",
      "\u001b[0mprotocols.simple_filters.GeometryFilter: {0} \u001b[0mresidue 35 name GLY cart_bonded term: 0.986344 omega angle: -179.971\n",
      "\u001b[0mprotocols.simple_filters.GeometryFilter: {0} \u001b[0mresidue 36 name LYS cart_bonded term: 0.953909 omega angle: 176.446\n",
      "\u001b[0mprotocols.simple_filters.GeometryFilter: {0} \u001b[0mresidue 37 name LEU cart_bonded term: 1.14104 omega angle: -178.757\n",
      "\u001b[0mprotocols.simple_filters.GeometryFilter: {0} \u001b[0mresidue 38 name GLN cart_bonded term: 0.960952 omega angle: -177.985\n",
      "\u001b[0mprotocols.simple_filters.GeometryFilter: {0} \u001b[0mresidue 39 name ASP cart_bonded term: 1.54448 omega angle: -175.014\n",
      "\u001b[0mprotocols.simple_filters.GeometryFilter: {0} \u001b[0mresidue 40 name VAL cart_bonded term: 1.62567 omega angle: 179.099\n",
      "\u001b[0mprotocols.simple_filters.GeometryFilter: {0} \u001b[0mresidue 41 name VAL cart_bonded term: 1.32687 omega angle: -179.613\n",
      "\u001b[0mprotocols.simple_filters.GeometryFilter: {0} \u001b[0mresidue 42 name ASN cart_bonded term: 1.38515 omega angle: 178.635\n",
      "\u001b[0mprotocols.simple_filters.GeometryFilter: {0} \u001b[0mresidue 43 name GLN cart_bonded term: 1.568 omega angle: 179.297\n",
      "\u001b[0mprotocols.simple_filters.GeometryFilter: {0} \u001b[0mresidue 44 name ASN cart_bonded term: 1.27995 omega angle: 179.467\n",
      "\u001b[0mprotocols.simple_filters.GeometryFilter: {0} \u001b[0mresidue 45 name ALA cart_bonded term: 0.724435 omega angle: 178.883\n",
      "\u001b[0mprotocols.simple_filters.GeometryFilter: {0} \u001b[0mresidue 46 name GLN cart_bonded term: 1.08387 omega angle: -176.515\n",
      "\u001b[0mprotocols.simple_filters.GeometryFilter: {0} \u001b[0mresidue 47 name ALA cart_bonded term: 1.2817 omega angle: 173.275\n",
      "\u001b[0mprotocols.simple_filters.GeometryFilter: {0} \u001b[0mresidue 48 name LEU cart_bonded term: 417446 omega angle: 156.082\n",
      "\u001b[0mprotocols.simple_filters.GeometryFilter: {0} \u001b[0momega 48 ASN fail\n",
      "\u001b[0mprotocols.simple_filters.GeometryFilter: {0} \u001b[0mcart_bond 48 ASN fail\n",
      "\u001b[0mprotocols.simple_filters.GeometryFilter: {0} \u001b[0mresidue 49 name ASN cart_bonded term: 417446 omega angle: 177.916\n",
      "\u001b[0mprotocols.simple_filters.GeometryFilter: {0} \u001b[0mcart_bond 49 VAL fail\n",
      "\u001b[0mprotocols.simple_filters.GeometryFilter: {0} \u001b[0mresidue 50 name VAL cart_bonded term: 2.05922 omega angle: -179.464\n",
      "\u001b[0mprotocols.simple_filters.GeometryFilter: {0} \u001b[0mresidue 51 name LEU cart_bonded term: 1.03903 omega angle: 178\n",
      "\u001b[0mprotocols.simple_filters.GeometryFilter: {0} \u001b[0mresidue 52 name TYR cart_bonded term: 0.813548 omega angle: -179.489\n",
      "\u001b[0mprotocols.simple_filters.GeometryFilter: {0} \u001b[0mresidue 53 name GLU cart_bonded term: 1.23947 omega angle: 178.476\n",
      "\u001b[0mprotocols.simple_filters.GeometryFilter: {0} \u001b[0mresidue 54 name ASN cart_bonded term: 1.10217 omega angle: 179.176\n",
      "\u001b[0mprotocols.simple_filters.GeometryFilter: {0} \u001b[0mresidue 55 name GLN cart_bonded term: 0.96517 omega angle: -179.807\n",
      "\u001b[0mprotocols.simple_filters.GeometryFilter: {0} \u001b[0mresidue 56 name LYS cart_bonded term: 1.94967 omega angle: 177.777\n",
      "\u001b[0mprotocols.simple_filters.GeometryFilter: {0} \u001b[0mresidue 57 name LEU cart_bonded term: 1.8392 omega angle: -179.175\n",
      "\u001b[0mprotocols.simple_filters.GeometryFilter: {0} \u001b[0mresidue 58 name ILE cart_bonded term: 0.994841 omega angle: -179.443\n",
      "\u001b[0mprotocols.simple_filters.GeometryFilter: {0} \u001b[0mresidue 59 name ALA cart_bonded term: 0.915828 omega angle: -175.933\n",
      "\u001b[0mprotocols.simple_filters.GeometryFilter: {0} \u001b[0mresidue 60 name ASN cart_bonded term: 1.17579 omega angle: -178.13\n",
      "\u001b[0mprotocols.simple_filters.GeometryFilter: {0} \u001b[0mresidue 61 name GLN cart_bonded term: 1.31401 omega angle: 178.015\n",
      "\u001b[0mprotocols.simple_filters.GeometryFilter: {0} \u001b[0mresidue 62 name PHE cart_bonded term: 0.885007 omega angle: -179.135\n",
      "\u001b[0mprotocols.simple_filters.GeometryFilter: {0} \u001b[0mresidue 63 name ASN cart_bonded term: 0.781471 omega angle: 179.264\n",
      "\u001b[0mprotocols.simple_filters.GeometryFilter: {0} \u001b[0mresidue 64 name SER cart_bonded term: 0.858888 omega angle: -179.857\n",
      "\u001b[0mprotocols.simple_filters.GeometryFilter: {0} \u001b[0mresidue 65 name ALA cart_bonded term: 0.645112 omega angle: -179.248\n",
      "\u001b[0mprotocols.simple_filters.GeometryFilter: {0} \u001b[0mresidue 66 name ILE cart_bonded term: 0.663998 omega angle: 179.268\n",
      "\u001b[0mprotocols.simple_filters.GeometryFilter: {0} \u001b[0mresidue 67 name GLY cart_bonded term: 0.74435 omega angle: -179.138\n",
      "\u001b[0mprotocols.simple_filters.GeometryFilter: {0} \u001b[0mresidue 68 name LYS cart_bonded term: 0.7402 omega angle: 179.855\n",
      "\u001b[0mprotocols.simple_filters.GeometryFilter: {0} \u001b[0mresidue 69 name ILE cart_bonded term: 0.843688 omega angle: -178.78\n",
      "\u001b[0mprotocols.simple_filters.GeometryFilter: {0} \u001b[0mresidue 70 name GLN cart_bonded term: 0.891578 omega angle: -178.407\n",
      "\u001b[0mprotocols.simple_filters.GeometryFilter: {0} \u001b[0mresidue 71 name ASP cart_bonded term: 0.982767 omega angle: -178.044\n",
      "\u001b[0mprotocols.simple_filters.GeometryFilter: {0} \u001b[0mresidue 72 name SER cart_bonded term: 1.08853 omega angle: -179.836\n",
      "\u001b[0mprotocols.simple_filters.GeometryFilter: {0} \u001b[0mresidue 73 name LEU cart_bonded term: 1.0578 omega angle: -179.82\n",
      "\u001b[0mprotocols.simple_filters.GeometryFilter: {0} \u001b[0mresidue 74 name SER cart_bonded term: 0.938061 omega angle: 176.026\n",
      "\u001b[0mprotocols.simple_filters.GeometryFilter: {0} \u001b[0mresidue 75 name SER cart_bonded term: 0.939824 omega angle: 177.66\n",
      "\u001b[0mprotocols.simple_filters.GeometryFilter: {0} \u001b[0mresidue 76 name THR cart_bonded term: 0.906463 omega angle: -179.395\n",
      "\u001b[0mprotocols.simple_filters.GeometryFilter: {0} \u001b[0mresidue 77 name ALA cart_bonded term: 0.938293 omega angle: 178.921\n",
      "\u001b[0mprotocols.simple_filters.GeometryFilter: {0} \u001b[0mresidue 78 name SER cart_bonded term: 0.92267 omega angle: -179.041\n",
      "\u001b[0mprotocols.simple_filters.GeometryFilter: {0} \u001b[0mresidue 79 name ALA cart_bonded term: 0.76914 omega angle: -179.632\n",
      "\u001b[0mprotocols.simple_filters.GeometryFilter: {0} \u001b[0mresidue 80 name LEU cart_bonded term: 1.02434 omega angle: 175.17\n",
      "\u001b[0mprotocols.simple_filters.GeometryFilter: {0} \u001b[0mresidue 81 name GLY cart_bonded term: 0.856198 omega angle: -179.101\n",
      "\u001b[0mprotocols.simple_filters.GeometryFilter: {0} \u001b[0mresidue 82 name LYS cart_bonded term: 0.860116 omega angle: 176.81\n",
      "\u001b[0mprotocols.simple_filters.GeometryFilter: {0} \u001b[0mresidue 83 name LEU cart_bonded term: 1.19734 omega angle: 179.713\n",
      "\u001b[0mprotocols.simple_filters.GeometryFilter: {0} \u001b[0mresidue 84 name GLN cart_bonded term: 1.23798 omega angle: -176.391\n",
      "\u001b[0mprotocols.simple_filters.GeometryFilter: {0} \u001b[0mresidue 85 name ASP cart_bonded term: 1.30395 omega angle: -174.519\n",
      "\u001b[0mprotocols.simple_filters.GeometryFilter: {0} \u001b[0mresidue 86 name VAL cart_bonded term: 1.09603 omega angle: -178.334\n",
      "\u001b[0mprotocols.simple_filters.GeometryFilter: {0} \u001b[0mresidue 87 name VAL cart_bonded term: 1.16113 omega angle: -179.068\n",
      "\u001b[0mprotocols.simple_filters.GeometryFilter: {0} \u001b[0mresidue 88 name ASN cart_bonded term: 1.36644 omega angle: 179.385\n",
      "\u001b[0mprotocols.simple_filters.GeometryFilter: {0} \u001b[0mresidue 89 name GLN cart_bonded term: 1.16084 omega angle: 177.973\n",
      "\u001b[0mprotocols.simple_filters.GeometryFilter: {0} \u001b[0mresidue 90 name ASN cart_bonded term: 0.86959 omega angle: 178.786\n",
      "\u001b[0mprotocols.simple_filters.GeometryFilter: {0} \u001b[0mresidue 91 name ALA cart_bonded term: 0.717481 omega angle: 178.35\n",
      "\u001b[0mprotocols.simple_filters.GeometryFilter: {0} \u001b[0mresidue 92 name GLN cart_bonded term: 0.789405 omega angle: 178.27\n",
      "\u001b[0mprotocols.simple_filters.GeometryFilter: {0} \u001b[0mresidue 93 name ALA cart_bonded term: 0.768075 omega angle: 178.062\n",
      "\u001b[0mprotocols.simple_filters.GeometryFilter: {0} \u001b[0mresidue 94 name LEU cart_bonded term: 442402 omega angle: 2.4415\n",
      "\u001b[0mprotocols.simple_filters.GeometryFilter: {0} \u001b[0momega 94 THR fail\n",
      "\u001b[0mprotocols.simple_filters.GeometryFilter: {0} \u001b[0mcart_bond 94 THR fail\n",
      "\u001b[0mprotocols.simple_filters.GeometryFilter: {0} \u001b[0mresidue 95 name THR cart_bonded term: 442403 omega angle: 178.586\n",
      "\u001b[0mprotocols.simple_filters.GeometryFilter: {0} \u001b[0mcart_bond 95 GLN fail\n",
      "\u001b[0mprotocols.simple_filters.GeometryFilter: {0} \u001b[0mresidue 96 name GLN cart_bonded term: 1.7819 omega angle: 170.657\n",
      "\u001b[0mprotocols.simple_filters.GeometryFilter: {0} \u001b[0mresidue 97 name ASN cart_bonded term: 1.56583 omega angle: -177.367\n",
      "\u001b[0mprotocols.simple_filters.GeometryFilter: {0} \u001b[0mresidue 98 name VAL cart_bonded term: 1.1231 omega angle: 179.951\n",
      "\u001b[0mprotocols.simple_filters.GeometryFilter: {0} \u001b[0mresidue 99 name LEU cart_bonded term: 0.912556 omega angle: -178.16\n",
      "\u001b[0mprotocols.simple_filters.GeometryFilter: {0} \u001b[0mresidue 100 name TYR cart_bonded term: 0.950977 omega angle: 179.245\n",
      "\u001b[0mprotocols.simple_filters.GeometryFilter: {0} \u001b[0mresidue 101 name GLU cart_bonded term: 2.32134 omega angle: 175.316\n",
      "\u001b[0mprotocols.simple_filters.GeometryFilter: {0} \u001b[0mresidue 102 name ASN cart_bonded term: 2.19715 omega angle: -179.956\n",
      "\u001b[0mprotocols.simple_filters.GeometryFilter: {0} \u001b[0mresidue 103 name GLN cart_bonded term: 0.829659 omega angle: 178.756\n",
      "\u001b[0mprotocols.simple_filters.GeometryFilter: {0} \u001b[0mresidue 104 name LYS cart_bonded term: 1.68345 omega angle: -177.52\n",
      "\u001b[0mprotocols.simple_filters.GeometryFilter: {0} \u001b[0mresidue 105 name LEU cart_bonded term: 1.713 omega angle: -177.967\n",
      "\u001b[0mprotocols.simple_filters.GeometryFilter: {0} \u001b[0mresidue 106 name ILE cart_bonded term: 0.922852 omega angle: 179.673\n",
      "\u001b[0mprotocols.simple_filters.GeometryFilter: {0} \u001b[0mresidue 107 name ALA cart_bonded term: 0.886395 omega angle: -177.51\n",
      "\u001b[0mprotocols.simple_filters.GeometryFilter: {0} \u001b[0mresidue 108 name ASN cart_bonded term: 0.957248 omega angle: -178.758\n",
      "\u001b[0mprotocols.simple_filters.GeometryFilter: {0} \u001b[0mresidue 109 name GLN cart_bonded term: 0.995348 omega angle: 176.882\n",
      "\u001b[0mprotocols.simple_filters.GeometryFilter: {0} \u001b[0mresidue 110 name PHE cart_bonded term: 0.742062 omega angle: -177.916\n",
      "\u001b[0mprotocols.simple_filters.GeometryFilter: {0} \u001b[0mresidue 111 name ASN cart_bonded term: 0.655874 omega angle: 178.905\n",
      "\u001b[0mprotocols.simple_filters.GeometryFilter: {0} \u001b[0mresidue 112 name SER cart_bonded term: 0.937037 omega angle: -176.021\n",
      "\u001b[0mprotocols.simple_filters.GeometryFilter: {0} \u001b[0mresidue 113 name ALA cart_bonded term: 1.27419 omega angle: -177.435\n",
      "\u001b[0mprotocols.simple_filters.GeometryFilter: {0} \u001b[0mresidue 114 name ILE cart_bonded term: 1.32497 omega angle: 176.096\n",
      "\u001b[0mprotocols.simple_filters.GeometryFilter: {0} \u001b[0mresidue 115 name GLY cart_bonded term: 0.91721 omega angle: 179.027\n",
      "\u001b[0mprotocols.simple_filters.GeometryFilter: {0} \u001b[0mresidue 116 name LYS cart_bonded term: 0.706815 omega angle: -178.882\n",
      "\u001b[0mprotocols.simple_filters.GeometryFilter: {0} \u001b[0mresidue 117 name ILE cart_bonded term: 1.01628 omega angle: 178.741\n",
      "\u001b[0mprotocols.simple_filters.GeometryFilter: {0} \u001b[0mresidue 118 name GLN cart_bonded term: 1.0381 omega angle: -176.927\n",
      "\u001b[0mprotocols.simple_filters.GeometryFilter: {0} \u001b[0mresidue 119 name ASP cart_bonded term: 1.51152 omega angle: -176.772\n",
      "\u001b[0mprotocols.simple_filters.GeometryFilter: {0} \u001b[0mresidue 120 name SER cart_bonded term: 1.48337 omega angle: 177.896\n",
      "\u001b[0mprotocols.simple_filters.GeometryFilter: {0} \u001b[0mresidue 121 name LEU cart_bonded term: 0.721002 omega angle: 179.605\n",
      "\u001b[0mprotocols.simple_filters.GeometryFilter: {0} \u001b[0mresidue 122 name SER cart_bonded term: 0.899755 omega angle: 177.462\n",
      "\u001b[0mprotocols.simple_filters.GeometryFilter: {0} \u001b[0mresidue 123 name SER cart_bonded term: 1.06045 omega angle: 177.723\n",
      "\u001b[0mprotocols.simple_filters.GeometryFilter: {0} \u001b[0mresidue 124 name THR cart_bonded term: 0.842654 omega angle: -179.998\n",
      "\u001b[0mprotocols.simple_filters.GeometryFilter: {0} \u001b[0mresidue 125 name ALA cart_bonded term: 0.929567 omega angle: 179.952\n",
      "\u001b[0mprotocols.simple_filters.GeometryFilter: {0} \u001b[0mresidue 126 name SER cart_bonded term: 1.13179 omega angle: 179.892\n",
      "\u001b[0mprotocols.simple_filters.GeometryFilter: {0} \u001b[0mresidue 127 name ALA cart_bonded term: 0.898048 omega angle: 178.347\n",
      "\u001b[0mprotocols.simple_filters.GeometryFilter: {0} \u001b[0mresidue 128 name LEU cart_bonded term: 0.779054 omega angle: 175.875\n",
      "\u001b[0mprotocols.simple_filters.GeometryFilter: {0} \u001b[0mresidue 129 name GLY cart_bonded term: 0.783363 omega angle: -179.325\n",
      "\u001b[0mprotocols.simple_filters.GeometryFilter: {0} \u001b[0mresidue 130 name LYS cart_bonded term: 1.14905 omega angle: 177.382\n",
      "\u001b[0mprotocols.simple_filters.GeometryFilter: {0} \u001b[0mresidue 131 name LEU cart_bonded term: 1.41472 omega angle: -179.004\n",
      "\u001b[0mprotocols.simple_filters.GeometryFilter: {0} \u001b[0mresidue 132 name GLN cart_bonded term: 1.03909 omega angle: -178.402\n",
      "\u001b[0mprotocols.simple_filters.GeometryFilter: {0} \u001b[0mresidue 133 name ASP cart_bonded term: 0.786749 omega angle: -179.029\n",
      "\u001b[0mprotocols.simple_filters.GeometryFilter: {0} \u001b[0mresidue 134 name VAL cart_bonded term: 0.918267 omega angle: -177.335\n",
      "\u001b[0mprotocols.simple_filters.GeometryFilter: {0} \u001b[0mresidue 135 name VAL cart_bonded term: 1.36166 omega angle: 177.476\n",
      "\u001b[0mprotocols.simple_filters.GeometryFilter: {0} \u001b[0mresidue 136 name ASN cart_bonded term: 1.4979 omega angle: 178.255\n",
      "\u001b[0mprotocols.simple_filters.GeometryFilter: {0} \u001b[0mresidue 137 name GLN cart_bonded term: 1.36194 omega angle: 179.917\n",
      "\u001b[0mprotocols.simple_filters.GeometryFilter: {0} \u001b[0mresidue 138 name ASN cart_bonded term: 1.28096 omega angle: -178.991\n",
      "\u001b[0mprotocols.simple_filters.GeometryFilter: {0} \u001b[0mresidue 139 name ALA cart_bonded term: 0.974157 omega angle: -179.862\n",
      "\u001b[0mprotocols.simple_filters.GeometryFilter: {0} \u001b[0mresidue 140 name GLN cart_bonded term: 0.733222 omega angle: 179.286\n",
      "\u001b[0mprotocols.simple_filters.GeometryFilter: {0} \u001b[0mresidue 143 name ASP cart_bonded term: 0.0968812 omega angle: -175.509\n",
      "\u001b[0mprotocols.simple_filters.GeometryFilter: {0} \u001b[0mresidue 144 name GLU cart_bonded term: 0.11277 omega angle: -177.807\n",
      "\u001b[0mprotocols.simple_filters.GeometryFilter: {0} \u001b[0mresidue 145 name GLU cart_bonded term: 0.0182901 omega angle: 179.199\n",
      "\u001b[0mprotocols.simple_filters.GeometryFilter: {0} \u001b[0mresidue 146 name GLU cart_bonded term: 0.0131132 omega angle: 178.262\n",
      "\u001b[0mprotocols.simple_filters.GeometryFilter: {0} \u001b[0mresidue 147 name GLU cart_bonded term: 0.0312365 omega angle: 177.536\n",
      "\u001b[0mprotocols.simple_filters.GeometryFilter: {0} \u001b[0mresidue 148 name CYS cart_bonded term: 0.036094 omega angle: -177.923\n",
      "\u001b[0mprotocols.simple_filters.GeometryFilter: {0} \u001b[0mresidue 149 name GLU cart_bonded term: 0.0343167 omega angle: 177.936\n",
      "\u001b[0mprotocols.simple_filters.GeometryFilter: {0} \u001b[0mresidue 150 name LYS cart_bonded term: 0.0345687 omega angle: -179.884\n",
      "\u001b[0mprotocols.simple_filters.GeometryFilter: {0} \u001b[0mresidue 151 name ILE cart_bonded term: 0.10029 omega angle: -179.868\n",
      "\u001b[0mprotocols.simple_filters.GeometryFilter: {0} \u001b[0mresidue 152 name ILE cart_bonded term: 0.166292 omega angle: -179.799\n",
      "\u001b[0mprotocols.simple_filters.GeometryFilter: {0} \u001b[0mresidue 153 name GLU cart_bonded term: 0.0938737 omega angle: 178.224\n",
      "\u001b[0mprotocols.simple_filters.GeometryFilter: {0} \u001b[0mresidue 154 name GLU cart_bonded term: 0.0180204 omega angle: 178.895\n",
      "\u001b[0mprotocols.simple_filters.GeometryFilter: {0} \u001b[0mresidue 155 name LEU cart_bonded term: 0.0241292 omega angle: -179.502\n",
      "\u001b[0mprotocols.simple_filters.GeometryFilter: {0} \u001b[0mresidue 156 name LEU cart_bonded term: 0.0823304 omega angle: 176.302\n",
      "\u001b[0mprotocols.simple_filters.GeometryFilter: {0} \u001b[0mresidue 157 name GLU cart_bonded term: 0.0829067 omega angle: 177.877\n",
      "\u001b[0mprotocols.simple_filters.GeometryFilter: {0} \u001b[0mresidue 158 name LYS cart_bonded term: 0.0381953 omega angle: 179.165\n",
      "\u001b[0mprotocols.simple_filters.GeometryFilter: {0} \u001b[0mresidue 159 name ALA cart_bonded term: 0.101668 omega angle: -179.788\n",
      "\u001b[0mprotocols.simple_filters.GeometryFilter: {0} \u001b[0mresidue 160 name ARG cart_bonded term: 0.122075 omega angle: 176.848\n",
      "\u001b[0mprotocols.simple_filters.GeometryFilter: {0} \u001b[0mresidue 161 name LYS cart_bonded term: 0.0784963 omega angle: -177.505\n",
      "\u001b[0mprotocols.simple_filters.GeometryFilter: {0} \u001b[0mresidue 162 name LEU cart_bonded term: 0.352932 omega angle: 170.924\n",
      "\u001b[0mprotocols.simple_filters.GeometryFilter: {0} \u001b[0mresidue 163 name GLY cart_bonded term: 0.374447 omega angle: 175.825\n",
      "\u001b[0mprotocols.simple_filters.GeometryFilter: {0} \u001b[0mresidue 164 name VAL cart_bonded term: 0.37323 omega angle: -171.463\n",
      "\u001b[0mprotocols.simple_filters.GeometryFilter: {0} \u001b[0mresidue 165 name SER cart_bonded term: 0.430575 omega angle: 179.471\n",
      "\u001b[0mprotocols.simple_filters.GeometryFilter: {0} \u001b[0mresidue 166 name GLU cart_bonded term: 0.11905 omega angle: -179.614\n",
      "\u001b[0mprotocols.simple_filters.GeometryFilter: {0} \u001b[0mresidue 167 name ILE cart_bonded term: 0.146464 omega angle: 175.843\n",
      "\u001b[0mprotocols.simple_filters.GeometryFilter: {0} \u001b[0mresidue 168 name GLU cart_bonded term: 0.310195 omega angle: 173.203\n",
      "\u001b[0mprotocols.simple_filters.GeometryFilter: {0} \u001b[0mresidue 169 name TYR cart_bonded term: 0.174949 omega angle: 179.448\n",
      "\u001b[0mprotocols.simple_filters.GeometryFilter: {0} \u001b[0mresidue 170 name TYR cart_bonded term: 0.0231926 omega angle: 178.719\n",
      "\u001b[0mprotocols.simple_filters.GeometryFilter: {0} \u001b[0mresidue 171 name ILE cart_bonded term: 0.18862 omega angle: 174.614\n",
      "\u001b[0mprotocols.simple_filters.GeometryFilter: {0} \u001b[0mresidue 172 name ALA cart_bonded term: 0.246517 omega angle: 179.517\n",
      "\u001b[0mprotocols.simple_filters.GeometryFilter: {0} \u001b[0mresidue 173 name ARG cart_bonded term: 0.0873521 omega angle: -178.057\n",
      "\u001b[0mprotocols.simple_filters.GeometryFilter: {0} \u001b[0mresidue 174 name LEU cart_bonded term: 0.0339888 omega angle: 179.981\n",
      "\u001b[0mprotocols.simple_filters.GeometryFilter: {0} \u001b[0mresidue 175 name LEU cart_bonded term: 0.0353936 omega angle: 179.746\n",
      "\u001b[0mprotocols.simple_filters.GeometryFilter: {0} \u001b[0mresidue 176 name LEU cart_bonded term: 0.0566418 omega angle: 177.386\n",
      "\u001b[0mprotocols.simple_filters.GeometryFilter: {0} \u001b[0mresidue 177 name VAL cart_bonded term: 0.143644 omega angle: 176.769\n",
      "\u001b[0mprotocols.simple_filters.GeometryFilter: {0} \u001b[0mresidue 178 name ALA cart_bonded term: 0.239817 omega angle: 175.841\n",
      "\u001b[0mprotocols.simple_filters.GeometryFilter: {0} \u001b[0mresidue 179 name LEU cart_bonded term: 0.167174 omega angle: 178.437\n",
      "\u001b[0mprotocols.simple_filters.GeometryFilter: {0} \u001b[0mresidue 180 name LYS cart_bonded term: 0.0577323 omega angle: 178.956\n",
      "\u001b[0mprotocols.simple_filters.GeometryFilter: {0} \u001b[0mresidue 181 name LEU cart_bonded term: 0.107737 omega angle: -175.507\n",
      "\u001b[0mprotocols.simple_filters.GeometryFilter: {0} \u001b[0mresidue 182 name ARG cart_bonded term: 0.127925 omega angle: 177.344\n",
      "\u001b[0mprotocols.simple_filters.GeometryFilter: {0} \u001b[0mresidue 183 name GLY cart_bonded term: 0.0548393 omega angle: 178.384\n",
      "\u001b[0mprotocols.simple_filters.GeometryFilter: {0} \u001b[0mresidue 184 name VAL cart_bonded term: 0.216583 omega angle: -173.562\n",
      "\u001b[0mprotocols.simple_filters.GeometryFilter: {0} \u001b[0mresidue 185 name SER cart_bonded term: 0.320033 omega angle: -178.315\n",
      "\u001b[0mprotocols.simple_filters.GeometryFilter: {0} \u001b[0mresidue 186 name CYS cart_bonded term: 0.137426 omega angle: -177.335\n",
      "\u001b[0mprotocols.simple_filters.GeometryFilter: {0} \u001b[0mresidue 187 name GLU cart_bonded term: 0.0807207 omega angle: 176.006\n",
      "\u001b[0mprotocols.simple_filters.GeometryFilter: {0} \u001b[0mresidue 188 name GLU cart_bonded term: 0.0673844 omega angle: 178.174\n",
      "\u001b[0mprotocols.simple_filters.GeometryFilter: {0} \u001b[0mresidue 189 name LEU cart_bonded term: 0.0466945 omega angle: 177.696\n",
      "\u001b[0mprotocols.simple_filters.GeometryFilter: {0} \u001b[0mresidue 190 name GLN cart_bonded term: 0.0592361 omega angle: 177.322\n",
      "\u001b[0mprotocols.simple_filters.GeometryFilter: {0} \u001b[0mresidue 191 name LYS cart_bonded term: 0.0597081 omega angle: 177.357\n",
      "\u001b[0mprotocols.simple_filters.GeometryFilter: {0} \u001b[0mresidue 192 name PHE cart_bonded term: 0.0384357 omega angle: -179.341\n",
      "\u001b[0mprotocols.simple_filters.GeometryFilter: {0} \u001b[0mresidue 193 name ALA cart_bonded term: 0.0850748 omega angle: -179.425\n",
      "\u001b[0mprotocols.simple_filters.GeometryFilter: {0} \u001b[0mresidue 194 name GLU cart_bonded term: 0.0842433 omega angle: 179.469\n",
      "\u001b[0mprotocols.simple_filters.GeometryFilter: {0} \u001b[0mresidue 195 name GLU cart_bonded term: 0.00442329 omega angle: 179.423\n",
      "\u001b[0mprotocols.simple_filters.GeometryFilter: {0} \u001b[0mresidue 196 name PHE cart_bonded term: 0.0470232 omega angle: -176.49\n",
      "\u001b[0mprotocols.simple_filters.GeometryFilter: {0} \u001b[0mresidue 197 name ILE cart_bonded term: 0.133758 omega angle: 178.626\n",
      "\u001b[0mprotocols.simple_filters.GeometryFilter: {0} \u001b[0mresidue 198 name GLU cart_bonded term: 0.0939906 omega angle: 178.771\n",
      "\u001b[0mprotocols.simple_filters.GeometryFilter: {0} \u001b[0mresidue 199 name GLU cart_bonded term: 0.0140631 omega angle: 178.586\n",
      "\u001b[0mprotocols.simple_filters.GeometryFilter: {0} \u001b[0mresidue 200 name ALA cart_bonded term: 0.0926163 omega angle: 179.515\n",
      "\u001b[0mprotocols.simple_filters.GeometryFilter: {0} \u001b[0mresidue 201 name ARG cart_bonded term: 0.0868933 omega angle: 179.905\n",
      "\u001b[0mprotocols.simple_filters.GeometryFilter: {0} \u001b[0mresidue 203 name LYS cart_bonded term: 0.5404750.540475\n",
      "\u001b[0mprotocols.simple_filters.GeometryFilter: {0} \u001b[0mfailing.\n"
     ]
    },
    {
     "data": {
      "text/plain": [
       "False"
      ]
     },
     "execution_count": 28,
     "metadata": {},
     "output_type": "execute_result"
    }
   ],
   "source": [
    "from pyrosetta.rosetta.protocols import rosetta_scripts \n",
    "\n",
    "# 读取结构\n",
    "pose = pose_from_pdb('./data/1ubq_clean.pdb')\n",
    "\n",
    "# 定义Filter\n",
    "xml = rosetta_scripts.XmlObjects.create_from_string('''\n",
    "<FILTERS>\n",
    "    <Geometry name=\"geometry_filter\"\n",
    "      omega=\"165\"\n",
    "      cart_bonded=\"20\"\n",
    "      count_bad_residues=\"true\" />\n",
    "</FILTERS>\n",
    "''')\n",
    "\n",
    "geometry_filter = xml.get_filter('geometry_filter')\n",
    "geometry_filter.apply(complex_pose)"
   ]
  },
  {
   "cell_type": "markdown",
   "id": "45fddaa1-f596-41ca-add0-ecbac70890b7",
   "metadata": {},
   "source": [
    "#### 6.4 PreProlineFilter\n",
    "螺旋空间（Abego，ABEGO type A）在pro之前一般不倾向形成，但Rosetta可能捕捉不到该信息。在默认模式下，该filter会检查所有pro残基之前的所有残基，计算那些非B类型和非E类型（越少越好）。\n",
    "1. use_statistical_potential：true表示使用基于拉式图构象空间bicublic spline fit会被用来评估该扭转角。false表示使用不合理扭转角的bin范围内的残基被计数"
   ]
  },
  {
   "cell_type": "code",
   "execution_count": 29,
   "id": "7c56bc37-8447-43f4-bc88-6cfe35fd788b",
   "metadata": {},
   "outputs": [
    {
     "name": "stdout",
     "output_type": "stream",
     "text": [
      "\u001b[0mcore.import_pose.import_pose: {0} \u001b[0mFile './data/1ubq_clean.pdb' automatically determined to be of type PDB\n",
      "\u001b[0mbasic.io.database: {0} \u001b[0mDatabase file opened: protocol_data/denovo_design/preproline_normalized.gz\n",
      "\u001b[0mprotocols.denovo_design.PreProlineFilter: {0} \u001b[0mX start: -180 delta: 11.25\n",
      "\u001b[0mprotocols.denovo_design.PreProlineFilter: {0} \u001b[0mY start: -180 delta: 11.25\n",
      "\u001b[0mprotocols.denovo_design.PreProlineFilter: {0} \u001b[0mSpline for preproline residues has been trained from protocol_data/denovo_design/preproline_normalized.gz.\n",
      "\u001b[0mprotocols.denovo_design.PreProlineFilter: {0} \u001b[0mProlines in pose: 3 Bad pre-proline torsions: 0\n"
     ]
    },
    {
     "data": {
      "text/plain": [
       "True"
      ]
     },
     "execution_count": 29,
     "metadata": {},
     "output_type": "execute_result"
    }
   ],
   "source": [
    "from pyrosetta.rosetta.protocols.denovo_design.filters import PreProlineFilter\n",
    "\n",
    "# 读取结构\n",
    "pose = pose_from_pdb('./data/1ubq_clean.pdb')\n",
    "\n",
    "# 定义Filter\n",
    "prepro_filter = PreProlineFilter()\n",
    "prepro_filter.set_use_statistical_potential(False)\n",
    "# prepro_filter.set_selector() # 设置残基选择器\n",
    "prepro_filter.apply(pose)"
   ]
  },
  {
   "cell_type": "markdown",
   "id": "1094e2b8-d49d-4821-9306-3bea10a05256",
   "metadata": {},
   "source": [
    "#### 6.5 SecondaryStructure\n",
    "基于二级结构的Filter。比较pose的二级结构与定义的二级结构间的差异。报告N_MATCHING / N_TOTAL的值：\n",
    "- N_MATCHING 为选取部分的残基中有多少与定义理想的二级结构一致\n",
    "- N_TOTAL 为选取的残基总数。\n",
    "\n",
    "若set_use_dssp选项为false（默认为false），必须实现为pose计算二级结构信息，例如使用DsspMover；设定为true则会自动调用DSSP计算pose二级结构。\n",
    "\n",
    "该Filter定义二级结构的输入有多种来源:\n",
    "1. 用户定义的二级结构类型\n",
    "2. blueprint文件(也是用户定义的二级结构类型)"
   ]
  },
  {
   "cell_type": "code",
   "execution_count": 30,
   "id": "5b376a6c-1151-4f94-b47e-df9dc7c4db7d",
   "metadata": {},
   "outputs": [
    {
     "name": "stdout",
     "output_type": "stream",
     "text": [
      "\u001b[0mcore.import_pose.import_pose: {0} \u001b[0mFile './data/1ubq_clean.pdb' automatically determined to be of type PDB\n",
      "\u001b[0mprotocols.denovo_design.components.StructureDataFactory: {0} \u001b[0m\u001b[1m[ WARNING ]\u001b[0m -run:preserve_header is required for using \"Tomponents\" -- setting it to true. To avoid this message, include -run:preserve header true in your flags\n",
      "\u001b[0mprotocols.denovo_design.residue_selectors.PairedSheetResidueSelector: {0} \u001b[0mCould not determine strand pairings! You must specify them using the \"sheet_topology\" option or attach a StructureData object to the pose. No residues will be selected.\n",
      "\u001b[0mprotocols.fldsgn.filters.SecondaryStructureFilter: {0} \u001b[0mSS filter fail: current/filtered = L/H at position 1\n",
      "\u001b[0mprotocols.fldsgn.filters.SecondaryStructureFilter: {0} \u001b[0mSS filter fail: current/filtered = E/H at position 2\n",
      "\u001b[0mprotocols.fldsgn.filters.SecondaryStructureFilter: {0} \u001b[0mSS filter fail: current/filtered = E/H at position 3\n",
      "\u001b[0mprotocols.fldsgn.filters.SecondaryStructureFilter: {0} \u001b[0mSS filter fail: current/filtered = E/H at position 4\n",
      "\u001b[0mprotocols.fldsgn.filters.SecondaryStructureFilter: {0} \u001b[0mSS filter fail: current/filtered = E/H at position 5\n",
      "\u001b[0mprotocols.fldsgn.filters.SecondaryStructureFilter: {0} \u001b[0mSS filter fail: current/filtered = E/H at position 6\n",
      "\u001b[0mprotocols.fldsgn.filters.SecondaryStructureFilter: {0} \u001b[0mSS filter fail: current/filtered = E/H at position 7\n",
      "\u001b[0mprotocols.fldsgn.filters.SecondaryStructureFilter: {0} \u001b[0mSS filter fail: current/filtered = L/H at position 8\n",
      "\u001b[0mprotocols.fldsgn.filters.SecondaryStructureFilter: {0} \u001b[0mSS filter fail: current/filtered = L/H at position 9\n",
      "\u001b[0mprotocols.fldsgn.filters.SecondaryStructureFilter: {0} \u001b[0mSS filter fail: current/filtered = L/H at position 10\n",
      "\u001b[0mprotocols.fldsgn.filters.SecondaryStructureFilter: {0} \u001b[0mSS filter fail: current/filtered = L/H at position 11\n",
      "\u001b[0mprotocols.fldsgn.filters.SecondaryStructureFilter: {0} \u001b[0mSS filter fail: current/filtered = E/H at position 12\n",
      "\u001b[0mprotocols.fldsgn.filters.SecondaryStructureFilter: {0} \u001b[0mSS filter fail: current/filtered = E/H at position 13\n",
      "\u001b[0mprotocols.fldsgn.filters.SecondaryStructureFilter: {0} \u001b[0mSS filter fail: current/filtered = E/H at position 14\n",
      "\u001b[0mprotocols.fldsgn.filters.SecondaryStructureFilter: {0} \u001b[0mSS filter fail: current/filtered = E/H at position 15\n",
      "\u001b[0mprotocols.fldsgn.filters.SecondaryStructureFilter: {0} \u001b[0mSS filter fail: current/filtered = E/H at position 16\n",
      "\u001b[0mprotocols.fldsgn.filters.SecondaryStructureFilter: {0} \u001b[0mSS filter fail: current/filtered = L/H at position 17\n",
      "\u001b[0mprotocols.fldsgn.filters.SecondaryStructureFilter: {0} \u001b[0mSS filter fail: current/filtered = L/H at position 18\n",
      "\u001b[0mprotocols.fldsgn.filters.SecondaryStructureFilter: {0} \u001b[0mSS filter fail: current/filtered = L/H at position 19\n",
      "\u001b[0mprotocols.fldsgn.filters.SecondaryStructureFilter: {0} \u001b[0mSS filter fail: current/filtered = L/H at position 20\n",
      "\u001b[0mprotocols.fldsgn.filters.SecondaryStructureFilter: {0} \u001b[0mSS filter fail: current/filtered = L/H at position 21\n",
      "\u001b[0mprotocols.fldsgn.filters.SecondaryStructureFilter: {0} \u001b[0mSS filter fail: current/filtered = E/H at position 22\n",
      "\u001b[0mprotocols.fldsgn.filters.SecondaryStructureFilter: {0} \u001b[0mSS filter fail: current/filtered = L/H at position 35\n",
      "\u001b[0mprotocols.fldsgn.filters.SecondaryStructureFilter: {0} \u001b[0mSS filter fail: current/filtered = L/H at position 36\n",
      "\u001b[0mprotocols.fldsgn.filters.SecondaryStructureFilter: {0} \u001b[0mSS filter fail: current/filtered = L/H at position 37\n",
      "\u001b[0mprotocols.fldsgn.filters.SecondaryStructureFilter: {0} \u001b[0mSS filter fail: current/filtered = E/H at position 41\n",
      "\u001b[0mprotocols.fldsgn.filters.SecondaryStructureFilter: {0} \u001b[0mSS filter fail: current/filtered = E/H at position 42\n",
      "\u001b[0mprotocols.fldsgn.filters.SecondaryStructureFilter: {0} \u001b[0mSS filter fail: current/filtered = E/H at position 43\n",
      "\u001b[0mprotocols.fldsgn.filters.SecondaryStructureFilter: {0} \u001b[0mSS filter fail: current/filtered = E/H at position 44\n",
      "\u001b[0mprotocols.fldsgn.filters.SecondaryStructureFilter: {0} \u001b[0mSS filter fail: current/filtered = E/H at position 45\n",
      "\u001b[0mprotocols.fldsgn.filters.SecondaryStructureFilter: {0} \u001b[0mSS filter fail: current/filtered = L/H at position 46\n",
      "\u001b[0mprotocols.fldsgn.filters.SecondaryStructureFilter: {0} \u001b[0mSS filter fail: current/filtered = L/H at position 47\n",
      "\u001b[0mprotocols.fldsgn.filters.SecondaryStructureFilter: {0} \u001b[0mSS filter fail: current/filtered = E/H at position 48\n",
      "\u001b[0mprotocols.fldsgn.filters.SecondaryStructureFilter: {0} \u001b[0mSS filter fail: current/filtered = E/H at position 49\n",
      "\u001b[0mprotocols.fldsgn.filters.SecondaryStructureFilter: {0} \u001b[0mSS filter fail: current/filtered = L/H at position 50\n",
      "\u001b[0mprotocols.fldsgn.filters.SecondaryStructureFilter: {0} \u001b[0mSS filter fail: current/filtered = L/H at position 51\n",
      "\u001b[0mprotocols.fldsgn.filters.SecondaryStructureFilter: {0} \u001b[0mSS filter fail: current/filtered = L/H at position 52\n",
      "\u001b[0mprotocols.fldsgn.filters.SecondaryStructureFilter: {0} \u001b[0mSS filter fail: current/filtered = L/H at position 53\n",
      "\u001b[0mprotocols.fldsgn.filters.SecondaryStructureFilter: {0} \u001b[0mSS filter fail: current/filtered = L/H at position 54\n",
      "\u001b[0mprotocols.fldsgn.filters.SecondaryStructureFilter: {0} \u001b[0mSS filter fail: current/filtered = E/H at position 55\n",
      "\u001b[0mprotocols.fldsgn.filters.SecondaryStructureFilter: {0} \u001b[0mSS filter fail: current/filtered = L/H at position 56\n",
      "\u001b[0mprotocols.fldsgn.filters.SecondaryStructureFilter: {0} \u001b[0mSS filter fail: current/filtered = L/H at position 60\n",
      "\u001b[0mprotocols.fldsgn.filters.SecondaryStructureFilter: {0} \u001b[0mSS filter fail: current/filtered = L/H at position 61\n",
      "\u001b[0mprotocols.fldsgn.filters.SecondaryStructureFilter: {0} \u001b[0mSS filter fail: current/filtered = L/H at position 62\n",
      "\u001b[0mprotocols.fldsgn.filters.SecondaryStructureFilter: {0} \u001b[0mSS filter fail: current/filtered = L/H at position 63\n",
      "\u001b[0mprotocols.fldsgn.filters.SecondaryStructureFilter: {0} \u001b[0mSS filter fail: current/filtered = L/H at position 64\n",
      "\u001b[0mprotocols.fldsgn.filters.SecondaryStructureFilter: {0} \u001b[0mSS filter fail: current/filtered = L/H at position 65\n",
      "\u001b[0mprotocols.fldsgn.filters.SecondaryStructureFilter: {0} \u001b[0mSS filter fail: current/filtered = E/H at position 66\n",
      "\u001b[0mprotocols.fldsgn.filters.SecondaryStructureFilter: {0} \u001b[0mSS filter fail: current/filtered = E/H at position 67\n",
      "\u001b[0mprotocols.fldsgn.filters.SecondaryStructureFilter: {0} \u001b[0mSS filter fail: current/filtered = E/H at position 68\n",
      "\u001b[0mprotocols.fldsgn.filters.SecondaryStructureFilter: {0} \u001b[0mSS filter fail: current/filtered = E/H at position 69\n",
      "\u001b[0mprotocols.fldsgn.filters.SecondaryStructureFilter: {0} \u001b[0mSS filter fail: current/filtered = E/H at position 70\n",
      "\u001b[0mprotocols.fldsgn.filters.SecondaryStructureFilter: {0} \u001b[0mSS filter fail: current/filtered = E/H at position 71\n",
      "\u001b[0mprotocols.fldsgn.filters.SecondaryStructureFilter: {0} \u001b[0mSS filter fail: current/filtered = L/H at position 72\n",
      "\u001b[0mprotocols.fldsgn.filters.SecondaryStructureFilter: {0} \u001b[0mSS filter fail: current/filtered = L/H at position 73\n",
      "\u001b[0mprotocols.fldsgn.filters.SecondaryStructureFilter: {0} \u001b[0mSS filter fail: current/filtered = L/H at position 74\n",
      "\u001b[0mprotocols.fldsgn.filters.SecondaryStructureFilter: {0} \u001b[0mSS filter fail: current/filtered = L/H at position 75\n",
      "\u001b[0mprotocols.fldsgn.filters.SecondaryStructureFilter: {0} \u001b[0mSS filter fail: current/filtered = L/H at position 76\n",
      "\u001b[0mprotocols.fldsgn.filters.SecondaryStructureFilter: {0} \u001b[0mHHHHHHHHHHHHHHHHHHHHHHHHHHHHHHHHHHHHHHHHHHHHHHHHHHHHHHHHHHHHHHHHHHHHHHHHHHHH was filtered with 18 residues matching LEEEEEELLLLEEEEELLLLLEHHHHHHHHHHHHLLLHHHEEEEELLEELLLLLELHHHLLLLLLEEEEEELLLLL\n"
     ]
    },
    {
     "data": {
      "text/plain": [
       "False"
      ]
     },
     "execution_count": 30,
     "metadata": {},
     "output_type": "execute_result"
    }
   ],
   "source": [
    "from pyrosetta.rosetta.protocols.fldsgn.filters import SecondaryStructureFilter\n",
    "\n",
    "# 读取结构\n",
    "pose = pose_from_pdb('./data/1ubq_clean.pdb')\n",
    "\n",
    "# 定义Filter\n",
    "# 使用定义的二级结构:\n",
    "ss_contain_filter = SecondaryStructureFilter()\n",
    "ss_contain_filter.filtered_ss('HHHHHHHHHHHHHHHHHHHHHHHHHHHHHHHHHHHHHHHHHHHHHHHHHHHHHHHHHHHHHHHHHHHHHHHHHHHH')\n",
    "\n",
    "# 使用blueprint:\n",
    "# ss_contain_filter.set_blueprint($bp_file_name)\n",
    "\n",
    "ss_contain_filter.set_use_dssp(True)\n",
    "ss_contain_filter.apply(pose)"
   ]
  },
  {
   "cell_type": "markdown",
   "id": "d6cbdfe8-7c6d-45eb-8346-f9051b2e7aca",
   "metadata": {},
   "source": [
    "#### 6.6 SecondaryStructureCoun(xmlobject)\n",
    "基于单个二级结构元件计数的filter。计算给定类型的DSSP定义的二级结构的类型的数目。\n",
    "\n",
    "- filter_helix, filter_sheet, filter_loop: true 分别表示在helix，sheet，loop二级结构上进行过滤\n",
    "- filter_helix_sheet：filter on helix and sheet\n",
    "- num_helix，num_sheet，num_loop，num_helix_sheet：需要多少数目的对应二级结构才能通过该filter\n",
    "- min_helix_length，max_helix_length：最少和最大的helix氨基酸数目才会被当作一个helix，默认值4和9999\n",
    "- min_sheet_length，max_sheet_length，min_loop_length，max_loop_length与上一条类似\n",
    "- return_total：true表示将过滤的二级结构元件的总数目记录到score文件。默认为0.\n",
    "- residue_selector：氨基酸选择器\n",
    "- min_element_resis：一个二级结构原件的最少残基数目（作为计数基础），默认为1."
   ]
  },
  {
   "cell_type": "code",
   "execution_count": 31,
   "id": "db8b7dd9-ab16-4d16-b339-d9ebef24f9b4",
   "metadata": {},
   "outputs": [
    {
     "name": "stdout",
     "output_type": "stream",
     "text": [
      "\u001b[0mcore.import_pose.import_pose: {0} \u001b[0mFile './data/1ubq_clean.pdb' automatically determined to be of type PDB\n",
      "\u001b[0mprotocols.DsspMover: {0} \u001b[0mLEEEEEELLLLEEEEELLLLLEHHHHHHHHHHHHLLLHHHEEEEELLEELLLLLELHHHLLLLLLEEEEEELLLLL\n",
      "\u001b[0mprotocols.rosetta_scripts.RosettaScriptsParser: {0} \u001b[0mGenerating XML Schema for rosetta_scripts...\n",
      "\u001b[0mprotocols.rosetta_scripts.RosettaScriptsParser: {0} \u001b[0m...done\n",
      "\u001b[0mprotocols.rosetta_scripts.RosettaScriptsParser: {0} \u001b[0mInitializing schema validator...\n",
      "\u001b[0mprotocols.rosetta_scripts.RosettaScriptsParser: {0} \u001b[0m...done\n",
      "\u001b[0mprotocols.rosetta_scripts.RosettaScriptsParser: {0} \u001b[0mValidating input script...\n",
      "\u001b[0mprotocols.rosetta_scripts.RosettaScriptsParser: {0} \u001b[0m...done\n",
      "\u001b[0mprotocols.rosetta_scripts.RosettaScriptsParser: {0} \u001b[0mParsed script:\n",
      "<ROSETTASCRIPTS>\n",
      "\t<FILTERS>\n",
      "\t\t<SecondaryStructureCount filter_helix=\"true\" filter_helix_sheet=\"false\" filter_loop=\"true\" filter_sheet=\"true\" max_helix_length=\"999\" max_loop_length=\"999\" max_sheet_length=\"999\" min_element_resis=\"1\" min_helix_length=\"4\" min_loop_length=\"1\" min_sheet_length=\"3\" name=\"ss_count_filter\" num_helix=\"2\" num_loop=\"2\" num_sheet=\"2\" return_total=\"true\"/>\n",
      "\t</FILTERS>\n",
      "\t<PROTOCOLS/>\n",
      "</ROSETTASCRIPTS>\n",
      "\u001b[0mcore.scoring.ScoreFunctionFactory: {0} \u001b[0mSCOREFUNCTION: \u001b[32mbeta_nov16.wts\u001b[0m\n",
      "\u001b[0mprotocols.fldsgn.filters.SecondaryStructureCountFilter: {0} \u001b[0mfilter on 2 helix with length: 4-999\n",
      "\u001b[0mprotocols.fldsgn.filters.SecondaryStructureCountFilter: {0} \u001b[0mfilter on 2 sheet with length: 3-999\n",
      "\u001b[0mprotocols.fldsgn.filters.SecondaryStructureCountFilter: {0} \u001b[0mfilter on 2 loop with length: 1-999\n",
      "\u001b[0mprotocols.rosetta_scripts.RosettaScriptsParser: {0} \u001b[0mDefined filter named \"ss_count_filter\" of type SecondaryStructureCount\n",
      "\u001b[0mprotocols.rosetta_scripts.ParsedProtocol: {0} \u001b[0mParsedProtocol mover with the following settings\n",
      "\u001b[0mprotocols.fldsgn.filters.SecondaryStructureCountFilter: {0} \u001b[0mLEEEEEELLLLEEEEELLLLLEHHHHHHHHHHHHLLLHHHEEEEELLEELLLLLELHHHLLLLLLEEEEEELLLLL\n",
      "\u001b[0mprotocols.fldsgn.filters.SecondaryStructureCountFilter: {0} \u001b[0m Pose has 1 helix, 4 sheet, 9 loop (filtered elements), according to dssp_reduced definition.\n",
      "\u001b[0mprotocols.fldsgn.filters.SecondaryStructureCountFilter: {0} \u001b[0mReturning TOTAL number of filtered SS elements into score file.\n"
     ]
    },
    {
     "data": {
      "text/plain": [
       "14"
      ]
     },
     "execution_count": 31,
     "metadata": {},
     "output_type": "execute_result"
    }
   ],
   "source": [
    "from pyrosetta.rosetta.protocols import rosetta_scripts \n",
    "from pyrosetta.rosetta.protocols.moves import DsspMover\n",
    "\n",
    "# 读取结构\n",
    "pose = pose_from_pdb('./data/1ubq_clean.pdb')\n",
    "DsspMover().apply(pose)\n",
    "\n",
    "# 定义Filter\n",
    "xml = rosetta_scripts.XmlObjects.create_from_string('''\n",
    "<FILTERS>\n",
    "    <SecondaryStructureCount name=\"ss_count_filter\"\n",
    "        filter_helix_sheet = \"false\"\n",
    "        filter_helix=\"true\" \n",
    "        filter_sheet=\"true\" \n",
    "        filter_loop=\"true\"\n",
    "        num_helix=\"2\" \n",
    "        num_sheet=\"2\" \n",
    "        num_loop=\"2\"\n",
    "        min_helix_length=\"4\" \n",
    "        max_helix_length=\"999\"\n",
    "        min_sheet_length=\"3\" \n",
    "        max_sheet_length=\"999\"\n",
    "        min_loop_length=\"1\" \n",
    "        max_loop_length=\"999\"\n",
    "        return_total=\"true\"\n",
    "        min_element_resis=\"1\" />\n",
    "</FILTERS>\n",
    "''')\n",
    "\n",
    "ss_count_filter = xml.get_filter('ss_count_filter')\n",
    "ss_count_filter.compute(pose)"
   ]
  },
  {
   "cell_type": "markdown",
   "id": "4444be19-16ac-4e7f-8091-fcfbd135b93e",
   "metadata": {},
   "source": [
    "#### 6.7 SecondaryStructureHasResidue(xmlobject)\n",
    "计算二级结构元件部分位点是否含有N个或更多的某特定残基。在de novo设计中，用于检查各个二级结构是否存在至少一个疏水残基等用途。"
   ]
  },
  {
   "cell_type": "code",
   "execution_count": 32,
   "id": "aeba7ddd-71b7-4522-b5eb-6b29eb16b678",
   "metadata": {},
   "outputs": [
    {
     "name": "stdout",
     "output_type": "stream",
     "text": [
      "\u001b[0mcore.import_pose.import_pose: {0} \u001b[0mFile './data/1ubq_clean.pdb' automatically determined to be of type PDB\n",
      "\u001b[0mprotocols.rosetta_scripts.RosettaScriptsParser: {0} \u001b[0mGenerating XML Schema for rosetta_scripts...\n",
      "\u001b[0mprotocols.rosetta_scripts.RosettaScriptsParser: {0} \u001b[0m...done\n",
      "\u001b[0mprotocols.rosetta_scripts.RosettaScriptsParser: {0} \u001b[0mInitializing schema validator...\n",
      "\u001b[0mprotocols.rosetta_scripts.RosettaScriptsParser: {0} \u001b[0m...done\n",
      "\u001b[0mprotocols.rosetta_scripts.RosettaScriptsParser: {0} \u001b[0mValidating input script...\n",
      "\u001b[0mprotocols.rosetta_scripts.RosettaScriptsParser: {0} \u001b[0m...done\n",
      "\u001b[0mprotocols.rosetta_scripts.RosettaScriptsParser: {0} \u001b[0mParsed script:\n",
      "<ROSETTASCRIPTS>\n",
      "\t<TASKOPERATIONS>\n",
      "\t\t<LayerDesign layer=\"core_boundary\" name=\"layer_core_boundary\" use_sidechain_neighbors=\"True\" verbose=\"False\"/>\n",
      "\t</TASKOPERATIONS>\n",
      "\t<FILTERS>\n",
      "\t\t<SecondaryStructureHasResidue filter_helix=\"1\" filter_loop=\"0\" filter_sheet=\"1\" min_helix_length=\"4\" min_loop_length=\"1\" min_sheet_length=\"3\" name=\"ss_contributes_core\" nres_required_per_secstruct=\"1\" required_restypes=\"VILMFYW\" res_check_task_operations=\"layer_core_boundary\" secstruct_fraction_threshold=\"1.0\"/>\n",
      "\t</FILTERS>\n",
      "\t<PROTOCOLS/>\n",
      "</ROSETTASCRIPTS>\n",
      "\u001b[0mcore.scoring.ScoreFunctionFactory: {0} \u001b[0mSCOREFUNCTION: \u001b[32mbeta_nov16.wts\u001b[0m\n",
      "\u001b[0mprotocols.flxbb.LayerDesignOperation: {0} \u001b[0mInitializing the layers with the default residues\n",
      "\u001b[0mprotocols.flxbb.LayerDesignOperation: {0} \u001b[0mLayers to be designed:\tboundary\tcore\n",
      "\u001b[0mprotocols.flxbb.LayerDesignOperation: {0} \u001b[0mLayer Cterm\n",
      "\u001b[0mprotocols.flxbb.LayerDesignOperation: {0} \u001b[0m\tall            aa = ACDEFGHIKLMNPQRSTVWY\n",
      "\u001b[0mprotocols.flxbb.LayerDesignOperation: {0} \u001b[0m\n",
      "\u001b[0mprotocols.flxbb.LayerDesignOperation: {0} \u001b[0mLayer Nterm\n",
      "\u001b[0mprotocols.flxbb.LayerDesignOperation: {0} \u001b[0m\tall            aa = ACDEFGHIKLMNPQRSTVWY\n",
      "\u001b[0mprotocols.flxbb.LayerDesignOperation: {0} \u001b[0m\n",
      "\u001b[0mprotocols.flxbb.LayerDesignOperation: {0} \u001b[0mLayer boundary\n",
      "\u001b[0mprotocols.flxbb.LayerDesignOperation: {0} \u001b[0m\tHelix          aa = ADEIKLNQRSTVWY\n",
      "\u001b[0mprotocols.flxbb.LayerDesignOperation: {0} \u001b[0m\tHelixCapping   aa = DNST\n",
      "\u001b[0mprotocols.flxbb.LayerDesignOperation: {0} \u001b[0m\tHelixStart     aa = ADEIKLNQRSTVWYP\n",
      "\u001b[0mprotocols.flxbb.LayerDesignOperation: {0} \u001b[0m\tLoop           aa = ADEFGIKLNPQRSTVWY\n",
      "\u001b[0mprotocols.flxbb.LayerDesignOperation: {0} \u001b[0m\tStrand         aa = DEFIKLNQRSTVWY\n",
      "\u001b[0mprotocols.flxbb.LayerDesignOperation: {0} \u001b[0m\tall            aa = ADEFGIKLNPQRSTVWY\n",
      "\u001b[0mprotocols.flxbb.LayerDesignOperation: {0} \u001b[0m\n",
      "\u001b[0mprotocols.flxbb.LayerDesignOperation: {0} \u001b[0mLayer core\n",
      "\u001b[0mprotocols.flxbb.LayerDesignOperation: {0} \u001b[0m\tHelix          aa = AFILVWY\n",
      "\u001b[0mprotocols.flxbb.LayerDesignOperation: {0} \u001b[0m\tHelixCapping   aa = DNST\n",
      "\u001b[0mprotocols.flxbb.LayerDesignOperation: {0} \u001b[0m\tHelixStart     aa = AFILVWYP\n",
      "\u001b[0mprotocols.flxbb.LayerDesignOperation: {0} \u001b[0m\tLoop           aa = AFILPVWY\n",
      "\u001b[0mprotocols.flxbb.LayerDesignOperation: {0} \u001b[0m\tStrand         aa = FILVWY\n",
      "\u001b[0mprotocols.flxbb.LayerDesignOperation: {0} \u001b[0m\tall            aa = AFILPVWYDNST\n",
      "\u001b[0mprotocols.flxbb.LayerDesignOperation: {0} \u001b[0m\n",
      "\u001b[0mprotocols.flxbb.LayerDesignOperation: {0} \u001b[0mLayer surface\n",
      "\u001b[0mprotocols.flxbb.LayerDesignOperation: {0} \u001b[0m\tHelix          aa = DEHKNQRST\n",
      "\u001b[0mprotocols.flxbb.LayerDesignOperation: {0} \u001b[0m\tHelixCapping   aa = DNST\n",
      "\u001b[0mprotocols.flxbb.LayerDesignOperation: {0} \u001b[0m\tHelixStart     aa = DEHKNQRSTP\n",
      "\u001b[0mprotocols.flxbb.LayerDesignOperation: {0} \u001b[0m\tLoop           aa = DEGHKNPQRST\n",
      "\u001b[0mprotocols.flxbb.LayerDesignOperation: {0} \u001b[0m\tStrand         aa = DEHKNQRST\n",
      "\u001b[0mprotocols.flxbb.LayerDesignOperation: {0} \u001b[0m\tall            aa = DEGHKNPQRST\n",
      "\u001b[0mprotocols.flxbb.LayerDesignOperation: {0} \u001b[0m\n",
      "\u001b[0mprotocols.jd2.parser.TaskOperationLoader: {0} \u001b[0mDefined TaskOperation named \"layer_core_boundary\" of type LayerDesign\n",
      "\u001b[0mprotocols.fldsgn.filters.SecondaryStructureHasResidueFilter: {0} \u001b[0mfilter on helix with length: 4-9999\n",
      "\u001b[0mprotocols.fldsgn.filters.SecondaryStructureHasResidueFilter: {0} \u001b[0mfilter on sheet with length: 3-9999\n",
      "\u001b[0mcore.pack.task.xml_util: {0} \u001b[0mAdding the following task operations\n",
      "layer_core_boundary\n",
      "\u001b[0mprotocols.rosetta_scripts.RosettaScriptsParser: {0} \u001b[0mDefined filter named \"ss_contributes_core\" of type SecondaryStructureHasResidue\n",
      "\u001b[0mprotocols.rosetta_scripts.ParsedProtocol: {0} \u001b[0mParsedProtocol mover with the following settings\n"
     ]
    }
   ],
   "source": [
    "from pyrosetta.rosetta.protocols import rosetta_scripts \n",
    "from pyrosetta.rosetta.protocols.moves import DsspMover\n",
    "\n",
    "# 读取结构\n",
    "pose = pose_from_pdb('./data/1ubq_clean.pdb')\n",
    "\n",
    "# 定义Filter\n",
    "xml = rosetta_scripts.XmlObjects.create_from_string(\"\"\"\n",
    "<TASKOPERATIONS>\n",
    "    <LayerDesign name=\"layer_core_boundary\" layer=\"core_boundary\" verbose=\"False\" use_sidechain_neighbors=\"True\" />\n",
    "</TASKOPERATIONS>\n",
    "<FILTERS>\n",
    "    <SecondaryStructureHasResidue name=\"ss_contributes_core\" \n",
    "        secstruct_fraction_threshold=\"1.0\"\n",
    "        res_check_task_operations=\"layer_core_boundary\" \n",
    "        required_restypes=\"VILMFYW\"\n",
    "        nres_required_per_secstruct=\"1\" \n",
    "        filter_helix=\"1\" \n",
    "        filter_sheet=\"1\"\n",
    "        filter_loop=\"0\" \n",
    "        min_helix_length=\"4\"\n",
    "        min_sheet_length=\"3\"\n",
    "        min_loop_length=\"1\"/>\n",
    "</FILTERS>\"\"\")\n",
    "\n",
    "ss_contributes_core = xml.get_filter('ss_contributes_core')\n",
    "# ss_contributes_core.compute(pose)  # 输出较多，读者请自行运行"
   ]
  },
  {
   "cell_type": "markdown",
   "id": "b4024325-1cba-4cc4-b882-3abcfcdd9365",
   "metadata": {},
   "source": [
    "#### 6.8 LoopAnalyzerFilter\n",
    "使用 LoopAnalyzerMover 计算与loop相关的一些metrics:\n",
    "- loop骨架的omega是否异常\n",
    "- loop骨架中是否有chainbreak\n",
    "- loop骨架中的rama二面角能量项是否超出20个能量单位（非常不合理）"
   ]
  },
  {
   "cell_type": "code",
   "execution_count": 33,
   "id": "96e9f795-6e1f-4c73-8391-d6c5ee7dea31",
   "metadata": {},
   "outputs": [
    {
     "name": "stdout",
     "output_type": "stream",
     "text": [
      "\u001b[0mcore.import_pose.import_pose: {0} \u001b[0mFile './data/1ubq_clean.pdb' automatically determined to be of type PDB\n",
      "\u001b[0mprotocols.loops.filters.LoopAnalyzerFilter: {0} \u001b[0mrunning LoopAnalyzerFilter\n",
      "\u001b[0mprotocols.analysis.LoopAnalyzerMover: {0} \u001b[0mrunning LoopAnalyzerMover\n",
      "\u001b[0mprotocols.analysis.LoopAnalyzerMover: {0} \u001b[0mLoopAnalyzerMover will consider these positions (Rosetta numbering) - remember that it includes an extra residue on both sides of each loop, conditions permitting: 43 44 45 46 47 48 49 50 51 52 53 54 55 56 57\n",
      "\u001b[0mprotocols.evaluation.ChiWellRmsdEvaluatorCreator: {0} \u001b[0mEvaluation Creator active ...\n"
     ]
    },
    {
     "data": {
      "text/plain": [
       "-32.30644512437591"
      ]
     },
     "execution_count": 33,
     "metadata": {},
     "output_type": "execute_result"
    }
   ],
   "source": [
    "from pyrosetta.rosetta.protocols.loops.filters import LoopAnalyzerFilter\n",
    "from pyrosetta.rosetta.protocols.loops import Loop, Loops\n",
    "\n",
    "# 读取结构\n",
    "pose = pose_from_pdb('./data/1ubq_clean.pdb')\n",
    "\n",
    "# 设置Loop的区域:\n",
    "# define a loop;\n",
    "loop = Loop(44, 56, 45) # start_res, end_res, cut_res\n",
    "loops = Loops()\n",
    "loops.add_loop(loop)  # add to loops object;\n",
    "\n",
    "loop_analyzer = LoopAnalyzerFilter()\n",
    "loop_analyzer.set_loops(loops)\n",
    "loop_analyzer.report_sm(pose)"
   ]
  },
  {
   "cell_type": "markdown",
   "id": "8a30888d-d027-434e-bc6a-cdaaca6c4452",
   "metadata": {},
   "source": [
    "#### 6.9 HelixPairing\n",
    "用于判断Pose中每两个螺旋的Packing几何特征是否正常。该Filter首先计算一个pose的二级结构，然后利用二级结构去找到螺旋部分。\n",
    "\n",
    "对于螺旋pairing，该filter提供三个参数，dist，cross和align，一个pose的这些参数低于设定阈值的话将被reject掉。\n",
    "\n",
    "- dist: 两个螺旋中点的距离;\n",
    "- cross: 两个螺旋之间的packing角度，该角度由helix vector间的夹角决定。helix vector由每段螺旋的C->N端几何中心xyz坐标相减计算得到。\n",
    "- align: 当两股螺旋之间存在beta strands时，计算cross时，先将helix vector投影在beta strands上，再进行cross angle的计算。\n",
    "\n",
    "最关键的参数设置是helix_pairings，通用匹配字符串为: \"helix_id1-helix_id2.Type\"：\n",
    "- helix_id1/2: 指定螺旋的序号；\n",
    "- Type：可选A或P，代表平行或反平行；\n",
    "\n",
    "举例, 如果我希望检查第一个螺旋与第二个螺旋之间的packing，需要设置为:\"1-2.A\"，含义是:1-2螺旋之间的packing，并且1和2螺旋之间的排布是反平行的。\n",
    "\n",
    "如果设置多段螺旋: \"1-2.A;2-3.A;1-3.P\", 不同的packing检查之间用分号隔开。"
   ]
  },
  {
   "cell_type": "code",
   "execution_count": 34,
   "id": "dea7d8f3-b3d1-4095-b2a1-ae3f13a2001b",
   "metadata": {},
   "outputs": [
    {
     "name": "stdout",
     "output_type": "stream",
     "text": [
      "\u001b[0mcore.import_pose.import_pose: {0} \u001b[0mFile './data/denovo_helix.pdb' automatically determined to be of type PDB\n",
      "\u001b[0mcore.conformation.Conformation: {0} \u001b[0mFound disulfide between residues 6 44\n",
      "\u001b[0mcore.conformation.Conformation: {0} \u001b[0mcurrent variant for 6 CYS\n",
      "\u001b[0mcore.conformation.Conformation: {0} \u001b[0mcurrent variant for 44 CYS\n",
      "\u001b[0mcore.conformation.Conformation: {0} \u001b[0mcurrent variant for 6 CYD\n",
      "\u001b[0mcore.conformation.Conformation: {0} \u001b[0mcurrent variant for 44 CYD\n",
      "\u001b[0mprotocols.fldsgn.filters.HelixPairingFilter: {0} \u001b[0mHelix 1is bent, angle=30.2685\n",
      "\u001b[0mprotocols.fldsgn.filters.HelixPairingFilter: {0} \u001b[0m Filter condition:\n",
      "\u001b[0mprotocols.fldsgn.filters.HelixPairingFilter: {0} \u001b[0m bend ( intra helix ) <= 20\n",
      "\u001b[0mprotocols.fldsgn.filters.HelixPairingFilter: {0} \u001b[0m dist <= 15\n",
      "\u001b[0mprotocols.fldsgn.filters.HelixPairingFilter: {0} \u001b[0m cross <= 45\n",
      "\u001b[0mprotocols.fldsgn.filters.HelixPairingFilter: {0} \u001b[0m align <= 25\n",
      "\u001b[0mprotocols.fldsgn.filters.HelixPairingFilter: {0} \u001b[0m#### HelixPairingSet Info\n",
      "\u001b[0mprotocols.fldsgn.filters.HelixPairingFilter: {0} \u001b[0m# 1-2.A;2-3.A\n",
      "\u001b[0mprotocols.fldsgn.filters.HelixPairingFilter: {0} \u001b[0m# name distance cross_angle align_angle\n",
      "\u001b[0mprotocols.fldsgn.filters.HelixPairingFilter: {0} \u001b[0m#   1-2.A   13.518  24.177 -99.000\n",
      "\u001b[0mprotocols.fldsgn.filters.HelixPairingFilter: {0} \u001b[0m#   2-3.A   10.166  24.434 -99.000\n",
      "\u001b[0mprotocols.fldsgn.filters.HelixPairingFilter: {0} \u001b[0m Filter failed !\n"
     ]
    },
    {
     "data": {
      "text/plain": [
       "False"
      ]
     },
     "execution_count": 34,
     "metadata": {},
     "output_type": "execute_result"
    }
   ],
   "source": [
    "from pyrosetta.rosetta.protocols.fldsgn.filters import HelixPairingFilter\n",
    "\n",
    "# 读取三螺旋拓扑结构\n",
    "pose = pose_from_pdb('./data/denovo_helix.pdb')\n",
    "\n",
    "# 定义Filter\n",
    "hpair_filter = HelixPairingFilter()\n",
    "hpair_filter.helix_pairings('1-2.A;2-3.A')\n",
    "# hpair_filter.dist(15)\n",
    "# hpair_filter.cross_angle(45)\n",
    "# hpair_filter.align_angle(25)\n",
    "# hpair_filter.bend_angle(20)\n",
    "hpair_filter.apply(pose)"
   ]
  },
  {
   "cell_type": "markdown",
   "id": "c9f8cb00-9548-47b6-aac7-61f2b1ee6c1e",
   "metadata": {},
   "source": [
    "#### 6.10 HSSTriplet\n",
    "评估给定的helix-strand-strand三联（HSS triplet）结构。计算strand pair与helix之间的距离以及sheet平面和helix之间的角度。若距离计算值处于min_dist和max_dist选项设定值且角度计算值处于min_angle和max_angle选项设定值，则返回true。\n",
    "\n",
    "关键参数（默认）:\n",
    "- min_dist=\"(7.5 &Real)\" \n",
    "- max_dist=\"(13.0 &Real)\" \n",
    "- min_angle=\"(-12.5 &Real)\" \n",
    "- max_angle=\"(90.0 &Real)\"\n",
    "\n",
    "关键的参数设置是add_hsstriplets，通用匹配字符串为: \"helix_id1,strand_id1-strand_id2\"：\n",
    "helix_id: 指定螺旋的序号；\n",
    "strand_id1/2：指定beta片的序号；\n",
    "\n",
    "如果设置HSS pakcing: \"1,2-3;2,3-4\", 不同的packing检查之间用分号隔开。"
   ]
  },
  {
   "cell_type": "code",
   "execution_count": 35,
   "id": "04cd218e-0952-47fe-a8d1-4da3c2a3232d",
   "metadata": {},
   "outputs": [
    {
     "name": "stdout",
     "output_type": "stream",
     "text": [
      "\u001b[0mcore.import_pose.import_pose: {0} \u001b[0mFile './data/denovo_hee.pdb' automatically determined to be of type PDB\n",
      "\u001b[0mcore.conformation.Conformation: {0} \u001b[0mFound disulfide between residues 18 20\n",
      "\u001b[0mcore.conformation.Conformation: {0} \u001b[0mcurrent variant for 18 CYS\n",
      "\u001b[0mcore.conformation.Conformation: {0} \u001b[0mcurrent variant for 20 CYS\n",
      "\u001b[0mcore.conformation.Conformation: {0} \u001b[0mcurrent variant for 18 CYD\n",
      "\u001b[0mcore.conformation.Conformation: {0} \u001b[0mcurrent variant for 20 CYD\n",
      "\u001b[0mprotocols.fldsgn.filters.HSSTripletFilter: {0} \u001b[0mHelix:1 Strand1:1 Strand2:2 hsheet_dist=9.14642, hs_angle=-150.393, hs_dist1=9.10143, hs_dist2=9.1914\n",
      "\u001b[0mprotocols.fldsgn.filters.HSSTripletFilter: {0} \u001b[0m Filter failed !\n"
     ]
    },
    {
     "data": {
      "text/plain": [
       "False"
      ]
     },
     "execution_count": 35,
     "metadata": {},
     "output_type": "execute_result"
    }
   ],
   "source": [
    "from pyrosetta.rosetta.protocols.fldsgn.filters import HSSTripletFilter\n",
    "\n",
    "# 读取拓扑结构\n",
    "pose = pose_from_pdb('./data/denovo_hee.pdb')\n",
    "\n",
    "# 定义Filter\n",
    "hss_filter = HSSTripletFilter()\n",
    "hss_filter.add_hsstriplets('1,1-2')\n",
    "# hss_filter.filter_max_angle(90)\n",
    "# hss_filter.filter_min_angle(-12.5)\n",
    "# hss_filter.filter_max_dist(13)\n",
    "# hss_filter.filter_min_dist(7.5)\n",
    "hss_filter.apply(pose)"
   ]
  },
  {
   "cell_type": "markdown",
   "id": "6cd45a4d-5737-4dcf-852e-a82238b61624",
   "metadata": {},
   "source": [
    "### 7. Packing/Connectivity"
   ]
  },
  {
   "cell_type": "markdown",
   "id": "073b4987-6d5f-4ee8-bfd9-11a754cd6276",
   "metadata": {},
   "source": [
    "#### 7.1 AverageDegree\n",
    "计算与一个残基选择部分的定义距离内残基的平均连通度。\n",
    "\n",
    "当Rosetta用于复合物界面的设计中时，可能引起过度优化，看似“完美的”Rotamer的构象其实在单体中并不稳定。\n",
    "\n",
    "使用此Filter能够区分从天然复合物中区分没有相互作用的design。\n",
    "\n",
    "参数:\n",
    "- threshold：至少需要存在多少个氨基酸在选择部分氨基酸的范围内(9.4)\n",
    "- distance_threshold：定义计算距离的范围大小(8.0)\n",
    "- task_operations定义针对哪些残基进行该计算"
   ]
  },
  {
   "cell_type": "code",
   "execution_count": 36,
   "id": "3b10382c-5761-4e5b-b183-e49122665c86",
   "metadata": {},
   "outputs": [
    {
     "name": "stdout",
     "output_type": "stream",
     "text": [
      "\u001b[0mcore.import_pose.import_pose: {0} \u001b[0mFile './data/denovo_binder.pdb' automatically determined to be of type PDB\n",
      "\u001b[0mcore.conformation.Conformation: {0} \u001b[0mFound disulfide between residues 148 186\n",
      "\u001b[0mcore.conformation.Conformation: {0} \u001b[0mcurrent variant for 148 CYS\n",
      "\u001b[0mcore.conformation.Conformation: {0} \u001b[0mcurrent variant for 186 CYS\n",
      "\u001b[0mcore.conformation.Conformation: {0} \u001b[0mcurrent variant for 148 CYD\n",
      "\u001b[0mcore.conformation.Conformation: {0} \u001b[0mcurrent variant for 186 CYD\n",
      "\u001b[0mprotocols.protein_interface_design.filters.AverageDegreeFilter: {0} \u001b[0mConnectivity of ALA19 is 11\n",
      "\u001b[0mprotocols.protein_interface_design.filters.AverageDegreeFilter: {0} \u001b[0mConnectivity of LYS22 is 9\n",
      "\u001b[0mprotocols.protein_interface_design.filters.AverageDegreeFilter: {0} \u001b[0mConnectivity of ILE23 is 11\n",
      "\u001b[0mprotocols.protein_interface_design.filters.AverageDegreeFilter: {0} \u001b[0mConnectivity of ASP25 is 9\n",
      "\u001b[0mprotocols.protein_interface_design.filters.AverageDegreeFilter: {0} \u001b[0mConnectivity of SER26 is 11\n",
      "\u001b[0mprotocols.protein_interface_design.filters.AverageDegreeFilter: {0} \u001b[0mConnectivity of SER29 is 9\n",
      "\u001b[0mprotocols.protein_interface_design.filters.AverageDegreeFilter: {0} \u001b[0mConnectivity of THR30 is 12\n",
      "\u001b[0mprotocols.protein_interface_design.filters.AverageDegreeFilter: {0} \u001b[0mConnectivity of SER32 is 9\n",
      "\u001b[0mprotocols.protein_interface_design.filters.AverageDegreeFilter: {0} \u001b[0mConnectivity of ALA33 is 10\n",
      "\u001b[0mprotocols.protein_interface_design.filters.AverageDegreeFilter: {0} \u001b[0mConnectivity of LYS36 is 9\n",
      "\u001b[0mprotocols.protein_interface_design.filters.AverageDegreeFilter: {0} \u001b[0mConnectivity of LEU37 is 14\n",
      "\u001b[0mprotocols.protein_interface_design.filters.AverageDegreeFilter: {0} \u001b[0mConnectivity of ILE114 is 10\n",
      "\u001b[0mprotocols.protein_interface_design.filters.AverageDegreeFilter: {0} \u001b[0mConnectivity of GLY115 is 9\n",
      "\u001b[0mprotocols.protein_interface_design.filters.AverageDegreeFilter: {0} \u001b[0mConnectivity of ILE117 is 11\n",
      "\u001b[0mprotocols.protein_interface_design.filters.AverageDegreeFilter: {0} \u001b[0mConnectivity of GLN118 is 9\n",
      "\u001b[0mprotocols.protein_interface_design.filters.AverageDegreeFilter: {0} \u001b[0mConnectivity of ASP119 is 9\n",
      "\u001b[0mprotocols.protein_interface_design.filters.AverageDegreeFilter: {0} \u001b[0mConnectivity of LEU121 is 10\n",
      "\u001b[0mprotocols.protein_interface_design.filters.AverageDegreeFilter: {0} \u001b[0mConnectivity of SER122 is 9\n",
      "\u001b[0mprotocols.protein_interface_design.filters.AverageDegreeFilter: {0} \u001b[0mConnectivity of THR124 is 13\n",
      "\u001b[0mprotocols.protein_interface_design.filters.AverageDegreeFilter: {0} \u001b[0mConnectivity of ALA125 is 9\n",
      "\u001b[0mprotocols.protein_interface_design.filters.AverageDegreeFilter: {0} \u001b[0mConnectivity of LEU128 is 14\n",
      "\u001b[0mprotocols.protein_interface_design.filters.AverageDegreeFilter: {0} \u001b[0mConnectivity of GLY129 is 9\n",
      "\u001b[0mprotocols.protein_interface_design.filters.AverageDegreeFilter: {0} \u001b[0mConnectivity of LEU131 is 14\n",
      "\u001b[0mprotocols.protein_interface_design.filters.AverageDegreeFilter: {0} \u001b[0mConnectivity of GLN132 is 10\n",
      "\u001b[0mprotocols.protein_interface_design.filters.AverageDegreeFilter: {0} \u001b[0mConnectivity of ASN136 is 9\n",
      "\u001b[0mprotocols.protein_interface_design.filters.AverageDegreeFilter: {0} \u001b[0mConnectivity of SER165 is 9\n",
      "\u001b[0mprotocols.protein_interface_design.filters.AverageDegreeFilter: {0} \u001b[0mConnectivity of GLU166 is 7\n",
      "\u001b[0mprotocols.protein_interface_design.filters.AverageDegreeFilter: {0} \u001b[0mConnectivity of ILE167 is 7\n",
      "\u001b[0mprotocols.protein_interface_design.filters.AverageDegreeFilter: {0} \u001b[0mConnectivity of GLU168 is 12\n",
      "\u001b[0mprotocols.protein_interface_design.filters.AverageDegreeFilter: {0} \u001b[0mConnectivity of TYR170 is 9\n",
      "\u001b[0mprotocols.protein_interface_design.filters.AverageDegreeFilter: {0} \u001b[0mConnectivity of ILE171 is 10\n",
      "\u001b[0mprotocols.protein_interface_design.filters.AverageDegreeFilter: {0} \u001b[0mConnectivity of ARG173 is 10\n",
      "\u001b[0mprotocols.protein_interface_design.filters.AverageDegreeFilter: {0} \u001b[0mConnectivity of LEU174 is 9\n",
      "\u001b[0mprotocols.protein_interface_design.filters.AverageDegreeFilter: {0} \u001b[0mConnectivity of LEU175 is 11\n",
      "\u001b[0mprotocols.protein_interface_design.filters.AverageDegreeFilter: {0} \u001b[0mConnectivity of VAL177 is 9\n",
      "\u001b[0mprotocols.protein_interface_design.filters.AverageDegreeFilter: {0} \u001b[0mConnectivity of ALA178 is 9\n",
      "\u001b[0mprotocols.protein_interface_design.filters.AverageDegreeFilter: {0} \u001b[0mConnectivity of LYS180 is 10\n",
      "\u001b[0mprotocols.protein_interface_design.filters.AverageDegreeFilter: {0} \u001b[0mConnectivity of LEU181 is 7\n",
      "\u001b[0mprotocols.protein_interface_design.filters.AverageDegreeFilter: {0} \u001b[0mConnectivity of ARG182 is 7\n"
     ]
    },
    {
     "data": {
      "text/plain": [
       "9.871794871794872"
      ]
     },
     "execution_count": 36,
     "metadata": {},
     "output_type": "execute_result"
    }
   ],
   "source": [
    "from pyrosetta.rosetta.protocols.protein_interface_design.filters import AverageDegreeFilter\n",
    "from pyrosetta.rosetta.core.pack.task import TaskFactory\n",
    "from pyrosetta.rosetta.protocols.simple_task_operations import RestrictToInterface\n",
    "\n",
    "# 读取复合物结构\n",
    "complex_pose = pose_from_pdb('./data/denovo_binder.pdb')\n",
    "\n",
    "# ppi task_factory\n",
    "tf = TaskFactory()\n",
    "tf.push_back(RestrictToInterface())\n",
    "\n",
    "# 定义Filter\n",
    "average_degree_filter = AverageDegreeFilter()\n",
    "average_degree_filter.task_factory(tf)\n",
    "average_degree_filter.distance_threshold(8)\n",
    "average_degree_filter.threshold(9.4)\n",
    "average_degree_filter.compute(complex_pose)"
   ]
  },
  {
   "cell_type": "markdown",
   "id": "2e20f4b1-73ba-4b9f-8ca6-018ef980a782",
   "metadata": {},
   "source": [
    "#### 7.2 PackStat\n",
    "基于packing统计量的filter\n",
    "\n",
    "参数:\n",
    "- threshold：最低阈值\n",
    "- chain：在计算packstate之前从哪一个jump开始分离复合物。0表示不分离\n",
    "- repeats：重复计算次数"
   ]
  },
  {
   "cell_type": "code",
   "execution_count": 37,
   "id": "25c8b5b7-928c-46dc-8a56-12e235b38706",
   "metadata": {},
   "outputs": [
    {
     "name": "stdout",
     "output_type": "stream",
     "text": [
      "\u001b[0mcore.import_pose.import_pose: {0} \u001b[0mFile './data/denovo_hee.pdb' automatically determined to be of type PDB\n",
      "\u001b[0mcore.conformation.Conformation: {0} \u001b[0mFound disulfide between residues 18 20\n",
      "\u001b[0mcore.conformation.Conformation: {0} \u001b[0mcurrent variant for 18 CYS\n",
      "\u001b[0mcore.conformation.Conformation: {0} \u001b[0mcurrent variant for 20 CYS\n",
      "\u001b[0mcore.conformation.Conformation: {0} \u001b[0mcurrent variant for 18 CYD\n",
      "\u001b[0mcore.conformation.Conformation: {0} \u001b[0mcurrent variant for 20 CYD\n",
      "\u001b[0mprotocols.filters.PackStatFilter: {0} \u001b[0mrepeat 1: packscore: 0.737467\n",
      "\u001b[0mprotocols.filters.PackStatFilter: {0} \u001b[0mrepeat 2: packscore: 0.777977\n",
      "\u001b[0mprotocols.filters.PackStatFilter: {0} \u001b[0mrepeat 3: packscore: 0.714652\n",
      "\u001b[0mprotocols.filters.PackStatFilter: {0} \u001b[0mrepeat 4: packscore: 0.76972\n",
      "\u001b[0mprotocols.filters.PackStatFilter: {0} \u001b[0mrepeat 5: packscore: 0.790474\n"
     ]
    }
   ],
   "source": [
    "from pyrosetta.rosetta.protocols.simple_filters import PackStatFilter\n",
    "\n",
    "# 读取拓扑结构\n",
    "pose = pose_from_pdb('./data/denovo_hee.pdb')\n",
    "\n",
    "# 定义Filter\n",
    "packsat_filter = PackStatFilter()\n",
    "packsat_filter.repeats_ = 5\n",
    "packsat_filter.chain_ = 0 # 不是复合物结构这个案例。如有需要按照jump num进行设置。\n",
    "packstate = packsat_filter.compute(pose)"
   ]
  },
  {
   "cell_type": "markdown",
   "id": "c56b947c-d3c0-4033-b23f-e5e5f9ff5741",
   "metadata": {},
   "source": [
    "#### 7.3 Holes\n",
    "寻找packing中的空腔。仍然是使用will sheffler的packing代码（packstat）计算蛋白内部空腔的体积大小。但是这一允许传入氨基酸选择器，仅使用部分氨基酸（蛋白部分进行计算）。但是值得注意是，这里的计算仍然是把pose作为整体进行计算，只是report得分的时候，只有在选择器中的原子才会被计算总和。（Holes打分是对单个原子/残基进行计算得分值得总和。）\n",
    "\n",
    "结果如果正说明比天然蛋白结构(PDB库)更多空腔，负说明更少空腔。\n",
    "\n",
    "**特别注意: 此处需要额外编译安装dalphaball**:\n",
    "- 此处提供data文件夹中两种二进制的dalphaball（MacOS、Ubuntu）"
   ]
  },
  {
   "cell_type": "code",
   "execution_count": 38,
   "id": "257f7b3e-aff2-4b3d-aab0-29e991ba10be",
   "metadata": {},
   "outputs": [
    {
     "name": "stdout",
     "output_type": "stream",
     "text": [
      "PyRosetta-4 2021 [Rosetta PyRosetta4.conda.mac.cxx11thread.serialization.python37.Release 2021.26+release.b308454c455dd04f6824cc8b23e54bbb9be2cdd7 2021-07-02T13:01:54] retrieved from: http://www.pyrosetta.org\n",
      "(C) Copyright Rosetta Commons Member Institutions. Created in JHU by Sergey Lyskov and PyRosetta Team.\n",
      "\u001b[0mcore.init: {0} \u001b[0mChecking for fconfig files in pwd and ./rosetta/flags\n",
      "\u001b[0mcore.init: {0} \u001b[0mRosetta version: PyRosetta4.conda.mac.cxx11thread.serialization.python37.Release r288 2021.26+release.b308454c455 b308454c455dd04f6824cc8b23e54bbb9be2cdd7 http://www.pyrosetta.org 2021-07-02T13:01:54\n",
      "\u001b[0mcore.init: {0} \u001b[0mcommand: PyRosetta -holes:dalphaball ./data/DAlphaBall.macgcc -database /opt/miniconda3/lib/python3.7/site-packages/pyrosetta/database\n",
      "\u001b[0mbasic.random.init_random_generator: {0} \u001b[0m'RNG device' seed mode, using '/dev/urandom', seed=1495719393 seed_offset=0 real_seed=1495719393 thread_index=0\n",
      "\u001b[0mbasic.random.init_random_generator: {0} \u001b[0mRandomGenerator:init: Normal mode, seed=1495719393 RG_type=mt19937\n",
      "\u001b[0mcore.import_pose.import_pose: {0} \u001b[0mFile './data/denovo_hee.pdb' automatically determined to be of type PDB\n",
      "\u001b[0mcore.conformation.Conformation: {0} \u001b[0mFound disulfide between residues 18 20\n",
      "\u001b[0mcore.conformation.Conformation: {0} \u001b[0mcurrent variant for 18 CYS\n",
      "\u001b[0mcore.conformation.Conformation: {0} \u001b[0mcurrent variant for 20 CYS\n",
      "\u001b[0mcore.conformation.Conformation: {0} \u001b[0mcurrent variant for 18 CYD\n",
      "\u001b[0mcore.conformation.Conformation: {0} \u001b[0mcurrent variant for 20 CYD\n",
      "\u001b[0mcore.select.residue_selector.LayerSelector: {0} \u001b[0mSetting LayerSelector to use sidechain neighbors to determine burial.\n",
      "\u001b[0mcore.select.residue_selector.LayerSelector: {0} \u001b[0mSet cutoffs for core and surface to 5.2 and 2, respectively, in LayerSelector.\n",
      "\u001b[0mcore.select.residue_selector.LayerSelector: {0} \u001b[0mSetting LayerSelector to use sidechain neighbors to determine burial.\n",
      "\u001b[0mcore.select.residue_selector.LayerSelector: {0} \u001b[0mSetting core=true boundary=false surface=false in LayerSelector.\n",
      "\u001b[0mcore.select.residue_selector.LayerSelector: {0} \u001b[0mSetting radius for rolling ball algorithm to 2 in LayerSelector.  (Note that this will have no effect if the sidechain neighbors method is used.)\n",
      "\u001b[0mcore.select.residue_selector.LayerSelector: {0} \u001b[0mSet cutoffs for core and surface to 3.5 and 1.5, respectively, in LayerSelector.\n",
      "\u001b[0mprotocols.simple_filters.HolesFilter: {0} \u001b[0m computing using residue selector\n",
      "\u001b[0mcore.scoring.packing.compute_holes_score: {0} \u001b[0mcompute_holes_surfs try: 1\n",
      "\u001b[0mcore.scoring.packing.compute_holes_score: {0} \u001b[0mcompute_holes_surfs completed successfully\n",
      "\u001b[0mcore.scoring.packing.compute_holes_score: {0} \u001b[0mcompute_holes_score done: 7.43944\n",
      "\u001b[0mprotocols.simple_filters.HolesFilter: {0} \u001b[0m total holes score for selection = -66.284\n",
      "\u001b[0mprotocols.simple_filters.HolesFilter: {0} \u001b[0m normalize_per_atom holes score = -0.454\n",
      "\u001b[0mprotocols.simple_filters.HolesFilter: {0} \u001b[0m normalize_per_residue holes score = -7.36489\n"
     ]
    }
   ],
   "source": [
    "from pyrosetta.rosetta.core.select.residue_selector import LayerSelector\n",
    "from pyrosetta.rosetta.protocols.simple_filters import HolesFilter\n",
    "\n",
    "# 初始化DAlphaBall\n",
    "DAlphaBall_path = './data/DAlphaBall.macgcc'\n",
    "init(f'-holes:dalphaball {DAlphaBall_path}')\n",
    "\n",
    "# 读取拓扑结构\n",
    "pose = pose_from_pdb('./data/denovo_hee.pdb')\n",
    "\n",
    "# 选择内核层氨基酸\n",
    "layer = LayerSelector()\n",
    "layer.set_use_sc_neighbors(True)\n",
    "layer.set_layers(1, 0, 0)  # pick core\n",
    "layer.set_ball_radius(2.0)\n",
    "layer.set_cutoffs(3.5, 1.5)  # >= 4 neighbor defined as core residuie. for miniprotein.\n",
    "\n",
    "# 定义Filter\n",
    "void_filter = HolesFilter()\n",
    "void_filter.set_threshold(0)\n",
    "void_filter.set_residue_selector(layer) # 设置selector\n",
    "void_score = void_filter.compute(pose)"
   ]
  },
  {
   "cell_type": "markdown",
   "id": "5e99689f-8933-4f75-a27a-5e8b045170c5",
   "metadata": {},
   "source": [
    "#### 7.4 InterfaceHoles\n",
    "在蛋白-蛋白接触界面上计算空腔，使用Will Sheffler's packstat的脚本。报告的打分是指bound和unbound构象的holes得分的差值。需要开启-holes:dalphaball选项。"
   ]
  },
  {
   "cell_type": "code",
   "execution_count": 39,
   "id": "8d7046c1-3277-4516-8690-b4968c1f7693",
   "metadata": {},
   "outputs": [
    {
     "name": "stdout",
     "output_type": "stream",
     "text": [
      "PyRosetta-4 2021 [Rosetta PyRosetta4.conda.mac.cxx11thread.serialization.python37.Release 2021.26+release.b308454c455dd04f6824cc8b23e54bbb9be2cdd7 2021-07-02T13:01:54] retrieved from: http://www.pyrosetta.org\n",
      "(C) Copyright Rosetta Commons Member Institutions. Created in JHU by Sergey Lyskov and PyRosetta Team.\n",
      "\u001b[0mcore.init: {0} \u001b[0mChecking for fconfig files in pwd and ./rosetta/flags\n",
      "\u001b[0mcore.init: {0} \u001b[0mRosetta version: PyRosetta4.conda.mac.cxx11thread.serialization.python37.Release r288 2021.26+release.b308454c455 b308454c455dd04f6824cc8b23e54bbb9be2cdd7 http://www.pyrosetta.org 2021-07-02T13:01:54\n",
      "\u001b[0mcore.init: {0} \u001b[0mcommand: PyRosetta -holes:dalphaball ./data/DAlphaBall.macgcc -database /opt/miniconda3/lib/python3.7/site-packages/pyrosetta/database\n",
      "\u001b[0mbasic.random.init_random_generator: {0} \u001b[0m'RNG device' seed mode, using '/dev/urandom', seed=-1486178363 seed_offset=0 real_seed=-1486178363 thread_index=0\n",
      "\u001b[0mbasic.random.init_random_generator: {0} \u001b[0mRandomGenerator:init: Normal mode, seed=-1486178363 RG_type=mt19937\n",
      "\u001b[0mcore.import_pose.import_pose: {0} \u001b[0mFile './data/denovo_binder.pdb' automatically determined to be of type PDB\n",
      "\u001b[0mcore.conformation.Conformation: {0} \u001b[0mFound disulfide between residues 148 186\n",
      "\u001b[0mcore.conformation.Conformation: {0} \u001b[0mcurrent variant for 148 CYS\n",
      "\u001b[0mcore.conformation.Conformation: {0} \u001b[0mcurrent variant for 186 CYS\n",
      "\u001b[0mcore.conformation.Conformation: {0} \u001b[0mcurrent variant for 148 CYD\n",
      "\u001b[0mcore.conformation.Conformation: {0} \u001b[0mcurrent variant for 186 CYD\n",
      "\u001b[0mcore.scoring.packing.compute_holes_score: {0} \u001b[0mcompute_holes_surfs try: 1\n",
      "\u001b[0mcore.scoring.packing.compute_holes_score: {0} \u001b[0mcompute_holes_surfs completed successfully\n",
      "\u001b[0mcore.scoring.packing.compute_holes_score: {0} \u001b[0mcompute_holes_score done: 1705.44\n",
      "\u001b[0mcore.scoring.packing.compute_holes_score: {0} \u001b[0mcompute_holes_score done: 821.556\n",
      "\u001b[0mcore.scoring.packing.compute_holes_score: {0} \u001b[0mcompute_holes_score done: 559.01\n",
      "\u001b[0mprotocols.moves.RigidBodyMover: {0} \u001b[0mTranslate: Jump (before): RT 0.475346 -0.778522 0.409816 -0.138636 0.393705 0.908722 -0.868807 -0.488773 0.0792154 17.3442 -1.09276 -32.123\n",
      "\u001b[0mprotocols.moves.RigidBodyMover: {0} \u001b[0mTranslate: Jump (after):  RT 0.475346 -0.778522 0.409816 -0.138636 0.393705 0.908722 -0.868807 -0.488773 0.0792154 501.418 498.401 -750.578\n",
      "\u001b[0mcore.scoring.packing.compute_holes_score: {0} \u001b[0mcompute_holes_surfs try: 1\n",
      "\u001b[0mcore.scoring.packing.compute_holes_score: {0} \u001b[0mcompute_holes_surfs completed successfully\n",
      "\u001b[0mcore.scoring.packing.compute_holes_score: {0} \u001b[0mcompute_holes_score done: 1563.02\n",
      "\u001b[0mcore.scoring.packing.compute_holes_score: {0} \u001b[0mcompute_holes_score done: 1750.62\n",
      "\u001b[0mcore.scoring.packing.compute_holes_score: {0} \u001b[0mcompute_holes_score done: 1356.69\n"
     ]
    },
    {
     "data": {
      "text/plain": [
       "-0.5898811825867023"
      ]
     },
     "execution_count": 39,
     "metadata": {},
     "output_type": "execute_result"
    }
   ],
   "source": [
    "from pyrosetta.rosetta.core.select.residue_selector import LayerSelector\n",
    "from pyrosetta.rosetta.protocols.protein_interface_design.filters import InterfaceHolesFilter\n",
    "\n",
    "# 初始化DAlphaBall\n",
    "DAlphaBall_path = './data/DAlphaBall.macgcc'\n",
    "init(f'-holes:dalphaball {DAlphaBall_path}')\n",
    "\n",
    "# 读取复合物结构\n",
    "complex_pose = pose_from_pdb('./data/denovo_binder.pdb')\n",
    "\n",
    "# 定义Filter\n",
    "jump_num = 1\n",
    "interface_void_filter = InterfaceHolesFilter(jump_num, 200)\n",
    "interface_void_filter.score(complex_pose)"
   ]
  },
  {
   "cell_type": "markdown",
   "id": "3d0a037a-e63c-4408-9c68-38bda76720c7",
   "metadata": {},
   "source": [
    "#### 7.5 ResInInterface\n",
    "基于界面上残基总数的filter。"
   ]
  },
  {
   "cell_type": "code",
   "execution_count": 40,
   "id": "040590bf-1b42-47a9-817c-7a8016ed8090",
   "metadata": {},
   "outputs": [
    {
     "name": "stdout",
     "output_type": "stream",
     "text": [
      "\u001b[0mcore.import_pose.import_pose: {0} \u001b[0mFile './data/denovo_binder.pdb' automatically determined to be of type PDB\n",
      "\u001b[0mcore.conformation.Conformation: {0} \u001b[0mFound disulfide between residues 148 186\n",
      "\u001b[0mcore.conformation.Conformation: {0} \u001b[0mcurrent variant for 148 CYS\n",
      "\u001b[0mcore.conformation.Conformation: {0} \u001b[0mcurrent variant for 186 CYS\n",
      "\u001b[0mcore.conformation.Conformation: {0} \u001b[0mcurrent variant for 148 CYD\n",
      "\u001b[0mcore.conformation.Conformation: {0} \u001b[0mcurrent variant for 186 CYD\n",
      "\u001b[0mcore.scoring.ScoreFunctionFactory: {0} \u001b[0mSCOREFUNCTION: \u001b[32mref2015\u001b[0m\n"
     ]
    },
    {
     "data": {
      "text/plain": [
       "39.0"
      ]
     },
     "execution_count": 40,
     "metadata": {},
     "output_type": "execute_result"
    }
   ],
   "source": [
    "from pyrosetta.rosetta.protocols.simple_filters import ResiduesInInterfaceFilter\n",
    "\n",
    "# 读取复合物结构\n",
    "complex_pose = pose_from_pdb('./data/denovo_binder.pdb')\n",
    "\n",
    "# 定义Filter\n",
    "residues_cutoff = 20\n",
    "jump_num = 1\n",
    "interface_resnum_filter = ResiduesInInterfaceFilter(residues_cutoff, jump_num)\n",
    "interface_resnum_filter.score(complex_pose)"
   ]
  },
  {
   "cell_type": "markdown",
   "id": "30d77b00-daa3-48a9-b3ab-e2bc90622539",
   "metadata": {},
   "source": [
    "#### 7.6 ShapeComplementarity\n",
    "基于界面形状互补的filter。计算 Lawrence & Coleman形状互补系数（系数范围0.6-0.8），系数越大说明两个刚体的匹配程度越高。"
   ]
  },
  {
   "cell_type": "code",
   "execution_count": 41,
   "id": "b4ed388f-fb46-4e2a-90a9-12ec109aa576",
   "metadata": {},
   "outputs": [
    {
     "name": "stdout",
     "output_type": "stream",
     "text": [
      "\u001b[0mcore.import_pose.import_pose: {0} \u001b[0mFile './data/denovo_binder.pdb' automatically determined to be of type PDB\n",
      "\u001b[0mcore.conformation.Conformation: {0} \u001b[0mFound disulfide between residues 148 186\n",
      "\u001b[0mcore.conformation.Conformation: {0} \u001b[0mcurrent variant for 148 CYS\n",
      "\u001b[0mcore.conformation.Conformation: {0} \u001b[0mcurrent variant for 186 CYS\n",
      "\u001b[0mcore.conformation.Conformation: {0} \u001b[0mcurrent variant for 148 CYD\n",
      "\u001b[0mcore.conformation.Conformation: {0} \u001b[0mcurrent variant for 186 CYD\n",
      "\u001b[0mbasic.io.database: {0} \u001b[0mDatabase file opened: scoring/score_functions/sc/sc_radii.lib\n"
     ]
    },
    {
     "data": {
      "text/plain": [
       "0.7477233707904816"
      ]
     },
     "execution_count": 41,
     "metadata": {},
     "output_type": "execute_result"
    }
   ],
   "source": [
    "from pyrosetta.rosetta.protocols.simple_filters import ShapeComplementarityFilter\n",
    "\n",
    "# 读取复合物结构\n",
    "complex_pose = pose_from_pdb('./data/denovo_binder.pdb')\n",
    "\n",
    "# 定义Filter\n",
    "jump_num = 1\n",
    "sc_filter = ShapeComplementarityFilter()\n",
    "sc_filter.jump_id(jump_num) # 设置刚体的jump\n",
    "sc_filter.multicomp(True)\n",
    "sc_filter.filtered_sc(0.6)  # 阈值;\n",
    "sc_filter.score(complex_pose)"
   ]
  },
  {
   "cell_type": "markdown",
   "id": "3a8b54f0-18f2-4070-828c-4745cda56543",
   "metadata": {},
   "source": [
    "#### 7.7 SSShapeComplementarity\n",
    "基于二级结构形状互补系数的filter，具体做法是将Pose中的每一段连续的二级结构分离，并与剩余部分计算ShapeComplementarity。\n",
    "\n",
    "数值参考:\n",
    "For antibody-antigen interfaces, a value of 0.65-0.67 is typical, while complementarity among intra-protein secondary structure elements is typically higher, on the order of 0.7-0.8.\n",
    "\n",
    "注意: 目前不支持sheet结构。"
   ]
  },
  {
   "cell_type": "code",
   "execution_count": 42,
   "id": "ad5ce0c1-eb85-486c-adf4-35362530d642",
   "metadata": {},
   "outputs": [
    {
     "name": "stdout",
     "output_type": "stream",
     "text": [
      "\u001b[0mcore.import_pose.import_pose: {0} \u001b[0mFile './data/denovo_hee.pdb' automatically determined to be of type PDB\n",
      "\u001b[0mcore.conformation.Conformation: {0} \u001b[0mFound disulfide between residues 18 20\n",
      "\u001b[0mcore.conformation.Conformation: {0} \u001b[0mcurrent variant for 18 CYS\n",
      "\u001b[0mcore.conformation.Conformation: {0} \u001b[0mcurrent variant for 20 CYS\n",
      "\u001b[0mcore.conformation.Conformation: {0} \u001b[0mcurrent variant for 18 CYD\n",
      "\u001b[0mcore.conformation.Conformation: {0} \u001b[0mcurrent variant for 20 CYD\n",
      "\u001b[0mprotocols.denovo_design.SSShapeComplementarityFilter: {0} \u001b[0mSUM=373.625; area=458.515; sc=0.814857; num_res=15\n",
      "\u001b[0mprotocols.denovo_design.SSShapeComplementarityFilter: {0} \u001b[0mSUM=410.377; area=48.0544; sc=0.764812; num_res=1\n",
      "\u001b[0mprotocols.denovo_design.SSShapeComplementarityFilter: {0} \u001b[0mSUM=429.074; area=26.9846; sc=0.692857; num_res=2\n",
      "\u001b[0mprotocols.denovo_design.SSShapeComplementarityFilter: {0} \u001b[0mSUM=522.793; area=129.851; sc=0.721743; num_res=3\n",
      "\u001b[0mprotocols.denovo_design.SSShapeComplementarityFilter: {0} \u001b[0mSUM=574.004; area=65.587; sc=0.780813; num_res=1\n",
      "\u001b[0mprotocols.denovo_design.SSShapeComplementarityFilter: {0} \u001b[0mReturning 0.787394\n"
     ]
    },
    {
     "data": {
      "text/plain": [
       "0.7873935628335386"
      ]
     },
     "execution_count": 42,
     "metadata": {},
     "output_type": "execute_result"
    }
   ],
   "source": [
    "from pyrosetta.rosetta.protocols.denovo_design.filters import SSShapeComplementarityFilter\n",
    "\n",
    "# 读取拓扑结构\n",
    "pose = pose_from_pdb('./data/denovo_hee.pdb')\n",
    "\n",
    "# 定义Filter\n",
    "ss_helix = SSShapeComplementarityFilter()\n",
    "ss_helix.compute(pose)"
   ]
  },
  {
   "cell_type": "markdown",
   "id": "a615d650-5415-42a5-a233-eae25ee7b39f",
   "metadata": {},
   "source": [
    "### 8. Burial"
   ]
  },
  {
   "cell_type": "markdown",
   "id": "61c4e9ac-31d5-4967-b86d-3d8579512136",
   "metadata": {},
   "source": [
    "#### 8.1 TotalSasa\n",
    "基于pose总溶剂可及表面积的filter。高于设定阈值（threshold），返回true。\n",
    "\n",
    "参数:\n",
    "- upper_threshold：最大溶剂可及表面积\n",
    "- hydrophobic：仅计算与疏水性残基相关的可及表面积\n",
    "- polar：仅计算与极性残基相关的可及表面积\n",
    "- task_operations：仅报告可以被pack的残基部分（有taskop指定）的SASA值。若没有指定，则会计算所有残基的SASA\n",
    "- report_per_residue_sasa：报告单个残基的SASA"
   ]
  },
  {
   "cell_type": "code",
   "execution_count": 43,
   "id": "92707ffd-9bf2-4ebb-8cbf-2b35a0a734ec",
   "metadata": {},
   "outputs": [
    {
     "name": "stdout",
     "output_type": "stream",
     "text": [
      "\u001b[0mcore.import_pose.import_pose: {0} \u001b[0mFile './data/denovo_hee.pdb' automatically determined to be of type PDB\n",
      "\u001b[0mcore.conformation.Conformation: {0} \u001b[0mFound disulfide between residues 18 20\n",
      "\u001b[0mcore.conformation.Conformation: {0} \u001b[0mcurrent variant for 18 CYS\n",
      "\u001b[0mcore.conformation.Conformation: {0} \u001b[0mcurrent variant for 20 CYS\n",
      "\u001b[0mcore.conformation.Conformation: {0} \u001b[0mcurrent variant for 18 CYD\n",
      "\u001b[0mcore.conformation.Conformation: {0} \u001b[0mcurrent variant for 20 CYD\n",
      "\u001b[0mprotocols.simple_filters.TotalSasaFilter: {0} \u001b[0mASP1 A HYDROPHOBIC SASA : 30.7547\n",
      "\u001b[0mprotocols.simple_filters.TotalSasaFilter: {0} \u001b[0mSER2 A HYDROPHOBIC SASA : 4.61109\n",
      "\u001b[0mprotocols.simple_filters.TotalSasaFilter: {0} \u001b[0mLEU3 A HYDROPHOBIC SASA : 56.5835\n",
      "\u001b[0mprotocols.simple_filters.TotalSasaFilter: {0} \u001b[0mHIS4 A HYDROPHOBIC SASA : 41.266\n",
      "\u001b[0mprotocols.simple_filters.TotalSasaFilter: {0} \u001b[0mILE5 A HYDROPHOBIC SASA : 1.53703\n",
      "\u001b[0mprotocols.simple_filters.TotalSasaFilter: {0} \u001b[0mASN6 A HYDROPHOBIC SASA : 27.683\n",
      "\u001b[0mprotocols.simple_filters.TotalSasaFilter: {0} \u001b[0mLEU7 A HYDROPHOBIC SASA : 9.48423\n",
      "\u001b[0mprotocols.simple_filters.TotalSasaFilter: {0} \u001b[0mASP8 A HYDROPHOBIC SASA : 47.4767\n",
      "\u001b[0mprotocols.simple_filters.TotalSasaFilter: {0} \u001b[0mGLY9 A HYDROPHOBIC SASA : 28.809\n",
      "\u001b[0mprotocols.simple_filters.TotalSasaFilter: {0} \u001b[0mILE10 A HYDROPHOBIC SASA : 86.6072\n",
      "\u001b[0mprotocols.simple_filters.TotalSasaFilter: {0} \u001b[0mARG11 A HYDROPHOBIC SASA : 63.5564\n",
      "\u001b[0mprotocols.simple_filters.TotalSasaFilter: {0} \u001b[0mPHE12 A HYDROPHOBIC SASA : 89.3881\n",
      "\u001b[0mprotocols.simple_filters.TotalSasaFilter: {0} \u001b[0mGLU13 A HYDROPHOBIC SASA : 26.4057\n",
      "\u001b[0mprotocols.simple_filters.TotalSasaFilter: {0} \u001b[0mVAL14 A HYDROPHOBIC SASA : 13.8356\n",
      "\u001b[0mprotocols.simple_filters.TotalSasaFilter: {0} \u001b[0mHIS15 A HYDROPHOBIC SASA : 65.1029\n",
      "\u001b[0mprotocols.simple_filters.TotalSasaFilter: {0} \u001b[0mGLY16 A HYDROPHOBIC SASA : 19.9837\n",
      "\u001b[0mprotocols.simple_filters.TotalSasaFilter: {0} \u001b[0mASP17 A HYDROPHOBIC SASA : 40.9676\n",
      "\u001b[0mprotocols.simple_filters.TotalSasaFilter: {0} \u001b[0mCYS18 A HYDROPHOBIC SASA : 43.8133\n",
      "\u001b[0mprotocols.simple_filters.TotalSasaFilter: {0} \u001b[0mGLU19 A HYDROPHOBIC SASA : 56.3789\n",
      "\u001b[0mprotocols.simple_filters.TotalSasaFilter: {0} \u001b[0mCYS20 A HYDROPHOBIC SASA : 61.6269\n",
      "\u001b[0mprotocols.simple_filters.TotalSasaFilter: {0} \u001b[0mGLU21 A HYDROPHOBIC SASA : 19.2258\n",
      "\u001b[0mprotocols.simple_filters.TotalSasaFilter: {0} \u001b[0mLEU22 A HYDROPHOBIC SASA : 6.66516\n",
      "\u001b[0mprotocols.simple_filters.TotalSasaFilter: {0} \u001b[0mLYS23 A HYDROPHOBIC SASA : 80.6085\n",
      "\u001b[0mprotocols.simple_filters.TotalSasaFilter: {0} \u001b[0mARG24 A HYDROPHOBIC SASA : 90.1643\n",
      "\u001b[0mprotocols.simple_filters.TotalSasaFilter: {0} \u001b[0mLEU25 A HYDROPHOBIC SASA : 69.6975\n",
      "\u001b[0mprotocols.simple_filters.TotalSasaFilter: {0} \u001b[0mGLU26 A HYDROPHOBIC SASA : 11.543\n",
      "\u001b[0mprotocols.simple_filters.TotalSasaFilter: {0} \u001b[0mGLU27 A HYDROPHOBIC SASA : 35.6255\n",
      "\u001b[0mprotocols.simple_filters.TotalSasaFilter: {0} \u001b[0mGLU28 A HYDROPHOBIC SASA : 27.9356\n",
      "\u001b[0mprotocols.simple_filters.TotalSasaFilter: {0} \u001b[0mALA29 A HYDROPHOBIC SASA : 5.89312\n",
      "\u001b[0mprotocols.simple_filters.TotalSasaFilter: {0} \u001b[0mARG30 A HYDROPHOBIC SASA : 47.5776\n",
      "\u001b[0mprotocols.simple_filters.TotalSasaFilter: {0} \u001b[0mARG31 A HYDROPHOBIC SASA : 96.3054\n",
      "\u001b[0mprotocols.simple_filters.TotalSasaFilter: {0} \u001b[0mARG32 A HYDROPHOBIC SASA : 65.3391\n",
      "\u001b[0mprotocols.simple_filters.TotalSasaFilter: {0} \u001b[0mMET33 A HYDROPHOBIC SASA : 31.5666\n",
      "\u001b[0mprotocols.simple_filters.TotalSasaFilter: {0} \u001b[0mARG34 A HYDROPHOBIC SASA : 80.7258\n"
     ]
    },
    {
     "data": {
      "text/plain": [
       "1484.7443573729436"
      ]
     },
     "execution_count": 43,
     "metadata": {},
     "output_type": "execute_result"
    }
   ],
   "source": [
    "from pyrosetta.rosetta.protocols.simple_filters import TotalSasaFilter\n",
    "\n",
    "# 读取拓扑结构\n",
    "pose = pose_from_pdb('./data/denovo_hee.pdb')\n",
    "\n",
    "# 定义Filter（定义了疏水面积）\n",
    "tsasa = TotalSasaFilter(lower_threshold=1200, hydrophobic=True, polar=False, upper_threshold=2000, report_per_residue_sasa=True)\n",
    "tsasa.score(pose)"
   ]
  },
  {
   "cell_type": "markdown",
   "id": "f0569e46-60d4-45c2-b7c8-26e7fb59f4ae",
   "metadata": {},
   "source": [
    "#### 8.2 InterfaceSasaFilter\n",
    "基于蛋白-蛋白相互作用界面上溶剂可及表面积的filter。高于设定阈值，返回true。\n",
    "\n",
    "参数:\n",
    "- upper_threshold：最大溶剂可及表面积\n",
    "- jump：用于计算SASA的界面jump\n",
    "- sym_dof_names：对于存在对称定义的pose，进一步指定计算何界面的SASA"
   ]
  },
  {
   "cell_type": "code",
   "execution_count": 44,
   "id": "9efdb9c8-c14c-49d0-86d7-c3139f10f2b1",
   "metadata": {},
   "outputs": [
    {
     "name": "stdout",
     "output_type": "stream",
     "text": [
      "\u001b[0mcore.import_pose.import_pose: {0} \u001b[0mFile './data/denovo_binder.pdb' automatically determined to be of type PDB\n",
      "\u001b[0mcore.conformation.Conformation: {0} \u001b[0mFound disulfide between residues 148 186\n",
      "\u001b[0mcore.conformation.Conformation: {0} \u001b[0mcurrent variant for 148 CYS\n",
      "\u001b[0mcore.conformation.Conformation: {0} \u001b[0mcurrent variant for 186 CYS\n",
      "\u001b[0mcore.conformation.Conformation: {0} \u001b[0mcurrent variant for 148 CYD\n",
      "\u001b[0mcore.conformation.Conformation: {0} \u001b[0mcurrent variant for 186 CYD\n",
      "\u001b[0mprotocols.moves.RigidBodyMover: {0} \u001b[0mTranslate: Jump (before): RT 0.475346 -0.778522 0.409816 -0.138636 0.393705 0.908722 -0.868807 -0.488773 0.0792154 17.3442 -1.09276 -32.123\n",
      "\u001b[0mprotocols.moves.RigidBodyMover: {0} \u001b[0mTranslate: Jump (after):  RT 0.475346 -0.778522 0.409816 -0.138636 0.393705 0.908722 -0.868807 -0.488773 0.0792154 501.418 498.401 -750.578\n"
     ]
    },
    {
     "data": {
      "text/plain": [
       "1605.8146206639158"
      ]
     },
     "execution_count": 44,
     "metadata": {},
     "output_type": "execute_result"
    }
   ],
   "source": [
    "from pyrosetta.rosetta.protocols.simple_filters import InterfaceSasaFilter\n",
    "from pyrosetta.rosetta.core.pose.metrics import CalculatorFactory, simple_calculators\n",
    "\n",
    "# interface sasa 计算器初始化\n",
    "calculator_factory = CalculatorFactory.Instance()\n",
    "if not calculator_factory.check_calculator_exists(\"sasa\"):\n",
    "    sasa_calculator = simple_calculators.SasaCalculatorLegacy()\n",
    "    calculator_factory.register_calculator(\"sasa\", sasa_calculator)\n",
    "\n",
    "# 读取复合物结构\n",
    "complex_pose = pose_from_pdb('./data/denovo_binder.pdb')    \n",
    "\n",
    "# 定义Filter\n",
    "jump_num = 1\n",
    "cutoff = 1200\n",
    "dsasa = InterfaceSasaFilter(cutoff)  # 1200A\n",
    "dsasa.add_jump(jump_num)\n",
    "dsasa.score(complex_pose)"
   ]
  },
  {
   "cell_type": "markdown",
   "id": "7204df8a-c3eb-4324-bb07-1a55809d6d48",
   "metadata": {},
   "source": [
    "#### 8.3 ResidueBurial\n",
    "简单来说就是计算目标残基的某相互作用距离（distance选项）下范围的其他残基数。若设定neighbors为1，既仅仅检查蛋白-蛋白相互作用界面附近是否存在残基。\n",
    "\n",
    "参数:\n",
    "- residue_fraction_buried：被taskop定义为designable的总残基的分数，默认为0.0001"
   ]
  },
  {
   "cell_type": "code",
   "execution_count": 45,
   "id": "2e2cecb6-9a34-4d79-b78a-3d07b2778969",
   "metadata": {},
   "outputs": [
    {
     "name": "stdout",
     "output_type": "stream",
     "text": [
      "\u001b[0mcore.import_pose.import_pose: {0} \u001b[0mFile './data/denovo_binder.pdb' automatically determined to be of type PDB\n",
      "\u001b[0mcore.conformation.Conformation: {0} \u001b[0mFound disulfide between residues 148 186\n",
      "\u001b[0mcore.conformation.Conformation: {0} \u001b[0mcurrent variant for 148 CYS\n",
      "\u001b[0mcore.conformation.Conformation: {0} \u001b[0mcurrent variant for 186 CYS\n",
      "\u001b[0mcore.conformation.Conformation: {0} \u001b[0mcurrent variant for 148 CYD\n",
      "\u001b[0mcore.conformation.Conformation: {0} \u001b[0mcurrent variant for 186 CYD\n",
      "\u001b[0mprotocols.simple_filters.ResidueBurialFilter: {0} \u001b[0mResidue: 30 is serialized to: 30\n",
      "\u001b[0mprotocols.simple_filters.ResidueBurialFilter: {0} \u001b[0mchain span 1 142\n",
      "\u001b[0mprotocols.simple_filters.ResidueBurialFilter: {0} \u001b[0mNumber of interface neighbors of residue THR30 is 2\n"
     ]
    },
    {
     "data": {
      "text/plain": [
       "True"
      ]
     },
     "execution_count": 45,
     "metadata": {},
     "output_type": "execute_result"
    }
   ],
   "source": [
    "from pyrosetta.rosetta.protocols.simple_filters import ResidueBurialFilter\n",
    "\n",
    "# 读取复合物结构\n",
    "complex_pose = pose_from_pdb('./data/denovo_binder.pdb')    \n",
    "\n",
    "# 定义Filter\n",
    "rb_filter = ResidueBurialFilter()\n",
    "# rb_filter.neighbors(1)  # 仅检查界面附近是否存在残基\n",
    "rb_filter.residue('30') # 检查残基的pose id.\n",
    "# rb_filter.residue_fraction_buried(1.0)  # 设置为1代表全部残基需要包埋，才能通过filter\n",
    "rb_filter.apply(complex_pose)"
   ]
  },
  {
   "cell_type": "markdown",
   "id": "d9ae86db-3a07-485c-aad0-763313dfd8b7",
   "metadata": {},
   "source": [
    "#### 8.4 BuriedSurfaceArea\n",
    "计算一个pose或selection的包埋的表面积。若低于设定阈值，返回false。该filter仅适用在L型或D型天然氨基酸，其他类型一律为0。\n",
    "\n",
    "参数:\n",
    "- select_only_FAMILYVW： true表示仅计算FAMILYVW这些残基；false表示所有的残基都会被计算。会与residue_selector进行取交集进行计算。\n",
    "- filter_out_low ：默认为true，表示pose/selection计算值低于阈值将被reject掉\n",
    "- cutoff_buried_surface_area ：默认为500\n",
    "- atom_mode：默认为“all_atoms”，也可以是\"hydrophobic_atoms\"、\"polar_atoms\""
   ]
  },
  {
   "cell_type": "code",
   "execution_count": 46,
   "id": "66ff315a-b1da-49d9-9213-ec2364304691",
   "metadata": {},
   "outputs": [
    {
     "name": "stdout",
     "output_type": "stream",
     "text": [
      "\u001b[0mcore.import_pose.import_pose: {0} \u001b[0mFile './data/denovo_hee.pdb' automatically determined to be of type PDB\n",
      "\u001b[0mcore.conformation.Conformation: {0} \u001b[0mFound disulfide between residues 18 20\n",
      "\u001b[0mcore.conformation.Conformation: {0} \u001b[0mcurrent variant for 18 CYS\n",
      "\u001b[0mcore.conformation.Conformation: {0} \u001b[0mcurrent variant for 20 CYS\n",
      "\u001b[0mcore.conformation.Conformation: {0} \u001b[0mcurrent variant for 18 CYD\n",
      "\u001b[0mcore.conformation.Conformation: {0} \u001b[0mcurrent variant for 20 CYD\n",
      "\u001b[0mprotocols.simple_filters.BuriedSurfaceAreaFilter: {0} \u001b[0mRES\tBURIED AREA (A^2)\n",
      "\u001b[0mprotocols.simple_filters.BuriedSurfaceAreaFilter: {0} \u001b[0mASP1\t0.0\n",
      "\u001b[0mprotocols.simple_filters.BuriedSurfaceAreaFilter: {0} \u001b[0mSER2\t0.0\n",
      "\u001b[0mprotocols.simple_filters.BuriedSurfaceAreaFilter: {0} \u001b[0mLEU3\t126.417\n",
      "\u001b[0mprotocols.simple_filters.BuriedSurfaceAreaFilter: {0} \u001b[0mHIS4\t0.0\n",
      "\u001b[0mprotocols.simple_filters.BuriedSurfaceAreaFilter: {0} \u001b[0mILE5\t180.463\n",
      "\u001b[0mprotocols.simple_filters.BuriedSurfaceAreaFilter: {0} \u001b[0mASN6\t0.0\n",
      "\u001b[0mprotocols.simple_filters.BuriedSurfaceAreaFilter: {0} \u001b[0mLEU7\t173.516\n",
      "\u001b[0mprotocols.simple_filters.BuriedSurfaceAreaFilter: {0} \u001b[0mASP8\t0.0\n",
      "\u001b[0mprotocols.simple_filters.BuriedSurfaceAreaFilter: {0} \u001b[0mGLY9\t0.0\n",
      "\u001b[0mprotocols.simple_filters.BuriedSurfaceAreaFilter: {0} \u001b[0mILE10\t95.3928\n",
      "\u001b[0mprotocols.simple_filters.BuriedSurfaceAreaFilter: {0} \u001b[0mARG11\t0.0\n",
      "\u001b[0mprotocols.simple_filters.BuriedSurfaceAreaFilter: {0} \u001b[0mPHE12\t120.612\n",
      "\u001b[0mprotocols.simple_filters.BuriedSurfaceAreaFilter: {0} \u001b[0mGLU13\t0.0\n",
      "\u001b[0mprotocols.simple_filters.BuriedSurfaceAreaFilter: {0} \u001b[0mVAL14\t143.164\n",
      "\u001b[0mprotocols.simple_filters.BuriedSurfaceAreaFilter: {0} \u001b[0mHIS15\t0.0\n",
      "\u001b[0mprotocols.simple_filters.BuriedSurfaceAreaFilter: {0} \u001b[0mGLY16\t0.0\n",
      "\u001b[0mprotocols.simple_filters.BuriedSurfaceAreaFilter: {0} \u001b[0mASP17\t0.0\n",
      "\u001b[0mprotocols.simple_filters.BuriedSurfaceAreaFilter: {0} \u001b[0mCYS18\t0.0\n",
      "\u001b[0mprotocols.simple_filters.BuriedSurfaceAreaFilter: {0} \u001b[0mGLU19\t0.0\n",
      "\u001b[0mprotocols.simple_filters.BuriedSurfaceAreaFilter: {0} \u001b[0mCYS20\t0.0\n",
      "\u001b[0mprotocols.simple_filters.BuriedSurfaceAreaFilter: {0} \u001b[0mGLU21\t0.0\n",
      "\u001b[0mprotocols.simple_filters.BuriedSurfaceAreaFilter: {0} \u001b[0mLEU22\t176.335\n",
      "\u001b[0mprotocols.simple_filters.BuriedSurfaceAreaFilter: {0} \u001b[0mLYS23\t0.0\n",
      "\u001b[0mprotocols.simple_filters.BuriedSurfaceAreaFilter: {0} \u001b[0mARG24\t0.0\n",
      "\u001b[0mprotocols.simple_filters.BuriedSurfaceAreaFilter: {0} \u001b[0mLEU25\t113.303\n",
      "\u001b[0mprotocols.simple_filters.BuriedSurfaceAreaFilter: {0} \u001b[0mGLU26\t0.0\n",
      "\u001b[0mprotocols.simple_filters.BuriedSurfaceAreaFilter: {0} \u001b[0mGLU27\t0.0\n",
      "\u001b[0mprotocols.simple_filters.BuriedSurfaceAreaFilter: {0} \u001b[0mGLU28\t0.0\n",
      "\u001b[0mprotocols.simple_filters.BuriedSurfaceAreaFilter: {0} \u001b[0mALA29\t105.107\n",
      "\u001b[0mprotocols.simple_filters.BuriedSurfaceAreaFilter: {0} \u001b[0mARG30\t0.0\n",
      "\u001b[0mprotocols.simple_filters.BuriedSurfaceAreaFilter: {0} \u001b[0mARG31\t0.0\n",
      "\u001b[0mprotocols.simple_filters.BuriedSurfaceAreaFilter: {0} \u001b[0mARG32\t0.0\n",
      "\u001b[0mprotocols.simple_filters.BuriedSurfaceAreaFilter: {0} \u001b[0mMET33\t176.433\n",
      "\u001b[0mprotocols.simple_filters.BuriedSurfaceAreaFilter: {0} \u001b[0mARG34\t0.0\n",
      "\u001b[0mprotocols.simple_filters.BuriedSurfaceAreaFilter: {0} \u001b[0mTOTAL BURIED AREA = 1410.74 square Angstroms.\n",
      "\u001b[0mprotocols.simple_filters.BuriedSurfaceAreaFilter: {0} \u001b[0mThe BuriedSurfaceArea filter reports that this pose passes.\n"
     ]
    },
    {
     "data": {
      "text/plain": [
       "1410.7419778812703"
      ]
     },
     "execution_count": 46,
     "metadata": {},
     "output_type": "execute_result"
    }
   ],
   "source": [
    "from pyrosetta.rosetta.core.pose.metrics import CalculatorFactory, simple_calculators\n",
    "from pyrosetta.rosetta.protocols.simple_filters import BuriedSurfaceAreaFilter\n",
    "\n",
    "# 初始化计算器.\n",
    "calculator_factory = CalculatorFactory.Instance()\n",
    "if not calculator_factory.check_calculator_exists(\"sasa\"):\n",
    "    sasa_calculator = simple_calculators.SasaCalculatorLegacy()\n",
    "    calculator_factory.register_calculator(\"sasa\", sasa_calculator)\n",
    "\n",
    "# 读取拓扑结构\n",
    "pose = pose_from_pdb('./data/denovo_hee.pdb')\n",
    "\n",
    "# 定义Filter\n",
    "bsa = BuriedSurfaceAreaFilter()\n",
    "bsa.set_filter_out_low(True)\n",
    "bsa.set_cutoff_buried_surface_area(500)\n",
    "bsa.set_atom_mode(\"hydrophobic_atoms\")\n",
    "bsa.set_select_only_FAMILYVW(True)\n",
    "# bsa.residue_selector()  # 定义残基选择器\n",
    "bsa.score(pose)"
   ]
  },
  {
   "cell_type": "markdown",
   "id": "ca923aac-ff61-4c96-935f-204ec2f7b860",
   "metadata": {},
   "source": [
    "#### 8.5 ExposedHydrophobics\n",
    "对每个疏水残基进行的SASA计算(A, F, I, M, L, W, V, Y)。score返回溶剂暴露的疏水残基数目和暴露程度。对于每一个疏水残基，SAS高于设定cutoff值（默认20），则将 SASA - sasa_cutoff的计算值加和到score上。若最终score低于定义的threshold，返回true。"
   ]
  },
  {
   "cell_type": "code",
   "execution_count": 47,
   "id": "b42db197-cac3-4f45-9c4c-c170d71a4b7a",
   "metadata": {},
   "outputs": [
    {
     "name": "stdout",
     "output_type": "stream",
     "text": [
      "\u001b[0mcore.import_pose.import_pose: {0} \u001b[0mFile './data/denovo_hee.pdb' automatically determined to be of type PDB\n",
      "\u001b[0mcore.conformation.Conformation: {0} \u001b[0mFound disulfide between residues 18 20\n",
      "\u001b[0mcore.conformation.Conformation: {0} \u001b[0mcurrent variant for 18 CYS\n",
      "\u001b[0mcore.conformation.Conformation: {0} \u001b[0mcurrent variant for 20 CYS\n",
      "\u001b[0mcore.conformation.Conformation: {0} \u001b[0mcurrent variant for 18 CYD\n",
      "\u001b[0mcore.conformation.Conformation: {0} \u001b[0mcurrent variant for 20 CYD\n",
      "\u001b[0mprotocols.DsspMover: {0} \u001b[0mLEEEEEELLEEEEEELLLHHHHHHHHHHHHHHHL\n",
      "\u001b[0mprotocols.denovo_design.ExposedHydrophobicsFilter: {0} \u001b[0mExposedHydrophobics value=97.5573\n"
     ]
    },
    {
     "data": {
      "text/plain": [
       "97.55734626536554"
      ]
     },
     "execution_count": 47,
     "metadata": {},
     "output_type": "execute_result"
    }
   ],
   "source": [
    "from pyrosetta.rosetta.protocols.denovo_design.filters import ExposedHydrophobicsFilter\n",
    "\n",
    "# 读取拓扑结构\n",
    "pose = pose_from_pdb('./data/denovo_hee.pdb')\n",
    "\n",
    "# 定义Filter\n",
    "expose_hdro_filter = ExposedHydrophobicsFilter()\n",
    "expose_hdro_filter.score(pose)"
   ]
  },
  {
   "cell_type": "markdown",
   "id": "ceda2f92-b2c9-4e25-83b9-16720748a953",
   "metadata": {},
   "source": [
    "### 9. Comparison"
   ]
  },
  {
   "cell_type": "markdown",
   "id": "35fff1ed-2aa5-4b61-bf65-b0653824c8ab",
   "metadata": {},
   "source": [
    "#### 9.1 Rmsd\n",
    "计算当前pose与参照ref_pose的rmsd值的filter。\n",
    "注意: pose和ref_pose必须长度一致。"
   ]
  },
  {
   "cell_type": "code",
   "execution_count": 48,
   "id": "1b87251c-9a3e-464e-a71a-929f2031e268",
   "metadata": {},
   "outputs": [
    {
     "name": "stdout",
     "output_type": "stream",
     "text": [
      "\u001b[0mcore.import_pose.import_pose: {0} \u001b[0mFile './data/pose.pdb' automatically determined to be of type PDB\n",
      "\u001b[0mcore.conformation.Conformation: {0} \u001b[0mFound disulfide between residues 18 20\n",
      "\u001b[0mcore.conformation.Conformation: {0} \u001b[0mcurrent variant for 18 CYS\n",
      "\u001b[0mcore.conformation.Conformation: {0} \u001b[0mcurrent variant for 20 CYS\n",
      "\u001b[0mcore.conformation.Conformation: {0} \u001b[0mcurrent variant for 18 CYD\n",
      "\u001b[0mcore.conformation.Conformation: {0} \u001b[0mcurrent variant for 20 CYD\n",
      "\u001b[0mcore.import_pose.import_pose: {0} \u001b[0mFile './data/ref_pose.pdb' automatically determined to be of type PDB\n",
      "\u001b[0mcore.conformation.Conformation: {0} \u001b[0mFound disulfide between residues 3 23\n",
      "\u001b[0mcore.conformation.Conformation: {0} \u001b[0mcurrent variant for 3 CYS\n",
      "\u001b[0mcore.conformation.Conformation: {0} \u001b[0mcurrent variant for 23 CYS\n",
      "\u001b[0mcore.conformation.Conformation: {0} \u001b[0mcurrent variant for 3 CYD\n",
      "\u001b[0mcore.conformation.Conformation: {0} \u001b[0mcurrent variant for 23 CYD\n",
      "\u001b[0mcore.conformation.Conformation: {0} \u001b[0mFound disulfide between residues 18 20\n",
      "\u001b[0mcore.conformation.Conformation: {0} \u001b[0mcurrent variant for 18 CYS\n",
      "\u001b[0mcore.conformation.Conformation: {0} \u001b[0mcurrent variant for 20 CYS\n",
      "\u001b[0mcore.conformation.Conformation: {0} \u001b[0mcurrent variant for 18 CYD\n",
      "\u001b[0mcore.conformation.Conformation: {0} \u001b[0mcurrent variant for 20 CYD\n"
     ]
    },
    {
     "data": {
      "text/plain": [
       "2.5254119698867075"
      ]
     },
     "execution_count": 48,
     "metadata": {},
     "output_type": "execute_result"
    }
   ],
   "source": [
    "from pyrosetta.rosetta.protocols.protein_interface_design.filters import RmsdFilter\n",
    "from pyrosetta.rosetta.core.select.residue_selector import ChainSelector\n",
    "\n",
    "# 读取PDB;\n",
    "pose = pose_from_pdb('./data/pose.pdb')\n",
    "ref_pose = pose_from_pdb('./data/ref_pose.pdb')\n",
    "\n",
    "# 定义Filter\n",
    "rmsd_filter = RmsdFilter()\n",
    "rmsd_filter.reference_pose(ref_pose)\n",
    "rmsd_filter.set_selection(ChainSelector(1)) # 定义残基选择器\n",
    "rmsd_filter.superimpose(False)\n",
    "rmsd_filter.compute(pose)"
   ]
  },
  {
   "cell_type": "markdown",
   "id": "64483d0e-754e-4ef5-acdf-8a07bb38174d",
   "metadata": {},
   "source": [
    "#### 9.2 IRmsd(xmlobject)\n",
    "计算interface上的RMSD，包含interface上的所有骨架原子。interface残基包括在两边界面8埃范围内的所有残基。\n",
    "\n",
    "通常用于评估docking结果的两个构象之间的复合物结构差异。"
   ]
  },
  {
   "cell_type": "code",
   "execution_count": 49,
   "id": "355e8706-ba3d-4534-881a-7fb894731784",
   "metadata": {},
   "outputs": [
    {
     "name": "stdout",
     "output_type": "stream",
     "text": [
      "PyRosetta-4 2021 [Rosetta PyRosetta4.conda.mac.cxx11thread.serialization.python37.Release 2021.26+release.b308454c455dd04f6824cc8b23e54bbb9be2cdd7 2021-07-02T13:01:54] retrieved from: http://www.pyrosetta.org\n",
      "(C) Copyright Rosetta Commons Member Institutions. Created in JHU by Sergey Lyskov and PyRosetta Team.\n",
      "\u001b[0mcore.init: {0} \u001b[0mChecking for fconfig files in pwd and ./rosetta/flags\n",
      "\u001b[0mcore.init: {0} \u001b[0mRosetta version: PyRosetta4.conda.mac.cxx11thread.serialization.python37.Release r288 2021.26+release.b308454c455 b308454c455dd04f6824cc8b23e54bbb9be2cdd7 http://www.pyrosetta.org 2021-07-02T13:01:54\n",
      "\u001b[0mcore.init: {0} \u001b[0mcommand: PyRosetta -native ./data/denovo_binder.pdb -database /opt/miniconda3/lib/python3.7/site-packages/pyrosetta/database\n",
      "\u001b[0mbasic.random.init_random_generator: {0} \u001b[0m'RNG device' seed mode, using '/dev/urandom', seed=-1513252079 seed_offset=0 real_seed=-1513252079 thread_index=0\n",
      "\u001b[0mbasic.random.init_random_generator: {0} \u001b[0mRandomGenerator:init: Normal mode, seed=-1513252079 RG_type=mt19937\n",
      "\u001b[0mcore.import_pose.import_pose: {0} \u001b[0mFile './data/denovo_binder.pdb' automatically determined to be of type PDB\n",
      "\u001b[0mcore.conformation.Conformation: {0} \u001b[0mFound disulfide between residues 148 186\n",
      "\u001b[0mcore.conformation.Conformation: {0} \u001b[0mcurrent variant for 148 CYS\n",
      "\u001b[0mcore.conformation.Conformation: {0} \u001b[0mcurrent variant for 186 CYS\n",
      "\u001b[0mcore.conformation.Conformation: {0} \u001b[0mcurrent variant for 148 CYD\n",
      "\u001b[0mcore.conformation.Conformation: {0} \u001b[0mcurrent variant for 186 CYD\n",
      "\u001b[0mprotocols.rosetta_scripts.RosettaScriptsParser: {0} \u001b[0mGenerating XML Schema for rosetta_scripts...\n",
      "\u001b[0mprotocols.rosetta_scripts.RosettaScriptsParser: {0} \u001b[0m...done\n",
      "\u001b[0mprotocols.rosetta_scripts.RosettaScriptsParser: {0} \u001b[0mInitializing schema validator...\n",
      "\u001b[0mprotocols.rosetta_scripts.RosettaScriptsParser: {0} \u001b[0m...done\n",
      "\u001b[0mprotocols.rosetta_scripts.RosettaScriptsParser: {0} \u001b[0mValidating input script...\n",
      "\u001b[0mprotocols.rosetta_scripts.RosettaScriptsParser: {0} \u001b[0m...done\n",
      "\u001b[0mprotocols.rosetta_scripts.RosettaScriptsParser: {0} \u001b[0mParsed script:\n",
      "<ROSETTASCRIPTS>\n",
      "\t<FILTERS>\n",
      "\t\t<IRmsd jump=\"1\" name=\"irmsd\" threshold=\"5\"/>\n",
      "\t</FILTERS>\n",
      "\t<PROTOCOLS/>\n",
      "</ROSETTASCRIPTS>\n",
      "\u001b[0mprotocols.rosetta_scripts.RosettaScriptsParser: {0} \u001b[0mLoading native resource as native_pose to the datamap\n",
      "\u001b[0mcore.import_pose.import_pose: {0} \u001b[0mFile './data/denovo_binder.pdb' automatically determined to be of type PDB\n",
      "\u001b[0mcore.conformation.Conformation: {0} \u001b[0mFound disulfide between residues 148 186\n",
      "\u001b[0mcore.conformation.Conformation: {0} \u001b[0mcurrent variant for 148 CYS\n",
      "\u001b[0mcore.conformation.Conformation: {0} \u001b[0mcurrent variant for 186 CYS\n",
      "\u001b[0mcore.conformation.Conformation: {0} \u001b[0mcurrent variant for 148 CYD\n",
      "\u001b[0mcore.conformation.Conformation: {0} \u001b[0mcurrent variant for 186 CYD\n",
      "\u001b[0mcore.scoring.ScoreFunctionFactory: {0} \u001b[0mSCOREFUNCTION: \u001b[32mref2015\u001b[0m\n",
      "\u001b[0mprotocols.RosettaScripts.util: {0} \u001b[0mUsing native pose as reference pose.\n",
      "\u001b[0mprotocols.protein_interface_design.filters.IRmsdFilter: {0} \u001b[0mBuilt IRmsdFilter with threshold 5, scorefxn commandline, jump 1\n",
      "\u001b[0mprotocols.rosetta_scripts.RosettaScriptsParser: {0} \u001b[0mDefined filter named \"irmsd\" of type IRmsd\n",
      "\u001b[0mprotocols.rosetta_scripts.ParsedProtocol: {0} \u001b[0mParsedProtocol mover with the following settings\n"
     ]
    },
    {
     "data": {
      "text/plain": [
       "4.731549552161596e-07"
      ]
     },
     "execution_count": 49,
     "metadata": {},
     "output_type": "execute_result"
    }
   ],
   "source": [
    "from pyrosetta.rosetta.protocols import rosetta_scripts \n",
    "from pyrosetta import pose_from_pdb, init\n",
    "\n",
    "init('-native ./data/denovo_binder.pdb')\n",
    "\n",
    "# 读取结构\n",
    "complex_pose = pose_from_pdb('./data/denovo_binder.pdb')  \n",
    "\n",
    "# 定义Filter\n",
    "xml = rosetta_scripts.XmlObjects.create_from_string('''\n",
    "<FILTERS>\n",
    "    <IRmsd name=\"irmsd\" jump=\"1\" threshold=\"5\" />\n",
    "</FILTERS>\n",
    "''')\n",
    "irmsd_filter = xml.get_filter('irmsd')\n",
    "irmsd_filter.compute(complex_pose)"
   ]
  },
  {
   "cell_type": "markdown",
   "id": "97d1d6dd-1d9e-4697-8358-a0052c9bed1b",
   "metadata": {},
   "source": [
    "#### 9.3 RmsdFromResidueSelectorFilter\n",
    "与Rmsd filter类似，只不过对参照pose和当前计算pose分别提供ResidueSelectors。\n",
    "\n",
    "**特别注意: ref_pose和pose的长度可以不一样，但是selector选择的序列长度必须一致**"
   ]
  },
  {
   "cell_type": "code",
   "execution_count": 50,
   "id": "56b68a36-a04b-4090-bddd-1a41592d6751",
   "metadata": {},
   "outputs": [
    {
     "name": "stdout",
     "output_type": "stream",
     "text": [
      "\u001b[0mcore.import_pose.import_pose: {0} \u001b[0mFile './data/pose.pdb' automatically determined to be of type PDB\n",
      "\u001b[0mcore.conformation.Conformation: {0} \u001b[0mFound disulfide between residues 18 20\n",
      "\u001b[0mcore.conformation.Conformation: {0} \u001b[0mcurrent variant for 18 CYS\n",
      "\u001b[0mcore.conformation.Conformation: {0} \u001b[0mcurrent variant for 20 CYS\n",
      "\u001b[0mcore.conformation.Conformation: {0} \u001b[0mcurrent variant for 18 CYD\n",
      "\u001b[0mcore.conformation.Conformation: {0} \u001b[0mcurrent variant for 20 CYD\n",
      "\u001b[0mcore.import_pose.import_pose: {0} \u001b[0mFile './data/ref_pose.pdb' automatically determined to be of type PDB\n",
      "\u001b[0mcore.conformation.Conformation: {0} \u001b[0mFound disulfide between residues 3 23\n",
      "\u001b[0mcore.conformation.Conformation: {0} \u001b[0mcurrent variant for 3 CYS\n",
      "\u001b[0mcore.conformation.Conformation: {0} \u001b[0mcurrent variant for 23 CYS\n",
      "\u001b[0mcore.conformation.Conformation: {0} \u001b[0mcurrent variant for 3 CYD\n",
      "\u001b[0mcore.conformation.Conformation: {0} \u001b[0mcurrent variant for 23 CYD\n",
      "\u001b[0mcore.conformation.Conformation: {0} \u001b[0mFound disulfide between residues 18 20\n",
      "\u001b[0mcore.conformation.Conformation: {0} \u001b[0mcurrent variant for 18 CYS\n",
      "\u001b[0mcore.conformation.Conformation: {0} \u001b[0mcurrent variant for 20 CYS\n",
      "\u001b[0mcore.conformation.Conformation: {0} \u001b[0mcurrent variant for 18 CYD\n",
      "\u001b[0mcore.conformation.Conformation: {0} \u001b[0mcurrent variant for 20 CYD\n",
      "\u001b[0mprotocols.fold_from_loops.RmsdFromResidueSelectorFilter: {0} \u001b[0mReference selects 10 residues.\n",
      "\u001b[0mprotocols.fold_from_loops.RmsdFromResidueSelectorFilter: {0} \u001b[0mQuery selects 10 residues.\n",
      "\u001b[0mprotocols.grafting.util: {0} \u001b[0mDeleting 24 residues from 11 to 34\n",
      "\u001b[0mprotocols.grafting.util: {0} \u001b[0mDeleting 24 residues from 11 to 34\n",
      "\u001b[0mcore.conformation.Conformation: {0} \u001b[0mReverting out-of-date disulfide to thiol type at resid 3\n"
     ]
    },
    {
     "data": {
      "text/plain": [
       "0.4574945569038391"
      ]
     },
     "execution_count": 50,
     "metadata": {},
     "output_type": "execute_result"
    }
   ],
   "source": [
    "from pyrosetta.rosetta.protocols.fold_from_loops.filters import RmsdFromResidueSelectorFilter\n",
    "from pyrosetta.rosetta.core.select.residue_selector import ResidueIndexSelector\n",
    "\n",
    "# 读取PDB;\n",
    "pose = pose_from_pdb('./data/pose.pdb')\n",
    "ref_pose = pose_from_pdb('./data/ref_pose.pdb')\n",
    "\n",
    "# selection\n",
    "ri_sel = ResidueIndexSelector('1-10')\n",
    "\n",
    "# 定义Filter\n",
    "sel_rmsd_filter = RmsdFromResidueSelectorFilter()\n",
    "sel_rmsd_filter.CA_only(True)\n",
    "sel_rmsd_filter.reference_pose(ref_pose)\n",
    "sel_rmsd_filter.reference_selector(ri_sel)\n",
    "sel_rmsd_filter.query_selector(ri_sel)\n",
    "sel_rmsd_filter.superimpose(True)\n",
    "sel_rmsd_filter.compute(pose)"
   ]
  },
  {
   "cell_type": "markdown",
   "id": "31913357-a608-4cea-9bdd-f6a3b8aa1c23",
   "metadata": {
    "tags": []
   },
   "source": [
    "#### 9.4 SequenceRecovery\n",
    "对比参照pose，当前pose有多大的序列回复率的filter。用户通过task_operations提供可design的残基范围。command line可输入-in:file:native 将用户输入的pose文件作为参照，否则将使用起始pose作为参照。\n",
    "\n",
    "参数:\n",
    "- rate_threshold：最低通过阈值（至少需要到多大的回复率）\n",
    "- mutation_threshold：突变的最大个数\n",
    "- report_mutations：默认false，不会report。true表示不再使用rate作为filter，而使用突变个数。"
   ]
  },
  {
   "cell_type": "code",
   "execution_count": 51,
   "id": "c51fd78b-f7c7-40d4-ae41-2baa97689317",
   "metadata": {},
   "outputs": [
    {
     "name": "stdout",
     "output_type": "stream",
     "text": [
      "\u001b[0mcore.import_pose.import_pose: {0} \u001b[0mFile './data/pose.pdb' automatically determined to be of type PDB\n",
      "\u001b[0mcore.conformation.Conformation: {0} \u001b[0mFound disulfide between residues 18 20\n",
      "\u001b[0mcore.conformation.Conformation: {0} \u001b[0mcurrent variant for 18 CYS\n",
      "\u001b[0mcore.conformation.Conformation: {0} \u001b[0mcurrent variant for 20 CYS\n",
      "\u001b[0mcore.conformation.Conformation: {0} \u001b[0mcurrent variant for 18 CYD\n",
      "\u001b[0mcore.conformation.Conformation: {0} \u001b[0mcurrent variant for 20 CYD\n",
      "\u001b[0mcore.import_pose.import_pose: {0} \u001b[0mFile './data/ref_pose.pdb' automatically determined to be of type PDB\n",
      "\u001b[0mcore.conformation.Conformation: {0} \u001b[0mFound disulfide between residues 3 23\n",
      "\u001b[0mcore.conformation.Conformation: {0} \u001b[0mcurrent variant for 3 CYS\n",
      "\u001b[0mcore.conformation.Conformation: {0} \u001b[0mcurrent variant for 23 CYS\n",
      "\u001b[0mcore.conformation.Conformation: {0} \u001b[0mcurrent variant for 3 CYD\n",
      "\u001b[0mcore.conformation.Conformation: {0} \u001b[0mcurrent variant for 23 CYD\n",
      "\u001b[0mcore.conformation.Conformation: {0} \u001b[0mFound disulfide between residues 18 20\n",
      "\u001b[0mcore.conformation.Conformation: {0} \u001b[0mcurrent variant for 18 CYS\n",
      "\u001b[0mcore.conformation.Conformation: {0} \u001b[0mcurrent variant for 20 CYS\n",
      "\u001b[0mcore.conformation.Conformation: {0} \u001b[0mcurrent variant for 18 CYD\n",
      "\u001b[0mcore.conformation.Conformation: {0} \u001b[0mcurrent variant for 20 CYD\n",
      "\u001b[0mcore.scoring.ScoreFunctionFactory: {0} \u001b[0mSCOREFUNCTION: \u001b[32mref2015\u001b[0m\n",
      "\u001b[0mprotocols.protein_interface_design.filters.SequenceRecoveryFilter: {0} \u001b[0mYour design mover mutated 21 positions out of 32 designable positions. Sequence recovery is: 0.34375\n"
     ]
    },
    {
     "data": {
      "text/plain": [
       "0.34375"
      ]
     },
     "execution_count": 51,
     "metadata": {},
     "output_type": "execute_result"
    }
   ],
   "source": [
    "from pyrosetta.rosetta.protocols.protein_interface_design.filters import SequenceRecoveryFilter\n",
    "from pyrosetta.rosetta.core.pack.task import TaskFactory\n",
    "\n",
    "# 读取PDB;\n",
    "pose = pose_from_pdb('./data/pose.pdb')\n",
    "ref_pose = pose_from_pdb('./data/ref_pose.pdb')\n",
    "\n",
    "# 定义tf(可以是默认的)\n",
    "tf = TaskFactory()\n",
    "\n",
    "# 定义Filter\n",
    "sr_filter = SequenceRecoveryFilter()\n",
    "sr_filter.mutation_threshold(999)\n",
    "sr_filter.reference_pose(ref_pose)\n",
    "sr_filter.task_factory(tf) # 设置packable残基\n",
    "sr_filter.score(pose)"
   ]
  },
  {
   "cell_type": "markdown",
   "id": "25cdf122-9e70-4305-84fd-8a3c92bb8248",
   "metadata": {},
   "source": [
    "### 10. bonding"
   ]
  },
  {
   "cell_type": "markdown",
   "id": "399b9e36-9134-4703-a7ec-9993c8794988",
   "metadata": {},
   "source": [
    "#### 10.1 ChainBreak(不work)\n",
    "基于pose中链断裂数目的filter。这里的break指的是当某键长偏离平均键长（1.33）+/- tolerance (默认0.13为tolerance)"
   ]
  },
  {
   "cell_type": "code",
   "execution_count": 52,
   "id": "0e683435-045a-461c-87c3-3b7fc6fda9af",
   "metadata": {},
   "outputs": [
    {
     "name": "stdout",
     "output_type": "stream",
     "text": [
      "\u001b[0mcore.import_pose.import_pose: {0} \u001b[0mFile './data/break_pose.pdb' automatically determined to be of type PDB\n",
      "\u001b[0mcore.conformation.Conformation: {0} \u001b[0mFound disulfide between residues 18 20\n",
      "\u001b[0mcore.conformation.Conformation: {0} \u001b[0mcurrent variant for 18 CYS\n",
      "\u001b[0mcore.conformation.Conformation: {0} \u001b[0mcurrent variant for 20 CYS\n",
      "\u001b[0mcore.conformation.Conformation: {0} \u001b[0mcurrent variant for 18 CYD\n",
      "\u001b[0mcore.conformation.Conformation: {0} \u001b[0mcurrent variant for 20 CYD\n",
      "\u001b[0mprotocols.simple_filters.ChainBreak: {0} \u001b[0mWill check peptide bond lengths between 1 to 33\n",
      "\u001b[0mprotocols.simple_filters.ChainBreak: {0} \u001b[0mbond length tolerance value is:0.13\n"
     ]
    },
    {
     "data": {
      "text/plain": [
       "0"
      ]
     },
     "execution_count": 52,
     "metadata": {},
     "output_type": "execute_result"
    }
   ],
   "source": [
    "from pyrosetta.rosetta.protocols.simple_filters import ChainBreak\n",
    "\n",
    "# 读取结构\n",
    "pose = pose_from_pdb('./data/break_pose.pdb')\n",
    "\n",
    "# 定义Filter\n",
    "chain_break_filter = ChainBreak()\n",
    "chain_break_filter.chain_num(1)  # 指定检查的链号\n",
    "chain_break_filter.compute(pose)"
   ]
  },
  {
   "cell_type": "markdown",
   "id": "50dbeb54-d697-45ef-8fea-a1913b08085e",
   "metadata": {},
   "source": [
    "#### 10.2 HbondsToResidue\n",
    "基于某残基的氢键连接数目的filter。计算与某残基形成氢键的残基数目，且每一个氢键必须要超过一定的energy_cutoff值。对于骨架间的氢键，需要开放bb_bb选项。"
   ]
  },
  {
   "cell_type": "code",
   "execution_count": 53,
   "id": "ffbf2030-b416-4269-aacf-7dc2549b653c",
   "metadata": {},
   "outputs": [
    {
     "name": "stdout",
     "output_type": "stream",
     "text": [
      "\u001b[0mcore.import_pose.import_pose: {0} \u001b[0mFile './data/denovo_hee.pdb' automatically determined to be of type PDB\n",
      "\u001b[0mcore.conformation.Conformation: {0} \u001b[0mFound disulfide between residues 18 20\n",
      "\u001b[0mcore.conformation.Conformation: {0} \u001b[0mcurrent variant for 18 CYS\n",
      "\u001b[0mcore.conformation.Conformation: {0} \u001b[0mcurrent variant for 20 CYS\n",
      "\u001b[0mcore.conformation.Conformation: {0} \u001b[0mcurrent variant for 18 CYD\n",
      "\u001b[0mcore.conformation.Conformation: {0} \u001b[0mcurrent variant for 20 CYD\n",
      "\u001b[0mprotocols.protein_interface_design.filters.HbondsToResidueFilter: {0} \u001b[0mNo scorefunction loaded.  Getting global default scorefunction.\n",
      "\u001b[0mcore.scoring.ScoreFunctionFactory: {0} \u001b[0mSCOREFUNCTION: \u001b[32mref2015\u001b[0m\n",
      "\u001b[0mprotocols.protein_interface_design.design_utils: {0} \u001b[0m         5        12         I         F     0.000    -2.211     0.000     0.000     4.712\n",
      "         5        12         I         F     0.000    -2.211     0.000     0.000     4.712\n",
      "\u001b[0mprotocols.protein_interface_design.filters.HbondsToResidueFilter: {0} \u001b[0mfound 2 hbond to target residue 5. passing.\n"
     ]
    },
    {
     "data": {
      "text/plain": [
       "True"
      ]
     },
     "execution_count": 53,
     "metadata": {},
     "output_type": "execute_result"
    }
   ],
   "source": [
    "from pyrosetta.rosetta.protocols.protein_interface_design.filters import HbondsToResidueFilter\n",
    "\n",
    "# 读取结构\n",
    "pose = pose_from_pdb('./data/denovo_hee.pdb')\n",
    "\n",
    "# 定义Filter\n",
    "hbond_filter = HbondsToResidueFilter()\n",
    "hbond_filter.set_resnum(5)\n",
    "hbond_filter.set_bb_bb(True) # 是否包含主链-主链氢键？\n",
    "hbond_filter.set_sidechain(True) # 检查侧链氢键\n",
    "hbond_filter.set_from_same_chain(True) # 统计同一条链残基上的氢键\n",
    "hbond_filter.set_from_other_chains(False) # 统计其他链对resnum残基的氢键\n",
    "# hbond_filter.set_selector() # 当设置时，只有选择的区域用于与resnum残基进行氢键检查。\n",
    "hbond_filter.apply(pose)"
   ]
  },
  {
   "cell_type": "markdown",
   "id": "71284909-94d7-4fc4-9d85-c6d690441467",
   "metadata": {},
   "source": [
    "#### 10.3 SimpleHbondsToAtom\n",
    "基于某原子的氢键数目的filter。检查目标原子是否存在至少n_partners指定的氢键partner"
   ]
  },
  {
   "cell_type": "code",
   "execution_count": 1,
   "id": "5a779362-1f13-4f6b-8e33-8074c991f168",
   "metadata": {},
   "outputs": [
    {
     "name": "stdout",
     "output_type": "stream",
     "text": [
      "PyRosetta-4 2021 [Rosetta PyRosetta4.conda.mac.cxx11thread.serialization.python37.Release 2021.31+release.c7009b3115c22daa9efe2805d9d1ebba08426a54 2021-08-07T10:04:12] retrieved from: http://www.pyrosetta.org\n",
      "(C) Copyright Rosetta Commons Member Institutions. Created in JHU by Sergey Lyskov and PyRosetta Team.\n",
      "\u001b[0mcore.init: {0} \u001b[0mChecking for fconfig files in pwd and ./rosetta/flags\n",
      "\u001b[0mcore.init: {0} \u001b[0mRosetta version: PyRosetta4.conda.mac.cxx11thread.serialization.python37.Release r292 2021.31+release.c7009b3115c c7009b3115c22daa9efe2805d9d1ebba08426a54 http://www.pyrosetta.org 2021-08-07T10:04:12\n",
      "\u001b[0mcore.init: {0} \u001b[0mcommand: PyRosetta -ex1 -ex2aro -database /opt/miniconda3/lib/python3.7/site-packages/pyrosetta/database\n",
      "\u001b[0mbasic.random.init_random_generator: {0} \u001b[0m'RNG device' seed mode, using '/dev/urandom', seed=817792676 seed_offset=0 real_seed=817792676 thread_index=0\n",
      "\u001b[0mbasic.random.init_random_generator: {0} \u001b[0mRandomGenerator:init: Normal mode, seed=817792676 RG_type=mt19937\n",
      "\u001b[0mcore.chemical.GlobalResidueTypeSet: {0} \u001b[0mFinished initializing fa_standard residue type set.  Created 983 residue types\n",
      "\u001b[0mcore.chemical.GlobalResidueTypeSet: {0} \u001b[0mTotal time to initialize 0.683086 seconds.\n",
      "\u001b[0mcore.import_pose.import_pose: {0} \u001b[0mFile './data/denovo_hee.pdb' automatically determined to be of type PDB\n",
      "\u001b[0mcore.conformation.Conformation: {0} \u001b[0mFound disulfide between residues 18 20\n",
      "\u001b[0mcore.conformation.Conformation: {0} \u001b[0mcurrent variant for 18 CYS\n",
      "\u001b[0mcore.conformation.Conformation: {0} \u001b[0mcurrent variant for 20 CYS\n",
      "\u001b[0mcore.conformation.Conformation: {0} \u001b[0mcurrent variant for 18 CYD\n",
      "\u001b[0mcore.conformation.Conformation: {0} \u001b[0mcurrent variant for 20 CYD\n",
      "\u001b[0mprotocols.rosetta_scripts.RosettaScriptsParser: {0} \u001b[0mGenerating XML Schema for rosetta_scripts...\n",
      "\u001b[0mprotocols.rosetta_scripts.RosettaScriptsParser: {0} \u001b[0m...done\n",
      "\u001b[0mprotocols.rosetta_scripts.RosettaScriptsParser: {0} \u001b[0mInitializing schema validator...\n",
      "\u001b[0mprotocols.rosetta_scripts.RosettaScriptsParser: {0} \u001b[0m...done\n",
      "\u001b[0mprotocols.rosetta_scripts.RosettaScriptsParser: {0} \u001b[0mValidating input script...\n",
      "\u001b[0mprotocols.rosetta_scripts.RosettaScriptsParser: {0} \u001b[0m...done\n",
      "\u001b[0mprotocols.rosetta_scripts.RosettaScriptsParser: {0} \u001b[0mParsed script:\n",
      "<ROSETTASCRIPTS>\n",
      "\t<FILTERS>\n",
      "\t\t<SimpleHbondsToAtomFilter hb_e_cutoff=\"-0.5\" n_partners=\"1\" name=\"atom_hbonds_filter\" res_num=\"26\" target_atom_name=\"O\"/>\n",
      "\t</FILTERS>\n",
      "\t<PROTOCOLS/>\n",
      "</ROSETTASCRIPTS>\n",
      "\u001b[0mcore.scoring.ScoreFunctionFactory: {0} \u001b[0mSCOREFUNCTION: \u001b[32mref2015\u001b[0m\n",
      "\u001b[0mcore.scoring.etable: {0} \u001b[0mStarting energy table calculation\n",
      "\u001b[0mcore.scoring.etable: {0} \u001b[0msmooth_etable: changing atr/rep split to bottom of energy well\n",
      "\u001b[0mcore.scoring.etable: {0} \u001b[0msmooth_etable: spline smoothing lj etables (maxdis = 6)\n",
      "\u001b[0mcore.scoring.etable: {0} \u001b[0msmooth_etable: spline smoothing solvation etables (max_dis = 6)\n",
      "\u001b[0mcore.scoring.etable: {0} \u001b[0mFinished calculating energy tables.\n",
      "\u001b[0mbasic.io.database: {0} \u001b[0mDatabase file opened: scoring/score_functions/hbonds/ref2015_params/HBPoly1D.csv\n",
      "\u001b[0mbasic.io.database: {0} \u001b[0mDatabase file opened: scoring/score_functions/hbonds/ref2015_params/HBFadeIntervals.csv\n",
      "\u001b[0mbasic.io.database: {0} \u001b[0mDatabase file opened: scoring/score_functions/hbonds/ref2015_params/HBEval.csv\n",
      "\u001b[0mbasic.io.database: {0} \u001b[0mDatabase file opened: scoring/score_functions/hbonds/ref2015_params/DonStrength.csv\n",
      "\u001b[0mbasic.io.database: {0} \u001b[0mDatabase file opened: scoring/score_functions/hbonds/ref2015_params/AccStrength.csv\n",
      "\u001b[0mbasic.io.database: {0} \u001b[0mDatabase file opened: scoring/score_functions/rama/fd/all.ramaProb\n",
      "\u001b[0mbasic.io.database: {0} \u001b[0mDatabase file opened: scoring/score_functions/rama/fd/prepro.ramaProb\n",
      "\u001b[0mbasic.io.database: {0} \u001b[0mDatabase file opened: scoring/score_functions/omega/omega_ppdep.all.txt\n",
      "\u001b[0mbasic.io.database: {0} \u001b[0mDatabase file opened: scoring/score_functions/omega/omega_ppdep.gly.txt\n",
      "\u001b[0mbasic.io.database: {0} \u001b[0mDatabase file opened: scoring/score_functions/omega/omega_ppdep.pro.txt\n",
      "\u001b[0mbasic.io.database: {0} \u001b[0mDatabase file opened: scoring/score_functions/omega/omega_ppdep.valile.txt\n",
      "\u001b[0mbasic.io.database: {0} \u001b[0mDatabase file opened: scoring/score_functions/P_AA_pp/P_AA\n",
      "\u001b[0mbasic.io.database: {0} \u001b[0mDatabase file opened: scoring/score_functions/P_AA_pp/P_AA_n\n",
      "\u001b[0mcore.scoring.P_AA: {0} \u001b[0mshapovalov_lib::shap_p_aa_pp_smooth_level of 1( aka low_smooth ) got activated.\n",
      "\u001b[0mbasic.io.database: {0} \u001b[0mDatabase file opened: scoring/score_functions/P_AA_pp/shapovalov/10deg/kappa131/a20.prop\n",
      "\u001b[0mcore.scoring.etable: {0} \u001b[0mStarting energy table calculation\n",
      "\u001b[0mcore.scoring.etable: {0} \u001b[0msmooth_etable: changing atr/rep split to bottom of energy well\n",
      "\u001b[0mcore.scoring.etable: {0} \u001b[0msmooth_etable: spline smoothing lj etables (maxdis = 6)\n",
      "\u001b[0mcore.scoring.etable: {0} \u001b[0msmooth_etable: spline smoothing solvation etables (max_dis = 6)\n",
      "\u001b[0mcore.scoring.etable: {0} \u001b[0mFinished calculating energy tables.\n",
      "\u001b[0mbasic.io.database: {0} \u001b[0mDatabase file opened: scoring/score_functions/PairEPotential/pdb_pair_stats_fine\n",
      "\u001b[0mbasic.io.database: {0} \u001b[0mDatabase file opened: scoring/score_functions/InterchainPotential/interchain_env_log.txt\n",
      "\u001b[0mbasic.io.database: {0} \u001b[0mDatabase file opened: scoring/score_functions/InterchainPotential/interchain_pair_log.txt\n",
      "\u001b[0mbasic.io.database: {0} \u001b[0mDatabase file opened: scoring/score_functions/EnvPairPotential/env_log.txt\n",
      "\u001b[0mbasic.io.database: {0} \u001b[0mDatabase file opened: scoring/score_functions/EnvPairPotential/cbeta_den.txt\n",
      "\u001b[0mbasic.io.database: {0} \u001b[0mDatabase file opened: scoring/score_functions/EnvPairPotential/pair_log.txt\n",
      "\u001b[0mbasic.io.database: {0} \u001b[0mDatabase file opened: scoring/score_functions/EnvPairPotential/cenpack_log.txt\n",
      "\u001b[0mcore.scoring.ramachandran: {0} \u001b[0mshapovalov_lib::shap_rama_smooth_level of 4( aka highest_smooth ) got activated.\n",
      "\u001b[0mbasic.io.database: {0} \u001b[0mDatabase file opened: scoring/score_functions/rama/shapovalov/kappa25/all.ramaProb\n",
      "\u001b[0mbasic.io.database: {0} \u001b[0mDatabase file opened: scoring/score_functions/rama/flat/avg_L_rama.dat\n",
      "\u001b[0mcore.scoring.ramachandran: {0} \u001b[0mReading custom Ramachandran table from scoring/score_functions/rama/flat/avg_L_rama.dat.\n",
      "\u001b[0mbasic.io.database: {0} \u001b[0mDatabase file opened: scoring/score_functions/rama/flat/sym_all_rama.dat\n",
      "\u001b[0mcore.scoring.ramachandran: {0} \u001b[0mReading custom Ramachandran table from scoring/score_functions/rama/flat/sym_all_rama.dat.\n",
      "\u001b[0mbasic.io.database: {0} \u001b[0mDatabase file opened: scoring/score_functions/rama/flat/sym_G_rama.dat\n",
      "\u001b[0mcore.scoring.ramachandran: {0} \u001b[0mReading custom Ramachandran table from scoring/score_functions/rama/flat/sym_G_rama.dat.\n",
      "\u001b[0mbasic.io.database: {0} \u001b[0mDatabase file opened: scoring/score_functions/rama/flat/sym_P_rama.dat\n",
      "\u001b[0mcore.scoring.ramachandran: {0} \u001b[0mReading custom Ramachandran table from scoring/score_functions/rama/flat/sym_P_rama.dat.\n",
      "\u001b[0mbasic.io.database: {0} \u001b[0mDatabase file opened: scoring/score_functions/rama/flat/avg_L_rama_str.dat\n",
      "\u001b[0mcore.scoring.ramachandran: {0} \u001b[0mReading custom Ramachandran table from scoring/score_functions/rama/flat/avg_L_rama_str.dat.\n",
      "\u001b[0mbasic.io.database: {0} \u001b[0mDatabase file opened: scoring/score_functions/rama/flat/sym_all_rama_str.dat\n",
      "\u001b[0mcore.scoring.ramachandran: {0} \u001b[0mReading custom Ramachandran table from scoring/score_functions/rama/flat/sym_all_rama_str.dat.\n",
      "\u001b[0mbasic.io.database: {0} \u001b[0mDatabase file opened: scoring/score_functions/rama/flat/sym_G_rama_str.dat\n",
      "\u001b[0mcore.scoring.ramachandran: {0} \u001b[0mReading custom Ramachandran table from scoring/score_functions/rama/flat/sym_G_rama_str.dat.\n",
      "\u001b[0mbasic.io.database: {0} \u001b[0mDatabase file opened: scoring/score_functions/rama/flat/sym_P_rama_str.dat\n",
      "\u001b[0mcore.scoring.ramachandran: {0} \u001b[0mReading custom Ramachandran table from scoring/score_functions/rama/flat/sym_P_rama_str.dat.\n",
      "\u001b[0mprotocols.simple_filters.SimpleHbondsToAtomFilter: {0} \u001b[0mSimpleHbondsToAtomFilter\n",
      "\u001b[0mprotocols.simple_filters.SimpleHbondsToAtomFilter: {0} \u001b[0mWill look for 1 Hbonds to atom O in residue 26.\n",
      "\u001b[0mprotocols.rosetta_scripts.RosettaScriptsParser: {0} \u001b[0mDefined filter named \"atom_hbonds_filter\" of type SimpleHbondsToAtomFilter\n",
      "\u001b[0mprotocols.rosetta_scripts.ParsedProtocol: {0} \u001b[0mParsedProtocol mover with the following settings\n",
      "\u001b[0mbasic.io.database: {0} \u001b[0mDatabase file opened: scoring/score_functions/elec_cp_reps.dat\n",
      "\u001b[0mcore.scoring.elec.util: {0} \u001b[0mRead 40 countpair representative atoms\n",
      "\u001b[0mcore.pack.dunbrack.RotamerLibrary: {0} \u001b[0mshapovalov_lib_fixes_enable option is true.\n",
      "\u001b[0mcore.pack.dunbrack.RotamerLibrary: {0} \u001b[0mshapovalov_lib::shap_dun10_smooth_level of 1( aka lowest_smooth ) got activated.\n",
      "\u001b[0mcore.pack.dunbrack.RotamerLibrary: {0} \u001b[0mBinary rotamer library selected: /opt/miniconda3/lib/python3.7/site-packages/pyrosetta/database/rotamer/shapovalov/StpDwn_0-0-0/Dunbrack10.lib.bin\n",
      "\u001b[0mcore.pack.dunbrack.RotamerLibrary: {0} \u001b[0mUsing Dunbrack library binary file '/opt/miniconda3/lib/python3.7/site-packages/pyrosetta/database/rotamer/shapovalov/StpDwn_0-0-0/Dunbrack10.lib.bin'.\n",
      "\u001b[0mcore.pack.dunbrack.RotamerLibrary: {0} \u001b[0mDunbrack 2010 library took 0.177736 seconds to load from binary\n",
      "\u001b[0mprotocols.simple_filters.SimpleHbondsToAtomFilter: {0} \u001b[0mDone populating HBondSet, 30 Hbonds found.\n",
      "\u001b[0mprotocols.simple_filters.SimpleHbondsToAtomFilter: {0} \u001b[0mDone looking for Hbonds to O, found 1 Hbonds, here's the list:\n",
      "\u001b[0mprotocols.simple_filters.SimpleHbondsToAtomFilter: {0} \u001b[0m2 don: protein backbone 30 12 acc: protein backbone 26 4 -0.983549 1\n",
      "\u001b[0mprotocols.simple_filters.SimpleHbondsToAtomFilter: {0} \u001b[0mThis Hbond passes cutoff -0.5, adding to counter.\n",
      "\u001b[0mprotocols.simple_filters.SimpleHbondsToAtomFilter: {0} \u001b[0mCurrent number of Hbonds: 1.\n",
      "\u001b[0mprotocols.simple_filters.SimpleHbondsToAtomFilter: {0} \u001b[0mNow looking for Hbonds to H atoms attached to heavy atom.\n",
      "\u001b[0mprotocols.simple_filters.SimpleHbondsToAtomFilter: {0} \u001b[0mFound 1 Hbonds, 1 expected.\n"
     ]
    },
    {
     "data": {
      "text/plain": [
       "True"
      ]
     },
     "execution_count": 1,
     "metadata": {},
     "output_type": "execute_result"
    }
   ],
   "source": [
    "from pyrosetta.rosetta.protocols import rosetta_scripts\n",
    "from pyrosetta import init, pose_from_pdb\n",
    "\n",
    "# 读取复合物结构\n",
    "init()\n",
    "pose = pose_from_pdb('./data/denovo_hee.pdb')\n",
    "\n",
    "# 定义Filter, 26号谷氨酸残基的原子O\n",
    "xml = rosetta_scripts.XmlObjects.create_from_string('''\n",
    "<FILTERS>\n",
    "    <SimpleHbondsToAtomFilter name=\"atom_hbonds_filter\" n_partners=\"1\" hb_e_cutoff=\"-0.5\"\n",
    "                              target_atom_name=\"O\" res_num=\"26\"/>\n",
    "\n",
    "</FILTERS>\n",
    "''')\n",
    "\n",
    "atom_hbonds_filter = xml.get_filter('atom_hbonds_filter')\n",
    "atom_hbonds_filter.apply(pose)"
   ]
  },
  {
   "cell_type": "markdown",
   "id": "43bfcf95-f179-4c85-a020-2baf2ad6880f",
   "metadata": {},
   "source": [
    "#### 10.4 PeptideInternalHbondsFilter\n",
    "在一个pose或selection中的氢键数目，exclusion_distance可以设定排除在一级序列一定范围内的残基氢键统计。"
   ]
  },
  {
   "cell_type": "code",
   "execution_count": 55,
   "id": "03ea4677-b170-4a2f-8da6-e53f32484323",
   "metadata": {},
   "outputs": [
    {
     "name": "stdout",
     "output_type": "stream",
     "text": [
      "PyRosetta-4 2021 [Rosetta PyRosetta4.conda.mac.cxx11thread.serialization.python37.Release 2021.26+release.b308454c455dd04f6824cc8b23e54bbb9be2cdd7 2021-07-02T13:01:54] retrieved from: http://www.pyrosetta.org\n",
      "(C) Copyright Rosetta Commons Member Institutions. Created in JHU by Sergey Lyskov and PyRosetta Team.\n",
      "\u001b[0mcore.init: {0} \u001b[0mChecking for fconfig files in pwd and ./rosetta/flags\n",
      "\u001b[0mcore.init: {0} \u001b[0mRosetta version: PyRosetta4.conda.mac.cxx11thread.serialization.python37.Release r288 2021.26+release.b308454c455 b308454c455dd04f6824cc8b23e54bbb9be2cdd7 http://www.pyrosetta.org 2021-07-02T13:01:54\n",
      "\u001b[0mcore.init: {0} \u001b[0mcommand: PyRosetta -ex1 -ex2aro -database /opt/miniconda3/lib/python3.7/site-packages/pyrosetta/database\n",
      "\u001b[0mbasic.random.init_random_generator: {0} \u001b[0m'RNG device' seed mode, using '/dev/urandom', seed=-1780545172 seed_offset=0 real_seed=-1780545172 thread_index=0\n",
      "\u001b[0mbasic.random.init_random_generator: {0} \u001b[0mRandomGenerator:init: Normal mode, seed=-1780545172 RG_type=mt19937\n",
      "\u001b[0mcore.import_pose.import_pose: {0} \u001b[0mFile './data/t6c.40.92.pdb' automatically determined to be of type PDB\n",
      "\u001b[0mcore.chemical.GlobalResidueTypeSet: {0} \u001b[0mLoading (but possibly not actually using) 'DSE' from the PDB components dictionary for residue type 'pdb_DSE'\n",
      "\u001b[0mcore.conformation.Conformation: {0} \u001b[0m\u001b[1m[ WARNING ]\u001b[0m missing heavyatom:  OXT on residue DTHR:CtermProteinFull 9\n",
      "\u001b[0mprotocols.cyclic_peptide.PeptideInternalHbondsMetric: {0} \u001b[0mNo scorefunction was provided to the PeptideInternalHbondsMetric.  Fetching default scorefunction.\n",
      "\u001b[0mcore.scoring.ScoreFunctionFactory: {0} \u001b[0mSCOREFUNCTION: \u001b[32mref2015\u001b[0m\n",
      "\u001b[0mprotocols.cyclic_peptide.PeptideInternalHbondsMetric: {0} \u001b[0mCounted 4 hbonds in selection.\n"
     ]
    },
    {
     "data": {
      "text/plain": [
       "4.0"
      ]
     },
     "execution_count": 55,
     "metadata": {},
     "output_type": "execute_result"
    }
   ],
   "source": [
    "from pyrosetta.rosetta.core.select.residue_selector import ChainSelector\n",
    "from pyrosetta.rosetta.protocols.cyclic_peptide import PeptideInternalHbondsFilter\n",
    "\n",
    "# 读取结构\n",
    "init()\n",
    "pose = pose_from_pdb('./data/t6c.40.92.pdb')\n",
    "pep_selector = ChainSelector(1)\n",
    "\n",
    "# 定义Filter\n",
    "total_hbonds = PeptideInternalHbondsFilter()\n",
    "total_hbonds.set_hbond_cutoff(2)  # 3 hbond;\n",
    "total_hbonds.set_exclusion_distance(1)\n",
    "total_hbonds.set_residue_selector(pep_selector)\n",
    "total_hbonds.score(pose)"
   ]
  },
  {
   "cell_type": "markdown",
   "id": "5a9f0fe5-1eff-4f6a-b32e-0b75645953d2",
   "metadata": {},
   "source": [
    "#### 10.5 BuriedUnsatHbonds\n",
    "基于被包埋的不饱和氢键的最大数目的filter。\n",
    "\n",
    "更多信息: https://new.rosettacommons.org/docs/latest/scripting_documentation/RosettaScripts/Filters/filter_pages/BuriedUnsatHbondsFilter\n",
    "\n",
    "以下提供无bug版本:"
   ]
  },
  {
   "cell_type": "code",
   "execution_count": 56,
   "id": "7536c01c-90e9-42b9-8808-c9dfa0e1fee7",
   "metadata": {},
   "outputs": [
    {
     "name": "stdout",
     "output_type": "stream",
     "text": [
      "PyRosetta-4 2021 [Rosetta PyRosetta4.conda.mac.cxx11thread.serialization.python37.Release 2021.26+release.b308454c455dd04f6824cc8b23e54bbb9be2cdd7 2021-07-02T13:01:54] retrieved from: http://www.pyrosetta.org\n",
      "(C) Copyright Rosetta Commons Member Institutions. Created in JHU by Sergey Lyskov and PyRosetta Team.\n",
      "\u001b[0mcore.init: {0} \u001b[0mChecking for fconfig files in pwd and ./rosetta/flags\n",
      "\u001b[0mcore.init: {0} \u001b[0mRosetta version: PyRosetta4.conda.mac.cxx11thread.serialization.python37.Release r288 2021.26+release.b308454c455 b308454c455dd04f6824cc8b23e54bbb9be2cdd7 http://www.pyrosetta.org 2021-07-02T13:01:54\n",
      "\u001b[0mcore.init: {0} \u001b[0mcommand: PyRosetta -holes:dalphaball ./data/DAlphaBall.macgcc -database /opt/miniconda3/lib/python3.7/site-packages/pyrosetta/database\n",
      "\u001b[0mbasic.random.init_random_generator: {0} \u001b[0m'RNG device' seed mode, using '/dev/urandom', seed=1814558810 seed_offset=0 real_seed=1814558810 thread_index=0\n",
      "\u001b[0mbasic.random.init_random_generator: {0} \u001b[0mRandomGenerator:init: Normal mode, seed=1814558810 RG_type=mt19937\n",
      "\u001b[0mcore.import_pose.import_pose: {0} \u001b[0mFile './data/t6c.40.92.pdb' automatically determined to be of type PDB\n",
      "\u001b[0mcore.conformation.Conformation: {0} \u001b[0m\u001b[1m[ WARNING ]\u001b[0m missing heavyatom:  OXT on residue DTHR:CtermProteinFull 9\n",
      "\u001b[0mcore.scoring.ScoreFunctionFactory: {0} \u001b[0mSCOREFUNCTION: \u001b[32mref2015\u001b[0m\n",
      "\u001b[0mprotocols.simple_filters.BuriedUnsatHbondFilter: {0} \u001b[0m/////////////////////////////////////////////////////////////////////////////////////////\n",
      "\u001b[0mprotocols.simple_filters.BuriedUnsatHbondFilter: {0} \u001b[0m\n",
      "\u001b[0mprotocols.simple_filters.BuriedUnsatHbondFilter: {0} \u001b[0m    USING DEFAULT BEHAVIOR: filter will report total number of heavy-atom donor/acceptor buried unsats\n",
      "\u001b[0mprotocols.simple_filters.BuriedUnsatHbondFilter: {0} \u001b[0m\n",
      "\u001b[0mprotocols.simple_filters.BuriedUnsatHbondFilter: {0} \u001b[0m/////////////////////////////////////////////////////////////////////////////////////////\n",
      "\u001b[0mprotocols.simple_filters.BuriedUnsatHbondFilter: {0} \u001b[0m\n",
      "\u001b[0mbasic.io.database: {0} \u001b[0mDatabase file opened: scoring/score_functions/hbonds/sp2_elec_params/HBPoly1D.csv\n",
      "\u001b[0mbasic.io.database: {0} \u001b[0mDatabase file opened: scoring/score_functions/hbonds/sp2_elec_params/HBFadeIntervals.csv\n",
      "\u001b[0mbasic.io.database: {0} \u001b[0mDatabase file opened: scoring/score_functions/hbonds/sp2_elec_params/HBEval.csv\n",
      "\u001b[0mprotocols.simple_filters.BuriedUnsatHbondFilter: {0} \u001b[0m  buried unsats in input pose:\n",
      "\u001b[0mprotocols.simple_filters.BuriedUnsatHbondFilter: {0} \u001b[0m  all_heavy_atom_unsats = 0\n",
      "\u001b[0mprotocols.simple_filters.BuriedUnsatHbondFilter: {0} \u001b[0m  bb_heavy_atom_unsats = 0\n",
      "\u001b[0mprotocols.simple_filters.BuriedUnsatHbondFilter: {0} \u001b[0m  sc_heavy_atom_unsats = 0\n",
      "\u001b[0mprotocols.simple_filters.BuriedUnsatHbondFilter: {0} \u001b[0m  countable_nonheavy_unsats = 0\n"
     ]
    },
    {
     "data": {
      "text/plain": [
       "0.0"
      ]
     },
     "execution_count": 56,
     "metadata": {},
     "output_type": "execute_result"
    }
   ],
   "source": [
    "from pyrosetta.rosetta.protocols.simple_filters import BuriedUnsatHbondFilter\n",
    "# 初始化DAlphaBall\n",
    "DAlphaBall_path = './data/DAlphaBall.macgcc'\n",
    "init(f'-holes:dalphaball {DAlphaBall_path}')\n",
    "\n",
    "# 读取结构\n",
    "pose = pose_from_pdb('./data/t6c.40.92.pdb')\n",
    "\n",
    "# 定义Filter\n",
    "cutoff = 0\n",
    "byhf = BuriedUnsatHbondFilter(cutoff)\n",
    "byhf.set_report_all_heavy_atom_unsats(True)\n",
    "byhf.set_residue_surface_cutoff(20)\n",
    "byhf.set_ignore_surface_res(True)\n",
    "byhf.set_dalphaball_sasa()\n",
    "byhf.set_probe_radius(1.1)  # a probe_radius≈1.1 best correlates with new_buns_all_heavy\n",
    "byhf.compute(pose)"
   ]
  },
  {
   "cell_type": "markdown",
   "id": "09b0d231-7e0f-4f1c-9faa-5fcd4e246012",
   "metadata": {},
   "source": [
    "#### 10.6 OversaturatedHbondAcceptorFilter\n",
    "过饱和氢键受体的filter。超过一个供体的氢键受体属于此类。当一个氢键受体多于1个供体时，是物理不真实的。\n",
    "\n",
    "重要参数:\n",
    "- max_allowed_oversaturated: 最大允许过饱和数，默认为0。既通过的pose不含有任何过饱和氢键受体。\n",
    "- set_consider_mainchain_only: 是否只考虑主链氢键？"
   ]
  },
  {
   "cell_type": "code",
   "execution_count": 57,
   "id": "7881a822-6c91-4cab-b32b-543b9cad32f0",
   "metadata": {},
   "outputs": [
    {
     "name": "stdout",
     "output_type": "stream",
     "text": [
      "\u001b[0mcore.import_pose.import_pose: {0} \u001b[0mFile './data/t6c.40.92.pdb' automatically determined to be of type PDB\n",
      "\u001b[0mcore.conformation.Conformation: {0} \u001b[0m\u001b[1m[ WARNING ]\u001b[0m missing heavyatom:  OXT on residue DTHR:CtermProteinFull 9\n",
      "\u001b[0mcore.scoring.ScoreFunctionFactory: {0} \u001b[0mSCOREFUNCTION: \u001b[32mref2015\u001b[0m\n"
     ]
    },
    {
     "data": {
      "text/plain": [
       "0.0"
      ]
     },
     "execution_count": 57,
     "metadata": {},
     "output_type": "execute_result"
    }
   ],
   "source": [
    "from pyrosetta.rosetta.core.select.residue_selector import ChainSelector\n",
    "from pyrosetta.rosetta.protocols.cyclic_peptide import OversaturatedHbondAcceptorFilter\n",
    "\n",
    "# 读取结构\n",
    "pose = pose_from_pdb('./data/t6c.40.92.pdb')\n",
    "pep_selector = ChainSelector(1)\n",
    "\n",
    "# 定义Filter\n",
    "overhbond = OversaturatedHbondAcceptorFilter()\n",
    "overhbond.set_consider_mainchain_only(False)\n",
    "overhbond.set_max_allowed_oversaturated(0)\n",
    "overhbond.set_acceptor_selector(pep_selector)\n",
    "overhbond.set_donor_selector(pep_selector)\n",
    "overhbond.score(pose)"
   ]
  }
 ],
 "metadata": {
  "kernelspec": {
   "display_name": "Python 3",
   "language": "python",
   "name": "python3"
  },
  "language_info": {
   "codemirror_mode": {
    "name": "ipython",
    "version": 3
   },
   "file_extension": ".py",
   "mimetype": "text/x-python",
   "name": "python",
   "nbconvert_exporter": "python",
   "pygments_lexer": "ipython3",
   "version": "3.7.10"
  }
 },
 "nbformat": 4,
 "nbformat_minor": 5
}
