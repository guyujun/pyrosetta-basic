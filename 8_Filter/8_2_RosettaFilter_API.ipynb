{
 "cells": [
  {
   "cell_type": "markdown",
   "id": "0e5f3ab4-d13b-44da-8311-a9b3e918c480",
   "metadata": {},
   "source": [
    "# Rosetta Filter API\n",
    "\n",
    "@Author: 黄健 @E-mail: jian.huang@xtalpi.com\n",
    "\n",
    "@Proofread: 吴炜坤 @email：weikun.wu@xtalpi.com\n",
    "\n",
    "更多参考: https://new.rosettacommons.org/docs/latest/scripting_documentation/RosettaScripts/Filters/Filters-RosettaScripts\n",
    "\n"
   ]
  },
  {
   "cell_type": "markdown",
   "id": "98b36454-303d-4f55-a2a4-0dcbd3fc251b",
   "metadata": {},
   "source": [
    "本章节将详细介绍Pyrosetta中一些常用的filter的使用，并给出示例。请读者根据自己需求，需要使用时进行查询即可。"
   ]
  },
  {
   "cell_type": "code",
   "execution_count": 1,
   "id": "bebf98a9-37bf-41cd-9fb8-821b90edb879",
   "metadata": {},
   "outputs": [
    {
     "name": "stdout",
     "output_type": "stream",
     "text": [
      "PyRosetta-4 2021 [Rosetta PyRosetta4.conda.mac.cxx11thread.serialization.python37.Release 2021.26+release.b308454c455dd04f6824cc8b23e54bbb9be2cdd7 2021-07-02T13:01:54] retrieved from: http://www.pyrosetta.org\n",
      "(C) Copyright Rosetta Commons Member Institutions. Created in JHU by Sergey Lyskov and PyRosetta Team.\n",
      "\u001b[0mcore.init: {0} \u001b[0mChecking for fconfig files in pwd and ./rosetta/flags\n",
      "\u001b[0mcore.init: {0} \u001b[0mRosetta version: PyRosetta4.conda.mac.cxx11thread.serialization.python37.Release r288 2021.26+release.b308454c455 b308454c455dd04f6824cc8b23e54bbb9be2cdd7 http://www.pyrosetta.org 2021-07-02T13:01:54\n",
      "\u001b[0mcore.init: {0} \u001b[0mcommand: PyRosetta -ex1 -ex2aro -database /opt/miniconda3/lib/python3.7/site-packages/pyrosetta/database\n",
      "\u001b[0mbasic.random.init_random_generator: {0} \u001b[0m'RNG device' seed mode, using '/dev/urandom', seed=85585984 seed_offset=0 real_seed=85585984 thread_index=0\n",
      "\u001b[0mbasic.random.init_random_generator: {0} \u001b[0mRandomGenerator:init: Normal mode, seed=85585984 RG_type=mt19937\n"
     ]
    }
   ],
   "source": [
    "from pyrosetta.rosetta.protocols.rosetta_scripts import *\n",
    "from pyrosetta import *\n",
    "init()"
   ]
  },
  {
   "cell_type": "markdown",
   "id": "4418fc73-3afb-43f2-ab56-a8b1e8a860b8",
   "metadata": {},
   "source": [
    "### 1. SimpleMetricFilter（简单介绍）\n",
    "基于SimpleMetric计算的值判断是否保留构象的过滤器。"
   ]
  },
  {
   "cell_type": "code",
   "execution_count": 20,
   "id": "dcc5a3b4-7f09-4d6e-86c6-0af08e89316c",
   "metadata": {},
   "outputs": [
    {
     "name": "stdout",
     "output_type": "stream",
     "text": [
      "\u001b[0mcore.import_pose.import_pose: {0} \u001b[0mFile './data/1ubq_clean.pdb' automatically determined to be of type PDB\n",
      "PDB file name: ./data/1ubq_clean.pdb\n",
      " Pose Range  Chain    PDB Range  |   #Residues         #Atoms\n",
      "\n",
      "0001 -- 0076    A 0001  -- 0076  |   0076 residues;    01234 atoms\n",
      "                           TOTAL |   0076 residues;    01234 atoms\n",
      "\n"
     ]
    }
   ],
   "source": [
    "from pyrosetta.rosetta.protocols.simple_filters import SimpleMetricFilter\n",
    "from pyrosetta.rosetta.core.select.residue_selector import ResidueIndexSelector\n",
    "from pyrosetta.rosetta.core.simple_metrics.metrics import SasaMetric\n",
    "from pyrosetta.rosetta.protocols.simple_filters import comparison_type\n",
    "\n",
    "# 读取pose\n",
    "pose = pose_from_pdb('./data/1ubq_clean.pdb')\n",
    "print(pose.pdb_info())"
   ]
  },
  {
   "cell_type": "code",
   "execution_count": 21,
   "id": "f4bbac26-5f5a-419d-b633-5332b405b5f3",
   "metadata": {},
   "outputs": [],
   "source": [
    "# 定义SimpleMetrics计算器\n",
    "sasa_sel = ResidueIndexSelector('1-76')  # 比如计算1-76号残基每个残基的sasa值\n",
    "sasa_metrics = SasaMetric(sasa_sel)"
   ]
  },
  {
   "cell_type": "code",
   "execution_count": 23,
   "id": "ff0a8f71-9b80-481f-b010-fc74b916e833",
   "metadata": {},
   "outputs": [
    {
     "name": "stdout",
     "output_type": "stream",
     "text": [
      "\u001b[0mprotocols.simple_filters.SimpleMetricFilter: {0} \u001b[0m4738.4 gt 500 ?\n",
      "\u001b[0mprotocols.simple_filters.SimpleMetricFilter: {0} \u001b[0mFilter passed: 1\n"
     ]
    },
    {
     "data": {
      "text/plain": [
       "True"
      ]
     },
     "execution_count": 23,
     "metadata": {},
     "output_type": "execute_result"
    }
   ],
   "source": [
    "# 定义SimpleMetricFilter\n",
    "sasa_filter = SimpleMetricFilter()\n",
    "sasa_filter.set_simple_metric(sasa_metrics)  # 设定SimpleMetrics\n",
    "sasa_filter.set_cutoff(500)  # 设定截断半径;\n",
    "sasa_filter.set_comparison_type(comparison_type.gt) # gt 等于great than, filter的判断逻辑\n",
    "sasa_filter.apply(pose)"
   ]
  },
  {
   "cell_type": "markdown",
   "id": "f1135bd9-e494-48a1-9e7f-38312a5ab7c2",
   "metadata": {},
   "source": [
    "**点评**:其实在python操作中，完全没必要去设定SimpleMetricFilter。直接根据SimpleMetric返回的内容进行判断True or False。这种python语言中是非常容易实现的。\n",
    "此处仅做一个简单的案例，阐明SimpleMetricFilter的基本作用。"
   ]
  },
  {
   "cell_type": "markdown",
   "id": "9ba8302f-5dee-4d28-9531-417692f9d330",
   "metadata": {},
   "source": [
    "### 2. Basic Filters\n",
    "此部分根据官方的Filter文档介绍，ResidueCount和NetCharge的用法。"
   ]
  },
  {
   "cell_type": "markdown",
   "id": "27303003-4fe5-4e76-96ca-85f72c1f87f7",
   "metadata": {},
   "source": [
    "#### 2.1 ResidueCount\n",
    "根据残基类型、残基性质、Pack状态的计数/计频filter，可设置过滤阈值。当多个性质或类型被设置是，处理的逻辑是“或”。"
   ]
  },
  {
   "cell_type": "code",
   "execution_count": 29,
   "id": "241467e8-e39b-4377-b164-ff976bc4f2a7",
   "metadata": {},
   "outputs": [
    {
     "data": {
      "text/plain": [
       "41.0"
      ]
     },
     "execution_count": 29,
     "metadata": {},
     "output_type": "execute_result"
    }
   ],
   "source": [
    "from pyrosetta.rosetta.protocols.simple_filters import ResidueCountFilter\n",
    "\n",
    "# 添加过滤的残基性质类型\n",
    "res_count_filter = ResidueCountFilter()\n",
    "res_count_filter.add_residue_property_by_name('POLAR')\n",
    "res_count_filter.score(pose)"
   ]
  },
  {
   "cell_type": "code",
   "execution_count": 32,
   "id": "7850297f-4f65-4208-9ea6-1a52e1154820",
   "metadata": {},
   "outputs": [
    {
     "data": {
      "text/plain": [
       "2.0"
      ]
     },
     "execution_count": 32,
     "metadata": {},
     "output_type": "execute_result"
    }
   ],
   "source": [
    "from pyrosetta.rosetta.core.chemical import ResidueTypeSet\n",
    "from pyrosetta.rosetta.core.chemical import ChemicalManager\n",
    "from pyrosetta.rosetta.core.conformation import ResidueFactory\n",
    "\n",
    "# 获取ResidueTypeSet\n",
    "chm = ChemicalManager.get_instance()\n",
    "residue_type_sets = chm.residue_type_set(\"fa_standard\")\n",
    "\n",
    "# 添加过滤的残基名(ALA)。\n",
    "res_count_filter = ResidueCountFilter()\n",
    "res_count_filter.add_residue_type_by_name(residue_type_sets, 'ALA')\n",
    "res_count_filter.score(pose)"
   ]
  },
  {
   "cell_type": "markdown",
   "id": "35d33f94-4505-4b40-ab67-2280b559c90b",
   "metadata": {},
   "source": [
    "#### 2.2 NetCharge\n",
    "基于蛋白序列总电荷值的过滤器，NetCharge设定LYS和ARG残基电荷值为+1，酸性残基ASP和GLU电荷值为-1。"
   ]
  },
  {
   "cell_type": "code",
   "execution_count": 35,
   "id": "7e5a5b33-b8b1-4131-bde2-388528b534cf",
   "metadata": {},
   "outputs": [
    {
     "name": "stdout",
     "output_type": "stream",
     "text": [
      "\u001b[0mprotocols.simple_filters.NetChargeFilter: {0} \u001b[0mAA:  +1  LYS 6\n",
      "\u001b[0mprotocols.simple_filters.NetChargeFilter: {0} \u001b[0mAA:  +1  LYS 11\n",
      "\u001b[0mprotocols.simple_filters.NetChargeFilter: {0} \u001b[0mAA:  -1  GLU 16\n",
      "\u001b[0mprotocols.simple_filters.NetChargeFilter: {0} \u001b[0mAA:  -1  GLU 18\n",
      "\u001b[0mprotocols.simple_filters.NetChargeFilter: {0} \u001b[0mAA:  -1  ASP 21\n",
      "\u001b[0mprotocols.simple_filters.NetChargeFilter: {0} \u001b[0mAA:  -1  GLU 24\n",
      "\u001b[0mprotocols.simple_filters.NetChargeFilter: {0} \u001b[0mAA:  +1  LYS 27\n",
      "\u001b[0mprotocols.simple_filters.NetChargeFilter: {0} \u001b[0mAA:  +1  LYS 29\n",
      "\u001b[0mprotocols.simple_filters.NetChargeFilter: {0} \u001b[0mAA:  -1  ASP 32\n",
      "\u001b[0mprotocols.simple_filters.NetChargeFilter: {0} \u001b[0mAA:  +1  LYS 33\n",
      "\u001b[0mprotocols.simple_filters.NetChargeFilter: {0} \u001b[0mAA:  -1  GLU 34\n",
      "\u001b[0mprotocols.simple_filters.NetChargeFilter: {0} \u001b[0mAA:  -1  ASP 39\n",
      "\u001b[0mprotocols.simple_filters.NetChargeFilter: {0} \u001b[0mAA:  +1  ARG 42\n",
      "\u001b[0mprotocols.simple_filters.NetChargeFilter: {0} \u001b[0mAA:  +1  LYS 48\n",
      "\u001b[0mprotocols.simple_filters.NetChargeFilter: {0} \u001b[0mAA:  -1  GLU 51\n",
      "\u001b[0mprotocols.simple_filters.NetChargeFilter: {0} \u001b[0mAA:  -1  ASP 52\n",
      "\u001b[0mprotocols.simple_filters.NetChargeFilter: {0} \u001b[0mAA:  +1  ARG 54\n",
      "\u001b[0mprotocols.simple_filters.NetChargeFilter: {0} \u001b[0mAA:  -1  ASP 58\n",
      "\u001b[0mprotocols.simple_filters.NetChargeFilter: {0} \u001b[0mAA:  +1  LYS 63\n",
      "\u001b[0mprotocols.simple_filters.NetChargeFilter: {0} \u001b[0mAA:  -1  GLU 64\n",
      "\u001b[0mprotocols.simple_filters.NetChargeFilter: {0} \u001b[0mAA:  +1  ARG 72\n",
      "\u001b[0mprotocols.simple_filters.NetChargeFilter: {0} \u001b[0mAA:  +1  ARG 74\n",
      "\u001b[0mprotocols.simple_filters.NetChargeFilter: {0} \u001b[0mThe net charge is: 0\n",
      "\u001b[0mprotocols.simple_filters.NetChargeFilter: {0} \u001b[0mNet Charge: 0. passing.\n"
     ]
    },
    {
     "data": {
      "text/plain": [
       "True"
      ]
     },
     "execution_count": 35,
     "metadata": {},
     "output_type": "execute_result"
    }
   ],
   "source": [
    "from pyrosetta.rosetta.protocols.simple_filters import NetChargeFilter\n",
    "netcharge = NetChargeFilter()\n",
    "netcharge.apply(pose)"
   ]
  },
  {
   "cell_type": "markdown",
   "id": "665ba7a5-6b57-4779-ae7b-ae4dedbb612c",
   "metadata": {},
   "source": [
    "### 3. Energy/Score Filters"
   ]
  },
  {
   "cell_type": "markdown",
   "id": "65921b0e-a506-445a-aeb5-c4d76da483f2",
   "metadata": {},
   "source": [
    "#### 3.1 ScoreTypeFilter"
   ]
  },
  {
   "cell_type": "markdown",
   "id": "1c89bf99-4603-40fc-923b-0eaf8308a544",
   "metadata": {},
   "source": [
    "#### 3.2 TaskAwareScoreType"
   ]
  },
  {
   "cell_type": "markdown",
   "id": "6aebc6e6-d88b-41a0-9b11-9bb734c6ab0d",
   "metadata": {},
   "source": [
    "#### 3.3 BindingStrain"
   ]
  },
  {
   "cell_type": "markdown",
   "id": "42cd4664-a62a-45af-a08f-cbb16ac01e33",
   "metadata": {},
   "source": [
    "#### 3.4 ConstraintScore"
   ]
  },
  {
   "cell_type": "markdown",
   "id": "6c2ae474-7bda-4b3b-a6fe-6c835011b449",
   "metadata": {},
   "source": [
    "#### 3.5 EnergyPerResidue"
   ]
  },
  {
   "cell_type": "markdown",
   "id": "0991d4b3-f404-41c9-92ed-7ba101c7599d",
   "metadata": {},
   "source": [
    "#### 3.6 Residue Interaction Energy"
   ]
  },
  {
   "cell_type": "markdown",
   "id": "623dfc77-24df-4ebd-a482-3c74e8754926",
   "metadata": {},
   "source": [
    "#### 3.7 ResidueSetChainEnergy"
   ]
  },
  {
   "cell_type": "markdown",
   "id": "3bcc442a-8782-4583-b389-69766258f386",
   "metadata": {},
   "source": [
    "#### 3.8 ScorePoseSegmentFromResidueSelectorFilter"
   ]
  },
  {
   "cell_type": "markdown",
   "id": "89e9432a-e502-4937-806e-f34a9c9369d7",
   "metadata": {},
   "source": [
    "### 4. Distance Filter"
   ]
  },
  {
   "cell_type": "markdown",
   "id": "4012f225-983c-4e52-8032-64bff73b55b8",
   "metadata": {},
   "source": [
    "#### 4.1 ResidueDistance"
   ]
  },
  {
   "cell_type": "markdown",
   "id": "cc20dca3-575e-4881-b6d7-ca46aeae60d8",
   "metadata": {},
   "source": [
    "#### 4.2 AtomicContact"
   ]
  },
  {
   "cell_type": "markdown",
   "id": "2aa884be-3d83-4a55-a29d-79e804fc55fa",
   "metadata": {},
   "source": [
    "#### 4.3 AtomicContactCount"
   ]
  },
  {
   "cell_type": "markdown",
   "id": "071ee450-d0da-477d-b718-faf3a175055d",
   "metadata": {},
   "source": [
    "### 5. Sequence analysis"
   ]
  },
  {
   "cell_type": "markdown",
   "id": "c59b6ade-e37d-4f46-9ddd-84112931a4ef",
   "metadata": {},
   "source": [
    "#### 5.1 LongestContinuousPolarSegment"
   ]
  },
  {
   "cell_type": "markdown",
   "id": "0b311e49-ecfb-4b0a-8441-a0f01268ce6b",
   "metadata": {},
   "source": [
    "#### 5.2 LongestContinuousApolarSegment"
   ]
  },
  {
   "cell_type": "markdown",
   "id": "4e66863a-2f0c-4d8b-be39-38c61d4f4f25",
   "metadata": {},
   "source": [
    "#### 5.3 SequenceDistanceFilter"
   ]
  },
  {
   "cell_type": "markdown",
   "id": "acb5354f-5977-49e6-8df4-344f3cfa823a",
   "metadata": {},
   "source": [
    "### 6. Alignment analysis"
   ]
  },
  {
   "cell_type": "markdown",
   "id": "75b32715-b4f2-435b-8c6b-b31735032500",
   "metadata": {},
   "source": [
    "#### 6.1 AlignmentAAFinder"
   ]
  },
  {
   "cell_type": "markdown",
   "id": "889d99bf-cb74-4747-9d58-de49170b7d5a",
   "metadata": {},
   "source": [
    "#### 6.2 AlignmentGapInserter"
   ]
  },
  {
   "cell_type": "markdown",
   "id": "3e690670-3893-4480-957e-2bd4c409d102",
   "metadata": {},
   "source": [
    "### 7. Geometry"
   ]
  },
  {
   "cell_type": "code",
   "execution_count": null,
   "id": "ed8bdb43-5f3e-4b93-8e2f-c2b5dc98a722",
   "metadata": {},
   "outputs": [],
   "source": []
  }
 ],
 "metadata": {
  "kernelspec": {
   "display_name": "Python 3",
   "language": "python",
   "name": "python3"
  },
  "language_info": {
   "codemirror_mode": {
    "name": "ipython",
    "version": 3
   },
   "file_extension": ".py",
   "mimetype": "text/x-python",
   "name": "python",
   "nbconvert_exporter": "python",
   "pygments_lexer": "ipython3",
   "version": "3.7.10"
  }
 },
 "nbformat": 4,
 "nbformat_minor": 5
}
