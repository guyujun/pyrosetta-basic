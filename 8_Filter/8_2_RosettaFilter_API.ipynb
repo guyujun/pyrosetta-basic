{
 "cells": [
  {
   "cell_type": "markdown",
   "id": "0e5f3ab4-d13b-44da-8311-a9b3e918c480",
   "metadata": {},
   "source": [
    "# Rosetta Filter API\n",
    "\n",
    "@Author: 吴炜坤 @email：weikun.wu@xtalpi.com\n",
    "\n",
    "更多参考: https://new.rosettacommons.org/docs/latest/scripting_documentation/RosettaScripts/Filters/Filters-RosettaScripts\n",
    "\n"
   ]
  },
  {
   "cell_type": "markdown",
   "id": "98b36454-303d-4f55-a2a4-0dcbd3fc251b",
   "metadata": {},
   "source": [
    "本章节将详细介绍Pyrosetta中一些常用的filter的使用，并给出示例。请读者根据自己需求，需要使用时进行查询即可。"
   ]
  },
  {
   "cell_type": "code",
   "execution_count": 1,
   "id": "bebf98a9-37bf-41cd-9fb8-821b90edb879",
   "metadata": {},
   "outputs": [
    {
     "name": "stdout",
     "output_type": "stream",
     "text": [
      "PyRosetta-4 2021 [Rosetta PyRosetta4.conda.mac.cxx11thread.serialization.python37.Release 2021.26+release.b308454c455dd04f6824cc8b23e54bbb9be2cdd7 2021-07-02T13:01:54] retrieved from: http://www.pyrosetta.org\n",
      "(C) Copyright Rosetta Commons Member Institutions. Created in JHU by Sergey Lyskov and PyRosetta Team.\n",
      "\u001b[0mcore.init: {0} \u001b[0mChecking for fconfig files in pwd and ./rosetta/flags\n",
      "\u001b[0mcore.init: {0} \u001b[0mRosetta version: PyRosetta4.conda.mac.cxx11thread.serialization.python37.Release r288 2021.26+release.b308454c455 b308454c455dd04f6824cc8b23e54bbb9be2cdd7 http://www.pyrosetta.org 2021-07-02T13:01:54\n",
      "\u001b[0mcore.init: {0} \u001b[0mcommand: PyRosetta -ex1 -ex2aro -database /opt/miniconda3/lib/python3.7/site-packages/pyrosetta/database\n",
      "\u001b[0mbasic.random.init_random_generator: {0} \u001b[0m'RNG device' seed mode, using '/dev/urandom', seed=566875228 seed_offset=0 real_seed=566875228 thread_index=0\n",
      "\u001b[0mbasic.random.init_random_generator: {0} \u001b[0mRandomGenerator:init: Normal mode, seed=566875228 RG_type=mt19937\n"
     ]
    }
   ],
   "source": [
    "from pyrosetta.rosetta.protocols.rosetta_scripts import *\n",
    "from pyrosetta import *\n",
    "init()"
   ]
  },
  {
   "cell_type": "markdown",
   "id": "4418fc73-3afb-43f2-ab56-a8b1e8a860b8",
   "metadata": {},
   "source": [
    "### 1. SimpleMetricFilter（简单介绍）\n",
    "基于SimpleMetric计算的值判断是否保留构象的过滤器。"
   ]
  },
  {
   "cell_type": "code",
   "execution_count": 2,
   "id": "dcc5a3b4-7f09-4d6e-86c6-0af08e89316c",
   "metadata": {},
   "outputs": [
    {
     "name": "stdout",
     "output_type": "stream",
     "text": [
      "\u001b[0mcore.chemical.GlobalResidueTypeSet: {0} \u001b[0mFinished initializing fa_standard residue type set.  Created 984 residue types\n",
      "\u001b[0mcore.chemical.GlobalResidueTypeSet: {0} \u001b[0mTotal time to initialize 0.640331 seconds.\n",
      "\u001b[0mcore.import_pose.import_pose: {0} \u001b[0mFile './data/1ubq_clean.pdb' automatically determined to be of type PDB\n",
      "PDB file name: ./data/1ubq_clean.pdb\n",
      " Pose Range  Chain    PDB Range  |   #Residues         #Atoms\n",
      "\n",
      "0001 -- 0076    A 0001  -- 0076  |   0076 residues;    01234 atoms\n",
      "                           TOTAL |   0076 residues;    01234 atoms\n",
      "\n"
     ]
    }
   ],
   "source": [
    "from pyrosetta.rosetta.protocols.simple_filters import SimpleMetricFilter\n",
    "from pyrosetta.rosetta.core.select.residue_selector import ResidueIndexSelector\n",
    "from pyrosetta.rosetta.core.simple_metrics.metrics import SasaMetric\n",
    "from pyrosetta.rosetta.protocols.simple_filters import comparison_type\n",
    "\n",
    "# 读取pose\n",
    "pose = pose_from_pdb('./data/1ubq_clean.pdb')\n",
    "print(pose.pdb_info())"
   ]
  },
  {
   "cell_type": "code",
   "execution_count": 3,
   "id": "f4bbac26-5f5a-419d-b633-5332b405b5f3",
   "metadata": {},
   "outputs": [],
   "source": [
    "# 定义SimpleMetrics计算器\n",
    "sasa_sel = ResidueIndexSelector('1-76')  # 比如计算1-76号残基每个残基的sasa值\n",
    "sasa_metrics = SasaMetric(sasa_sel)"
   ]
  },
  {
   "cell_type": "code",
   "execution_count": 4,
   "id": "ff0a8f71-9b80-481f-b010-fc74b916e833",
   "metadata": {},
   "outputs": [
    {
     "name": "stdout",
     "output_type": "stream",
     "text": [
      "\u001b[0mprotocols.simple_filters.SimpleMetricFilter: {0} \u001b[0m4738.4 gt 500 ?\n",
      "\u001b[0mprotocols.simple_filters.SimpleMetricFilter: {0} \u001b[0mFilter passed: 1\n"
     ]
    },
    {
     "data": {
      "text/plain": [
       "True"
      ]
     },
     "execution_count": 4,
     "metadata": {},
     "output_type": "execute_result"
    }
   ],
   "source": [
    "# 定义SimpleMetricFilter\n",
    "sasa_filter = SimpleMetricFilter()\n",
    "sasa_filter.set_simple_metric(sasa_metrics)  # 设定SimpleMetrics\n",
    "sasa_filter.set_cutoff(500)  # 设定截断半径;\n",
    "sasa_filter.set_comparison_type(comparison_type.gt) # gt 等于great than, filter的判断逻辑\n",
    "sasa_filter.apply(pose)"
   ]
  },
  {
   "cell_type": "markdown",
   "id": "f1135bd9-e494-48a1-9e7f-38312a5ab7c2",
   "metadata": {},
   "source": [
    "**点评**:其实在python操作中，完全没必要去设定SimpleMetricFilter。直接根据SimpleMetric返回的内容进行判断True or False。这种python语言中是非常容易实现的。\n",
    "此处仅做一个简单的案例，阐明SimpleMetricFilter的基本作用。"
   ]
  },
  {
   "cell_type": "markdown",
   "id": "9ba8302f-5dee-4d28-9531-417692f9d330",
   "metadata": {},
   "source": [
    "### 2. Basic Filters\n",
    "此部分根据官方的Filter文档介绍，ResidueCount和NetCharge的用法。"
   ]
  },
  {
   "cell_type": "markdown",
   "id": "27303003-4fe5-4e76-96ca-85f72c1f87f7",
   "metadata": {},
   "source": [
    "#### 2.1 ResidueCount\n",
    "根据残基类型、残基性质、Pack状态的计数/计频filter，可设置过滤阈值。当多个性质或类型被设置是，处理的逻辑是“或”。"
   ]
  },
  {
   "cell_type": "code",
   "execution_count": 5,
   "id": "241467e8-e39b-4377-b164-ff976bc4f2a7",
   "metadata": {},
   "outputs": [
    {
     "data": {
      "text/plain": [
       "41.0"
      ]
     },
     "execution_count": 5,
     "metadata": {},
     "output_type": "execute_result"
    }
   ],
   "source": [
    "from pyrosetta.rosetta.protocols.simple_filters import ResidueCountFilter\n",
    "\n",
    "# 添加过滤的残基性质类型\n",
    "res_count_filter = ResidueCountFilter()\n",
    "res_count_filter.add_residue_property_by_name('POLAR')\n",
    "res_count_filter.score(pose)"
   ]
  },
  {
   "cell_type": "code",
   "execution_count": 6,
   "id": "7850297f-4f65-4208-9ea6-1a52e1154820",
   "metadata": {},
   "outputs": [
    {
     "data": {
      "text/plain": [
       "2.0"
      ]
     },
     "execution_count": 6,
     "metadata": {},
     "output_type": "execute_result"
    }
   ],
   "source": [
    "from pyrosetta.rosetta.core.chemical import ResidueTypeSet\n",
    "from pyrosetta.rosetta.core.chemical import ChemicalManager\n",
    "from pyrosetta.rosetta.core.conformation import ResidueFactory\n",
    "\n",
    "# 获取ResidueTypeSet\n",
    "chm = ChemicalManager.get_instance()\n",
    "residue_type_sets = chm.residue_type_set(\"fa_standard\")\n",
    "\n",
    "# 添加过滤的残基名(ALA)。\n",
    "res_count_filter = ResidueCountFilter()\n",
    "res_count_filter.add_residue_type_by_name(residue_type_sets, 'ALA')\n",
    "res_count_filter.score(pose)"
   ]
  },
  {
   "cell_type": "markdown",
   "id": "35d33f94-4505-4b40-ab67-2280b559c90b",
   "metadata": {},
   "source": [
    "#### 2.2 NetCharge\n",
    "基于蛋白序列总电荷值的过滤器，NetCharge设定LYS和ARG残基电荷值为+1，酸性残基ASP和GLU电荷值为-1。"
   ]
  },
  {
   "cell_type": "code",
   "execution_count": 7,
   "id": "7e5a5b33-b8b1-4131-bde2-388528b534cf",
   "metadata": {},
   "outputs": [
    {
     "name": "stdout",
     "output_type": "stream",
     "text": [
      "\u001b[0mprotocols.simple_filters.NetChargeFilter: {0} \u001b[0mAA:  +1  LYS 6\n",
      "\u001b[0mprotocols.simple_filters.NetChargeFilter: {0} \u001b[0mAA:  +1  LYS 11\n",
      "\u001b[0mprotocols.simple_filters.NetChargeFilter: {0} \u001b[0mAA:  -1  GLU 16\n",
      "\u001b[0mprotocols.simple_filters.NetChargeFilter: {0} \u001b[0mAA:  -1  GLU 18\n",
      "\u001b[0mprotocols.simple_filters.NetChargeFilter: {0} \u001b[0mAA:  -1  ASP 21\n",
      "\u001b[0mprotocols.simple_filters.NetChargeFilter: {0} \u001b[0mAA:  -1  GLU 24\n",
      "\u001b[0mprotocols.simple_filters.NetChargeFilter: {0} \u001b[0mAA:  +1  LYS 27\n",
      "\u001b[0mprotocols.simple_filters.NetChargeFilter: {0} \u001b[0mAA:  +1  LYS 29\n",
      "\u001b[0mprotocols.simple_filters.NetChargeFilter: {0} \u001b[0mAA:  -1  ASP 32\n",
      "\u001b[0mprotocols.simple_filters.NetChargeFilter: {0} \u001b[0mAA:  +1  LYS 33\n",
      "\u001b[0mprotocols.simple_filters.NetChargeFilter: {0} \u001b[0mAA:  -1  GLU 34\n",
      "\u001b[0mprotocols.simple_filters.NetChargeFilter: {0} \u001b[0mAA:  -1  ASP 39\n",
      "\u001b[0mprotocols.simple_filters.NetChargeFilter: {0} \u001b[0mAA:  +1  ARG 42\n",
      "\u001b[0mprotocols.simple_filters.NetChargeFilter: {0} \u001b[0mAA:  +1  LYS 48\n",
      "\u001b[0mprotocols.simple_filters.NetChargeFilter: {0} \u001b[0mAA:  -1  GLU 51\n",
      "\u001b[0mprotocols.simple_filters.NetChargeFilter: {0} \u001b[0mAA:  -1  ASP 52\n",
      "\u001b[0mprotocols.simple_filters.NetChargeFilter: {0} \u001b[0mAA:  +1  ARG 54\n",
      "\u001b[0mprotocols.simple_filters.NetChargeFilter: {0} \u001b[0mAA:  -1  ASP 58\n",
      "\u001b[0mprotocols.simple_filters.NetChargeFilter: {0} \u001b[0mAA:  +1  LYS 63\n",
      "\u001b[0mprotocols.simple_filters.NetChargeFilter: {0} \u001b[0mAA:  -1  GLU 64\n",
      "\u001b[0mprotocols.simple_filters.NetChargeFilter: {0} \u001b[0mAA:  +1  ARG 72\n",
      "\u001b[0mprotocols.simple_filters.NetChargeFilter: {0} \u001b[0mAA:  +1  ARG 74\n",
      "\u001b[0mprotocols.simple_filters.NetChargeFilter: {0} \u001b[0mThe net charge is: 0\n",
      "\u001b[0mprotocols.simple_filters.NetChargeFilter: {0} \u001b[0mNet Charge: 0. passing.\n"
     ]
    },
    {
     "data": {
      "text/plain": [
       "True"
      ]
     },
     "execution_count": 7,
     "metadata": {},
     "output_type": "execute_result"
    }
   ],
   "source": [
    "from pyrosetta.rosetta.protocols.simple_filters import NetChargeFilter\n",
    "netcharge = NetChargeFilter()\n",
    "netcharge.apply(pose)"
   ]
  },
  {
   "cell_type": "markdown",
   "id": "665ba7a5-6b57-4779-ae7b-ae4dedbb612c",
   "metadata": {},
   "source": [
    "### 3. Energy/Score Filters"
   ]
  },
  {
   "cell_type": "markdown",
   "id": "65921b0e-a506-445a-aeb5-c4d76da483f2",
   "metadata": {},
   "source": [
    "#### 3.1 ScoreTypeFilter\n",
    "基于某特定打分项的Filter，如果没有指定打分的能量项，将默认对总能进行判断过滤。"
   ]
  },
  {
   "cell_type": "code",
   "execution_count": 8,
   "id": "ea488e8e-2a4c-4e55-b4f3-3d8b9f687990",
   "metadata": {},
   "outputs": [
    {
     "name": "stdout",
     "output_type": "stream",
     "text": [
      "\u001b[0mcore.scoring.etable: {0} \u001b[0mStarting energy table calculation\n",
      "\u001b[0mcore.scoring.etable: {0} \u001b[0msmooth_etable: changing atr/rep split to bottom of energy well\n",
      "\u001b[0mcore.scoring.etable: {0} \u001b[0msmooth_etable: spline smoothing lj etables (maxdis = 6)\n",
      "\u001b[0mcore.scoring.etable: {0} \u001b[0msmooth_etable: spline smoothing solvation etables (max_dis = 6)\n",
      "\u001b[0mcore.scoring.etable: {0} \u001b[0mFinished calculating energy tables.\n",
      "\u001b[0mbasic.io.database: {0} \u001b[0mDatabase file opened: scoring/score_functions/hbonds/ref2015_params/HBPoly1D.csv\n",
      "\u001b[0mbasic.io.database: {0} \u001b[0mDatabase file opened: scoring/score_functions/hbonds/ref2015_params/HBFadeIntervals.csv\n",
      "\u001b[0mbasic.io.database: {0} \u001b[0mDatabase file opened: scoring/score_functions/hbonds/ref2015_params/HBEval.csv\n",
      "\u001b[0mbasic.io.database: {0} \u001b[0mDatabase file opened: scoring/score_functions/hbonds/ref2015_params/DonStrength.csv\n",
      "\u001b[0mbasic.io.database: {0} \u001b[0mDatabase file opened: scoring/score_functions/hbonds/ref2015_params/AccStrength.csv\n",
      "\u001b[0mbasic.io.database: {0} \u001b[0mDatabase file opened: scoring/score_functions/rama/fd/all.ramaProb\n",
      "\u001b[0mbasic.io.database: {0} \u001b[0mDatabase file opened: scoring/score_functions/rama/fd/prepro.ramaProb\n",
      "\u001b[0mbasic.io.database: {0} \u001b[0mDatabase file opened: scoring/score_functions/omega/omega_ppdep.all.txt\n",
      "\u001b[0mbasic.io.database: {0} \u001b[0mDatabase file opened: scoring/score_functions/omega/omega_ppdep.gly.txt\n",
      "\u001b[0mbasic.io.database: {0} \u001b[0mDatabase file opened: scoring/score_functions/omega/omega_ppdep.pro.txt\n",
      "\u001b[0mbasic.io.database: {0} \u001b[0mDatabase file opened: scoring/score_functions/omega/omega_ppdep.valile.txt\n",
      "\u001b[0mbasic.io.database: {0} \u001b[0mDatabase file opened: scoring/score_functions/P_AA_pp/P_AA\n",
      "\u001b[0mbasic.io.database: {0} \u001b[0mDatabase file opened: scoring/score_functions/P_AA_pp/P_AA_n\n",
      "\u001b[0mcore.scoring.P_AA: {0} \u001b[0mshapovalov_lib::shap_p_aa_pp_smooth_level of 1( aka low_smooth ) got activated.\n",
      "\u001b[0mbasic.io.database: {0} \u001b[0mDatabase file opened: scoring/score_functions/P_AA_pp/shapovalov/10deg/kappa131/a20.prop\n",
      "\u001b[0mbasic.io.database: {0} \u001b[0mDatabase file opened: scoring/score_functions/elec_cp_reps.dat\n",
      "\u001b[0mcore.scoring.elec.util: {0} \u001b[0mRead 40 countpair representative atoms\n",
      "\u001b[0mcore.pack.dunbrack.RotamerLibrary: {0} \u001b[0mshapovalov_lib_fixes_enable option is true.\n",
      "\u001b[0mcore.pack.dunbrack.RotamerLibrary: {0} \u001b[0mshapovalov_lib::shap_dun10_smooth_level of 1( aka lowest_smooth ) got activated.\n",
      "\u001b[0mcore.pack.dunbrack.RotamerLibrary: {0} \u001b[0mBinary rotamer library selected: /opt/miniconda3/lib/python3.7/site-packages/pyrosetta/database/rotamer/shapovalov/StpDwn_0-0-0/Dunbrack10.lib.bin\n",
      "\u001b[0mcore.pack.dunbrack.RotamerLibrary: {0} \u001b[0mUsing Dunbrack library binary file '/opt/miniconda3/lib/python3.7/site-packages/pyrosetta/database/rotamer/shapovalov/StpDwn_0-0-0/Dunbrack10.lib.bin'.\n",
      "\u001b[0mcore.pack.dunbrack.RotamerLibrary: {0} \u001b[0mDunbrack 2010 library took 0.162384 seconds to load from binary\n",
      "\u001b[0mprotocols.simple_filters.ScoreTypeFilter: {0} \u001b[0mscore fa_atr is -397.646. failing.\n"
     ]
    },
    {
     "data": {
      "text/plain": [
       "False"
      ]
     },
     "execution_count": 8,
     "metadata": {},
     "output_type": "execute_result"
    }
   ],
   "source": [
    "from pyrosetta.rosetta.protocols.score_filters import ScoreTypeFilter\n",
    "from pyrosetta.rosetta.core.scoring import ScoreType\n",
    "from pyrosetta import create_score_function\n",
    "\n",
    "# 创建打分函数\n",
    "ref2015 = create_score_function('ref2015')\n",
    "\n",
    "st_filter = ScoreTypeFilter()\n",
    "st_filter.set_scorefxn(ref2015)\n",
    "st_filter.set_score_type(ScoreType.fa_atr)  # 对范德华吸引势能量项打分，更多请参见ScoreType类型。\n",
    "st_filter.set_threshold(-400)\n",
    "st_filter.apply(pose)"
   ]
  },
  {
   "cell_type": "markdown",
   "id": "1c89bf99-4603-40fc-923b-0eaf8308a544",
   "metadata": {},
   "source": [
    "#### 3.2 TaskAwareScoreType\n",
    "TaskAwareScoreType过滤器与ScoreTypeFilter最大的区别在于，最对那些TaskOperation中可被Repack的部分进行能量评估。\n",
    "\n",
    "mode：可选\"total\", \"average\", or \"individual\"\n",
    "\n",
    "此Filter可以对Interface上的残基进行特定的过滤，特别结合individual模式可以识别出异常的Residue或Rotamer"
   ]
  },
  {
   "cell_type": "code",
   "execution_count": 9,
   "id": "1f0a9abd-de11-4708-b4dc-92c4b8951153",
   "metadata": {},
   "outputs": [
    {
     "data": {
      "text/plain": [
       "0.0"
      ]
     },
     "execution_count": 9,
     "metadata": {},
     "output_type": "execute_result"
    }
   ],
   "source": [
    "from pyrosetta.rosetta.protocols.simple_filters import TaskAwareScoreTypeFilter\n",
    "from pyrosetta.rosetta.core.scoring import ScoreType\n",
    "from pyrosetta import create_score_function\n",
    "from pyrosetta.rosetta.core.pack.task import TaskFactory\n",
    "from pyrosetta.rosetta.core.pack.task.operation import PreventRepackingRLT\n",
    "from pyrosetta.rosetta.core.pack.task.operation import OperateOnResidueSubset\n",
    "from pyrosetta.rosetta.core.select.residue_selector import ResidueIndexSelector\n",
    "from pyrosetta.rosetta.core.pack.task import TaskFactory\n",
    "\n",
    "# 选择氨基酸范围\n",
    "select_pos = ResidueIndexSelector('2,3,4,5,6,7,8,9,10,11,12,13')\n",
    "# 使用OperateOnResidueSubset生成TaskOperations\n",
    "packing_taskop = OperateOnResidueSubset(PreventRepackingRLT(), select_pos, False)\n",
    "\n",
    "# 创建打分函数\n",
    "ref2015 = create_score_function('ref2015')\n",
    "\n",
    "# 创建tf\n",
    "tf = TaskFactory()\n",
    "tf.push_back(packing_taskop)\n",
    "\n",
    "tast_filter = TaskAwareScoreTypeFilter()\n",
    "tast_filter.bb_bb(True)  # 考虑骨架的能量项\n",
    "tast_filter.score_type(ScoreType.fa_atr)\n",
    "tast_filter.scorefxn(ref2015)\n",
    "tast_filter.task_factory(tf)\n",
    "tast_filter.threshold(-1.0)\n",
    "tast_filter.unbound(False)  # 必须手动设置为False\n",
    "tast_filter.mode('individual')  # 单独过滤每一个打分项\n",
    "tast_filter.score(pose)"
   ]
  },
  {
   "cell_type": "markdown",
   "id": "6aebc6e6-d88b-41a0-9b11-9bb734c6ab0d",
   "metadata": {},
   "source": [
    "#### 3.3 BindingStrain\n",
    "在结合态的单体的能量张力的Filter, 此Filter可以自动检测对称性。\n",
    "\n",
    "ps: 看了下源码，这个Filter其实就是把两个刚体组分拉开，然后进行repack。然后计算bind状态下的能量-unbind状态下的能量差。\n",
    "\n",
    "如果能量差的绝对值越大，说明bind状态以unbind状态下的能量差较大。"
   ]
  },
  {
   "cell_type": "code",
   "execution_count": 10,
   "id": "4bcd356d-6571-4fab-b6e1-e61879355e83",
   "metadata": {},
   "outputs": [
    {
     "name": "stdout",
     "output_type": "stream",
     "text": [
      "PyRosetta-4 2021 [Rosetta PyRosetta4.conda.mac.cxx11thread.serialization.python37.Release 2021.26+release.b308454c455dd04f6824cc8b23e54bbb9be2cdd7 2021-07-02T13:01:54] retrieved from: http://www.pyrosetta.org\n",
      "(C) Copyright Rosetta Commons Member Institutions. Created in JHU by Sergey Lyskov and PyRosetta Team.\n",
      "\u001b[0mcore.init: {0} \u001b[0mChecking for fconfig files in pwd and ./rosetta/flags\n",
      "\u001b[0mcore.init: {0} \u001b[0mRosetta version: PyRosetta4.conda.mac.cxx11thread.serialization.python37.Release r288 2021.26+release.b308454c455 b308454c455dd04f6824cc8b23e54bbb9be2cdd7 http://www.pyrosetta.org 2021-07-02T13:01:54\n",
      "\u001b[0mcore.init: {0} \u001b[0mcommand: PyRosetta -ex1 -ex2 -corrections::beta_nov16 -database /opt/miniconda3/lib/python3.7/site-packages/pyrosetta/database\n",
      "\u001b[0mbasic.random.init_random_generator: {0} \u001b[0m'RNG device' seed mode, using '/dev/urandom', seed=-1429836209 seed_offset=0 real_seed=-1429836209 thread_index=0\n",
      "\u001b[0mbasic.random.init_random_generator: {0} \u001b[0mRandomGenerator:init: Normal mode, seed=-1429836209 RG_type=mt19937\n",
      "\u001b[0mcore.import_pose.import_pose: {0} \u001b[0mFile './data/denovo_binder.pdb' automatically determined to be of type PDB\n",
      "\u001b[0mcore.conformation.Conformation: {0} \u001b[0mFound disulfide between residues 148 186\n",
      "\u001b[0mcore.conformation.Conformation: {0} \u001b[0mcurrent variant for 148 CYS\n",
      "\u001b[0mcore.conformation.Conformation: {0} \u001b[0mcurrent variant for 186 CYS\n",
      "\u001b[0mcore.conformation.Conformation: {0} \u001b[0mcurrent variant for 148 CYD\n",
      "\u001b[0mcore.conformation.Conformation: {0} \u001b[0mcurrent variant for 186 CYD\n",
      "\u001b[0mbasic.io.database: {0} \u001b[0mDatabase file opened: scoring/score_functions/bondlength_bondangle/hydroxyl_torsion_preference.txt\n",
      "\u001b[0mcore.pack.task: {0} \u001b[0mPacker task: initialize from command line()\n",
      "\u001b[0mprotocols.moves.RigidBodyMover: {0} \u001b[0mTranslate: Jump (before): RT 0.475346 -0.778522 0.409816 -0.138636 0.393705 0.908722 -0.868807 -0.488773 0.0792154 17.3442 -1.09276 -32.123\n",
      "\u001b[0mprotocols.moves.RigidBodyMover: {0} \u001b[0mTranslate: Jump (after):  RT 0.475346 -0.778522 0.409816 -0.138636 0.393705 0.908722 -0.868807 -0.488773 0.0792154 4858.09 4993.85 -7216.68\n",
      "\u001b[0mcore.pack.pack_rotamers: {0} \u001b[0mbuilt 984 rotamers at 61 positions.\n",
      "\u001b[0mcore.pack.pack_rotamers: {0} \u001b[0mRequesting all available threads for interaction graph computation.\n",
      "\u001b[0mcore.pack.interaction_graph.interaction_graph_factory: {0} \u001b[0mInstantiating DensePDInteractionGraph\n",
      "\u001b[0mbasic.thread_manager.RosettaThreadManager: {?} \u001b[0mCreating a thread pool of 1 threads.\n",
      "\u001b[0mbasic.thread_manager.RosettaThreadPool: {?} \u001b[0mLaunched 0 new threads.\n",
      "\u001b[0mcore.pack.rotamer_set.RotamerSets: {0} \u001b[0mCompleted interaction graph pre-calculation in 1 available threads (1 had been requested).\n"
     ]
    },
    {
     "data": {
      "text/plain": [
       "-9.942585665340005"
      ]
     },
     "execution_count": 10,
     "metadata": {},
     "output_type": "execute_result"
    }
   ],
   "source": [
    "from pyrosetta.rosetta.protocols.protein_interface_design.filters import BindingStrainFilter\n",
    "from pyrosetta.rosetta.core.pack.task.operation import PreventRepackingRLT\n",
    "from pyrosetta.rosetta.core.select.residue_selector import ChainSelector\n",
    "init('-ex1 -ex2 -corrections::beta_nov16')\n",
    "complex_pose = pose_from_pdb('./data/denovo_binder.pdb')\n",
    "\n",
    "# 创建打分函数\n",
    "beta_16 = create_score_function('beta_nov16')\n",
    "receptor_chain = ChainSelector('A')\n",
    "\n",
    "# 创建tf\n",
    "no_repack_receptor_op = OperateOnResidueSubset(PreventRepackingRLT(), receptor_chain)\n",
    "tf = TaskFactory()\n",
    "tf.push_back(no_repack_receptor_op)\n",
    "\n",
    "# 计算\n",
    "bsf = BindingStrainFilter()\n",
    "bsf.scorefxn(beta_16)\n",
    "bsf.threshold(0)\n",
    "bsf.jump(1)   # 定义binder与receptor之间的jump值。\n",
    "bsf.task_factory(tf)\n",
    "bsf.compute(complex_pose)"
   ]
  },
  {
   "cell_type": "markdown",
   "id": "42cd4664-a62a-45af-a08f-cbb16ac01e33",
   "metadata": {},
   "source": [
    "#### 3.4 ConstraintScore(有bug.不起效)\n",
    "从ConstraintGenerators产生的一系列constraints计算的打分项的Filter\n",
    "\n",
    "注意: \n",
    "1. Generators产生的约束必须通过AddConstraintsMover已经添加到Pose中\n",
    "2. 对应的score term打分必须开启。\n"
   ]
  },
  {
   "cell_type": "code",
   "execution_count": 37,
   "id": "c4ed482f-7187-430a-b6d1-5ec7ead19a4b",
   "metadata": {},
   "outputs": [
    {
     "name": "stdout",
     "output_type": "stream",
     "text": [
      "\u001b[0mcore.import_pose.import_pose: {0} \u001b[0mFile './data/1ubq_clean.pdb' automatically determined to be of type PDB\n",
      "\u001b[0mprotocols.constraint_generator.TerminiConstraintGenerator: {0} \u001b[0mConstraining atoms  atomno= 2 rsd= 1  and  atomno= 2 rsd= 76 , min_distance=8 max_distance=20\n",
      "\u001b[0mprotocols.constraint_generator.AddConstraints: {0} \u001b[0mAdding 1 constraints generated by ConstraintGenerator named test_nc\n"
     ]
    }
   ],
   "source": [
    "# 通过ConstraintGenerators产生约束\n",
    "from pyrosetta.rosetta.protocols.simple_moves import VirtualRootMover\n",
    "\n",
    "# load pose from 1ubq_clean.pdb\n",
    "pose = pose_from_pdb(\"./data/1ubq_clean.pdb\")\n",
    "\n",
    "# Score reweight\n",
    "score = create_score_function('ref2015')\n",
    "score.set_weight(ScoreType.atom_pair_constraint, 1.0) # reweight score\n",
    "\n",
    "from pyrosetta.rosetta.protocols.constraint_generator import TerminiConstraintGenerator\n",
    "termin_cst = TerminiConstraintGenerator()\n",
    "termin_cst.set_min_distance(8)\n",
    "termin_cst.set_max_distance(20)\n",
    "termin_cst.set_sd(1.0)\n",
    "termin_cst.set_id('test_nc')\n",
    "\n",
    "# add TerminiConstraintGenerator to pose;\n",
    "from pyrosetta.rosetta.protocols.constraint_generator import AddConstraints\n",
    "add_cst = AddConstraints()\n",
    "add_cst.add_generator(termin_cst)\n",
    "add_cst.apply(pose)"
   ]
  },
  {
   "cell_type": "code",
   "execution_count": 40,
   "id": "544c041e-f58c-418b-bd26-01d4b4b5fe8a",
   "metadata": {},
   "outputs": [
    {
     "name": "stdout",
     "output_type": "stream",
     "text": [
      "\u001b[0mprotocols.constraint_filters.ConstraintScoreFilter: {0} \u001b[0m\n",
      "------------------------------------------------------------\n",
      " Scores                       Weight   Raw Score Wghtd.Score\n",
      "------------------------------------------------------------\n",
      " atom_pair_constraint         1.000       0.000       0.000\n",
      " coordinate_constraint        1.000       0.000       0.000\n",
      " angle_constraint             1.000       0.000       0.000\n",
      " dihedral_constraint          1.000       0.000       0.000\n",
      " res_type_constraint          1.000       0.000       0.000\n",
      " backbone_stub_constraint     1.000       0.000       0.000\n",
      "---------------------------------------------------\n",
      " Total weighted score:                        0.000\n"
     ]
    },
    {
     "data": {
      "text/plain": [
       "False"
      ]
     },
     "execution_count": 40,
     "metadata": {},
     "output_type": "execute_result"
    }
   ],
   "source": [
    "from pyrosetta.rosetta.protocols.constraint_filters import ConstraintScoreFilter\n",
    "from pyrosetta.rosetta.protocols.relax import FastRelax\n",
    "\n",
    "# 破坏NC构象代码(转为线性肽):\n",
    "for i in range(1, pose.total_residue()+1):\n",
    "    pose.set_phi(i, -150)\n",
    "    pose.set_psi(i, 150)\n",
    "\n",
    "# filter\n",
    "cst_score_filter = ConstraintScoreFilter()\n",
    "cst_score_filter.set_user_defined_name('test_nc')\n",
    "cst_score_filter.apply(pose)"
   ]
  },
  {
   "cell_type": "markdown",
   "id": "3bcc442a-8782-4583-b389-69766258f386",
   "metadata": {},
   "source": [
    "#### 3.5 ScorePoseSegmentFromResidueSelectorFilter\n",
    "该filter可以根据用户指定的ResidueSelector的范围进行能量打分并过滤。比如可以针对特殊region或某条链进行打分。\n",
    "\n",
    "in_context选项: 可以选择是否在打分前，将selection的区域提取到一个单独的Pose中。"
   ]
  },
  {
   "cell_type": "code",
   "execution_count": 13,
   "id": "23f8f585-5740-485a-b613-e5a7abbc7ee0",
   "metadata": {},
   "outputs": [
    {
     "name": "stdout",
     "output_type": "stream",
     "text": [
      "\u001b[0mcore.scoring.ScoreFunctionFactory: {0} \u001b[0mSCOREFUNCTION: \u001b[32mbeta_nov16.wts\u001b[0m\n"
     ]
    },
    {
     "data": {
      "text/plain": [
       "-190.54896910443185"
      ]
     },
     "execution_count": 13,
     "metadata": {},
     "output_type": "execute_result"
    }
   ],
   "source": [
    "from pyrosetta.rosetta.protocols.fold_from_loops.filters import ScorePoseSegmentFromResidueSelectorFilter\n",
    "from pyrosetta.rosetta.core.select.residue_selector import ChainSelector\n",
    "\n",
    "chain_A = ChainSelector('A')\n",
    "\n",
    "score_from_selector_filter = ScorePoseSegmentFromResidueSelectorFilter()\n",
    "score_from_selector_filter.residue_selector(chain_A)\n",
    "score_from_selector_filter.in_context(True)\n",
    "score_from_selector_filter.scorefxn(ref2015)\n",
    "score_from_selector_filter.compute(pose)"
   ]
  },
  {
   "cell_type": "markdown",
   "id": "7b05fe93-aea2-4f08-a919-2be16e331c2b",
   "metadata": {},
   "source": [
    "#### 3.6 ReadPoseExtraScoreFilter\n",
    "从Pose中的ExtraScore信息中提取score，并且设置是否进行过滤。"
   ]
  },
  {
   "cell_type": "code",
   "execution_count": 14,
   "id": "9b3b5d95-08d8-40d9-9b4a-152494684290",
   "metadata": {},
   "outputs": [],
   "source": [
    "# set ExtraScore to pose:\n",
    "from pyrosetta.rosetta.core.pose import setPoseExtraScore\n",
    "setPoseExtraScore(pose, 'test_score', '100')"
   ]
  },
  {
   "cell_type": "markdown",
   "id": "459c2279-b46a-45d0-b886-91871ca5edcf",
   "metadata": {},
   "source": [
    "下面来进行score提取并过滤。"
   ]
  },
  {
   "cell_type": "code",
   "execution_count": 15,
   "id": "599f48f3-23b1-4758-8905-7bd9703b86c9",
   "metadata": {},
   "outputs": [
    {
     "data": {
      "text/plain": [
       "True"
      ]
     },
     "execution_count": 15,
     "metadata": {},
     "output_type": "execute_result"
    }
   ],
   "source": [
    "from pyrosetta.rosetta.protocols.simple_filters import ReadPoseExtraScoreFilter\n",
    "extra_score_filter = ReadPoseExtraScoreFilter()\n",
    "extra_score_filter.set_term_name('test_score') # 要过滤的score term\n",
    "extra_score_filter.set_threshold(300)  # returns false if the score is greater than this threshold\n",
    "extra_score_filter.apply(pose)"
   ]
  },
  {
   "cell_type": "markdown",
   "id": "098c9463-0f21-4458-993e-d3cddee00634",
   "metadata": {},
   "source": [
    "#### 3.7 Delta（完全没必要使用!）\n",
    "计算filter中的值与input结构能量差值，简单来说就是指定一个Filter后，比对native和当前pose的差异值。"
   ]
  },
  {
   "cell_type": "markdown",
   "id": "ea948786-3bd3-4bf5-94d1-75f18437c3e0",
   "metadata": {},
   "source": [
    "（略），在python中直接比较native pose和pose的值并不困难。"
   ]
  },
  {
   "cell_type": "markdown",
   "id": "89e9432a-e502-4937-806e-f34a9c9369d7",
   "metadata": {},
   "source": [
    "### 4. Distance Filter"
   ]
  },
  {
   "cell_type": "markdown",
   "id": "4012f225-983c-4e52-8032-64bff73b55b8",
   "metadata": {},
   "source": [
    "#### 4.1 ResidueDistance\n",
    "计算两个残基之间距离，以每个残疾的邻原子作为计算（通常为C-β原子），此Filter支持PDB编号或Pose编号。"
   ]
  },
  {
   "cell_type": "code",
   "execution_count": 46,
   "id": "b0ef8ec9-8e89-4ebe-a812-72569d857bdf",
   "metadata": {},
   "outputs": [
    {
     "name": "stdout",
     "output_type": "stream",
     "text": [
      "\u001b[0mprotocols.simple_filters.ResidueDistanceFilter: {0} \u001b[0mDistance between residues 5 and 10 is 18.0233\n"
     ]
    },
    {
     "data": {
      "text/plain": [
       "False"
      ]
     },
     "execution_count": 46,
     "metadata": {},
     "output_type": "execute_result"
    }
   ],
   "source": [
    "from pyrosetta.rosetta.protocols.simple_filters import ResidueDistanceFilter\n",
    "res1 = '5'\n",
    "res2 = '10'\n",
    "two_res_dis = ResidueDistanceFilter(res1, res2, distance_threshold=10)\n",
    "two_res_dis.apply(pose)"
   ]
  },
  {
   "cell_type": "markdown",
   "id": "cc20dca3-575e-4881-b6d7-ca46aeae60d8",
   "metadata": {},
   "source": [
    "#### 4.2 AtomicContact\n",
    "判定两个残基之间在cutoff distance范围内，是否存在原子相互作用？"
   ]
  },
  {
   "cell_type": "code",
   "execution_count": 59,
   "id": "1c3aaec8-f693-459a-844b-d592493cc3b6",
   "metadata": {},
   "outputs": [
    {
     "data": {
      "text/plain": [
       "False"
      ]
     },
     "execution_count": 59,
     "metadata": {},
     "output_type": "execute_result"
    }
   ],
   "source": [
    "from pyrosetta.rosetta.protocols.simple_filters import AtomicContactFilter\n",
    "is_atom_between_res = AtomicContactFilter(res1=1, res2=5, distance=10.0, sidechain=True, backbone=True, protons=False)\n",
    "is_atom_between_res.apply(pose)"
   ]
  },
  {
   "cell_type": "markdown",
   "id": "2aa884be-3d83-4a55-a29d-79e804fc55fa",
   "metadata": {},
   "source": [
    "#### 4.3 AtomicContactCount(xmlobject)\n",
    "计算两个残基之间contact的数量，此filter运行设置taskoperation，此时filter只统计packable残基侧链上的碳原子contact数量。\n",
    "\n",
    "这个filter有3种运行模式:\n",
    "1. \"All\" mode: 计算所有侧链碳原子的contact的数量。（适合单链结构计算使用）\n",
    "2. \"jump\" mode: 计算所有复合物界面原子contact的数量。（适合相互作用界面使用）\n",
    "3. \"chain\" mode: 计算链之间的原子contact的数量。（适合两两链之间计算使用）"
   ]
  },
  {
   "cell_type": "code",
   "execution_count": 87,
   "id": "66cbf3bd-5aa9-47f4-a77b-30490e090889",
   "metadata": {
    "tags": []
   },
   "outputs": [
    {
     "name": "stdout",
     "output_type": "stream",
     "text": [
      "\u001b[0mprotocols.rosetta_scripts.RosettaScriptsParser: {0} \u001b[0mGenerating XML Schema for rosetta_scripts...\n",
      "\u001b[0mprotocols.rosetta_scripts.RosettaScriptsParser: {0} \u001b[0m...done\n",
      "\u001b[0mprotocols.rosetta_scripts.RosettaScriptsParser: {0} \u001b[0mInitializing schema validator...\n",
      "\u001b[0mprotocols.rosetta_scripts.RosettaScriptsParser: {0} \u001b[0m...done\n",
      "\u001b[0mprotocols.rosetta_scripts.RosettaScriptsParser: {0} \u001b[0mValidating input script...\n",
      "\u001b[0mprotocols.rosetta_scripts.RosettaScriptsParser: {0} \u001b[0m...done\n",
      "\u001b[0mprotocols.rosetta_scripts.RosettaScriptsParser: {0} \u001b[0mParsed script:\n",
      "<ROSETTASCRIPTS>\n",
      "\t<FILTERS>\n",
      "\t\t<AtomicContactCount distance=\"4.5\" name=\"all_atomic_contact\" partition=\"none\"/>\n",
      "\t</FILTERS>\n",
      "\t<PROTOCOLS/>\n",
      "</ROSETTASCRIPTS>\n",
      "\u001b[0mcore.scoring.ScoreFunctionFactory: {0} \u001b[0mSCOREFUNCTION: \u001b[32mbeta_nov16.wts\u001b[0m\n",
      "\u001b[0mprotocols.rosetta_scripts.RosettaScriptsParser: {0} \u001b[0mDefined filter named \"all_atomic_contact\" of type AtomicContactCount\n",
      "\u001b[0mprotocols.rosetta_scripts.ParsedProtocol: {0} \u001b[0mParsedProtocol mover with the following settings\n",
      "\u001b[0mprotocols.protein_interface_design.filters.AtomicContactCountFilter: {0} \u001b[0mInitializing taskA from packer task.\n",
      "\u001b[0mprotocols.protein_interface_design.filters.AtomicContactCountFilter: {0} \u001b[0mInitializing taskB from packer task.\n",
      "\u001b[0mprotocols.protein_interface_design.filters.AtomicContactCountFilter: {0} \u001b[0mEntering outer loop\n",
      "\u001b[0mprotocols.protein_interface_design.filters.AtomicContactCountFilter: {0} \u001b[0mEntering inner loop\n",
      "\u001b[0mprotocols.protein_interface_design.filters.AtomicContactCountFilter: {0} \u001b[0mEntering inner loop\n",
      "\u001b[0mprotocols.protein_interface_design.filters.AtomicContactCountFilter: {0} \u001b[0mselect (resi 2 and name  CB ) + (resi 4 and name  CE1)\n",
      "\u001b[0mprotocols.protein_interface_design.filters.AtomicContactCountFilter: {0} \u001b[0mselect (resi 2 and name  CB ) + (resi 4 and name  CZ )\n",
      "\u001b[0mprotocols.protein_interface_design.filters.AtomicContactCountFilter: {0} \u001b[0mselect (resi 2 and name  CG ) + (resi 4 and name  CG )\n",
      "\u001b[0mprotocols.protein_interface_design.filters.AtomicContactCountFilter: {0} \u001b[0mselect (resi 2 and name  CG ) + (resi 4 and name  CD1)\n",
      "\u001b[0mprotocols.protein_interface_design.filters.AtomicContactCountFilter: {0} \u001b[0mselect (resi 2 and name  CG ) + (resi 4 and name  CE1)\n",
      "\u001b[0mprotocols.protein_interface_design.filters.AtomicContactCountFilter: {0} \u001b[0mselect (resi 2 and name  CG ) + (resi 4 and name  CE2)\n",
      "\u001b[0mprotocols.protein_interface_design.filters.AtomicContactCountFilter: {0} \u001b[0mselect (resi 2 and name  CG ) + (resi 4 and name  CZ )\n",
      "\u001b[0mprotocols.protein_interface_design.filters.AtomicContactCountFilter: {0} \u001b[0mselect (resi 2 and name  CD ) + (resi 4 and name  CD1)\n",
      "\u001b[0mprotocols.protein_interface_design.filters.AtomicContactCountFilter: {0} \u001b[0mselect (resi 2 and name  CD ) + (resi 4 and name  CE1)\n",
      "\u001b[0mprotocols.protein_interface_design.filters.AtomicContactCountFilter: {0} \u001b[0mselect (resi 2 and name  CD ) + (resi 4 and name  CE2)\n",
      "\u001b[0mprotocols.protein_interface_design.filters.AtomicContactCountFilter: {0} \u001b[0mselect (resi 2 and name  CD ) + (resi 4 and name  CZ )\n",
      "\u001b[0mprotocols.protein_interface_design.filters.AtomicContactCountFilter: {0} \u001b[0mEntering inner loop\n",
      "\u001b[0mprotocols.protein_interface_design.filters.AtomicContactCountFilter: {0} \u001b[0mEntering inner loop\n",
      "\u001b[0mprotocols.protein_interface_design.filters.AtomicContactCountFilter: {0} \u001b[0mEntering inner loop\n",
      "\u001b[0mprotocols.protein_interface_design.filters.AtomicContactCountFilter: {0} \u001b[0mEntering inner loop\n",
      "\u001b[0mprotocols.protein_interface_design.filters.AtomicContactCountFilter: {0} \u001b[0mEntering inner loop\n",
      "\u001b[0mprotocols.protein_interface_design.filters.AtomicContactCountFilter: {0} \u001b[0mEntering inner loop\n",
      "\u001b[0mprotocols.protein_interface_design.filters.AtomicContactCountFilter: {0} \u001b[0mEntering inner loop\n",
      "\u001b[0mprotocols.protein_interface_design.filters.AtomicContactCountFilter: {0} \u001b[0mEntering inner loop\n",
      "\u001b[0mprotocols.protein_interface_design.filters.AtomicContactCountFilter: {0} \u001b[0mEntering inner loop\n",
      "\u001b[0mprotocols.protein_interface_design.filters.AtomicContactCountFilter: {0} \u001b[0mselect (resi 11 and name  CG ) + (resi 13 and name  CG2)\n",
      "\u001b[0mprotocols.protein_interface_design.filters.AtomicContactCountFilter: {0} \u001b[0mselect (resi 11 and name  CD ) + (resi 13 and name  CG2)\n",
      "\u001b[0mprotocols.protein_interface_design.filters.AtomicContactCountFilter: {0} \u001b[0mselect (resi 11 and name  CE ) + (resi 13 and name  CG2)\n",
      "\u001b[0mprotocols.protein_interface_design.filters.AtomicContactCountFilter: {0} \u001b[0mEntering inner loop\n",
      "\u001b[0mprotocols.protein_interface_design.filters.AtomicContactCountFilter: {0} \u001b[0mselect (resi 12 and name  CG2) + (resi 14 and name  CG2)\n",
      "\u001b[0mprotocols.protein_interface_design.filters.AtomicContactCountFilter: {0} \u001b[0mEntering inner loop\n",
      "\u001b[0mprotocols.protein_interface_design.filters.AtomicContactCountFilter: {0} \u001b[0mEntering inner loop\n",
      "\u001b[0mprotocols.protein_interface_design.filters.AtomicContactCountFilter: {0} \u001b[0mEntering inner loop\n",
      "\u001b[0mprotocols.protein_interface_design.filters.AtomicContactCountFilter: {0} \u001b[0mEntering inner loop\n",
      "\u001b[0mprotocols.protein_interface_design.filters.AtomicContactCountFilter: {0} \u001b[0mEntering inner loop\n",
      "\u001b[0mprotocols.protein_interface_design.filters.AtomicContactCountFilter: {0} \u001b[0mEntering inner loop\n",
      "\u001b[0mprotocols.protein_interface_design.filters.AtomicContactCountFilter: {0} \u001b[0mselect (resi 18 and name  CB ) + (resi 19 and name  CD )\n",
      "\u001b[0mprotocols.protein_interface_design.filters.AtomicContactCountFilter: {0} \u001b[0mEntering inner loop\n",
      "\u001b[0mprotocols.protein_interface_design.filters.AtomicContactCountFilter: {0} \u001b[0mEntering inner loop\n",
      "\u001b[0mprotocols.protein_interface_design.filters.AtomicContactCountFilter: {0} \u001b[0mEntering inner loop\n",
      "\u001b[0mprotocols.protein_interface_design.filters.AtomicContactCountFilter: {0} \u001b[0mEntering inner loop\n",
      "\u001b[0mprotocols.protein_interface_design.filters.AtomicContactCountFilter: {0} \u001b[0mEntering inner loop\n",
      "\u001b[0mprotocols.protein_interface_design.filters.AtomicContactCountFilter: {0} \u001b[0mEntering inner loop\n",
      "\u001b[0mprotocols.protein_interface_design.filters.AtomicContactCountFilter: {0} \u001b[0mEntering inner loop\n",
      "\u001b[0mprotocols.protein_interface_design.filters.AtomicContactCountFilter: {0} \u001b[0mselect (resi 25 and name  CG ) + (resi 27 and name  CG )\n",
      "\u001b[0mprotocols.protein_interface_design.filters.AtomicContactCountFilter: {0} \u001b[0mselect (resi 25 and name  CG ) + (resi 27 and name  CE )\n",
      "\u001b[0mprotocols.protein_interface_design.filters.AtomicContactCountFilter: {0} \u001b[0mEntering inner loop\n",
      "\u001b[0mprotocols.protein_interface_design.filters.AtomicContactCountFilter: {0} \u001b[0mEntering inner loop\n",
      "\u001b[0mprotocols.protein_interface_design.filters.AtomicContactCountFilter: {0} \u001b[0mEntering inner loop\n",
      "\u001b[0mprotocols.protein_interface_design.filters.AtomicContactCountFilter: {0} \u001b[0mEntering inner loop\n",
      "\u001b[0mprotocols.protein_interface_design.filters.AtomicContactCountFilter: {0} \u001b[0mEntering inner loop\n",
      "\u001b[0mprotocols.protein_interface_design.filters.AtomicContactCountFilter: {0} \u001b[0mEntering inner loop\n",
      "\u001b[0mprotocols.protein_interface_design.filters.AtomicContactCountFilter: {0} \u001b[0mEntering inner loop\n",
      "\u001b[0mprotocols.protein_interface_design.filters.AtomicContactCountFilter: {0} \u001b[0mEntering inner loop\n",
      "\u001b[0mprotocols.protein_interface_design.filters.AtomicContactCountFilter: {0} \u001b[0mEntering inner loop\n",
      "\u001b[0mprotocols.protein_interface_design.filters.AtomicContactCountFilter: {0} \u001b[0mEntering inner loop\n",
      "\u001b[0mprotocols.protein_interface_design.filters.AtomicContactCountFilter: {0} \u001b[0mEntering inner loop\n",
      "\u001b[0mprotocols.protein_interface_design.filters.AtomicContactCountFilter: {0} \u001b[0mselect (resi 36 and name  CB ) + (resi 37 and name  CD )\n",
      "\u001b[0mprotocols.protein_interface_design.filters.AtomicContactCountFilter: {0} \u001b[0mselect (resi 36 and name  CG2) + (resi 37 and name  CD )\n",
      "\u001b[0mprotocols.protein_interface_design.filters.AtomicContactCountFilter: {0} \u001b[0mselect (resi 36 and name  CG2) + (resi 38 and name  CG )\n",
      "\u001b[0mprotocols.protein_interface_design.filters.AtomicContactCountFilter: {0} \u001b[0mselect (resi 36 and name  CG2) + (resi 38 and name  CD )\n",
      "\u001b[0mprotocols.protein_interface_design.filters.AtomicContactCountFilter: {0} \u001b[0mEntering inner loop\n",
      "\u001b[0mprotocols.protein_interface_design.filters.AtomicContactCountFilter: {0} \u001b[0mselect (resi 37 and name  CB ) + (resi 38 and name  CD )\n",
      "\u001b[0mprotocols.protein_interface_design.filters.AtomicContactCountFilter: {0} \u001b[0mEntering inner loop\n",
      "\u001b[0mprotocols.protein_interface_design.filters.AtomicContactCountFilter: {0} \u001b[0mEntering inner loop\n",
      "\u001b[0mprotocols.protein_interface_design.filters.AtomicContactCountFilter: {0} \u001b[0mEntering inner loop\n",
      "\u001b[0mprotocols.protein_interface_design.filters.AtomicContactCountFilter: {0} \u001b[0mEntering inner loop\n",
      "\u001b[0mprotocols.protein_interface_design.filters.AtomicContactCountFilter: {0} \u001b[0mEntering inner loop\n",
      "\u001b[0mprotocols.protein_interface_design.filters.AtomicContactCountFilter: {0} \u001b[0mEntering inner loop\n",
      "\u001b[0mprotocols.protein_interface_design.filters.AtomicContactCountFilter: {0} \u001b[0mEntering inner loop\n",
      "\u001b[0mprotocols.protein_interface_design.filters.AtomicContactCountFilter: {0} \u001b[0mEntering inner loop\n",
      "\u001b[0mprotocols.protein_interface_design.filters.AtomicContactCountFilter: {0} \u001b[0mEntering inner loop\n",
      "\u001b[0mprotocols.protein_interface_design.filters.AtomicContactCountFilter: {0} \u001b[0mEntering inner loop\n",
      "\u001b[0mprotocols.protein_interface_design.filters.AtomicContactCountFilter: {0} \u001b[0mEntering inner loop\n",
      "\u001b[0mprotocols.protein_interface_design.filters.AtomicContactCountFilter: {0} \u001b[0mEntering inner loop\n",
      "\u001b[0mprotocols.protein_interface_design.filters.AtomicContactCountFilter: {0} \u001b[0mEntering inner loop\n",
      "\u001b[0mprotocols.protein_interface_design.filters.AtomicContactCountFilter: {0} \u001b[0mEntering inner loop\n",
      "\u001b[0mprotocols.protein_interface_design.filters.AtomicContactCountFilter: {0} \u001b[0mEntering inner loop\n",
      "\u001b[0mprotocols.protein_interface_design.filters.AtomicContactCountFilter: {0} \u001b[0mEntering inner loop\n",
      "\u001b[0mprotocols.protein_interface_design.filters.AtomicContactCountFilter: {0} \u001b[0mEntering inner loop\n",
      "\u001b[0mprotocols.protein_interface_design.filters.AtomicContactCountFilter: {0} \u001b[0mEntering inner loop\n",
      "\u001b[0mprotocols.protein_interface_design.filters.AtomicContactCountFilter: {0} \u001b[0mEntering inner loop\n",
      "\u001b[0mprotocols.protein_interface_design.filters.AtomicContactCountFilter: {0} \u001b[0mEntering inner loop\n",
      "\u001b[0mprotocols.protein_interface_design.filters.AtomicContactCountFilter: {0} \u001b[0mselect (resi 57 and name  CB ) + (resi 59 and name  CE1)\n",
      "\u001b[0mprotocols.protein_interface_design.filters.AtomicContactCountFilter: {0} \u001b[0mEntering inner loop\n",
      "\u001b[0mprotocols.protein_interface_design.filters.AtomicContactCountFilter: {0} \u001b[0mEntering inner loop\n",
      "\u001b[0mprotocols.protein_interface_design.filters.AtomicContactCountFilter: {0} \u001b[0mEntering inner loop\n",
      "\u001b[0mprotocols.protein_interface_design.filters.AtomicContactCountFilter: {0} \u001b[0mEntering inner loop\n",
      "\u001b[0mprotocols.protein_interface_design.filters.AtomicContactCountFilter: {0} \u001b[0mEntering inner loop\n",
      "\u001b[0mprotocols.protein_interface_design.filters.AtomicContactCountFilter: {0} \u001b[0mEntering inner loop\n",
      "\u001b[0mprotocols.protein_interface_design.filters.AtomicContactCountFilter: {0} \u001b[0mEntering inner loop\n",
      "\u001b[0mprotocols.protein_interface_design.filters.AtomicContactCountFilter: {0} \u001b[0mEntering inner loop\n",
      "\u001b[0mprotocols.protein_interface_design.filters.AtomicContactCountFilter: {0} \u001b[0mEntering inner loop\n",
      "\u001b[0mprotocols.protein_interface_design.filters.AtomicContactCountFilter: {0} \u001b[0mselect (resi 66 and name  CG2) + (resi 68 and name  CG )\n",
      "\u001b[0mprotocols.protein_interface_design.filters.AtomicContactCountFilter: {0} \u001b[0mselect (resi 66 and name  CG2) + (resi 68 and name  CD2)\n",
      "\u001b[0mprotocols.protein_interface_design.filters.AtomicContactCountFilter: {0} \u001b[0mselect (resi 66 and name  CG2) + (resi 68 and name  CE1)\n",
      "\u001b[0mprotocols.protein_interface_design.filters.AtomicContactCountFilter: {0} \u001b[0mEntering inner loop\n",
      "\u001b[0mprotocols.protein_interface_design.filters.AtomicContactCountFilter: {0} \u001b[0mEntering inner loop\n",
      "\u001b[0mprotocols.protein_interface_design.filters.AtomicContactCountFilter: {0} \u001b[0mEntering inner loop\n",
      "\u001b[0mprotocols.protein_interface_design.filters.AtomicContactCountFilter: {0} \u001b[0mselect (resi 69 and name  CD1) + (resi 71 and name  CD1)\n",
      "\u001b[0mprotocols.protein_interface_design.filters.AtomicContactCountFilter: {0} \u001b[0mEntering inner loop\n",
      "\u001b[0mprotocols.protein_interface_design.filters.AtomicContactCountFilter: {0} \u001b[0mEntering inner loop\n",
      "\u001b[0mprotocols.protein_interface_design.filters.AtomicContactCountFilter: {0} \u001b[0mEntering inner loop\n",
      "\u001b[0mprotocols.protein_interface_design.filters.AtomicContactCountFilter: {0} \u001b[0mEntering inner loop\n",
      "\u001b[0mprotocols.protein_interface_design.filters.AtomicContactCountFilter: {0} \u001b[0mEntering inner loop\n",
      "\u001b[0mprotocols.protein_interface_design.filters.AtomicContactCountFilter: {0} \u001b[0mEntering inner loop\n",
      "\u001b[0mprotocols.protein_interface_design.filters.AtomicContactCountFilter: {0} \u001b[0mEntering inner loop\n"
     ]
    },
    {
     "data": {
      "text/plain": [
       "28.0"
      ]
     },
     "execution_count": 87,
     "metadata": {},
     "output_type": "execute_result"
    }
   ],
   "source": [
    "# \"All\" mode\n",
    "xml = rosetta_scripts.XmlObjects.create_from_string('''\n",
    "<FILTERS>\n",
    "    <AtomicContactCount name=\"all_atomic_contact\" partition=\"none\" distance=\"4.5\"/>\n",
    "</FILTERS>\n",
    "''')\n",
    "all_atomic_contact_filter = xml.get_filter('all_atomic_contact')\n",
    "all_atomic_contact_filter.compute(pose)"
   ]
  },
  {
   "cell_type": "code",
   "execution_count": 90,
   "id": "3865e372-4b7e-4a36-8a19-271837ee6459",
   "metadata": {
    "tags": []
   },
   "outputs": [
    {
     "name": "stdout",
     "output_type": "stream",
     "text": [
      "\u001b[0mprotocols.rosetta_scripts.RosettaScriptsParser: {0} \u001b[0mGenerating XML Schema for rosetta_scripts...\n",
      "\u001b[0mprotocols.rosetta_scripts.RosettaScriptsParser: {0} \u001b[0m...done\n",
      "\u001b[0mprotocols.rosetta_scripts.RosettaScriptsParser: {0} \u001b[0mInitializing schema validator...\n",
      "\u001b[0mprotocols.rosetta_scripts.RosettaScriptsParser: {0} \u001b[0m...done\n",
      "\u001b[0mprotocols.rosetta_scripts.RosettaScriptsParser: {0} \u001b[0mValidating input script...\n",
      "\u001b[0mprotocols.rosetta_scripts.RosettaScriptsParser: {0} \u001b[0m...done\n",
      "\u001b[0mprotocols.rosetta_scripts.RosettaScriptsParser: {0} \u001b[0mParsed script:\n",
      "<ROSETTASCRIPTS>\n",
      "\t<FILTERS>\n",
      "\t\t<AtomicContactCount distance=\"4.5\" jump=\"1\" name=\"all_atomic_contact\" partition=\"jump\"/>\n",
      "\t</FILTERS>\n",
      "\t<PROTOCOLS/>\n",
      "</ROSETTASCRIPTS>\n",
      "\u001b[0mcore.scoring.ScoreFunctionFactory: {0} \u001b[0mSCOREFUNCTION: \u001b[32mbeta_nov16.wts\u001b[0m\n",
      "\u001b[0mprotocols.rosetta_scripts.RosettaScriptsParser: {0} \u001b[0mDefined filter named \"all_atomic_contact\" of type AtomicContactCount\n",
      "\u001b[0mprotocols.rosetta_scripts.ParsedProtocol: {0} \u001b[0mParsedProtocol mover with the following settings\n",
      "\u001b[0mcore.import_pose.import_pose: {0} \u001b[0mFile './data/denovo_binder.pdb' automatically determined to be of type PDB\n",
      "\u001b[0mcore.conformation.Conformation: {0} \u001b[0mFound disulfide between residues 148 186\n",
      "\u001b[0mcore.conformation.Conformation: {0} \u001b[0mcurrent variant for 148 CYS\n",
      "\u001b[0mcore.conformation.Conformation: {0} \u001b[0mcurrent variant for 186 CYS\n",
      "\u001b[0mcore.conformation.Conformation: {0} \u001b[0mcurrent variant for 148 CYD\n",
      "\u001b[0mcore.conformation.Conformation: {0} \u001b[0mcurrent variant for 186 CYD\n"
     ]
    }
   ],
   "source": [
    "# \"jump\" mode\n",
    "xml = rosetta_scripts.XmlObjects.create_from_string('''\n",
    "<FILTERS>\n",
    "    <AtomicContactCount name=\"all_atomic_contact\" partition=\"jump\" distance=\"4.5\" jump=\"1\"/>\n",
    "</FILTERS>\n",
    "''')\n",
    "all_atomic_contact_filter = xml.get_filter('all_atomic_contact')\n",
    "\n",
    "# 读取复合物结构\n",
    "complex_pose = pose_from_pdb('./data/denovo_binder.pdb')\n",
    "# all_atomic_contact_filter.compute(complex_pose) # 输出有点多，用户自行运行"
   ]
  },
  {
   "cell_type": "code",
   "execution_count": 89,
   "id": "68421173-8311-421a-8927-b320f394f5ff",
   "metadata": {
    "tags": []
   },
   "outputs": [
    {
     "name": "stdout",
     "output_type": "stream",
     "text": [
      "\u001b[0mprotocols.rosetta_scripts.RosettaScriptsParser: {0} \u001b[0mGenerating XML Schema for rosetta_scripts...\n",
      "\u001b[0mprotocols.rosetta_scripts.RosettaScriptsParser: {0} \u001b[0m...done\n",
      "\u001b[0mprotocols.rosetta_scripts.RosettaScriptsParser: {0} \u001b[0mInitializing schema validator...\n",
      "\u001b[0mprotocols.rosetta_scripts.RosettaScriptsParser: {0} \u001b[0m...done\n",
      "\u001b[0mprotocols.rosetta_scripts.RosettaScriptsParser: {0} \u001b[0mValidating input script...\n",
      "\u001b[0mprotocols.rosetta_scripts.RosettaScriptsParser: {0} \u001b[0m...done\n",
      "\u001b[0mprotocols.rosetta_scripts.RosettaScriptsParser: {0} \u001b[0mParsed script:\n",
      "<ROSETTASCRIPTS>\n",
      "\t<FILTERS>\n",
      "\t\t<AtomicContactCount distance=\"4.5\" jump=\"1\" name=\"all_atomic_contact\" partition=\"jump\"/>\n",
      "\t</FILTERS>\n",
      "\t<PROTOCOLS/>\n",
      "</ROSETTASCRIPTS>\n",
      "\u001b[0mcore.scoring.ScoreFunctionFactory: {0} \u001b[0mSCOREFUNCTION: \u001b[32mbeta_nov16.wts\u001b[0m\n",
      "\u001b[0mprotocols.rosetta_scripts.RosettaScriptsParser: {0} \u001b[0mDefined filter named \"all_atomic_contact\" of type AtomicContactCount\n",
      "\u001b[0mprotocols.rosetta_scripts.ParsedProtocol: {0} \u001b[0mParsedProtocol mover with the following settings\n",
      "\u001b[0mcore.import_pose.import_pose: {0} \u001b[0mFile './data/denovo_binder.pdb' automatically determined to be of type PDB\n",
      "\u001b[0mcore.conformation.Conformation: {0} \u001b[0mFound disulfide between residues 148 186\n",
      "\u001b[0mcore.conformation.Conformation: {0} \u001b[0mcurrent variant for 148 CYS\n",
      "\u001b[0mcore.conformation.Conformation: {0} \u001b[0mcurrent variant for 186 CYS\n",
      "\u001b[0mcore.conformation.Conformation: {0} \u001b[0mcurrent variant for 148 CYD\n",
      "\u001b[0mcore.conformation.Conformation: {0} \u001b[0mcurrent variant for 186 CYD\n"
     ]
    }
   ],
   "source": [
    "# \"chain\" mode\n",
    "xml = rosetta_scripts.XmlObjects.create_from_string('''\n",
    "<FILTERS>\n",
    "    <AtomicContactCount name=\"all_atomic_contact\" partition=\"jump\" distance=\"4.5\" jump=\"1\"/>\n",
    "</FILTERS>\n",
    "''')\n",
    "all_atomic_contact_filter = xml.get_filter('all_atomic_contact')\n",
    "\n",
    "# 读取复合物结构\n",
    "complex_pose = pose_from_pdb('./data/denovo_binder.pdb')\n",
    "# all_atomic_contact_filter.compute(complex_pose) 输出有点多，用户自行运行"
   ]
  },
  {
   "cell_type": "markdown",
   "id": "ad80b457-63e2-462a-a1de-fac450174db0",
   "metadata": {
    "tags": []
   },
   "source": [
    "#### 4.4 AtomicDistance\n",
    "计算指定两个原子之间的距离是否在cutoff距离之内呢？"
   ]
  },
  {
   "cell_type": "code",
   "execution_count": 71,
   "id": "f1e2090e-82c2-45a1-a4e6-d836625fc565",
   "metadata": {},
   "outputs": [
    {
     "name": "stdout",
     "output_type": "stream",
     "text": [
      "Atom Type: Nlys\n",
      "\telement: N\n",
      "\tLennard Jones: radius=1.80245 wdepth=0.161725\n",
      "\tLazaridis Karplus: lambda=3.5 volume=16.514 dgfree=-20.8646\n",
      "\tproperties: DONOR \n",
      "Extra Parameters: 1.75 1.55 0.79 1.55 1.44 1.5 1.55 -20 -10.695 -1.145 -20 -0.62 0 0 0 1.85 8.52379 0.025 0.01 0.005 -289.292 -0.697267 -1933.88 -1.56243 -93.2613 93.2593 0.00202205 715.165 74.6559 -74.6539 0.00268963 -1282.36 0.633 -0.367 0.926 -0.537 0.633 -0.367\n",
      "\n",
      "Atom Type: CObb\n",
      "\telement: C\n",
      "\tLennard Jones: radius=1.91666 wdepth=0.141799\n",
      "\tLazaridis Karplus: lambda=3.5 volume=13.221 dgfree=3.10425\n",
      "\tproperties: \n",
      "Extra Parameters: 2.14 1.7 0.72 1.7 1.89 1.76 1.65 0 0 0 1 0.51 0 0 0 2 8.81363 0.025 0.01 0.005 147.227 -0.811304 -8117.41 -2.17625 -85.8924 85.8904 0.00196363 900.14 168.481 -168.287 0.00113765 -6725.43 0 0 0 0 0 0\n",
      "\n",
      "76.1201477108032\n",
      "False\n"
     ]
    }
   ],
   "source": [
    "from pyrosetta.rosetta.protocols.simple_filters import AtomicDistanceFilter\n",
    "\n",
    "# 获取atom type基本信息:\n",
    "atom_NZ_index = pose.residue(11).atom_index(\"NZ\")\n",
    "atom_type = pose.residue(11).atom_type(atom_NZ_index)\n",
    "print(atom_type)\n",
    "\n",
    "atom_NZ_index = pose.residue(34).atom_index(\"C\")\n",
    "atom_type = pose.residue(34).atom_type(atom_NZ_index)\n",
    "print(atom_type)\n",
    "\n",
    "# 原子的AtomType: atom_desig1, atom_desig2\n",
    "# res1、res2: 残基的PDB名，\n",
    "# distance_filter = AtomicDistanceFilter(res1=11, res2=34, atom_desig1='NZ', atom_desig2='OE1')\n",
    "distance_filter = AtomicDistanceFilter(11, 34, 'Nlys', 'CObb', True, True, 3.0)\n",
    "print(distance_filter.score(pose))\n",
    "print(distance_filter.apply(pose))"
   ]
  },
  {
   "cell_type": "markdown",
   "id": "3c622eda-767a-467f-bf63-3d2f6b920634",
   "metadata": {},
   "source": [
    "#### 4.5 TerminusDistance(xmlobject)\n",
    "如果所有蛋白-蛋白相互作用界面上的残基离蛋白质的N或C端一级序列上距离。这个filter的意义在于不希望flexible的N或C端有氨基酸在相互作用界面上。"
   ]
  },
  {
   "cell_type": "code",
   "execution_count": 77,
   "id": "a9f46763-1847-4c22-a908-f939a641319e",
   "metadata": {},
   "outputs": [
    {
     "name": "stdout",
     "output_type": "stream",
     "text": [
      "\u001b[0mcore.import_pose.import_pose: {0} \u001b[0mFile './data/denovo_binder.pdb' automatically determined to be of type PDB\n",
      "\u001b[0mcore.conformation.Conformation: {0} \u001b[0mFound disulfide between residues 148 186\n",
      "\u001b[0mcore.conformation.Conformation: {0} \u001b[0mcurrent variant for 148 CYS\n",
      "\u001b[0mcore.conformation.Conformation: {0} \u001b[0mcurrent variant for 186 CYS\n",
      "\u001b[0mcore.conformation.Conformation: {0} \u001b[0mcurrent variant for 148 CYD\n",
      "\u001b[0mcore.conformation.Conformation: {0} \u001b[0mcurrent variant for 186 CYD\n",
      "\u001b[0mprotocols.rosetta_scripts.RosettaScriptsParser: {0} \u001b[0mGenerating XML Schema for rosetta_scripts...\n",
      "\u001b[0mprotocols.rosetta_scripts.RosettaScriptsParser: {0} \u001b[0m...done\n",
      "\u001b[0mprotocols.rosetta_scripts.RosettaScriptsParser: {0} \u001b[0mInitializing schema validator...\n",
      "\u001b[0mprotocols.rosetta_scripts.RosettaScriptsParser: {0} \u001b[0m...done\n",
      "\u001b[0mprotocols.rosetta_scripts.RosettaScriptsParser: {0} \u001b[0mValidating input script...\n",
      "\u001b[0mprotocols.rosetta_scripts.RosettaScriptsParser: {0} \u001b[0m...done\n",
      "\u001b[0mprotocols.rosetta_scripts.RosettaScriptsParser: {0} \u001b[0mParsed script:\n",
      "<ROSETTASCRIPTS>\n",
      "\t<FILTERS>\n",
      "\t\t<TerminusDistance distance=\"5\" jump_number=\"1\" name=\"nc_filter\"/>\n",
      "\t</FILTERS>\n",
      "\t<PROTOCOLS/>\n",
      "</ROSETTASCRIPTS>\n",
      "\u001b[0mcore.scoring.ScoreFunctionFactory: {0} \u001b[0mSCOREFUNCTION: \u001b[32mbeta_nov16.wts\u001b[0m\n",
      "\u001b[0mprotocols.simple_filters.TerminusDistanceFilter: {0} \u001b[0mDistance From Terminus filter over jump number 1 with cutoff 5\n",
      "\u001b[0mprotocols.rosetta_scripts.RosettaScriptsParser: {0} \u001b[0mDefined filter named \"nc_filter\" of type TerminusDistance\n",
      "\u001b[0mprotocols.rosetta_scripts.ParsedProtocol: {0} \u001b[0mParsedProtocol mover with the following settings\n",
      "\u001b[0mcore.scoring.ScoreFunctionFactory: {0} \u001b[0mSCOREFUNCTION: \u001b[32mbeta_nov16.wts\u001b[0m\n",
      "\u001b[0mprotocols.simple_filters.TerminusDistanceFilter: {0} \u001b[0mnear terminus: 6. passing.\n"
     ]
    },
    {
     "data": {
      "text/plain": [
       "True"
      ]
     },
     "execution_count": 77,
     "metadata": {},
     "output_type": "execute_result"
    }
   ],
   "source": [
    "from pyrosetta.rosetta.protocols import rosetta_scripts \n",
    "\n",
    "# 读取复合物结构\n",
    "complex_pose = pose_from_pdb('./data/denovo_binder.pdb')\n",
    "\n",
    "xml = rosetta_scripts.XmlObjects.create_from_string('''\n",
    "<FILTERS>\n",
    "    <TerminusDistance name=\"nc_filter\" jump_number=\"1\" distance=\"5\"/>\n",
    "</FILTERS>\n",
    "''')\n",
    "\n",
    "terminus_distance_filter = xml.get_filter('nc_filter')\n",
    "terminus_distance_filter.apply(complex_pose)"
   ]
  },
  {
   "cell_type": "markdown",
   "id": "071ee450-d0da-477d-b718-faf3a175055d",
   "metadata": {},
   "source": [
    "### 5. Sequence analysis"
   ]
  },
  {
   "cell_type": "markdown",
   "id": "c59b6ade-e37d-4f46-9ddd-84112931a4ef",
   "metadata": {},
   "source": [
    "#### 5.1 LongestContinuousPolarSegment\n",
    "侦查Pose一级序列上，极性氨基酸残基最大连续长度的Filter。\n",
    "\n",
    "选项:\n",
    "- exclude_chain_termini： false表示极性区域能够延展到N端或C端的将被计算；true表示不被计算（默认为true，仅内部的极性残基块被计算）\n",
    "- count_gly_as_polar： true表示gly会被考虑为极性氨基酸，（默认为true）\n",
    "- filter_out_high ：true表示高于cutoff设定值的极性残基长度的pose会被reject掉；false表示低于cutoff会被reject（默认为true）\n",
    "- cutoff：最长极性残基长度的阈值，默认值为5\n",
    "- residue_selector：氨基酸选择器，应预先定义(可选)"
   ]
  },
  {
   "cell_type": "code",
   "execution_count": 99,
   "id": "206b2f1b-30b7-440f-b680-93243759bde0",
   "metadata": {},
   "outputs": [
    {
     "name": "stdout",
     "output_type": "stream",
     "text": [
      "\u001b[0mcore.import_pose.import_pose: {0} \u001b[0mFile './data/1ubq_clean.pdb' automatically determined to be of type PDB\n"
     ]
    },
    {
     "data": {
      "text/plain": [
       "5.0"
      ]
     },
     "execution_count": 99,
     "metadata": {},
     "output_type": "execute_result"
    }
   ],
   "source": [
    "from pyrosetta.rosetta.protocols.simple_filters import LongestContinuousPolarSegmentFilter\n",
    "\n",
    "# 读取复合物结构\n",
    "complex_pose = pose_from_pdb('./data/1ubq_clean.pdb')\n",
    "\n",
    "lps = LongestContinuousPolarSegmentFilter()\n",
    "lps.set_exclude_chain_termini(True)\n",
    "# lps.residue_selector() # 需要时使用\n",
    "# lps.filter_out_high(False)  # 需要时使用\n",
    "lps.set_count_gly_as_polar(False)\n",
    "lps.set_cutoff(10)\n",
    "lps.score(pose)"
   ]
  },
  {
   "cell_type": "markdown",
   "id": "0b311e49-ecfb-4b0a-8441-a0f01268ce6b",
   "metadata": {},
   "source": [
    "#### 5.2 LongestContinuousApolarSegment\n",
    "侦查Pose一级序列上，非极性氨基酸残基最大连续长度的Filter。"
   ]
  },
  {
   "cell_type": "code",
   "execution_count": 106,
   "id": "71c5c86d-b639-4816-8c44-b34984afbd74",
   "metadata": {},
   "outputs": [
    {
     "name": "stdout",
     "output_type": "stream",
     "text": [
      "\u001b[0mcore.import_pose.import_pose: {0} \u001b[0mFile './data/1ubq_clean.pdb' automatically determined to be of type PDB\n"
     ]
    },
    {
     "data": {
      "text/plain": [
       "5.0"
      ]
     },
     "execution_count": 106,
     "metadata": {},
     "output_type": "execute_result"
    }
   ],
   "source": [
    "from pyrosetta.rosetta.protocols.simple_filters import LongestContinuousApolarSegmentFilter\n",
    "\n",
    "# 读取复合物结构\n",
    "complex_pose = pose_from_pdb('./data/1ubq_clean.pdb')\n",
    "\n",
    "lps = LongestContinuousApolarSegmentFilter()\n",
    "lps.set_exclude_chain_termini(True)\n",
    "# lps.residue_selector() # 需要时使用\n",
    "# lps.filter_out_high(False)  # 需要时使用\n",
    "lps.set_count_gly_as_polar(False)\n",
    "lps.set_cutoff(10)\n",
    "lps.score(pose)"
   ]
  },
  {
   "cell_type": "markdown",
   "id": "4e66863a-2f0c-4d8b-be39-38c61d4f4f25",
   "metadata": {},
   "source": [
    "#### 5.3 SequenceDistanceFilter\n",
    "计算两个序列之间的hamming distance。\n",
    "\n",
    "https://zh.wikipedia.org/wiki/%E6%B1%89%E6%98%8E%E8%B7%9D%E7%A6%BB"
   ]
  },
  {
   "cell_type": "code",
   "execution_count": 113,
   "id": "52c81853-4319-4387-a26c-dc71a4ea728c",
   "metadata": {},
   "outputs": [
    {
     "name": "stdout",
     "output_type": "stream",
     "text": [
      "MQIFVKTLTGKTITLEVEPSDTIENVKAKIQDKEGIPPDQQRLIFAGKQLEDGRTLSDYNIQKESTLHLVLRLRGG\n"
     ]
    },
    {
     "data": {
      "text/plain": [
       "73.0"
      ]
     },
     "execution_count": 113,
     "metadata": {},
     "output_type": "execute_result"
    }
   ],
   "source": [
    "from pyrosetta.rosetta.protocols.simple_filters import SequenceDistance\n",
    "\n",
    "# 突变序列\n",
    "mut_seq = pose.sequence()\n",
    "mut_seq.replace('Q','C')\n",
    "print(mut_seq)\n",
    "\n",
    "seq_dis_filter = SequenceDistance()\n",
    "seq_dis_filter.target_seq(mut_seq)\n",
    "seq_dis_filter.threshold(10)\n",
    "seq_dis_filter.score(pose)"
   ]
  },
  {
   "cell_type": "markdown",
   "id": "acb5354f-5977-49e6-8df4-344f3cfa823a",
   "metadata": {},
   "source": [
    "### 6. Alignment analysis"
   ]
  },
  {
   "cell_type": "markdown",
   "id": "75b32715-b4f2-435b-8c6b-b31735032500",
   "metadata": {},
   "source": [
    "#### 6.1 AlignmentAAFinder"
   ]
  },
  {
   "cell_type": "code",
   "execution_count": null,
   "id": "ea66a9ad-f05c-4fbc-8d0f-3f3ff6032ebb",
   "metadata": {},
   "outputs": [],
   "source": []
  },
  {
   "cell_type": "markdown",
   "id": "889d99bf-cb74-4747-9d58-de49170b7d5a",
   "metadata": {},
   "source": [
    "#### 6.2 AlignmentGapInserter"
   ]
  },
  {
   "cell_type": "code",
   "execution_count": null,
   "id": "4885af4c-6985-4628-8990-b8467e323c36",
   "metadata": {},
   "outputs": [],
   "source": []
  },
  {
   "cell_type": "markdown",
   "id": "3e690670-3893-4480-957e-2bd4c409d102",
   "metadata": {},
   "source": [
    "### 7. Geometry"
   ]
  },
  {
   "cell_type": "markdown",
   "id": "9a2128d1-de8d-459a-8ad5-d94e24fd21ac",
   "metadata": {},
   "source": [
    "#### 7.1 AngleToVectorFilter"
   ]
  },
  {
   "cell_type": "code",
   "execution_count": null,
   "id": "0ea6d351-35d0-4ad5-ac95-d99b91162869",
   "metadata": {},
   "outputs": [],
   "source": []
  },
  {
   "cell_type": "markdown",
   "id": "46254e2c-eb18-4e64-9a3a-ff94cc17e3e8",
   "metadata": {},
   "source": [
    "#### 7.2 TorsionFilter"
   ]
  },
  {
   "cell_type": "code",
   "execution_count": null,
   "id": "efb248d6-1b85-496a-accc-56d70cbfff7b",
   "metadata": {},
   "outputs": [],
   "source": []
  },
  {
   "cell_type": "markdown",
   "id": "8a30888d-d027-434e-bc6a-cdaaca6c4452",
   "metadata": {},
   "source": [
    "#### 7.3 HelixPairing"
   ]
  },
  {
   "cell_type": "code",
   "execution_count": null,
   "id": "4fa644ca-63f1-4e31-91e7-fc48f2ecf55f",
   "metadata": {},
   "outputs": [],
   "source": []
  },
  {
   "cell_type": "markdown",
   "id": "f62e2722-7804-4152-90d6-64fa18507799",
   "metadata": {},
   "source": [
    "#### 7.4 SSMotifFinder"
   ]
  },
  {
   "cell_type": "markdown",
   "id": "1094e2b8-d49d-4821-9306-3bea10a05256",
   "metadata": {},
   "source": [
    "#### 7.5 SecondaryStructure"
   ]
  },
  {
   "cell_type": "markdown",
   "id": "d6cbdfe8-7c6d-45eb-8346-f9051b2e7aca",
   "metadata": {},
   "source": [
    "#### 7.6 SecondaryStructureCount"
   ]
  },
  {
   "cell_type": "markdown",
   "id": "4444be19-16ac-4e7f-8091-fcfbd135b93e",
   "metadata": {},
   "source": [
    "#### 7.7 SecondaryStructureHasResidue"
   ]
  },
  {
   "cell_type": "markdown",
   "id": "e5b7a513-0d08-4d14-96b7-326e54d3db83",
   "metadata": {},
   "source": [
    "#### 7.8 HelixKink"
   ]
  },
  {
   "cell_type": "markdown",
   "id": "8091982f-761b-4cbb-9400-805e235a8e0e",
   "metadata": {},
   "source": [
    "#### 7.9 Geometry"
   ]
  },
  {
   "cell_type": "markdown",
   "id": "c9f8cb00-9548-47b6-aac7-61f2b1ee6c1e",
   "metadata": {},
   "source": [
    "#### 7.10 HSSTriplet"
   ]
  },
  {
   "cell_type": "markdown",
   "id": "45fddaa1-f596-41ca-add0-ecbac70890b7",
   "metadata": {},
   "source": [
    "#### 7.11 PreProlineFilter"
   ]
  },
  {
   "cell_type": "markdown",
   "id": "b4024325-1cba-4cc4-b882-3abcfcdd9365",
   "metadata": {},
   "source": [
    "#### 7.12 LoopAnalyzerFilter"
   ]
  },
  {
   "cell_type": "code",
   "execution_count": null,
   "id": "04cd218e-0952-47fe-a8d1-4da3c2a3232d",
   "metadata": {},
   "outputs": [],
   "source": []
  },
  {
   "cell_type": "markdown",
   "id": "6cd45a4d-5737-4dcf-852e-a82238b61624",
   "metadata": {},
   "source": [
    "### 8. Packing/Connectivity"
   ]
  },
  {
   "cell_type": "markdown",
   "id": "073b4987-6d5f-4ee8-bfd9-11a754cd6276",
   "metadata": {},
   "source": [
    "#### 8.1 AverageDegree"
   ]
  },
  {
   "cell_type": "markdown",
   "id": "2e20f4b1-73ba-4b9f-8ca6-018ef980a782",
   "metadata": {},
   "source": [
    "#### 8.2 PackStat"
   ]
  },
  {
   "cell_type": "markdown",
   "id": "c56b947c-d3c0-4033-b23f-e5e5f9ff5741",
   "metadata": {},
   "source": [
    "#### 8.3 Holes"
   ]
  },
  {
   "cell_type": "markdown",
   "id": "5e99689f-8933-4f75-a27a-5e8b045170c5",
   "metadata": {},
   "source": [
    "#### 8.4 InterfaceHoles"
   ]
  },
  {
   "cell_type": "markdown",
   "id": "ddc20649-9662-4ebf-bb17-894ab34bf499",
   "metadata": {},
   "source": [
    "#### 8.5 NeighborType"
   ]
  },
  {
   "cell_type": "markdown",
   "id": "3d0a037a-e63c-4408-9c68-38bda76720c7",
   "metadata": {},
   "source": [
    "#### 8.6 ResInInterface"
   ]
  },
  {
   "cell_type": "markdown",
   "id": "30d77b00-daa3-48a9-b3ab-e2bc90622539",
   "metadata": {},
   "source": [
    "#### 8.7 ShapeComplementarity"
   ]
  },
  {
   "cell_type": "markdown",
   "id": "3a8b54f0-18f2-4070-828c-4745cda56543",
   "metadata": {},
   "source": [
    "#### 8.8 SSShapeComplementarity"
   ]
  },
  {
   "cell_type": "markdown",
   "id": "03a5767e-bc40-4750-b44a-6642479aa423",
   "metadata": {},
   "source": [
    "#### 8.9 SpecificResiduesNearInterface"
   ]
  },
  {
   "cell_type": "code",
   "execution_count": null,
   "id": "472c6c57-25f8-4d45-a268-dc35617673c6",
   "metadata": {},
   "outputs": [],
   "source": []
  },
  {
   "cell_type": "markdown",
   "id": "a615d650-5415-42a5-a233-eae25ee7b39f",
   "metadata": {},
   "source": [
    "### 9. Burial"
   ]
  },
  {
   "cell_type": "markdown",
   "id": "61c4e9ac-31d5-4967-b86d-3d8579512136",
   "metadata": {},
   "source": [
    "#### 9.1 TotalSasa"
   ]
  },
  {
   "cell_type": "markdown",
   "id": "f0569e46-60d4-45c2-b7c8-26e7fb59f4ae",
   "metadata": {},
   "source": [
    "#### 9.2 Sasa"
   ]
  },
  {
   "cell_type": "markdown",
   "id": "7204df8a-c3eb-4324-bb07-1a55809d6d48",
   "metadata": {},
   "source": [
    "#### 9.3 ResidueBurial"
   ]
  },
  {
   "cell_type": "markdown",
   "id": "d9ae86db-3a07-485c-aad0-763313dfd8b7",
   "metadata": {},
   "source": [
    "#### 9.4 BuriedSurfaceArea"
   ]
  },
  {
   "cell_type": "markdown",
   "id": "ca923aac-ff61-4c96-935f-204ec2f7b860",
   "metadata": {},
   "source": [
    "#### 9.5 ExposedHydrophobics"
   ]
  },
  {
   "cell_type": "code",
   "execution_count": null,
   "id": "b42db197-cac3-4f45-9c4c-c170d71a4b7a",
   "metadata": {},
   "outputs": [],
   "source": []
  },
  {
   "cell_type": "markdown",
   "id": "ceda2f92-b2c9-4e25-83b9-16720748a953",
   "metadata": {},
   "source": [
    "### 10. Comparison"
   ]
  },
  {
   "cell_type": "markdown",
   "id": "35fff1ed-2aa5-4b61-bf65-b0653824c8ab",
   "metadata": {},
   "source": [
    "#### 10.1 Rmsd"
   ]
  },
  {
   "cell_type": "markdown",
   "id": "78deb9fc-4f34-435b-898f-38289c93b8ea",
   "metadata": {},
   "source": [
    "#### 10.2 SidechainRmsd"
   ]
  },
  {
   "cell_type": "markdown",
   "id": "64483d0e-754e-4ef5-acdf-8a07bb38174d",
   "metadata": {},
   "source": [
    "#### 10.3 IRmsd"
   ]
  },
  {
   "cell_type": "markdown",
   "id": "97d1d6dd-1d9e-4697-8358-a0052c9bed1b",
   "metadata": {},
   "source": [
    "#### 10.4 RmsdFromResidueSelectorFilter"
   ]
  },
  {
   "cell_type": "markdown",
   "id": "31913357-a608-4cea-9bdd-f6a3b8aa1c23",
   "metadata": {
    "tags": []
   },
   "source": [
    "#### 10.5 SequenceRecovery"
   ]
  },
  {
   "cell_type": "code",
   "execution_count": null,
   "id": "c51fd78b-f7c7-40d4-ae41-2baa97689317",
   "metadata": {},
   "outputs": [],
   "source": []
  },
  {
   "cell_type": "markdown",
   "id": "25cdf122-9e70-4305-84fd-8a3c92bb8248",
   "metadata": {},
   "source": [
    "### 11. bonding"
   ]
  },
  {
   "cell_type": "markdown",
   "id": "399b9e36-9134-4703-a7ec-9993c8794988",
   "metadata": {},
   "source": [
    "#### 11.1 ChainBreak"
   ]
  },
  {
   "cell_type": "markdown",
   "id": "50dbeb54-d697-45ef-8fea-a1913b08085e",
   "metadata": {},
   "source": [
    "#### 11.2 HbondsToResidue"
   ]
  },
  {
   "cell_type": "markdown",
   "id": "71284909-94d7-4fc4-9d85-c6d690441467",
   "metadata": {},
   "source": [
    "#### 11.3 SimpleHbondsToAtom"
   ]
  },
  {
   "cell_type": "markdown",
   "id": "e3b4938c-61ce-4969-a61d-556f429ca821",
   "metadata": {},
   "source": [
    "#### 11.4 HbondsToAtom"
   ]
  },
  {
   "cell_type": "markdown",
   "id": "43bfcf95-f179-4c85-a020-2baf2ad6880f",
   "metadata": {},
   "source": [
    "#### 11.5 PeptideInternalHbondsFilter"
   ]
  },
  {
   "cell_type": "markdown",
   "id": "5a9f0fe5-1eff-4f6a-b32e-0b75645953d2",
   "metadata": {},
   "source": [
    "#### 11.6 BuriedUnsatHbonds"
   ]
  },
  {
   "cell_type": "markdown",
   "id": "2a6a7cf4-5731-48ed-bd26-0c82dc4ed221",
   "metadata": {},
   "source": [
    "#### 11.7 BuriedUnsatHbonds2"
   ]
  },
  {
   "cell_type": "markdown",
   "id": "09b0d231-7e0f-4f1c-9faa-5fcd4e246012",
   "metadata": {},
   "source": [
    "#### 11.8 OversaturatedHbondAcceptorFilter"
   ]
  },
  {
   "cell_type": "markdown",
   "id": "db2341fc-4518-486a-be64-9086f6c4c89a",
   "metadata": {},
   "source": [
    "#### 11.9 DisulfideFilter"
   ]
  },
  {
   "cell_type": "markdown",
   "id": "507f0314-63c7-4b8f-ac01-590a0af32400",
   "metadata": {},
   "source": [
    "#### 11.10 AveragePathLength"
   ]
  },
  {
   "cell_type": "markdown",
   "id": "453efbe6-1d3d-4c2a-8f15-5e6081c9055f",
   "metadata": {},
   "source": [
    "#### 11.11 DisulfideEntropy"
   ]
  },
  {
   "cell_type": "code",
   "execution_count": null,
   "id": "bade33d7-7d66-4bbd-821d-bc27ea62cf8a",
   "metadata": {},
   "outputs": [],
   "source": []
  }
 ],
 "metadata": {
  "kernelspec": {
   "display_name": "Python 3",
   "language": "python",
   "name": "python3"
  },
  "language_info": {
   "codemirror_mode": {
    "name": "ipython",
    "version": 3
   },
   "file_extension": ".py",
   "mimetype": "text/x-python",
   "name": "python",
   "nbconvert_exporter": "python",
   "pygments_lexer": "ipython3",
   "version": "3.7.10"
  }
 },
 "nbformat": 4,
 "nbformat_minor": 5
}
