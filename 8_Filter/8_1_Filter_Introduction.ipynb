{
 "cells": [
  {
   "cell_type": "markdown",
   "metadata": {},
   "source": [
    "# Rosetta Filter"
   ]
  },
  {
   "cell_type": "markdown",
   "metadata": {},
   "source": [
    "@Author: 黄健\n",
    "@E-mail: jian.huang@xtalpi.com\n",
    "\n",
    "@Proofread: 吴炜坤\n",
    "@email：weikun.wu@xtalpi.com\n",
    "\n",
    "参考:\n",
    "\n",
    "https://new.rosettacommons.org/docs/latest/scripting_documentation/RosettaScripts/Filters/Filters-RosettaScripts\n",
    "\n",
    "https://new.rosettacommons.org/docs/latest/scripting_documentation/RosettaScripts/Filters/filter_pages/SimpleMetricFilter\n",
    "\n",
    "</br>\n",
    "\n",
    "### 1. 为什么需要用Filters？"
   ]
  },
  {
   "cell_type": "markdown",
   "metadata": {},
   "source": [
    "由于Rosetta采用使用MCMC算法，因此并不是每一个在轨迹中的构象都是“好”的。如果采样是多步，每步都依赖于前一步的结果，当某一步骤中产生的构象是不可靠的，后续的所有采样步骤消耗的计算资源是浪费的，如果有的放矢地设置一些过滤器将初始阶段产生的“劣质”构象丢弃掉，无疑可以加速采样的过程并提高可靠性，这就是Rosetta中设置Filter(过滤模块)的初衷。\n",
    "\n",
    "举个例子，我们知道在ubiqutin(一种蛋白质)的构象优化过程中保留原构象中保留的K11和E34的盐桥是重要的，因此如果在Repack优化侧链时该盐桥被破坏，那么在后续的能量最小化的过程中就不太可能重新连接起来。如果在这一步中指定了相应的Filter，就可以从多条模拟轨迹中筛选出那些盐桥没有被破坏的构象作为后续采样的Pose输入。"
   ]
  },
  {
   "cell_type": "markdown",
   "metadata": {},
   "source": [
    "<center><img src=\"./img/salt_brigde.png\" width = \"400\" height = \"300\" align=center /> </center>"
   ]
  },
  {
   "cell_type": "markdown",
   "metadata": {},
   "source": [
    "Rosetta中Filter模块分为两个大类别，SimpleMetricFilter以及其他已经定义好的Filters:\n",
    "- 在前面的章节中，我们认识了SimpleMetrics，它是Rosetta新一代的数据分析和特征报告工具，可以在计算流程的任意步骤处使用SimpleMetrics去获取当前Pose的特征数据，SimpleMetricFilter以SimpleMetrics输出作为阈值进行筛选。\n",
    "- Filters的种类多于SimpleMetricFilter，一般会以某些结构上的度量（角度、距离等）作为阈值条件，以决定构象的去留。如在设定盐桥的例子里面，我们可以简单地通过设定两个残基之间的距离应小于4埃，来达到滤掉无特定盐桥构象的目的。"
   ]
  },
  {
   "cell_type": "markdown",
   "metadata": {},
   "source": [
    "#### 思考\n",
    "\n",
    "相对于生成大量构象进行筛选，为何不从constraint出发直接添加限制，让能量函数有偏向性到用户所需要的构象？\n",
    "\n",
    "当然其实我们在之前的章节中介绍过constraint，所以如果我们在一开始就对构象中某些测量性质有要求，直接使用constraint、restraint会比Filter在搜索之后进行过滤的操作更为方便（相当于constraint在上游进行限制，而Filter是在暴力搜索构象后逐步筛选过滤）。这样看来，似乎Filter会比较低效。但往往设定采样的constraints和能量函数的有偏性质不那么好拿捏控制，所以至今Filter仍然是重要的保留模块。\n",
    "\n",
    "***"
   ]
  },
  {
   "cell_type": "markdown",
   "metadata": {},
   "source": [
    "### 2.通过xmlobject使用Filters\n",
    "\n",
    "由于历史原因，基本上每一种Filter都可以通过xmlobject的方式调用(关于RS将在第九章进行详细介绍)，Filter的基本语法如下:"
   ]
  },
  {
   "cell_type": "markdown",
   "metadata": {},
   "source": [
    "```\n",
    "<FILTERS>\n",
    "\t<SomeFilterName name=\"&string\" confidence=\"(1 &Real)\" other_option=\"\"/>\n",
    "</FILTERS>\n",
    "```"
   ]
  },
  {
   "cell_type": "markdown",
   "metadata": {},
   "source": [
    "值得注意的是，Filter的定义中的confidence的选项，一般而言所有的Filter的confidence默认值均为“1”，这表示该Filter作为一个任务终止与否的逻辑门，符合条件继续任务，不符合条件终止任务。若设定confidence的值为“0”，此时的Filter的作用类似于SimpleMetrics，仅仅根据规则计算特定的测量值或性质，而不会终止任务。若设定confidence的值介于0~1之间，例如0.5，那么在构象搜索的1-confidence（1-0.5=0.5），即一半的时间里总是为“True”，继续进行任务。"
   ]
  },
  {
   "cell_type": "markdown",
   "metadata": {},
   "source": [
    "举一个实例进行说明:"
   ]
  },
  {
   "cell_type": "code",
   "execution_count": 7,
   "metadata": {
    "scrolled": true,
    "tags": []
   },
   "outputs": [
    {
     "name": "stdout",
     "output_type": "stream",
     "text": [
      "PyRosetta-4 2021 [Rosetta PyRosetta4.conda.mac.cxx11thread.serialization.python36.Release 2021.18+release.54b4909cd528ede1d749ea69e8046c244fc797f2 2021-05-04T21:04:43] retrieved from: http://www.pyrosetta.org\n",
      "(C) Copyright Rosetta Commons Member Institutions. Created in JHU by Sergey Lyskov and PyRosetta Team.\n",
      "\u001b[0mcore.init: {0} \u001b[0mChecking for fconfig files in pwd and ./rosetta/flags\n",
      "\u001b[0mcore.init: {0} \u001b[0mRosetta version: PyRosetta4.conda.mac.cxx11thread.serialization.python36.Release r282 2021.18+release.54b4909cd52 54b4909cd528ede1d749ea69e8046c244fc797f2 http://www.pyrosetta.org 2021-05-04T21:04:43\n",
      "\u001b[0mcore.init: {0} \u001b[0mcommand: PyRosetta -ex1 -ex2aro -database /opt/miniconda3/lib/python3.6/site-packages/pyrosetta/database\n",
      "\u001b[0mbasic.random.init_random_generator: {0} \u001b[0m'RNG device' seed mode, using '/dev/urandom', seed=1386844316 seed_offset=0 real_seed=1386844316 thread_index=0\n",
      "\u001b[0mbasic.random.init_random_generator: {0} \u001b[0mRandomGenerator:init: Normal mode, seed=1386844316 RG_type=mt19937\n",
      "\u001b[0mprotocols.rosetta_scripts.RosettaScriptsParser: {0} \u001b[0mGenerating XML Schema for rosetta_scripts...\n",
      "\u001b[0mprotocols.rosetta_scripts.RosettaScriptsParser: {0} \u001b[0m...done\n",
      "\u001b[0mprotocols.rosetta_scripts.RosettaScriptsParser: {0} \u001b[0mInitializing schema validator...\n",
      "\u001b[0mprotocols.rosetta_scripts.RosettaScriptsParser: {0} \u001b[0m...done\n",
      "\u001b[0mprotocols.rosetta_scripts.RosettaScriptsParser: {0} \u001b[0mValidating input script...\n",
      "\u001b[0mprotocols.rosetta_scripts.RosettaScriptsParser: {0} \u001b[0m...done\n",
      "\u001b[0mprotocols.rosetta_scripts.RosettaScriptsParser: {0} \u001b[0mParsed script:\n",
      "<ROSETTASCRIPTS>\n",
      "\t<FILTERS>\n",
      "\t\t<AtomicDistance atomtype1=\"Nlys\" atomtype2=\"OOC\" distance=\"3.0\" name=\"salt_bridge\" residue1=\"11A\" residue2=\"34A\"/>\n",
      "\t</FILTERS>\n",
      "\t<PROTOCOLS/>\n",
      "</ROSETTASCRIPTS>\n",
      "\u001b[0mcore.scoring.ScoreFunctionFactory: {0} \u001b[0mSCOREFUNCTION: \u001b[32mref2015\u001b[0m\n",
      "\u001b[0mprotocols.filters.AtomicDistanceFilter: {0} \u001b[0mAtomicDistance filter between Residue 1 atom type Nlys and Residue 2 atom type OOC with distance cutoff of 3\n",
      "\u001b[0mprotocols.rosetta_scripts.RosettaScriptsParser: {0} \u001b[0mDefined filter named \"salt_bridge\" of type AtomicDistance\n",
      "\u001b[0mprotocols.rosetta_scripts.ParsedProtocol: {0} \u001b[0mParsedProtocol mover with the following settings\n"
     ]
    }
   ],
   "source": [
    "# 这里给出一个最基本的Filter定义\n",
    "# 使用原子间的距离作为筛选条件\n",
    "from pyrosetta.rosetta.protocols.rosetta_scripts import *\n",
    "from pyrosetta import *\n",
    "init()\n",
    "\n",
    "xml_script = \"\"\"\n",
    "<FILTERS>\n",
    "        <AtomicDistance name=\"salt_bridge\" residue1=\"11A\" atomtype1=\"Nlys\" residue2=\"34A\" atomtype2=\"OOC\" distance=\"3.0\" />\n",
    "</FILTERS>\n",
    "\"\"\"\n",
    "\n",
    "# 通过xmlobject生成Filters\n",
    "xml = XmlObjects.create_from_string(xml_script)\n",
    "salt_bridge_filter = xml.get_filter(\"salt_bridge\")"
   ]
  },
  {
   "cell_type": "code",
   "execution_count": 8,
   "metadata": {},
   "outputs": [
    {
     "name": "stdout",
     "output_type": "stream",
     "text": [
      "\u001b[0mcore.import_pose.import_pose: {0} \u001b[0mFile './data/1ubq_clean.pdb' automatically determined to be of type PDB\n",
      "PDB file name: ./data/1ubq_clean.pdb\n",
      "Total residues: 76\n",
      "Sequence: MQIFVKTLTGKTITLEVEPSDTIENVKAKIQDKEGIPPDQQRLIFAGKQLEDGRTLSDYNIQKESTLHLVLRLRGG\n",
      "Fold tree:\n",
      "FOLD_TREE  EDGE 1 76 -1 \n"
     ]
    }
   ],
   "source": [
    "# 读入初始pose结构\n",
    "pose = pose_from_pdb(\"./data/1ubq_clean.pdb\")\n",
    "print(pose)"
   ]
  },
  {
   "cell_type": "code",
   "execution_count": 9,
   "metadata": {},
   "outputs": [
    {
     "name": "stdout",
     "output_type": "stream",
     "text": [
      "3.3466357734297865\n"
     ]
    }
   ],
   "source": [
    "# 使用当前filter对pose进行计算，即计算两个原子之间的距离\n",
    "print(salt_bridge_filter.compute(pose))"
   ]
  },
  {
   "cell_type": "code",
   "execution_count": 10,
   "metadata": {},
   "outputs": [
    {
     "data": {
      "text/plain": [
       "False"
      ]
     },
     "execution_count": 10,
     "metadata": {},
     "output_type": "execute_result"
    }
   ],
   "source": [
    "# 使用filter判断当前pose是否通过，通过为True，任务继续进行，否则为False，任务终止\n",
    "salt_bridge_filter.apply(pose)"
   ]
  },
  {
   "cell_type": "code",
   "execution_count": 12,
   "metadata": {},
   "outputs": [
    {
     "name": "stdout",
     "output_type": "stream",
     "text": [
      "\u001b[0mcore.pack.task: {0} \u001b[0mPacker task: initialize from command line()\n",
      "\u001b[0mcore.pack.pack_rotamers: {0} \u001b[0mbuilt 1401 rotamers at 76 positions.\n",
      "\u001b[0mcore.pack.pack_rotamers: {0} \u001b[0mRequesting all available threads for interaction graph computation.\n",
      "\u001b[0mcore.pack.interaction_graph.interaction_graph_factory: {0} \u001b[0mInstantiating DensePDInteractionGraph\n",
      "\u001b[0mcore.pack.rotamer_set.RotamerSets: {0} \u001b[0mCompleted interaction graph pre-calculation in 1 available threads (1 had been requested).\n",
      "\u001b[0mcore.scoring.ScoreFunctionFactory: {0} \u001b[0mSCOREFUNCTION: \u001b[32mref2015\u001b[0m\n"
     ]
    }
   ],
   "source": [
    "# 我们尝试使用pack和minimization的操作，看看是否能通过该filter？\n",
    "from pyrosetta.rosetta.protocols import minimization_packing as pack_min\n",
    "from pyrosetta.rosetta.core.pack.task import TaskFactory, operation\n",
    "\n",
    "scorefxn = create_score_function( \"ref2015\" )\n",
    "tf = TaskFactory()\n",
    "packer = pack_min.PackRotamersMover()\n",
    "packer.score_function(scorefxn)\n",
    "\n",
    "# InitializeFromCommandline会调用初始init（）中的选项\n",
    "tf.push_back(operation.InitializeFromCommandline())\n",
    "\n",
    "# RestrictToRepacking可以限制不允许进行design\n",
    "tf.push_back(operation.RestrictToRepacking())\n",
    "packer.task_factory(tf)\n",
    "\n",
    "# 能量最小化\n",
    "minimizer = pack_min.MinMover()\n",
    "packer.apply(pose)\n",
    "minimizer.apply(pose)"
   ]
  },
  {
   "cell_type": "code",
   "execution_count": 13,
   "metadata": {},
   "outputs": [
    {
     "data": {
      "text/plain": [
       "True"
      ]
     },
     "execution_count": 13,
     "metadata": {},
     "output_type": "execute_result"
    }
   ],
   "source": [
    "# 可以看到rosetta优化后的构象符合filter的条件\n",
    "salt_bridge_filter.apply(pose)"
   ]
  },
  {
   "cell_type": "code",
   "execution_count": 14,
   "metadata": {},
   "outputs": [
    {
     "data": {
      "text/plain": [
       "2.3640114111461292"
      ]
     },
     "execution_count": 14,
     "metadata": {},
     "output_type": "execute_result"
    }
   ],
   "source": [
    "# 打印具体的计算数值\n",
    "salt_bridge_filter.score(pose)"
   ]
  },
  {
   "cell_type": "markdown",
   "metadata": {},
   "source": [
    "### 3.通过PyRosetta的API使用Filters"
   ]
  },
  {
   "cell_type": "markdown",
   "metadata": {},
   "source": [
    "读者可以发现，每次使用xmlobject调用filter本质上先要构建出一个RosettaScript对象，会比较慢。用户也可以直接用PyRosetta的API直接调用filter, 也会让代码更加的简洁。"
   ]
  },
  {
   "cell_type": "markdown",
   "metadata": {},
   "source": [
    "举一个相同的例子，如果使用PyRosetta API来实现代码:"
   ]
  },
  {
   "cell_type": "code",
   "execution_count": 65,
   "metadata": {},
   "outputs": [
    {
     "name": "stdout",
     "output_type": "stream",
     "text": [
      "PyRosetta-4 2021 [Rosetta PyRosetta4.conda.mac.cxx11thread.serialization.python36.Release 2021.18+release.54b4909cd528ede1d749ea69e8046c244fc797f2 2021-05-04T21:04:43] retrieved from: http://www.pyrosetta.org\n",
      "(C) Copyright Rosetta Commons Member Institutions. Created in JHU by Sergey Lyskov and PyRosetta Team.\n",
      "\u001b[0mcore.init: {0} \u001b[0mChecking for fconfig files in pwd and ./rosetta/flags\n",
      "\u001b[0mcore.init: {0} \u001b[0mRosetta version: PyRosetta4.conda.mac.cxx11thread.serialization.python36.Release r282 2021.18+release.54b4909cd52 54b4909cd528ede1d749ea69e8046c244fc797f2 http://www.pyrosetta.org 2021-05-04T21:04:43\n",
      "\u001b[0mcore.init: {0} \u001b[0mcommand: PyRosetta -ex1 -ex2aro -database /opt/miniconda3/lib/python3.6/site-packages/pyrosetta/database\n",
      "\u001b[0mbasic.random.init_random_generator: {0} \u001b[0m'RNG device' seed mode, using '/dev/urandom', seed=570318775 seed_offset=0 real_seed=570318775 thread_index=0\n",
      "\u001b[0mbasic.random.init_random_generator: {0} \u001b[0mRandomGenerator:init: Normal mode, seed=570318775 RG_type=mt19937\n",
      "\u001b[0mcore.import_pose.import_pose: {0} \u001b[0mFile './data/1ubq_clean.pdb' automatically determined to be of type PDB\n",
      "Atom Type: Nlys\n",
      "\telement: N\n",
      "\tLennard Jones: radius=1.80245 wdepth=0.161725\n",
      "\tLazaridis Karplus: lambda=3.5 volume=16.514 dgfree=-20.8646\n",
      "\tproperties: DONOR \n",
      "Extra Parameters: 1.75 1.55 0.79 1.55 1.44 1.5 1.55 -20 -10.695 -1.145 -20 -0.62 0 0 0 1.85 8.52379 0.025 0.01 0.005 -289.292 -0.697267 -1933.88 -1.56243 -93.2613 93.2593 0.00202205 715.165 74.6559 -74.6539 0.00268963 -1282.36 0.633 -0.367 0.926 -0.537 0.633 -0.367\n",
      "\n"
     ]
    }
   ],
   "source": [
    "# 使用AtomicDistanceFilter API;\n",
    "from pyrosetta.rosetta.protocols.simple_filters import AtomicDistanceFilter\n",
    "from pyrosetta import *\n",
    "init()\n",
    "\n",
    "# 读入初始pose结构\n",
    "pose = pose_from_pdb(\"./data/1ubq_clean.pdb\")\n",
    "\n",
    "# 获取atom type基本信息:\n",
    "atom_NZ_index = res11.atom_index(\"NZ\")\n",
    "\n",
    "# 获取1号原子的atomtype所有的信息:\n",
    "atom_type = res11.atom_type(atom_NZ_index)\n",
    "print(atom_type)"
   ]
  },
  {
   "cell_type": "markdown",
   "metadata": {},
   "source": [
    "上述例子可以成功找到某个PDB中原子的名成对应的Rosetta Atom Type, 11号赖氨酸的NZ原子的AtomType为Nlys。"
   ]
  },
  {
   "cell_type": "code",
   "execution_count": 66,
   "metadata": {},
   "outputs": [
    {
     "name": "stdout",
     "output_type": "stream",
     "text": [
      "3.3466357734297865\n"
     ]
    }
   ],
   "source": [
    "# 原子的AtomType: atom_desig1, atom_desig2\n",
    "# res1、res2: 残基的PDB名，\n",
    "# distance_filter = AtomicDistanceFilter(res1=11, res2=34, atom_desig1='NZ', atom_desig2='OE1')\n",
    "distance_filter = AtomicDistanceFilter(11, 34, 'Nlys', 'OOC', True, True, 3.0)\n",
    "print(distance_filter.compute(pose))"
   ]
  },
  {
   "cell_type": "code",
   "execution_count": 67,
   "metadata": {},
   "outputs": [
    {
     "data": {
      "text/plain": [
       "False"
      ]
     },
     "execution_count": 67,
     "metadata": {},
     "output_type": "execute_result"
    }
   ],
   "source": [
    "distance_filter.apply(pose)"
   ]
  }
 ],
 "metadata": {
  "kernelspec": {
   "display_name": "Python 3",
   "language": "python",
   "name": "python3"
  },
  "language_info": {
   "codemirror_mode": {
    "name": "ipython",
    "version": 3
   },
   "file_extension": ".py",
   "mimetype": "text/x-python",
   "name": "python",
   "nbconvert_exporter": "python",
   "pygments_lexer": "ipython3",
   "version": "3.7.10"
  }
 },
 "nbformat": 4,
 "nbformat_minor": 4
}
