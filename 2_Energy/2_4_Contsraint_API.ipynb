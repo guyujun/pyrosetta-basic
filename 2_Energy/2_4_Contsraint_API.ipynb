{
 "cells": [
  {
   "cell_type": "code",
   "execution_count": null,
   "id": "3667ca90-3a38-4f13-b0f5-3f89c5699fb3",
   "metadata": {},
   "outputs": [],
   "source": []
  },
  {
   "cell_type": "markdown",
   "id": "d5e9f0ee-92cf-4382-92e2-b22a8878560e",
   "metadata": {},
   "source": [
    "### 三、一个简单Constraints的例子"
   ]
  },
  {
   "cell_type": "markdown",
   "id": "d5906585-13d6-48bc-bce8-201c2d78afc1",
   "metadata": {},
   "source": [
    "这里我们将使用ROSETTA中的constraint file（限制文件）。\n",
    "\n",
    "限制文件中按照一定格式规定限制类型、限制对象、限制的惩罚函数形式。\n",
    "\n",
    "    -> 限制文件的格式：参考 https://new.rosettacommons.org/docs/latest/rosetta_basics/file_types/constraint-file\n",
    "    \n",
    "    -> 作者已经预先在data文件目录下准备了constraint_file。\n",
    "\n",
    "! under linux shell\n",
    "\n",
    "cat constraint_file\n",
    "\n",
    "AtomPair CA 20 CA 6 LINEAR_PENALTY 9.0 0 0 1.0"
   ]
  },
  {
   "cell_type": "code",
   "execution_count": 15,
   "id": "c04c5515-cb29-4519-9abf-a31fe89df454",
   "metadata": {},
   "outputs": [
    {
     "name": "stdout",
     "output_type": "stream",
     "text": [
      "PyRosetta-4 2020 [Rosetta PyRosetta4.Release.python36.ubuntu 2020.28+release.8ecab77aa50ac1301efe53641e07e09ac91fee3b 2020-07-07T16:41:06] retrieved from: http://www.pyrosetta.org\n",
      "(C) Copyright Rosetta Commons Member Institutions. Created in JHU by Sergey Lyskov and PyRosetta Team.\n",
      "\u001b[0mcore.init: \u001b[0mChecking for fconfig files in pwd and ./rosetta/flags\n",
      "\u001b[0mcore.init: \u001b[0mRosetta version: PyRosetta4.Release.python36.ubuntu r260 2020.28+release.8ecab77aa50 8ecab77aa50ac1301efe53641e07e09ac91fee3b http://www.pyrosetta.org 2020-07-07T16:41:06\n",
      "\u001b[0mcore.init: \u001b[0mcommand: PyRosetta -ex1 -ex2aro -database /home/huangjian/miniconda3/envs/biodesign/lib/python3.6/site-packages/pyrosetta-2020.28+release.8ecab77aa50-py3.6-linux-x86_64.egg/pyrosetta/database\n",
      "\u001b[0mbasic.random.init_random_generator: \u001b[0m'RNG device' seed mode, using '/dev/urandom', seed=1076598603 seed_offset=0 real_seed=1076598603\n",
      "\u001b[0mbasic.random.init_random_generator: \u001b[0mRandomGenerator:init: Normal mode, seed=1076598603 RG_type=mt19937\n"
     ]
    }
   ],
   "source": [
    "# 在1ubq_clean.pdb的例子上施加原子对的限制\n",
    "\n",
    "from pyrosetta import *\n",
    "pyrosetta.init()\n",
    "\n",
    "# 初始化REF2015的打分函数对象\n",
    "my_scorefxn = create_score_function('ref2015')\n",
    "\n",
    "# reweight the score I need\n",
    "# 需要先将原子对的所属定义的score项权重设定为1\n",
    "my_scorefxn.set_weight(pyrosetta.rosetta.core.scoring.atom_pair_constraint, 1.0) "
   ]
  },
  {
   "cell_type": "code",
   "execution_count": 16,
   "id": "5235c20a-f8e0-4ff7-a2af-f73b0e06b479",
   "metadata": {},
   "outputs": [],
   "source": [
    "from pyrosetta.rosetta.protocols.constraint_movers import *\n",
    "cst_set = ConstraintSetMover()\n",
    "cst_set.add_constraints(False) # True=在原有限制基础上额外再添加限制，False= 从文件中读取并覆盖所有的限制。\n",
    "cst_set.constraint_file('./data/constraint_file')"
   ]
  },
  {
   "cell_type": "code",
   "execution_count": 17,
   "id": "01325811-8b2d-4793-abe6-e119bbfe69bb",
   "metadata": {},
   "outputs": [
    {
     "name": "stdout",
     "output_type": "stream",
     "text": [
      "\u001b[0mcore.import_pose.import_pose: \u001b[0mFile './data/1ubq_clean.pdb' automatically determined to be of type PDB\n",
      "\u001b[0mcore.scoring.constraints.ConstraintsIO: \u001b[0mread constraints from ./data/constraint_file\n",
      "\u001b[0mcore.scoring.constraints.ConstraintsIO: \u001b[0mRead in 1 constraints\n"
     ]
    }
   ],
   "source": [
    "# load pose from 1ubq_clean.pdb\n",
    "initial_pose = pose_from_pdb(\"./data/1ubq_clean.pdb\")\n",
    "\n",
    "pose = Pose()\n",
    "pose.assign(initial_pose)\n",
    "cst_set.apply(pose)"
   ]
  },
  {
   "cell_type": "code",
   "execution_count": 18,
   "id": "521ef55a-c19a-4a17-80c2-eb3fe3faef8e",
   "metadata": {},
   "outputs": [
    {
     "name": "stdout",
     "output_type": "stream",
     "text": [
      "ResiduePairConstraints: total: 20   plotting active...\n",
      "ResiduePairConstraints (6,20)\n",
      "AtomPairConstraint (2,20-2,6)\n",
      "         r      func     dfunc dfunc_est\n",
      "         2     7.000     0.000    -1.000\n",
      "       2.5     6.500     0.000    -1.000\n",
      "         3     6.000     0.000    -1.000\n",
      "       3.5     5.500     0.000    -1.000\n",
      "         4     5.000     0.000    -1.000\n",
      "       4.5     4.500     0.000    -1.000\n",
      "         5     4.000     0.000    -1.000\n",
      "       5.5     3.500     0.000    -1.000\n",
      "         6     3.000     0.000    -1.000\n",
      "       6.5     2.500     0.000    -1.000\n",
      "         7     2.000     0.000    -1.000\n",
      "       7.5     1.500     0.000    -1.000\n",
      "         8     1.000     0.000    -1.000\n",
      "       8.5     0.500     0.000    -1.000\n",
      "         9     0.000     0.000     0.000\n",
      "       9.5     0.500     0.000     1.000\n",
      "        10     1.000     0.000     1.000\n",
      "      10.5     1.500     0.000     1.000\n",
      "        11     2.000     0.000     1.000\n",
      "      11.5     2.500     0.000     1.000\n",
      "        12     3.000     0.000     1.000\n",
      "      12.5     3.500     0.000     1.000\n",
      "        13     4.000     0.000     1.000\n",
      "      13.5     4.500     0.000     1.000\n",
      "        14     5.000     0.000     1.000\n",
      "      14.5     5.500     0.000     1.000\n",
      "        15     6.000     0.000     1.000\n",
      "      15.5     6.500     0.000     1.000\n",
      "        16     7.000     0.000     1.000\n",
      "      16.5     7.500     0.000     1.000\n",
      "        17     8.000     0.000     1.000\n",
      "      17.5     8.500     0.000     1.000\n",
      "        18     9.000     0.000     1.000\n",
      "      18.5     9.500     0.000     1.000\n",
      "        19    10.000     0.000     1.000\n",
      "      19.5    10.500     0.000     1.000\n",
      "        20    11.000     0.000     1.000\n",
      "\n",
      "ResiduePairConstraints (20,6)\n",
      "AtomPairConstraint (2,20-2,6)\n",
      "         r      func     dfunc dfunc_est\n",
      "         2     7.000     0.000    -1.000\n",
      "       2.5     6.500     0.000    -1.000\n",
      "         3     6.000     0.000    -1.000\n",
      "       3.5     5.500     0.000    -1.000\n",
      "         4     5.000     0.000    -1.000\n",
      "       4.5     4.500     0.000    -1.000\n",
      "         5     4.000     0.000    -1.000\n",
      "       5.5     3.500     0.000    -1.000\n",
      "         6     3.000     0.000    -1.000\n",
      "       6.5     2.500     0.000    -1.000\n",
      "         7     2.000     0.000    -1.000\n",
      "       7.5     1.500     0.000    -1.000\n",
      "         8     1.000     0.000    -1.000\n",
      "       8.5     0.500     0.000    -1.000\n",
      "         9     0.000     0.000     0.000\n",
      "       9.5     0.500     0.000     1.000\n",
      "        10     1.000     0.000     1.000\n",
      "      10.5     1.500     0.000     1.000\n",
      "        11     2.000     0.000     1.000\n",
      "      11.5     2.500     0.000     1.000\n",
      "        12     3.000     0.000     1.000\n",
      "      12.5     3.500     0.000     1.000\n",
      "        13     4.000     0.000     1.000\n",
      "      13.5     4.500     0.000     1.000\n",
      "        14     5.000     0.000     1.000\n",
      "      14.5     5.500     0.000     1.000\n",
      "        15     6.000     0.000     1.000\n",
      "      15.5     6.500     0.000     1.000\n",
      "        16     7.000     0.000     1.000\n",
      "      16.5     7.500     0.000     1.000\n",
      "        17     8.000     0.000     1.000\n",
      "      17.5     8.500     0.000     1.000\n",
      "        18     9.000     0.000     1.000\n",
      "      18.5     9.500     0.000     1.000\n",
      "        19    10.000     0.000     1.000\n",
      "      19.5    10.500     0.000     1.000\n",
      "        20    11.000     0.000     1.000\n",
      "\n",
      "IntraResidueConstraints: total: 0 showing active...\n",
      "NonResiduePairConstraints: total: 0 showing active...\n",
      "\n"
     ]
    }
   ],
   "source": [
    "# 打印查看当前pose所有设定的constraint\n",
    "print(pose.constraint_set())"
   ]
  },
  {
   "cell_type": "markdown",
   "id": "49f19e63-b563-42a5-b2b6-5bf413760538",
   "metadata": {},
   "source": [
    "### 小结\n",
    "\n",
    "从这个简单的例子中可以看到，使用“限制文件”对pose进行限制的方法理论上适用于所有的场景。因为只要我们按照rosetta的要求编写所有的限制规则于限制文件中，这种方法就可以最大化用户自由度，但是缺点是使用“限制文件”事先需要对限制文件的编写规则有一定的了解和把握。\n",
    "\n"
   ]
  },
  {
   "cell_type": "markdown",
   "id": "aaa31827-3fe0-4227-b6b8-72ba2d1c5592",
   "metadata": {},
   "source": [
    "### 习题\n",
    "\n",
    "1. 在1ubq_clean.pdb的pose中使用HARMONIC限制某二面角（可自己选择）。（注意score需要实现设定对应weight为1的开放状态；难度：*）"
   ]
  },
  {
   "cell_type": "code",
   "execution_count": null,
   "id": "7d540269-2f9b-466c-8f65-a02d567b9d6c",
   "metadata": {},
   "outputs": [],
   "source": []
  }
 ],
 "metadata": {
  "kernelspec": {
   "display_name": "Python 3",
   "language": "python",
   "name": "python3"
  },
  "language_info": {
   "codemirror_mode": {
    "name": "ipython",
    "version": 3
   },
   "file_extension": ".py",
   "mimetype": "text/x-python",
   "name": "python",
   "nbconvert_exporter": "python",
   "pygments_lexer": "ipython3",
   "version": "3.7.10"
  }
 },
 "nbformat": 4,
 "nbformat_minor": 5
}
