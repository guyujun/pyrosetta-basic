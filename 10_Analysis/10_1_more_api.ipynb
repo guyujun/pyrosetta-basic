{
 "cells": [
  {
   "cell_type": "markdown",
   "id": "ac64343b-1edd-4dd7-9b21-889e4429bdcd",
   "metadata": {},
   "source": [
    "# Rstoolbox Plot API\n",
    "\n",
    "@Author: 吴炜坤\n",
    "\n",
    "@email：weikun.wu@xtalpi.com/weikunwu@163.com"
   ]
  },
  {
   "cell_type": "markdown",
   "id": "0cbcffee-9896-4cdd-8257-c639fb088faf",
   "metadata": {},
   "source": [
    "在上一章节，我们已经介绍了最重要，且最基础的rstoolbox的使用方法。在这一节，我们尝试撰写一些rstoolbox的作图API以及蛋白设计筛选的"
   ]
  },
  {
   "cell_type": "code",
   "execution_count": null,
   "id": "d49196e9-79bc-4c76-84c5-09d95792cd05",
   "metadata": {},
   "outputs": [],
   "source": []
  }
 ],
 "metadata": {
  "kernelspec": {
   "display_name": "Python 3",
   "language": "python",
   "name": "python3"
  },
  "language_info": {
   "codemirror_mode": {
    "name": "ipython",
    "version": 3
   },
   "file_extension": ".py",
   "mimetype": "text/x-python",
   "name": "python",
   "nbconvert_exporter": "python",
   "pygments_lexer": "ipython3",
   "version": "3.7.10"
  }
 },
 "nbformat": 4,
 "nbformat_minor": 5
}
