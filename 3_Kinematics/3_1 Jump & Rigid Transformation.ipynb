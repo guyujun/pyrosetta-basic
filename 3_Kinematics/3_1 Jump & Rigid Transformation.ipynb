{
 "cells": [
  {
   "cell_type": "markdown",
   "id": "f3d8c35e",
   "metadata": {},
   "source": [
    "# FoldTree Jump、Cutpoint and AtomTree"
   ]
  },
  {
   "cell_type": "markdown",
   "id": "6b014b71",
   "metadata": {},
   "source": [
    "上一节中，我们介绍了Rosetta中坐标的处理方式Rosetta的基本概念，及其顺序性。这一节中，我们将继续介绍：   \n",
    "(1)FoldTree的另两个特性：跳跃性和可切割性。  \n",
    "(2)基于Jump的Rigid-body Transformations"
   ]
  },
  {
   "cell_type": "code",
   "execution_count": null,
   "id": "f086eb81",
   "metadata": {},
   "outputs": [],
   "source": [
    "# 初始化pyrosetta，使用pyrosetta必须要做的一件事情\n",
    "from pyrosetta import *\n",
    "from pyrosetta.rosetta import *\n",
    "from pyrosetta.teaching import *\n",
    "from pyrosetta.toolbox import cleanATOM\n",
    "# load\n",
    "import nglview\n",
    "from pyrosetta import init, pose_from_pdb\n",
    "init()"
   ]
  },
  {
   "cell_type": "markdown",
   "id": "956e446f",
   "metadata": {},
   "source": [
    "## FoldTree的跳跃性和可切割性"
   ]
  },
  {
   "cell_type": "markdown",
   "id": "3309ddef",
   "metadata": {},
   "source": [
    "上一节中我们已经提到了FoldTree的另外两个特性：跳跃性和可切割性，这一节我们将详细的介绍他们。"
   ]
  },
  {
   "cell_type": "markdown",
   "id": "29340e34",
   "metadata": {},
   "source": [
    "### FoldTree的跳跃性"
   ]
  },
  {
   "cell_type": "markdown",
   "id": "0a905a9c",
   "metadata": {},
   "source": [
    "在FoldTree的概念中，蛋白质的所有残基都是\"相互连接\"的，上一节我们已经提过，在FoldTree中当蛋白质有多条链组成时，尽管一条链中的残基都是共价连接，多条链之间实际上并不存在实际的共价连接。此时，FoldTree中表示这种虚拟共价连接的即为Jump。   \n",
    "Jump实际上是一个针对蛋白的刚性的变化，可以视为为一种虚拟的共价连接。如同跳跃一般，可以建立一种远程的上下游关系。这种描述可能会有一些抽象，我们通过实例的方式来进行讲解。"
   ]
  },
  {
   "cell_type": "markdown",
   "id": "70736291",
   "metadata": {},
   "source": [
    "首先我们使用了cleanATOM方法来对我们的目标PDB进行了清洗。并得到了该pose的FoldTree。"
   ]
  },
  {
   "cell_type": "code",
   "execution_count": null,
   "id": "96631247",
   "metadata": {},
   "outputs": [],
   "source": [
    "#首先读取data文件中的PDB：1V74文件，并进行Clean\n",
    "# 首先clean data文件夹中的PDB文件，并在该文件夹中生成对应的.clean.pdb\n",
    "cleanATOM(\"./data/1v74.pdb\")\n",
    "#读取clean过的pdb文件\n",
    "pwd = os.getcwd()\n",
    "pose = pose_from_file(os.path.join(pwd,'./data/1V74.clean.pdb'))\n",
    "pose_copy = pose.clone() #克隆一个pose，用于接下来FoldTree变化的示例\n",
    "pose_copy_ii = pose.clone() #克隆一个pose，用于接下来FoldTree变化的示例\n",
    "pose_copy_refold = pose.clone() # 克隆一个pose，用于接下来FoldTree的变化\n",
    "# 输出该pose的FoldTree\n",
    "print(\"PDB:1V74: \",pose.fold_tree())\n",
    "print(f\"The size of the foldtree (number of edges) is {pose.fold_tree().size()}\") #Foldtree 的尺寸（edge的个数）\n",
    "print(f\"The number of the jump is {pose.fold_tree().num_jump()}\") #Foldtree 的jump点的个数"
   ]
  },
  {
   "cell_type": "markdown",
   "id": "25125252",
   "metadata": {},
   "source": [
    "为了进一步说明Jump的作用，我们通过Rosetta和PyMol的连用来进行可视化，便于讲述内容。  \n",
    "前面已经讲过，Rosetta是可以和PyMol连用，来可视化蛋白Pose的。实际上，作为pose的一种属性，FolTree相关的氨基酸可以进行可视化，通过PyMOLMover的send_foldtree方法来完成。"
   ]
  },
  {
   "cell_type": "markdown",
   "id": "75ad003c",
   "metadata": {},
   "source": [
    "**注意：PYMOLRosettaServer.py中有错误修正的脚本如下。但仍然没有复现其关于loop区显示的gong e**"
   ]
  },
  {
   "cell_type": "markdown",
   "id": "e5b371d5",
   "metadata": {},
   "source": [
    "<img src=\"./imgs/PyMOLRosettaServer_correct.png\" width = \"600\" height = \"300\" align=center /> "
   ]
  },
  {
   "cell_type": "code",
   "execution_count": null,
   "id": "ab20fb53",
   "metadata": {},
   "outputs": [],
   "source": [
    "# 可视化pose中的FoldTree在PyMol当中\n",
    "from pyrosetta.rosetta.protocols.moves import PyMOLMover\n",
    "pymover = PyMOLMover()\n",
    "#将1V74的Pose发送至Pymol，并在Pymol中显示\n",
    "# #将FoldTree发送至Pymol，并在Pymol中显示FoldTree\n",
    "pymover.apply(pose) #在PyMol中显示fold_tree\n",
    "pymover.send_foldtree(pose, pose.fold_tree()) #将fold_tree发送至pymol中\n",
    "pymover.apply(pose) #在PyMol中显示fold_tree\n",
    "# nglview.show_rosetta(pose) #使用nglview来显示pose"
   ]
  },
  {
   "cell_type": "markdown",
   "id": "9f73e4da",
   "metadata": {},
   "source": [
    "可以看到，图中灰色代表都是普通的edge中的氨基酸，而橙色的基团，则是指的是Jump点的氨基酸，红色则指的是cutpoint氨基酸。cutpoint会在下文中讲到"
   ]
  },
  {
   "cell_type": "markdown",
   "id": "9ac91de7",
   "metadata": {},
   "source": [
    "<img src=\"./imgs/fold_tree_one_example_1v74.png\" width = \"600\" height = \"300\" align=center /> "
   ]
  },
  {
   "cell_type": "markdown",
   "id": "aa40610f",
   "metadata": {},
   "source": [
    "可以看到该Pose中含有3个Edge，一个Jump。与上一章介绍的一样，其中，从1-107、108-194最后一位为-1，因此这两个edge为共价连接，而1和108号残基，即该蛋白的A链和B链的N端由一个Jump连接，即一个虚拟的linker。Jump在被定义后，其前后会被定义为一个完整的FoldTree。此时A链的1号残基为B链108-194残基的上游"
   ]
  },
  {
   "cell_type": "markdown",
   "id": "15be28c8",
   "metadata": {},
   "source": [
    "<img src=\"./imgs/first_jump.png\" width = \"600\" height = \"300\" align=center /> "
   ]
  },
  {
   "cell_type": "code",
   "execution_count": null,
   "id": "4894b5a7",
   "metadata": {},
   "outputs": [],
   "source": [
    "print(pose.phi(1)) #打印第一个残基的phi角的度数\n",
    "pose.set_phi(1,70) #设置第一个残基的phi角为70度\n",
    "pose.dump_pdb('./data/1v74_change_1_residue.pdb') #保存好改变角度的phi角\n",
    "nglview.show_rosetta(pose) #使用nglview来查看pose"
   ]
  },
  {
   "cell_type": "markdown",
   "id": "151ca514",
   "metadata": {},
   "source": [
    "该pose的FoldTree的Jump种，只有1号残基和108-194号残基的即有上下游关系。当我们改变A链1号残基的phi角时，B链的构象也发生了变化，但改变A链其他的残基的几何参数时，不会引起B链构象的变化"
   ]
  },
  {
   "cell_type": "code",
   "execution_count": null,
   "id": "37f343cc",
   "metadata": {
    "scrolled": true
   },
   "outputs": [],
   "source": [
    "#将上面clone的构象用于修改第二个残基phi角的改变\n",
    "print(pose_copy.phi(2)) #打印第二个残基phi角的度数\n",
    "pose_copy.set_phi(2,70)  #设置第二个残基的phi角为70度\n",
    "pymover.apply(pose_copy)\n",
    "# pymover.send_foldtree(pose, pose.fold_tree())\n",
    "nglview.show_rosetta(pose_copy)"
   ]
  },
  {
   "cell_type": "markdown",
   "id": "6cd1c3fa",
   "metadata": {},
   "source": [
    "当我们重新定义定义了Jump之后，因为Jump点前后视为一个完整FoldTree，这时，在FoldTree中所有的原子上下游关系进行重置。如下模块所示，此时我们重新定义了如下图所示该pose的FoldTree的Jump。   \n",
    "此时我们设置了一个88-158的Jump点。可以看到，B链的上下游关系完全改变了，这也就体现了Jump点的上下游的性质：（1）Jump点的上游端点残基所在edge的按照图中的树的方向，很容易去理解。此时B链的158->108和158->194的上游为A链的1->88，而两者互相之间并无上下游的关系，与88->107这一段FoldTree也并无上下游关系"
   ]
  },
  {
   "cell_type": "markdown",
   "id": "b35432ac",
   "metadata": {},
   "source": [
    "<img src=\"./imgs/second_jump_first_dir.png\" width = \"600\" height = \"300\" align=center /> "
   ]
  },
  {
   "cell_type": "markdown",
   "id": "00fdabcb",
   "metadata": {},
   "source": [
    "**！注意FoldTree中的设定一定要注意顺序性，FoldTree的树是有向的，即实际的上下游关系。如果不按照这种上下游关系进行建立就会报错**"
   ]
  },
  {
   "cell_type": "code",
   "execution_count": null,
   "id": "5bc4b346",
   "metadata": {},
   "outputs": [],
   "source": [
    "# 设置一个foldtree对象的实例，并将它读回pose中更新foldtree\n",
    "ft = FoldTree() #设置一个空的foldtree对象\n",
    "#按照如图所示的FoldTree的方向进行定义\n",
    "ft.add_edge(1, 88, -1)\n",
    "ft.add_edge(88, 107, -1)\n",
    "ft.add_edge(88, 158, 1)\n",
    "ft.add_edge(158, 108, -1)\n",
    "ft.add_edge(158, 194, -1)\n",
    "print(ft.check_fold_tree())\n",
    "pose_copy_refold.fold_tree(ft)\n",
    "pymover.apply(pose_copy_refold) #在PyMol中显示fold_tree\n",
    "pymover.send_foldtree(pose_copy_refold, pose_copy_refold.fold_tree()) #将fold_tree发送至pymol中\n",
    "pymover.apply(pose_copy_refold) #在PyMol中显示fold_tree\n",
    "pose_copy_refold.dump_pdb('1v74_change_0_residue_cutpoint_refold.pdb') "
   ]
  },
  {
   "cell_type": "markdown",
   "id": "799b2683",
   "metadata": {},
   "source": [
    "<img src=\"./imgs/fold_tree_one_example_1v74_refold.png\" width = \"600\" height = \"300\" align=center /> "
   ]
  },
  {
   "cell_type": "markdown",
   "id": "cf9705b1",
   "metadata": {},
   "source": [
    "可以看到，图中的Jump的位置发生了变化"
   ]
  },
  {
   "cell_type": "markdown",
   "id": "6f304b80",
   "metadata": {},
   "source": [
    "这时候我们分别使用两种变化，即改变2号残基和89号残基的变化。来看pose的改变，"
   ]
  },
  {
   "cell_type": "code",
   "execution_count": null,
   "id": "667b0f89",
   "metadata": {},
   "outputs": [],
   "source": [
    "#修改2号残基后pose的变化，B链的构象的变化\n",
    "pose_copy_refold_i = pose_copy_refold.clone()\n",
    "print(pose_copy_refold_i.phi(2))\n",
    "#保存好改变角度的phi角\n",
    "pose_copy_refold_i.set_phi(2,90)\n",
    "pose_copy_refold_i.dump_pdb('./data/1v74_change_1_residue_cutpoint_refold.pdb') \n",
    "nglview.show_rosetta(pose_copy_refold_i)"
   ]
  },
  {
   "cell_type": "markdown",
   "id": "548201cb",
   "metadata": {},
   "source": [
    "<img src=\"./imgs/fold_tree_foldtreeii_1_1v74.png\" width = \"600\" height = \"300\" align=center /> "
   ]
  },
  {
   "cell_type": "markdown",
   "id": "a373eb84",
   "metadata": {},
   "source": [
    "黄色的pose为原本的pdb，蓝色为改变phi角的pose。可以看到，两条链的构象都发生了变化"
   ]
  },
  {
   "cell_type": "code",
   "execution_count": null,
   "id": "56b9f9db",
   "metadata": {},
   "outputs": [],
   "source": [
    "#修改89号残基后pose的变化，并无引起B链的构象的变化\n",
    "pose_copy_refold_ii = pose_copy_refold.clone() #从最初的pose克隆一个新的pose\n",
    "print(pose_copy_refold_ii.phi(89)) #打印第89个残基的phi角\n",
    "pose_copy_refold_ii.set_phi(89,70) #改变第89个残基的phi角为70度\n",
    "pose_copy_refold_ii.dump_pdb('./data/1v74_change_2_residue_cutpoint_refold.pdb')  #保存为一个新的pdb文件\n",
    "nglview.show_rosetta(pose_copy_refold_ii) #利用nglview显示这个pose的构象"
   ]
  },
  {
   "cell_type": "markdown",
   "id": "b0755eb8",
   "metadata": {},
   "source": [
    "<img src=\"./imgs/fold_tree_foldtreeii_2_1v74.png\" width = \"600\" height = \"300\" align=center /> "
   ]
  },
  {
   "cell_type": "markdown",
   "id": "551b1775",
   "metadata": {},
   "source": [
    "与上面的表示相同，这一个89之后的残基与B链无上下游关系，因此只有A链上的89号之后的残基发生了构象变化，其余的都没有变化。"
   ]
  },
  {
   "cell_type": "markdown",
   "id": "2e56e0ad",
   "metadata": {},
   "source": [
    "**!注意：不要因为上面的示例，就以为Jump只能表示两段序列之间一种虚拟的上下游关系**   \n",
    "Jump的设定也可以出现在一条肽链中，如下例所示，在设定一个8肽序列，我们建立一个3-6的Jump"
   ]
  },
  {
   "cell_type": "code",
   "execution_count": null,
   "id": "673f9b97",
   "metadata": {},
   "outputs": [],
   "source": [
    "#由sequence建立一个pose\n",
    "pose_example = pose_from_sequence('KPALNALN')\n",
    "# 设置一个foldtree对象的实例，并将它读回pose中更新foldtree\n",
    "ft = FoldTree() #设置一个空的foldtree对象\n",
    "ft.add_edge(1, 3, -1) #增加一个5号残基到1号残基的共价连接的edge\n",
    "ft.add_edge(3, 6, 1)\n",
    "ft.add_edge(3, 6, -1)\n",
    "ft.add_edge(6, 8, -1)\n",
    "pose_example.fold_tree(ft) #更新pose的fold_tree\n",
    "print(pose_example.fold_tree()) #输出foldtree\n",
    "#如图所示，3-6以及6一8的上游都是1-3残基\n",
    "pymover.apply(pose_example) #在PyMol中显示fold_tree\n",
    "pymover.send_foldtree(pose_example, pose_example.fold_tree()) #将fold_tree发送至pymol中\n",
    "pymover.apply(pose_example) #在PyMol中显示fold_tree"
   ]
  },
  {
   "cell_type": "markdown",
   "id": "81274cb3",
   "metadata": {},
   "source": [
    "<img src=\"./imgs/third_foldtree.png\" width = \"600\" height = \"300\" align=center /> "
   ]
  },
  {
   "cell_type": "markdown",
   "id": "0a55d42f",
   "metadata": {},
   "source": [
    "<img src=\"./imgs/fold_tree_example_1_peptide.png\" width = \"600\" height = \"300\" align=center /> "
   ]
  },
  {
   "cell_type": "markdown",
   "id": "07b77052",
   "metadata": {},
   "source": [
    "在一个多肽里进行使用的时候，同样也要注意FoldTree的方向性"
   ]
  },
  {
   "cell_type": "code",
   "execution_count": null,
   "id": "c904f588",
   "metadata": {},
   "outputs": [],
   "source": [
    "# 设置一个foldtree对象的实例，并将它读回pose中更新foldtree\n",
    "ft = FoldTree() #设置一个空的foldtree对象\n",
    "#增加一个1号残基到3号残基的共价连接的edge\n",
    "ft.add_edge(1, 3, -1)\n",
    "#增加一个3号残基到6号残基的共价连接的edge\n",
    "ft.add_edge(3, 6, -1)\n",
    "#增加一个3号残基到6号残基的一个Jump\n",
    "ft.add_edge(6, 3, 1)\n",
    "#增加一个6号残基到8号残基的共价连接的edge\n",
    "ft.add_edge(6, 8, -1)\n",
    "pose_example.fold_tree(ft) #更新pose的fold_tree\n",
    "print(pose_example.fold_tree()) #输出foldtree"
   ]
  },
  {
   "cell_type": "markdown",
   "id": "4e7c171b",
   "metadata": {},
   "source": [
    "<img src=\"./imgs/simple_foldtree.png\" width = \"600\" height = \"300\" align=center /> "
   ]
  },
  {
   "cell_type": "markdown",
   "id": "a41a5092",
   "metadata": {},
   "source": [
    "### FoldTree的可切割性"
   ]
  },
  {
   "cell_type": "markdown",
   "id": "c7ee1eb9",
   "metadata": {},
   "source": [
    "FoldTree是可以在edge中进行对点的切割，即设置cutpoint，在快速设置loop时十分有用。   \n",
    "总体来说，Cutpoint就是FoldTree中的不连续点，相对于peptide edge的连续性来说，cutpoint的出现相当于一把剪刀，将非peptide edge内氨基酸的连接关系切断，也就是FoldTree内EDGE的上下游关系在此处被切断。"
   ]
  },
  {
   "cell_type": "markdown",
   "id": "0e25e8ce",
   "metadata": {},
   "source": [
    "我们可以使用对应pose的FoldTree的num_cutpoint属性来看cutpoint的数量，并通过cutpoint属性来看对应cutpoint的位置，以及is_cutpoint判断是否为cutpoint"
   ]
  },
  {
   "cell_type": "code",
   "execution_count": null,
   "id": "6a408f29",
   "metadata": {},
   "outputs": [],
   "source": [
    "#看对应pose中cutpoint的属性\n",
    "pose = pose_from_file('./data/1V74.clean.pdb')\n",
    "print(f\"The FoldTree of the 1V74: {pose.fold_tree()}\")\n",
    "print(f\"The number of the cutpoint in 1V74 is : {pose.fold_tree().num_cutpoint()}\")#说明1V74的cutpoint只有一个\n",
    "print(f\"The cutpoint in 1V74 is : {pose.fold_tree().cutpoint(1)}\")#说明PDB：1V74的断点再107号残基处"
   ]
  },
  {
   "cell_type": "markdown",
   "id": "e325429c",
   "metadata": {},
   "source": [
    "还是以这张图为例，可以看到，再FoldTree中107和108的连接关系并没有出现在FoldTree的任何一个EDGE当中，因此其被相当于一个cutpoint"
   ]
  },
  {
   "cell_type": "markdown",
   "id": "efd88d0c",
   "metadata": {},
   "source": [
    "<img src=\"./imgs/first_jump.png\" width = \"600\" height = \"300\" align=center /> "
   ]
  },
  {
   "cell_type": "markdown",
   "id": "b7167f9f",
   "metadata": {},
   "source": [
    "cutpoint实际上是对于pose中residue的操作，给予化学键的变化，针对设置断点的上下游，给予残基一个patch来实现的。具体的方式可以如下:   \n",
    "[1]chemical中的add_variant_type_to_pose_residue，同时通过VariantType定义的断点上下游来进行来完成。这里我们还是以这个八肽来做示范，尽管此时FoldTree中并没有cutpoint的发现，但实际上在patch上已经有了cutpoint的定义，如下所示。"
   ]
  },
  {
   "cell_type": "markdown",
   "id": "63e99d94",
   "metadata": {},
   "source": [
    "add_variant_type_to_pose_residue方法的变量分别是：   \n",
    "【1】pose：一个处理好的pose；   \n",
    "【2】VariantType：定义好的化学属性，在这里使用的是CUTPOINT_LOWER或CUTPOINT_UPPER，以此定义cutpoint的上下游   \n",
    "【3】cut_res：被切割的残基的编号。"
   ]
  },
  {
   "cell_type": "markdown",
   "id": "e7e12260",
   "metadata": {},
   "source": [
    "**!TODO：发现并没有起到cutpoint的作用，不知道为什么**"
   ]
  },
  {
   "cell_type": "code",
   "execution_count": null,
   "id": "74b5810d",
   "metadata": {},
   "outputs": [],
   "source": [
    "# add cutpoint\n",
    "from pyrosetta.rosetta.core.pose import add_variant_type_to_pose_residue\n",
    "from pyrosetta.rosetta.core.chemical import VariantType\n",
    "# 输出该pose的FoldTree\n",
    "pose_example = pose_from_sequence('KPALNALN')\n",
    "print(f\"The number of cutpoint in the PDB:1V74:{pose_example.fold_tree().num_cutpoint()}\")\n",
    "nglview.show_rosetta(pose_example)\n",
    "#在5、6号残基上给予一个cutpoint，分别定义5号残基为lower（上游）、6号残基为upper（下游）.\n",
    "cut_res = 5\n",
    "add_variant_type_to_pose_residue(pose_example, VariantType.CUTPOINT_LOWER, cut_res) #给指定残基加上上游的patch\n",
    "add_variant_type_to_pose_residue(pose_example, VariantType.CUTPOINT_UPPER, cut_res+1) #给指定残基加上下游的patch\n",
    "#此时FoldTree中并未有cutpoint的显示。\n",
    "print(f\"The number of cutpoint in the PDB:1V74:{pose_example.fold_tree().num_cutpoint()}\") #输出其固定\n",
    "print(pose_example.residue(1).annotated_name())\n",
    "print(pose_example.residue(1).annotated_name())"
   ]
  },
  {
   "cell_type": "markdown",
   "id": "1699392d",
   "metadata": {},
   "source": [
    "此时，FoldTree的cutpoint的并没有显示，（推测）**因为目前的变化是在Rosetta的residue的层级上进行的操作，针对residue增加patch，而非直接对FoldTree进行操作，因此不会在这里显示**"
   ]
  },
  {
   "cell_type": "markdown",
   "id": "baadd668",
   "metadata": {},
   "source": [
    "一件有趣的事情是，cutpoint在定义时实际上也可以有一个方向性。再定义上下的cutpoint时，6-7和7-6的表示是不同的。   \n",
    "**注：这个方向性不知道有什么样的影响。**"
   ]
  },
  {
   "cell_type": "code",
   "execution_count": null,
   "id": "951902fc",
   "metadata": {},
   "outputs": [],
   "source": [
    "# 建立该pose的FoldTree，并输出该pose的FoldTree和cut point\n",
    "pose_example = pose_from_sequence('KPALNALN') #从sequence直接得到肽链的pose\n",
    "# 设置一个foldtree对象的实例，并将它读回pose中更新foldtree\n",
    "ft = FoldTree() #设置一个空的foldtree对象\n",
    "#增加一个1号残基到3号残基的共价连接的edge\n",
    "ft.add_edge(1, 3, -1)\n",
    "#增加一个3号残基到6号残基的共价连接的edge\n",
    "ft.add_edge(3, 6, -1)\n",
    "#增加一个3号残基到6号残基的一个Jump\n",
    "ft.add_edge(3, 6, 1)\n",
    "#增加一个6号残基到8号残基的共价连接的edge\n",
    "ft.add_edge(6, 8, -1)\n",
    "pose_example.fold_tree(ft) #更新pose的fold_tree\n",
    "print(f\"The number of cutpoint in the PDB:1V74:{pose_example.fold_tree().num_cutpoint()}\") # 输出该pose的FoldTree\n",
    "print(pose_example.fold_tree()) #输出foldtree\n",
    "pose_example_ii = pose_example.clone()\n",
    "pose_example_iii = pose_example.clone()\n",
    "pose_example_iv = pose_example.clone()\n",
    "pose_example.dump_pdb('./data/peptide_0_cutpoint_example.pdb')"
   ]
  },
  {
   "cell_type": "code",
   "execution_count": null,
   "id": "8d62b4e1",
   "metadata": {},
   "outputs": [],
   "source": [
    "#在7、8号残基上给予一个cutpoint，分别定义7号位lower、8号为upper.\n",
    "cut_res = 6\n",
    "add_variant_type_to_pose_residue(pose_example_ii, VariantType.CUTPOINT_UPPER, cut_res)\n",
    "add_variant_type_to_pose_residue(pose_example_ii, VariantType.CUTPOINT_LOWER, cut_res+1)\n",
    "#此时FoldTree中并未有cutpoint的显示。\n",
    "print(pose_example_ii.residue(6).annotated_name())\n",
    "print(pose_example_ii.residue(7).annotated_name())\n",
    "pose_example_ii.set_phi(3,90)\n",
    "pose_example_ii.dump_pdb('./data/peptide_1_cutpoint_example.pdb')"
   ]
  },
  {
   "cell_type": "markdown",
   "id": "9e5050c2",
   "metadata": {},
   "source": [
    "**不知道为什么：在已有的FoldTree中加入cutpoint的时候，在N端末的氨基酸不能作为cutpoint的下游，而C端的末的氨基酸不能作为cutpoint的下游。**"
   ]
  },
  {
   "cell_type": "code",
   "execution_count": null,
   "id": "a035b3d9",
   "metadata": {},
   "outputs": [],
   "source": [
    "#在6、7号残基上给予一个cutpoint，分别定义7号位lower、8号为upper.\n",
    "cut_res = 7\n",
    "add_variant_type_to_pose_residue(pose_example_iii, VariantType.CUTPOINT_LOWER, cut_res+1)\n",
    "add_variant_type_to_pose_residue(pose_example_iii, VariantType.CUTPOINT_UPPER, cut_res)\n",
    "#此时FoldTree中并未有cutpoint的显示。\n",
    "print(f\"The number of cutpoint in the PDB:1V74:{pose_example_iii.fold_tree().num_cutpoint()}\")\n",
    "print(pose_example_iii.residue(cut_res).annotated_name())\n",
    "print(pose_example_iii.residue(cut_res+1).annotated_name())"
   ]
  },
  {
   "cell_type": "code",
   "execution_count": null,
   "id": "651ab016",
   "metadata": {},
   "outputs": [],
   "source": [
    "#在6、7号残基上给予一个cutpoint，分别定义7号位lower、8号为upper.\n",
    "cut_res = 1\n",
    "add_variant_type_to_pose_residue(pose_example_iv, VariantType.CUTPOINT_LOWER, cut_res+1)\n",
    "add_variant_type_to_pose_residue(pose_example_iv, VariantType.CUTPOINT_UPPER, cut_res)\n",
    "#此时FoldTree中并未有cutpoint的显示。\n",
    "print(f\"The number of cutpoint in the PDB:1V74:{pose_example_iv.fold_tree().num_cutpoint()}\")\n",
    "print(pose_example_iv.residue(cut_res).annotated_name())\n",
    "print(pose_example_iv.residue(cut_res+1).annotated_name())"
   ]
  },
  {
   "cell_type": "markdown",
   "id": "4297d220",
   "metadata": {},
   "source": [
    "[2]FoldTree对象中的new_jump方法。再加入一个新的jump的同时，再给予一个新的断点。这样的操作可以更加方便的加入Jump中的新的断点"
   ]
  },
  {
   "cell_type": "code",
   "execution_count": null,
   "id": "f596bf9f",
   "metadata": {},
   "outputs": [],
   "source": [
    "# 输出该pose的FoldTree\n",
    "pose_example = pose_from_sequence('KPALNALN')\n",
    "print(f\"The number of cutpoint in the PDB:1V74:{pose_example.fold_tree().num_cutpoint()}\")\n",
    "# 设置一个foldtree对象的实例，并将它读回pose中更新foldtree\n",
    "ft = FoldTree() #设置一个空的foldtree对象\n",
    "#增加一个1号残基到3号残基的共价连接的edge\n",
    "ft.add_edge(1, 3, -1)\n",
    "#增加一个3号残基到6号残基的共价连接的edge\n",
    "ft.add_edge(3, 6, -1)\n",
    "#增加一个3号残基到6号残基的一个Jump\n",
    "ft.new_jump(3, 6, 5) #分别代表着Jump的pos1和pos2以及自定义的cutpoint\n",
    "#增加一个6号残基到8号残基的共价连接的edge\n",
    "ft.add_edge(6, 8, -1)\n",
    "pose_example.fold_tree(ft) #更新pose的fold_tree\n",
    "print(pose_example.fold_tree()) #输出foldtree\n",
    "#此时FoldTree中并未有cutpoint的显示。\n",
    "print(f\"The number of cutpoint in the PDB:1V74:{pose_example.fold_tree().num_cutpoint()}\")#得到该FoldTree中的断点数\n",
    "print(\"The residue for cutpoint is\", pose_example.fold_tree().cutpoint(1))\n",
    "print(pose_example.residue(5).annotated_name())#此时并没有patch的产生\n",
    "nglview.show_rosetta(pose_example)\n",
    "pymover.apply(pose_example) #在PyMol中显示fold_tree\n",
    "pymover.send_foldtree(pose_example, pose_example.fold_tree()) #将fold_tree发送至pymol中\n",
    "pymover.apply(pose_example) #在PyMol中显示fold_tree\n",
    "pose_example.dump_pdb('./data/peptide_1_residue_cutpoint.pdb')  #保存为一个新的pdb文件"
   ]
  },
  {
   "cell_type": "markdown",
   "id": "94601427",
   "metadata": {},
   "source": [
    "如图，中间多了一个cutpoint"
   ]
  },
  {
   "cell_type": "markdown",
   "id": "8d1867cb",
   "metadata": {},
   "source": [
    "<img src=\"./imgs/fold_tree_example_2_peptide.png\" width = \"600\" height = \"300\" align=center /> "
   ]
  },
  {
   "cell_type": "code",
   "execution_count": null,
   "id": "b23cfd3e",
   "metadata": {},
   "outputs": [],
   "source": [
    "pose_example.set_phi(3,90)\n",
    "pose_example.dump_pdb('./data/peptide_2_residue_cutpoint.pdb')  #保存为一个新的pdb文件"
   ]
  },
  {
   "cell_type": "markdown",
   "id": "732c3dce",
   "metadata": {},
   "source": [
    "<img src=\"./imgs/fold_tree_cutpoint_2_peptide.png\" width = \"600\" height = \"300\" align=center /> "
   ]
  },
  {
   "cell_type": "markdown",
   "id": "3262f401",
   "metadata": {},
   "source": [
    "黄色为之前的肽链，蓝色为设置cutpoint之后的肽链，很显然，在cutpoint之后，并没有发现刚性的构象变化。"
   ]
  },
  {
   "cell_type": "markdown",
   "id": "c27c880f",
   "metadata": {},
   "source": [
    "cutpoint具有如下**两个特性**：   "
   ]
  },
  {
   "cell_type": "markdown",
   "id": "542fe469",
   "metadata": {},
   "source": [
    "1.没有peptide edge相连的氨基酸为cutpoint；  "
   ]
  },
  {
   "cell_type": "code",
   "execution_count": null,
   "id": "0208c805",
   "metadata": {},
   "outputs": [],
   "source": [
    "ft = FoldTree() #设置一个空的foldtree对象\n",
    "#增加一个1号残基到3号残基的共价连接的edge\n",
    "# 设置一个foldtree对象的实例，并将它读回pose中更新foldtree\n",
    "ft = FoldTree() #设置一个空的foldtree对象\n",
    "#增加一个1号残基到3号残基的共价连接的edge\n",
    "ft.add_edge(1, 3, -1)\n",
    "#增加一个3号残基到6号残基的共价连接的edge\n",
    "ft.add_edge(3, 6, -1)\n",
    "#增加一个3号残基到6号残基的一个Jump\n",
    "ft.add_edge(3, 6, 1)\n",
    "#增加一个6号残基到8号残基的共价连接的edge\n",
    "ft.add_edge(6, 8, 2)\n",
    "ft.add_edge(8, 7, -1)\n",
    "pose_example.fold_tree(ft) #更新pose的fold_tree\n",
    "print(pose_example.fold_tree().num_jump()) #查看FoldTree中Jump的数目\n",
    "print(pose_example.fold_tree().num_cutpoint()) #查看FoldTree中的cutpoint\n",
    "print(pose_example.fold_tree().cutpoint(1)) #查看cutpoint的位置\n",
    "print(pose_example.residue(6).annotated_name()) #在FoldTree中的cutpoint并没有加上annotated_name"
   ]
  },
  {
   "cell_type": "markdown",
   "id": "9eccb075",
   "metadata": {},
   "source": [
    "2.无论在上游还是下游区间中，氨基酸序号高者均为cutpoint；(但计算foldtree中cutpoints的总数时却不算)"
   ]
  },
  {
   "cell_type": "markdown",
   "id": "dd7e1863",
   "metadata": {},
   "source": [
    "**！TODO:不知道这些数字什么意思。。。**"
   ]
  },
  {
   "cell_type": "code",
   "execution_count": null,
   "id": "c803bb93",
   "metadata": {},
   "outputs": [],
   "source": [
    "print(pose_example.fold_tree().cutpoint(1))\n",
    "print(pose_example.fold_tree().cutpoint(2))\n",
    "print(pose_example.fold_tree().cutpoint(3))\n",
    "print(pose_example.fold_tree().cutpoint(4))\n",
    "print(pose_example.fold_tree().cutpoint(5))"
   ]
  },
  {
   "cell_type": "markdown",
   "id": "cdee64a1",
   "metadata": {},
   "source": [
    "## Rigid-body transformations"
   ]
  },
  {
   "cell_type": "markdown",
   "id": "584f7b03",
   "metadata": {},
   "source": [
    "###  引言"
   ]
  },
  {
   "cell_type": "markdown",
   "id": "8ac11b28",
   "metadata": {},
   "source": [
    "<img src=\"./imgs/rigid-body.png\" width = \"600\" height = \"300\" align=center /> "
   ]
  },
  {
   "cell_type": "markdown",
   "id": "853d3dbc",
   "metadata": {},
   "source": [
    "蛋白质-蛋白质对接是从其单体成分开始的复杂结构的预测，搜索空间可能非常大。Rosetta中有大量的mover来应对docking中的几何参数的变化。   \n",
    "最基础的docking move是刚体的变换，包括**平移**和**旋转**，每一个刚体move都需要知道，哪一部分进行移动，以及哪一部分进行固定。而这一部分的move，其实主要是靠FoldTree中的Jump方法来建立，并最终完成各种move。下面根据实例来进行示范并讲解。"
   ]
  },
  {
   "cell_type": "markdown",
   "id": "9b21b508",
   "metadata": {},
   "source": [
    "### 及已经写入protocol的FoldTree建立方法"
   ]
  },
  {
   "cell_type": "code",
   "execution_count": null,
   "id": "daaec3a6",
   "metadata": {},
   "outputs": [],
   "source": [
    "# 首先，设置两个pdb的clone用于接下来的处理，查看处理的变化\n",
    "pose = pose_from_file('./data/1V74.clean.pdb') #从pdb文件中读取pose\n",
    "print(f'The FoldTree of PDB:1V74:{pose.fold_tree()}') #获取该pose的FoldTree\n",
    "starting_pose = pose.clone() #使用pose的clone方法，复制一个用做接下来处理的pose\n",
    "cen_pose = pose.clone() #使用pose的clone方法，复制一个用于一个原子粒度move的处理的pose"
   ]
  },
  {
   "cell_type": "markdown",
   "id": "9c557064",
   "metadata": {},
   "source": [
    "<img src=\"./imgs/first_jump.png\" width = \"600\" height = \"300\" align=center /> "
   ]
  },
  {
   "cell_type": "markdown",
   "id": "560ef9f5",
   "metadata": {},
   "source": [
    "此时，该蛋白的A链和B链是由1-108这样的Jump来进行连接的。上面我们已经讲过Jump，而Jump实际上是由rotation和translation组成的自由度变化。也就是说：   \n",
    "此时108-194会根据这个Jump进行对应1号残基的rotation和translation的变化。"
   ]
  },
  {
   "cell_type": "code",
   "execution_count": null,
   "id": "ac5bcfab",
   "metadata": {},
   "outputs": [],
   "source": [
    "print(\"The rotation matrix is:\\n\", pose.jump(1).get_rotation())\n",
    "print(\"The translation vector is:\\n\", pose.jump(1).get_translation())"
   ]
  },
  {
   "cell_type": "markdown",
   "id": "cc05934f",
   "metadata": {},
   "source": [
    "但我们并不希望是这样的刚性自由度处理方式，而是由自己定义的方式来进行。如下图所示，我们想跟据链的质心来定义FoldTree，88和158分别是两条链的质心，我们想以如下的FoldTree的方式来进行刚性变化。"
   ]
  },
  {
   "cell_type": "markdown",
   "id": "6540194e",
   "metadata": {},
   "source": [
    "<img src=\"./imgs/second-jump.png\" width = \"600\" height = \"300\" align=center /> "
   ]
  },
  {
   "cell_type": "markdown",
   "id": "96e7a863",
   "metadata": {},
   "source": [
    "上文中，实际上我们已经通过新建FoldTree的方式实现了这种变化。但实际上，因为在docking经常带有这样的操作，在pyrosetta的protocol中已经有打包好的protocol提供出来建立这样的FoldTree，在这里就是setup_foldtree方法"
   ]
  },
  {
   "cell_type": "markdown",
   "id": "bfac314d",
   "metadata": {},
   "source": [
    "setup_foldtree主要处理的是刚性变化时的一个蛋白不同链之间的Jump关系的建立。其输入变量为：   \n",
    "【1】pose：一个蛋白复合体的pose；    \n",
    "【2】partner_chainID：根据pdb_chain的编号，定义好的链与链之间是否是刚性的。例如这里\"A_B\"是指A_B之间存在Jump，而如果有一个具有三条链的蛋白，再建立foldtree的时候，使用“AB_C”，则表示A、B链共同是刚性的，而C链会和A、B链建立Jump关系，两者之间会发现rotation或translation。   \n",
    "【3】movable_jumps：定义jump的编号"
   ]
  },
  {
   "cell_type": "markdown",
   "id": "64557d2e",
   "metadata": {},
   "source": [
    "这种方法默认会对需要操作的链与链的质心进行来定义jump"
   ]
  },
  {
   "cell_type": "markdown",
   "id": "fb40652b",
   "metadata": {},
   "source": [
    "我们使用上述方法，发现其FoldTree发现了变化"
   ]
  },
  {
   "cell_type": "code",
   "execution_count": null,
   "id": "a2257c3e",
   "metadata": {},
   "outputs": [],
   "source": [
    "from pyrosetta.rosetta.protocols.docking import setup_foldtree\n",
    "setup_foldtree(starting_pose, \"A_B\", Vector1([1]))\n",
    "print(pose.fold_tree()) #原pose的FoldTree\n",
    "print(starting_pose.fold_tree()) #经过修改后的FoldTree"
   ]
  },
  {
   "cell_type": "markdown",
   "id": "c5c45873",
   "metadata": {},
   "source": [
    "此时，第一个jump处的rotation matrix以及translation vector，发生了变化。"
   ]
  },
  {
   "cell_type": "code",
   "execution_count": null,
   "id": "88e166fc",
   "metadata": {},
   "outputs": [],
   "source": [
    "print(\"The rotation matrix is:\\n\", starting_pose.jump(1).get_rotation())\n",
    "print(\"The translation vector is:\\n\", starting_pose.jump(1).get_translation())"
   ]
  },
  {
   "cell_type": "markdown",
   "id": "25662df8",
   "metadata": {},
   "source": [
    "当然，rotation需要一个旋转轴，tranlation则是需要平移向量，两者是如何根据Jump进行定义的呢？"
   ]
  },
  {
   "cell_type": "markdown",
   "id": "1f85d5b6",
   "metadata": {},
   "source": [
    "### (选修)Rosetta中的笛卡尔坐标处理"
   ]
  },
  {
   "cell_type": "markdown",
   "id": "f5af6525",
   "metadata": {},
   "source": [
    "在上一讲中，我们实际上已经讲解了内坐标以及基于内坐标处理的表示动力学的数据结构FoldTree。但在计算多个蛋白的移动的时候，我们使用Jump进行虚拟连接时，因为本身并不是一个实际的上下游的处理关系，我们实际上需要将内坐标转换为3D坐标，来得到对应的rotation以及translation。接下来就是Rosetta对这种情况的处理，也就是其为了联系内坐标与笛卡尔坐标的数据结构AtomTree"
   ]
  },
  {
   "cell_type": "markdown",
   "id": "283918fc",
   "metadata": {},
   "source": [
    "#### AtomTree简介"
   ]
  },
  {
   "cell_type": "markdown",
   "id": "bfc48ac2",
   "metadata": {},
   "source": [
    "AtomTree是Rosetta内置的一种数据结构，其主要作用就是用于pose的内坐标和笛卡尔坐标的对齐。"
   ]
  },
  {
   "cell_type": "markdown",
   "id": "812ba7d1",
   "metadata": {},
   "source": [
    "AtomTree 提供了一个更通用的框架来模拟生物大分子系统。顾名思义，与 FoldTree 中基于残基的表示相比，它以树状拓扑表示系统中的所有原子。原子通过键距、键角和扭转角度以及刚体变换相互连接，所有这些都是系统的潜在自由度。（FoldTree 可以被认为是一种特殊的 AtomTree，其中键长/角度是固定的，并且只允许扭转/刚体 DOF）。AtomTree 不仅允许用户处理更多的自由度，其基于原子的表示在处理具有任意原子连接的非聚合物型分子（例如小化学配体）方面也具有很大优势。这里我们只是借用AtomTree来讲解Jump的解释，而不会介绍基于AtomTree来对蛋白的自由度进行编辑的操作。"
   ]
  },
  {
   "cell_type": "markdown",
   "id": "6ba9c719",
   "metadata": {},
   "source": [
    "在Rosetta中，对于固定pose的AtomTree，是以atom_tree()来调用的。"
   ]
  },
  {
   "cell_type": "code",
   "execution_count": null,
   "id": "a2278276",
   "metadata": {},
   "outputs": [],
   "source": [
    "# 输出该pose的FoldTree\n",
    "pose_example = pose_from_sequence('KPALNALN')\n",
    "print(f\"The number of cutpoint in the PDB:1V74:{pose_example.fold_tree().num_cutpoint()}\")\n",
    "# 设置一个foldtree对象的实例，并将它读回pose中更新foldtree\n",
    "ft = FoldTree() #设置一个空的foldtree对象\n",
    "#增加一个1号残基到3号残基的共价连接的edge\n",
    "ft.add_edge(1, 3, -1)\n",
    "#增加一个3号残基到6号残基的共价连接的edge\n",
    "ft.add_edge(3, 6, -1)\n",
    "#增加一个3号残基到6号残基的一个Jump\n",
    "ft.add_edge(3, 6, 1)\n",
    "# ft.add_edge(6, 3, 1)\n",
    "# ft.new_jump(3, 6, 5) #分别代表着Jump的pos1和pos2以及自定义的cutpoint\n",
    "#增加一个6号残基到8号残基的共价连接的edge\n",
    "ft.add_edge(6, 8, -1)\n",
    "pose_example.fold_tree(ft) #更新pose的fold_tree\n",
    "example_atom_tree = pose_example.atom_tree() #得到这个时候的AtomTree"
   ]
  },
  {
   "cell_type": "markdown",
   "id": "b5e23491",
   "metadata": {},
   "source": [
    "与一般的树结构类似，AtomTree同样需要一个root原子在树的底端。"
   ]
  },
  {
   "cell_type": "code",
   "execution_count": null,
   "id": "9fd49069",
   "metadata": {},
   "outputs": [],
   "source": [
    "# 查看AtomTree的root原子\n",
    "roots = example_atom_tree.root() #获取root原子\n",
    "roots_id = roots.id() #获取root原子的AtomID对象\n",
    "print(roots_id)\n",
    "root_residue_id = roots_id.rsd() #获取root原子所在的残基的编号\n",
    "root_atom = roots_id.atomno() #获取root原子在所在残基中的原子变好\n",
    "atom_root_name = pose_example.residue(root_residue_id).atom_name(root_atom) #获取该root原子的名称\n",
    "print(f'The root atom is the \"{atom_root_name}\" atom in the {root_residue_id}th residue ') "
   ]
  },
  {
   "cell_type": "markdown",
   "id": "961193e5",
   "metadata": {},
   "source": [
    "可以看到，这个pose的root原子为其1号残基的root原子。我们可以通过定义该原子的AtomID的方式来得到该原子。"
   ]
  },
  {
   "cell_type": "code",
   "execution_count": null,
   "id": "cb731e4c",
   "metadata": {},
   "outputs": [],
   "source": [
    "from rosetta.core.id import AtomID\n",
    "atomid = AtomID(root_atom, root_residue_id)\n",
    "atom = example_atom_tree.atom(atomid)"
   ]
  },
  {
   "cell_type": "markdown",
   "id": "f411ea3b",
   "metadata": {},
   "source": [
    "既然有了root原子，那必定有其子节点"
   ]
  },
  {
   "cell_type": "code",
   "execution_count": null,
   "id": "cb399bc3",
   "metadata": {},
   "outputs": [],
   "source": [
    "# 查看AtomTree的root原子\n",
    "for i in range(roots.n_children()): # n_children表示该root原子子节点的个数\n",
    "    child_node = roots.child(i)\n",
    "    residue_id = child_node.id().rsd()\n",
    "    atom_id = child_node.id().atomno()\n",
    "    print(residue_id, atom_id)\n",
    "    atom_child_name = pose_example.residue(residue_id).atom_name(atom_id)\n",
    "    print(f'The {i+1}th child atom is the \"{atom_child_name}\" atom in the {residue_id}th residue ') "
   ]
  },
  {
   "cell_type": "code",
   "execution_count": null,
   "id": "e1348cf5",
   "metadata": {},
   "outputs": [],
   "source": [
    "atomid = AtomID(1, 1)\n",
    "atom_1 = example_atom_tree.atom(atomid)\n",
    "print(atom_1.n_children())\n",
    "for i in range(atom_1.n_children()):\n",
    "    child_node_1 = atom_1.child(i)\n",
    "    print(child_node_1.id().rsd(), child_node_1.id().atomno())\n",
    "    print(pose_example.residue(child_node_1.id().rsd()).atom_name(child_node_1.id().atomno()))"
   ]
  },
  {
   "cell_type": "code",
   "execution_count": null,
   "id": "aa038480",
   "metadata": {},
   "outputs": [],
   "source": [
    "atomid = AtomID(2, 3)\n",
    "atom_1 = example_atom_tree.atom(atomid)\n",
    "print(atom_1.n_children())\n",
    "for i in range(atom_1.n_children()):\n",
    "    child_node_1 = atom_1.child(i)\n",
    "    print(child_node_1.id().rsd(), child_node_1.id().atomno())\n",
    "    print(pose_example.residue(child_node_1.id().rsd()).atom_name(child_node_1.id().atomno()))"
   ]
  },
  {
   "cell_type": "markdown",
   "id": "283ee9a4",
   "metadata": {},
   "source": [
    "此时，我们就得到了AtomTree的第一层的子节点。利用递归式，就可以得到整个AtomTree的结构，这里就不再展示了。"
   ]
  },
  {
   "cell_type": "markdown",
   "id": "8283336f",
   "metadata": {},
   "source": [
    "#### Stub"
   ]
  },
  {
   "cell_type": "markdown",
   "id": "6f4c3cbd",
   "metadata": {},
   "source": [
    "而后，Rosetta将几何结构转化为局部坐标，称为Stub。每一个Stub包括stub atom在Rosetta默认坐标系中的笛卡尔坐标，以及将坐标从局部坐标系旋转到全局坐标系的维度为3x3的旋转矩阵，数学表示的意思是：\n",
    "实际上一个Stub表示的是：   \n",
    "原点点V的Rosetta坐标系中的坐标以及正交坐标系转换矩阵M。其建立方式为由四个点定义，一个是中心，另外三个，即另外两个原子及两个向量叉乘的点。用于计算正交框架。"
   ]
  },
  {
   "cell_type": "code",
   "execution_count": null,
   "id": "26e84226",
   "metadata": {},
   "outputs": [],
   "source": [
    "from pyrosetta.rosetta.core.id import StubID, AtomID\n",
    "# 构建以root为原点的骨架三元组N-CA-C的Stub\n",
    "stub_id = StubID(AtomID(2, 1), AtomID(1, 1), AtomID(3, 1))\n",
    "stub = example_atom_tree.stub_from_id(stub_id)\n",
    "center = stub.center()\n",
    "matrix = stub.M\n",
    "print(\"The stub's Center:\\n\", center)\n",
    "print(\"The Matrix of the Stub:\\n\", matrix)\n",
    "print()"
   ]
  },
  {
   "cell_type": "markdown",
   "id": "8a929487",
   "metadata": {},
   "source": [
    "以目前的Stub为例。首先这三个院子的坐标为："
   ]
  },
  {
   "cell_type": "code",
   "execution_count": null,
   "id": "3d9c8fe7",
   "metadata": {},
   "outputs": [],
   "source": [
    "print(pose_example.residue(1).atom(2))\n",
    "print(pose_example.residue(1).atom(1))\n",
    "print(pose_example.residue(1).atom(3))"
   ]
  },
  {
   "cell_type": "markdown",
   "id": "dc063bfe",
   "metadata": {},
   "source": [
    "可以看到，center实际上就是上面的root原子，也就是我们在定义定义stub的时候，输入的第一个原子"
   ]
  },
  {
   "cell_type": "code",
   "execution_count": null,
   "id": "fe5370a5",
   "metadata": {},
   "outputs": [],
   "source": [
    "# 建立三个点坐标\n",
    "import numpy as np\n",
    "dot_vector_1 = np.array([1.458, 0, 0])\n",
    "dot_vector_2 = np.array([0, 0, 0])\n",
    "dot_vector_3 = np.array([2.00885, 1.42017, 0])"
   ]
  },
  {
   "cell_type": "code",
   "execution_count": null,
   "id": "bd95b721",
   "metadata": {},
   "outputs": [],
   "source": [
    "# 得到两个向量，以此作为新的局部坐标的X轴、Y轴\n",
    "vector_1 = (dot_vector_2 - dot_vector_1).reshape(1,-1)\n",
    "vector_2 = (dot_vector_3 - dot_vector_1).reshape(1,-1)\n",
    "# 利用矩阵叉乘求第三个基\n",
    "vector_3 = np.cross(vector_1,vector_2).reshape(1,-1)"
   ]
  },
  {
   "cell_type": "code",
   "execution_count": null,
   "id": "9312d832",
   "metadata": {},
   "outputs": [],
   "source": [
    "# 求这个坐标系的基矩阵\n",
    "basis_matrix = np.concatenate([vector_1, vector_2, vector_3], axis=0)"
   ]
  },
  {
   "cell_type": "code",
   "execution_count": null,
   "id": "3d975657",
   "metadata": {},
   "outputs": [],
   "source": [
    "print(basis_matrix)"
   ]
  },
  {
   "cell_type": "code",
   "execution_count": null,
   "id": "da6dadaf",
   "metadata": {},
   "outputs": [],
   "source": [
    "rotation_matrix = np.array([[0.9999999999999999,0.000000000000000,0.000000000000000],\n",
    "                            [0.000000000000000,0.9999999999999712,2.393520176095881E-07],\n",
    "                            [0.000000000000000, -2.393520176095880E-07,0.9999999999999714]])\n",
    "print('The corrected coordinates is:\\n',basis_matrix*rotation_matrix)"
   ]
  },
  {
   "cell_type": "markdown",
   "id": "f51b67b5",
   "metadata": {},
   "source": [
    "可以看到，旋转矩阵的作用是将原本的X轴、Y轴和Z轴通过旋转和投影，变成一个保留对应轴上投影的一个正交基的操作。"
   ]
  },
  {
   "cell_type": "markdown",
   "id": "38e9e96e",
   "metadata": {},
   "source": [
    "####  Jump"
   ]
  },
  {
   "cell_type": "markdown",
   "id": "02e1cd1a",
   "metadata": {},
   "source": [
    "上面提到了，Stub实际上是将全局坐标转换为局部坐标的方式。Jump与Stub类似，但实际上，他是定义了Stub之间的关系，即一个Stub到另外一个Stub的旋转和平移。因此，Jump指定了一组相对于另一组的六自由度：六自由度，刚体位置和方向"
   ]
  },
  {
   "cell_type": "markdown",
   "id": "86d536d7",
   "metadata": {},
   "source": [
    "在上文我们提到了root原子。实际上AtomTree的root原子和每个新的独立组的伪root原子，在Rosetta中都是 JumpAtom。这些原子都通过Jump与其与在树中的父节点相关，如果父节点是root节点，也包括和root节点的相关。   "
   ]
  },
  {
   "cell_type": "markdown",
   "id": "72fa3666",
   "metadata": {},
   "source": [
    "在上面的例子中，jump是3->6，自然的，下一个独立组的起始残基就是6号残基，其伪root原子便是其CA原子，其也是一个JumpAtom。在这里我们其实可以看到，所有的Jump原子都是所设置的root氨基酸的CA原子。在这里除了root原子和6号残基的CA原子，其他都是BondedAtom"
   ]
  },
  {
   "cell_type": "code",
   "execution_count": null,
   "id": "bd158bcb",
   "metadata": {},
   "outputs": [],
   "source": [
    "atomid_origin = AtomID(2, 1)\n",
    "atomid_up = AtomID(2, 6)\n",
    "atomid_down = AtomID(2, 3)\n",
    "print(f\"The 1th residue's 2th atom is {example_atom_tree.atom(atomid_origin)}\")\n",
    "print(f\"The 6th residue's 2th atom is {example_atom_tree.atom(atomid_up)}\")\n",
    "print(f\"The 6th residue's 3th atom is {example_atom_tree.atom(atomid_down)}\")\n",
    "print(example_atom_tree.atom(atomid_up).get_stub().M)\n",
    "print(example_atom_tree.atom(atomid_up).get_stub().v,'\\n')\n",
    "print(example_atom_tree.atom(atomid_down).get_stub().M)\n",
    "print(example_atom_tree.atom(atomid_down).get_stub().v,'\\n')"
   ]
  },
  {
   "cell_type": "markdown",
   "id": "86e9b0ec",
   "metadata": {},
   "source": [
    "考虑两个局部坐标Stub之间的转换，从B的Stub出发（A 的输入存根）生成 A 的Stub，后乘B的Stub的M矩阵 M_B，矩阵以phi围绕X旋转，以theta角围绕 Z轴旋转，然后通过该矩阵平移B的存根中心v_B乘以向量 (d,0,0)。   "
   ]
  },
  {
   "cell_type": "markdown",
   "id": "dc6790cf",
   "metadata": {},
   "source": [
    "M_A = M_B * M_phi * M_theta   \n",
    "v_A = v_B + M_A * (d,0,0)"
   ]
  },
  {
   "cell_type": "code",
   "execution_count": null,
   "id": "9e5d56c2",
   "metadata": {},
   "outputs": [],
   "source": [
    "print(pose_example.jump(1).get_rotation())\n",
    "print(pose_example.jump(1).get_translation())"
   ]
  },
  {
   "cell_type": "code",
   "execution_count": null,
   "id": "29b2fafe",
   "metadata": {},
   "outputs": [],
   "source": [
    "matrix = example_atom_tree.atom(atomid_down).get_stub().M * pose_example.jump(1).get_rotation()"
   ]
  },
  {
   "cell_type": "code",
   "execution_count": null,
   "id": "d74ed9e5",
   "metadata": {},
   "outputs": [],
   "source": [
    "print(matrix)"
   ]
  },
  {
   "cell_type": "markdown",
   "id": "2555ef16",
   "metadata": {},
   "source": [
    "可以看到Jump的rotation矩阵，就是M_phi * M_theta的结果矩阵。"
   ]
  },
  {
   "cell_type": "markdown",
   "id": "43ca7d97",
   "metadata": {},
   "source": [
    "**!TODO:Translation真的复现不出来**"
   ]
  }
 ],
 "metadata": {
  "kernelspec": {
   "display_name": "Python 3",
   "language": "python",
   "name": "python3"
  },
  "language_info": {
   "codemirror_mode": {
    "name": "ipython",
    "version": 3
   },
   "file_extension": ".py",
   "mimetype": "text/x-python",
   "name": "python",
   "nbconvert_exporter": "python",
   "pygments_lexer": "ipython3",
   "version": "3.7.10"
  },
  "toc": {
   "base_numbering": 1,
   "nav_menu": {},
   "number_sections": true,
   "sideBar": true,
   "skip_h1_title": false,
   "title_cell": "Table of Contents",
   "title_sidebar": "Contents",
   "toc_cell": false,
   "toc_position": {},
   "toc_section_display": true,
   "toc_window_display": false
  }
 },
 "nbformat": 4,
 "nbformat_minor": 5
}
