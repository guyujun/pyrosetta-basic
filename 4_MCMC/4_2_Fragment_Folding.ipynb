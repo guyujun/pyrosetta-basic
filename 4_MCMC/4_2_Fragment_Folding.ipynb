{
 "cells": [
  {
   "cell_type": "markdown",
   "id": "native-turtle",
   "metadata": {},
   "source": [
    "## Fragment & Folding\n",
    "\n",
    "@Author: 吴炜坤\n",
    "\n",
    "@email：weikun.wu@xtalpi.com/weikunwu@163.com"
   ]
  },
  {
   "cell_type": "markdown",
   "id": "multiple-semiconductor",
   "metadata": {},
   "source": [
    "经过前面的学习，读者应该已经掌握了使用mcmc算法进行蛋白质构象搜索的基本方法。此处我们尝试对一段螺旋序列进行结构的预测，还是使用我们之前的ShearMover/SmallMover/MinMover以及各种CombineMover来构建一个蛋白质Folding的程序:"
   ]
  },
  {
   "cell_type": "markdown",
   "id": "three-information",
   "metadata": {},
   "source": [
    "### 一、崎岖的能量面"
   ]
  },
  {
   "cell_type": "markdown",
   "id": "hearing-terry",
   "metadata": {},
   "source": [
    "首先从简单的开始，我们使用PDB:ID为2i9m的一段alpha螺旋结构:"
   ]
  },
  {
   "cell_type": "code",
   "execution_count": 1,
   "id": "younger-chair",
   "metadata": {
    "tags": []
   },
   "outputs": [
    {
     "name": "stdout",
     "output_type": "stream",
     "text": [
      "PyRosetta-4 2021 [Rosetta PyRosetta4.conda.mac.cxx11thread.serialization.python37.Release 2021.26+release.b308454c455dd04f6824cc8b23e54bbb9be2cdd7 2021-07-02T13:01:54] retrieved from: http://www.pyrosetta.org\n",
      "(C) Copyright Rosetta Commons Member Institutions. Created in JHU by Sergey Lyskov and PyRosetta Team.\n",
      "\u001b[0mcore.init: {0} \u001b[0mChecking for fconfig files in pwd and ./rosetta/flags\n",
      "\u001b[0mcore.init: {0} \u001b[0mRosetta version: PyRosetta4.conda.mac.cxx11thread.serialization.python37.Release r288 2021.26+release.b308454c455 b308454c455dd04f6824cc8b23e54bbb9be2cdd7 http://www.pyrosetta.org 2021-07-02T13:01:54\n",
      "\u001b[0mcore.init: {0} \u001b[0mcommand: PyRosetta -ex1 -ex2aro -database /opt/miniconda3/lib/python3.7/site-packages/pyrosetta/database\n",
      "\u001b[0mbasic.random.init_random_generator: {0} \u001b[0m'RNG device' seed mode, using '/dev/urandom', seed=1287931986 seed_offset=0 real_seed=1287931986 thread_index=0\n",
      "\u001b[0mbasic.random.init_random_generator: {0} \u001b[0mRandomGenerator:init: Normal mode, seed=1287931986 RG_type=mt19937\n",
      "\u001b[0mcore.chemical.GlobalResidueTypeSet: {0} \u001b[0mFinished initializing fa_standard residue type set.  Created 984 residue types\n",
      "\u001b[0mcore.chemical.GlobalResidueTypeSet: {0} \u001b[0mTotal time to initialize 0.637641 seconds.\n",
      "\u001b[0mcore.import_pose.import_pose: {0} \u001b[0mFile './data/2i9m.pdb' automatically determined to be of type PDB\n",
      "\u001b[0mcore.io.pose_from_sfr.PoseFromSFRBuilder: {0} \u001b[0m\u001b[1m[ WARNING ]\u001b[0m discarding 1 atoms at position 1 in file ./data/2i9m.pdb. Best match rsd_type:  SER:NtermProteinFull\n",
      "\u001b[0mcore.conformation.Conformation: {0} \u001b[0m\u001b[1m[ WARNING ]\u001b[0m missing heavyatom:  OXT on residue GLY:CtermProteinFull 17\n"
     ]
    }
   ],
   "source": [
    "# load\n",
    "from pyrosetta import init, pose_from_pdb\n",
    "\n",
    "init()\n",
    "pose = pose_from_pdb('./data/2i9m.pdb')"
   ]
  },
  {
   "cell_type": "markdown",
   "id": "d35cdca0-34b5-4217-afe5-8b2e358ac919",
   "metadata": {},
   "source": [
    "<center><img src=\"./img/2i9m.png\" width = \"400\" height = \"200\" align=center /></center>"
   ]
  },
  {
   "cell_type": "code",
   "execution_count": 2,
   "id": "affecting-sauce",
   "metadata": {},
   "outputs": [
    {
     "name": "stdout",
     "output_type": "stream",
     "text": [
      "SAAEAYAKRIAEAMAKG\n",
      "\u001b[0mcore.import_pose.import_pose: {0} \u001b[0mFile './data/linear_pep.pdb' automatically determined to be of type PDB\n"
     ]
    }
   ],
   "source": [
    "# 获取它的序列;\n",
    "sequence = pose.sequence()\n",
    "print(sequence)\n",
    "\n",
    "# 读入预先准备好的线性多肽;\n",
    "linear_pose = pose_from_pdb('./data/linear_pep.pdb')"
   ]
  },
  {
   "cell_type": "code",
   "execution_count": 3,
   "id": "improved-shuttle",
   "metadata": {},
   "outputs": [
    {
     "name": "stdout",
     "output_type": "stream",
     "text": [
      "\u001b[0mcore.scoring.etable: {0} \u001b[0mStarting energy table calculation\n",
      "\u001b[0mcore.scoring.etable: {0} \u001b[0msmooth_etable: changing atr/rep split to bottom of energy well\n",
      "\u001b[0mcore.scoring.etable: {0} \u001b[0msmooth_etable: spline smoothing lj etables (maxdis = 6)\n",
      "\u001b[0mcore.scoring.etable: {0} \u001b[0msmooth_etable: spline smoothing solvation etables (max_dis = 6)\n",
      "\u001b[0mcore.scoring.etable: {0} \u001b[0mFinished calculating energy tables.\n",
      "\u001b[0mbasic.io.database: {0} \u001b[0mDatabase file opened: scoring/score_functions/hbonds/ref2015_params/HBPoly1D.csv\n",
      "\u001b[0mbasic.io.database: {0} \u001b[0mDatabase file opened: scoring/score_functions/hbonds/ref2015_params/HBFadeIntervals.csv\n",
      "\u001b[0mbasic.io.database: {0} \u001b[0mDatabase file opened: scoring/score_functions/hbonds/ref2015_params/HBEval.csv\n",
      "\u001b[0mbasic.io.database: {0} \u001b[0mDatabase file opened: scoring/score_functions/hbonds/ref2015_params/DonStrength.csv\n",
      "\u001b[0mbasic.io.database: {0} \u001b[0mDatabase file opened: scoring/score_functions/hbonds/ref2015_params/AccStrength.csv\n",
      "\u001b[0mbasic.io.database: {0} \u001b[0mDatabase file opened: scoring/score_functions/rama/fd/all.ramaProb\n",
      "\u001b[0mbasic.io.database: {0} \u001b[0mDatabase file opened: scoring/score_functions/rama/fd/prepro.ramaProb\n",
      "\u001b[0mbasic.io.database: {0} \u001b[0mDatabase file opened: scoring/score_functions/omega/omega_ppdep.all.txt\n",
      "\u001b[0mbasic.io.database: {0} \u001b[0mDatabase file opened: scoring/score_functions/omega/omega_ppdep.gly.txt\n",
      "\u001b[0mbasic.io.database: {0} \u001b[0mDatabase file opened: scoring/score_functions/omega/omega_ppdep.pro.txt\n",
      "\u001b[0mbasic.io.database: {0} \u001b[0mDatabase file opened: scoring/score_functions/omega/omega_ppdep.valile.txt\n",
      "\u001b[0mbasic.io.database: {0} \u001b[0mDatabase file opened: scoring/score_functions/P_AA_pp/P_AA\n",
      "\u001b[0mbasic.io.database: {0} \u001b[0mDatabase file opened: scoring/score_functions/P_AA_pp/P_AA_n\n",
      "\u001b[0mcore.scoring.P_AA: {0} \u001b[0mshapovalov_lib::shap_p_aa_pp_smooth_level of 1( aka low_smooth ) got activated.\n",
      "\u001b[0mbasic.io.database: {0} \u001b[0mDatabase file opened: scoring/score_functions/P_AA_pp/shapovalov/10deg/kappa131/a20.prop\n",
      "\u001b[0mbasic.io.database: {0} \u001b[0mDatabase file opened: scoring/score_functions/elec_cp_reps.dat\n",
      "\u001b[0mcore.scoring.elec.util: {0} \u001b[0mRead 40 countpair representative atoms\n",
      "\u001b[0mcore.pack.dunbrack.RotamerLibrary: {0} \u001b[0mshapovalov_lib_fixes_enable option is true.\n",
      "\u001b[0mcore.pack.dunbrack.RotamerLibrary: {0} \u001b[0mshapovalov_lib::shap_dun10_smooth_level of 1( aka lowest_smooth ) got activated.\n",
      "\u001b[0mcore.pack.dunbrack.RotamerLibrary: {0} \u001b[0mBinary rotamer library selected: /opt/miniconda3/lib/python3.7/site-packages/pyrosetta/database/rotamer/shapovalov/StpDwn_0-0-0/Dunbrack10.lib.bin\n",
      "\u001b[0mcore.pack.dunbrack.RotamerLibrary: {0} \u001b[0mUsing Dunbrack library binary file '/opt/miniconda3/lib/python3.7/site-packages/pyrosetta/database/rotamer/shapovalov/StpDwn_0-0-0/Dunbrack10.lib.bin'.\n",
      "\u001b[0mcore.pack.dunbrack.RotamerLibrary: {0} \u001b[0mDunbrack 2010 library took 0.155837 seconds to load from binary\n"
     ]
    }
   ],
   "source": [
    "# 使用TrailMover和其他Mover一起构建一个folding的程序;\n",
    "# pyrosetta初始化\n",
    "from pyrosetta import create_score_function\n",
    "from pyrosetta.rosetta.protocols.moves import MonteCarlo\n",
    "# 创建全原子打分函数:\n",
    "scorefxn = create_score_function('ref2015')\n",
    "# 定义温度\n",
    "kT = 1.0\n",
    "# 定义MonteCarlo object:\n",
    "mc = MonteCarlo(linear_pose, scorefxn, kT)\n",
    "\n",
    "# 定义movers\n",
    "from pyrosetta.rosetta.protocols.simple_moves import ShearMover, SmallMover\n",
    "from pyrosetta.rosetta.protocols.minimization_packing import MinMover\n",
    "from pyrosetta.rosetta.core.kinematics import MoveMap\n",
    "movemap = MoveMap()\n",
    "movemap.set_bb(True)\n",
    "n_moves = 1  # 定义执行多少次随机扰动\n",
    "small_mover = SmallMover(movemap, kT, n_moves)\n",
    "shear_mover = ShearMover(movemap, kT, n_moves)\n",
    "small_mover.angle_max(25)\n",
    "shear_mover.angle_max(25)\n",
    "\n",
    "# 初始化minmover\n",
    "min_mover = MinMover()\n",
    "min_mover.movemap(movemap)\n",
    "min_mover.min_type('lbfgs_armijo_nonmonotone')\n",
    "min_mover.score_function(scorefxn)\n",
    "min_mover.tolerance(0.01) # 能量变化的耐受值，当小于该值时停止优化.\n",
    "\n",
    "# 初始化combine mover\n",
    "from pyrosetta.rosetta.protocols.moves import RandomMover\n",
    "# RandomMover\n",
    "rand_mover = RandomMover()\n",
    "rand_mover.add_mover(small_mover)\n",
    "rand_mover.add_mover(shear_mover)\n",
    "# rand_mover.add_mover(min_mover)\n",
    "\n",
    "from pyrosetta.rosetta.protocols.moves import TrialMover\n",
    "trial_mover = TrialMover(rand_mover, mc)"
   ]
  },
  {
   "cell_type": "markdown",
   "id": "psychological-victorian",
   "metadata": {},
   "source": [
    "好！上面已经准备好了mcmc的程序了，读者可以尝试运行10、100、1000次。查看最后的构象状态。"
   ]
  },
  {
   "cell_type": "code",
   "execution_count": 4,
   "id": "indirect-bridal",
   "metadata": {},
   "outputs": [
    {
     "name": "stdout",
     "output_type": "stream",
     "text": [
      "\u001b[0mcore.scoring.ramachandran: {0} \u001b[0mshapovalov_lib::shap_rama_smooth_level of 4( aka highest_smooth ) got activated.\n",
      "\u001b[0mbasic.io.database: {0} \u001b[0mDatabase file opened: scoring/score_functions/rama/shapovalov/kappa25/all.ramaProb\n",
      "\u001b[0mbasic.io.database: {0} \u001b[0mDatabase file opened: scoring/score_functions/rama/flat/avg_L_rama.dat\n",
      "\u001b[0mcore.scoring.ramachandran: {0} \u001b[0mReading custom Ramachandran table from scoring/score_functions/rama/flat/avg_L_rama.dat.\n",
      "\u001b[0mbasic.io.database: {0} \u001b[0mDatabase file opened: scoring/score_functions/rama/flat/sym_all_rama.dat\n",
      "\u001b[0mcore.scoring.ramachandran: {0} \u001b[0mReading custom Ramachandran table from scoring/score_functions/rama/flat/sym_all_rama.dat.\n",
      "\u001b[0mbasic.io.database: {0} \u001b[0mDatabase file opened: scoring/score_functions/rama/flat/sym_G_rama.dat\n",
      "\u001b[0mcore.scoring.ramachandran: {0} \u001b[0mReading custom Ramachandran table from scoring/score_functions/rama/flat/sym_G_rama.dat.\n",
      "\u001b[0mbasic.io.database: {0} \u001b[0mDatabase file opened: scoring/score_functions/rama/flat/sym_P_rama.dat\n",
      "\u001b[0mcore.scoring.ramachandran: {0} \u001b[0mReading custom Ramachandran table from scoring/score_functions/rama/flat/sym_P_rama.dat.\n",
      "\u001b[0mbasic.io.database: {0} \u001b[0mDatabase file opened: scoring/score_functions/rama/flat/avg_L_rama_str.dat\n",
      "\u001b[0mcore.scoring.ramachandran: {0} \u001b[0mReading custom Ramachandran table from scoring/score_functions/rama/flat/avg_L_rama_str.dat.\n",
      "\u001b[0mbasic.io.database: {0} \u001b[0mDatabase file opened: scoring/score_functions/rama/flat/sym_all_rama_str.dat\n",
      "\u001b[0mcore.scoring.ramachandran: {0} \u001b[0mReading custom Ramachandran table from scoring/score_functions/rama/flat/sym_all_rama_str.dat.\n",
      "\u001b[0mbasic.io.database: {0} \u001b[0mDatabase file opened: scoring/score_functions/rama/flat/sym_G_rama_str.dat\n",
      "\u001b[0mcore.scoring.ramachandran: {0} \u001b[0mReading custom Ramachandran table from scoring/score_functions/rama/flat/sym_G_rama_str.dat.\n",
      "\u001b[0mbasic.io.database: {0} \u001b[0mDatabase file opened: scoring/score_functions/rama/flat/sym_P_rama_str.dat\n",
      "\u001b[0mcore.scoring.ramachandran: {0} \u001b[0mReading custom Ramachandran table from scoring/score_functions/rama/flat/sym_P_rama_str.dat.\n",
      "\u001b[0mprotocols.moves.MonteCarlo: {0} \u001b[0mMC: 1  24.7063  24.7063  24.7063  24.7063  0  0  0  accepted thermally\n",
      "\u001b[0mprotocols.moves.TrialCounter: {0} \u001b[0m           Shear trials=     46;  accepts= 0.6304;  energy_drop/trial=  -0.39129\n",
      "\u001b[0mprotocols.moves.TrialCounter: {0} \u001b[0m           Small trials=     54;  accepts= 0.7593;  energy_drop/trial=  -0.40653\n",
      "\u001b[0mprotocols.moves.MonteCarlo: {0} \u001b[0mMonteCarlo:: last_accepted_score,lowest_score: 24.7063 24.7063\n"
     ]
    }
   ],
   "source": [
    "# 记录一下构象变化轨迹:\n",
    "from pyrosetta.teaching import PyMOLMover\n",
    "from pyrosetta.rosetta.protocols.moves import AddPyMOLObserver_to_conformation\n",
    "pmm = PyMOLMover()\n",
    "pmm.keep_history(True)\n",
    "pmm.apply(linear_pose)\n",
    "AddPyMOLObserver_to_conformation(linear_pose, True)\n",
    "\n",
    "# 循环跑起来！\n",
    "for i in range(100):\n",
    "    trial_mover.apply(linear_pose)\n",
    "\n",
    "# 获取能量最低的构象:\n",
    "mc.recover_low(linear_pose)\n",
    "mc.show_state()\n",
    "mc.show_scores()"
   ]
  },
  {
   "cell_type": "markdown",
   "id": "considered-semiconductor",
   "metadata": {},
   "source": [
    "结果好像并非我们所想象的那么顺利。最先开始的线性多肽并没有按照预期折叠成想要的形状。出现了什么问题？让我们看一下轨迹:\n",
    "<center><img src=\"./img/fullatom_fold.gif\" width = \"600\" height = \"200\" align=center /></center>"
   ]
  },
  {
   "cell_type": "markdown",
   "id": "2ad7c354-6e0c-4cca-be89-c0be2219065d",
   "metadata": {},
   "source": [
    "细心的同学可能会发现，我们模拟过程中没有处理侧链的结构，由于侧链没有进行变化，导致骨架发生变化时，侧链原子之间容易产生碰撞。导致每一步的能量基本都是升高的状态！这也是就在全原子打分函数下，能量面十分的崎岖，难以被遍历搜索。如果此时同时考虑侧链和主链，那自由度又过大，搜索效率下降。那在Rosetta中，这个问题是如何被解决的呢？那就是centroid模型与cen_std能量函数。"
   ]
  },
  {
   "cell_type": "markdown",
   "id": "c6eb073e-8190-4486-9fd9-61ce04252ba7",
   "metadata": {},
   "source": [
    "<center><img src=\"./img/能量面的对比.jpg\" width = \"900\" height = \"200\" align=center /></center>"
   ]
  },
  {
   "cell_type": "markdown",
   "id": "constant-winning",
   "metadata": {},
   "source": [
    "### 二、粗粒化模型与能量面"
   ]
  },
  {
   "cell_type": "markdown",
   "id": "foreign-buyer",
   "metadata": {},
   "source": [
    "在之前的章节中，我们提及过Rosetta中Pose有两种原子模型以及有粗粒化的打分函数。在粗粒化的原子模型和力场下，蛋白折叠的能量面平滑了许多，让我们对主链构象的搜索有了更大的移动空间。\n",
    "\n",
    "<center><img src=\"./img/能量面的变化.jpg\" width = \"900\" height = \"200\" align=center /></center>\n",
    "\n",
    "在这一节，我们将尝试在粗粒化的打分函数的能量面上进行蛋白质折叠模拟。"
   ]
  },
  {
   "cell_type": "code",
   "execution_count": 5,
   "id": "mineral-bikini",
   "metadata": {},
   "outputs": [
    {
     "name": "stdout",
     "output_type": "stream",
     "text": [
      "\u001b[0mcore.import_pose.import_pose: {0} \u001b[0mFile './data/linear_pep.pdb' automatically determined to be of type PDB\n",
      "\u001b[0mcore.chemical.GlobalResidueTypeSet: {0} \u001b[0mFinished initializing centroid residue type set.  Created 69 residue types\n",
      "\u001b[0mcore.chemical.GlobalResidueTypeSet: {0} \u001b[0mTotal time to initialize 0.022613 seconds.\n",
      "\u001b[0mbasic.io.database: {0} \u001b[0mDatabase file opened: scoring/score_functions/EnvPairPotential/env_log.txt\n",
      "\u001b[0mbasic.io.database: {0} \u001b[0mDatabase file opened: scoring/score_functions/EnvPairPotential/cbeta_den.txt\n",
      "\u001b[0mbasic.io.database: {0} \u001b[0mDatabase file opened: scoring/score_functions/EnvPairPotential/pair_log.txt\n",
      "\u001b[0mbasic.io.database: {0} \u001b[0mDatabase file opened: scoring/score_functions/EnvPairPotential/cenpack_log.txt\n"
     ]
    },
    {
     "data": {
      "text/plain": [
       "<pyrosetta.rosetta.protocols.moves.PyMOLObserver at 0x7f8c303b4030>"
      ]
     },
     "execution_count": 5,
     "metadata": {},
     "output_type": "execute_result"
    }
   ],
   "source": [
    "# 转换pose、构建打分函数:\n",
    "from pyrosetta.rosetta.protocols.simple_moves import SwitchResidueTypeSetMover\n",
    "\n",
    "# 读入预先准备好的线性多肽;\n",
    "linear_pose = pose_from_pdb('./data/linear_pep.pdb')\n",
    "\n",
    "# 转换pose为粗粒化模型:\n",
    "switch_mover = SwitchResidueTypeSetMover(\"centroid\")\n",
    "switch_mover.apply(linear_pose)\n",
    "\n",
    "# cen_std打分函数\n",
    "cen_score = create_score_function('cen_std')\n",
    "\n",
    "# 重新定义MonteCarlo object:\n",
    "mc = MonteCarlo(linear_pose, cen_score, kT)\n",
    "trial_mover = TrialMover(rand_mover, mc)\n",
    "pmm.apply(linear_pose)\n",
    "AddPyMOLObserver_to_conformation(linear_pose, True)"
   ]
  },
  {
   "cell_type": "code",
   "execution_count": 6,
   "id": "blessed-beads",
   "metadata": {},
   "outputs": [
    {
     "name": "stdout",
     "output_type": "stream",
     "text": [
      "\u001b[0mprotocols.moves.MonteCarlo: {0} \u001b[0mMC: 1  9.81401  9.81401  9.81401  9.81401  0  0  0  accepted score beat last\n",
      "\u001b[0mprotocols.moves.TrialCounter: {0} \u001b[0m           Shear trials=   2501;  accepts= 0.9408;  energy_drop/trial=   0.00077\n",
      "\u001b[0mprotocols.moves.TrialCounter: {0} \u001b[0m           Small trials=   2499;  accepts= 0.8912;  energy_drop/trial=  -0.00199\n",
      "\u001b[0mprotocols.moves.MonteCarlo: {0} \u001b[0mMonteCarlo:: last_accepted_score,lowest_score: 9.81401 9.81401\n"
     ]
    },
    {
     "data": {
      "text/plain": [
       "True"
      ]
     },
     "execution_count": 6,
     "metadata": {},
     "output_type": "execute_result"
    }
   ],
   "source": [
    "# 循环跑起来！需要2-3min运行时间。\n",
    "for i in range(5000):\n",
    "    trial_mover.apply(linear_pose)\n",
    "\n",
    "# 获取能量最低的构象:\n",
    "mc.recover_low(linear_pose)\n",
    "mc.show_state()\n",
    "mc.show_scores()\n",
    "\n",
    "# 可视化\n",
    "linear_pose.dump_pdb('./data/centroid_mcmc.pdb')"
   ]
  },
  {
   "cell_type": "markdown",
   "id": "94901819-d309-440e-bbd0-f3365623a42a",
   "metadata": {},
   "source": [
    "<center><img src=\"./img/sample_mcm.png\" width = \"400\" height = \"200\" align=center /></center>"
   ]
  },
  {
   "cell_type": "markdown",
   "id": "placed-subsection",
   "metadata": {},
   "source": [
    "在构象搜索了5000步之后，我们发现在centroid原子模型和粗粒化的力场下，我们要模拟的多肽构象有了较大的构象变化，而不再是简单的线性结构。\n",
    "\n",
    "**思考: 为何还未成功折叠至我们的目标螺旋状态？**"
   ]
  },
  {
   "cell_type": "markdown",
   "id": "demanding-antigua",
   "metadata": {},
   "source": [
    "### 三、Fragment增强采样"
   ]
  },
  {
   "cell_type": "markdown",
   "id": "passive-manner",
   "metadata": {},
   "source": [
    "最早在CASP8比赛中，Rosetta基于Fragment进行MCMC采样被成功地应用于蛋白结构预测(当然Fragment的方法做结构预测早已过时了)。这里的使用Fragment的原理非常简单，首先通过序列的一级信息，可以预测得到相应的二级结构，只要从已有的17万个PDB结构数据中，找到类似序列且类似二级结构的多肽片段，将他们进行组装，就可以快速采样目标的结构。"
   ]
  },
  {
   "cell_type": "markdown",
   "id": "excellent-bristol",
   "metadata": {},
   "source": [
    "Robetta的官方服务器上还留着Fragment生成的服务器，新手可以直接从这里获取Fragment。使用教育邮箱注册后就可以提交任务。此处最小的序列长度是27。<br>\n",
    "\n",
    "https://robetta.bakerlab.org/fragmentsubmit.jsp"
   ]
  },
  {
   "cell_type": "markdown",
   "id": "cheap-clerk",
   "metadata": {},
   "source": [
    "在此处，我们更换一个更加复杂的蛋白作为案例: PDBID_1B72。"
   ]
  },
  {
   "cell_type": "code",
   "execution_count": 7,
   "id": "native-spotlight",
   "metadata": {},
   "outputs": [
    {
     "name": "stdout",
     "output_type": "stream",
     "text": [
      "\u001b[0mcore.import_pose.import_pose: {0} \u001b[0mFile './data/1b72.pdb' automatically determined to be of type PDB\n"
     ]
    },
    {
     "data": {
      "text/plain": [
       "'LRTNFTTRQLTELEKEFHFNKYLSRARRVEIAATLELNETQVKIWFQNRRMKQKKRERE'"
      ]
     },
     "execution_count": 7,
     "metadata": {},
     "output_type": "execute_result"
    }
   ],
   "source": [
    "# 读取目标的pose\n",
    "ref_pose = pose_from_pdb('./data/1b72.pdb')\n",
    "ref_pose.sequence()  # 这就是1b72的序列，可以用这个去fragment服务器上提交任务。"
   ]
  },
  {
   "cell_type": "code",
   "execution_count": 8,
   "id": "accomplished-government",
   "metadata": {},
   "outputs": [
    {
     "name": "stdout",
     "output_type": "stream",
     "text": [
      "\u001b[0mcore.fragments.ConstantLengthFragSet: {0} \u001b[0mfinished reading top 200 3mer fragments from file ./data/3mer.frags\n",
      "\u001b[0mcore.fragments.ConstantLengthFragSet: {0} \u001b[0mfinished reading top 200 9mer fragments from file ./data/9mer.frags\n"
     ]
    }
   ],
   "source": [
    "# 教案的制作中已经通过服务器准备好了相应的fragment文件，位于./data/*frags.\n",
    "# 此处通过fragment相关的管理器mover读入fragment信息:\n",
    "from pyrosetta.rosetta.core.fragment import ConstantLengthFragSet\n",
    "from pyrosetta import pose_from_sequence\n",
    "fragset3 = ConstantLengthFragSet(3)\n",
    "fragset3.read_fragment_file(\"./data/3mer.frags\")\n",
    "fragset9 = ConstantLengthFragSet(9)\n",
    "fragset9.read_fragment_file(\"./data/9mer.frags\")\n",
    "\n",
    "# 准备线性结构\n",
    "frag_pose = pose_from_sequence('LRTNFTTRQLTELEKEFHFNKYLSRARRVEIAATLELNETQVKIWFQNRRMKQKKRERE', \"centroid\")"
   ]
  },
  {
   "cell_type": "markdown",
   "id": "brilliant-cowboy",
   "metadata": {},
   "source": [
    "这里，我们不再使用SmallMover和ShearMover做主链结构的move，而是换用ClassicFragmentMover，这个mover可以将我们分离的3mer(3氨基酸片段)和9mer(9氨基酸片段)插入当前的线性结构当中。"
   ]
  },
  {
   "cell_type": "code",
   "execution_count": 9,
   "id": "sitting-commitment",
   "metadata": {},
   "outputs": [],
   "source": [
    "#\n",
    "from pyrosetta.rosetta.protocols.simple_moves import ClassicFragmentMover\n",
    "from pyrosetta.rosetta.core.kinematics import MoveMap\n",
    "movemap = MoveMap()\n",
    "movemap.set_bb(True)\n",
    "\n",
    "# 加载fragment插入mover\n",
    "fragmover3 = ClassicFragmentMover(fragset3, movemap)\n",
    "fragmover9 = ClassicFragmentMover(fragset9, movemap)\n",
    "\n",
    "# 初始化combine mover\n",
    "from pyrosetta.rosetta.protocols.moves import RandomMover\n",
    "# RandomMover\n",
    "rand_mover = RandomMover()\n",
    "rand_mover.add_mover(fragmover3)\n",
    "rand_mover.add_mover(fragmover9)\n",
    "\n",
    "# 重新定义MonteCarlo object:\n",
    "frag_mc = MonteCarlo(frag_pose, cen_score, kT)\n",
    "\n",
    "from pyrosetta.rosetta.protocols.moves import TrialMover\n",
    "trial_mover = TrialMover(rand_mover, frag_mc)"
   ]
  },
  {
   "cell_type": "markdown",
   "id": "existing-latitude",
   "metadata": {},
   "source": [
    "尝试运行以下用fragment插入法的mcmc代码。"
   ]
  },
  {
   "cell_type": "code",
   "execution_count": 10,
   "id": "adult-yield",
   "metadata": {},
   "outputs": [
    {
     "name": "stdout",
     "output_type": "stream",
     "text": [
      "\u001b[0mprotocols.moves.MonteCarlo: {0} \u001b[0mMC: 1  -15.9793  -15.9793  -15.9793  -15.9793  0  0  0  rejected\n",
      "\u001b[0mprotocols.moves.TrialCounter: {0} \u001b[0mClassicFragmentM trials=  10000;  accepts= 0.0994;  energy_drop/trial=  -0.00288\n",
      "\u001b[0mprotocols.moves.MonteCarlo: {0} \u001b[0mMonteCarlo:: last_accepted_score,lowest_score: -15.9793 -15.9793\n"
     ]
    }
   ],
   "source": [
    "# 循环跑起来！需要2-3min运行时间。\n",
    "for i in range(10000):\n",
    "    trial_mover.apply(frag_pose)\n",
    "\n",
    "# 获取能量最低的构象:\n",
    "frag_mc.recover_low(frag_pose)\n",
    "frag_mc.show_state()\n",
    "frag_mc.show_scores()"
   ]
  },
  {
   "cell_type": "code",
   "execution_count": 11,
   "id": "decent-quantity",
   "metadata": {},
   "outputs": [
    {
     "data": {
      "text/plain": [
       "True"
      ]
     },
     "execution_count": 11,
     "metadata": {},
     "output_type": "execute_result"
    }
   ],
   "source": [
    "frag_pose.dump_pdb('./data/prediction.pdb')"
   ]
  },
  {
   "cell_type": "markdown",
   "id": "liked-highland",
   "metadata": {},
   "source": [
    "尝试比较预测结构和真实结构的RMSD差异:"
   ]
  },
  {
   "cell_type": "markdown",
   "id": "numerous-strand",
   "metadata": {},
   "source": [
    "<center><img src=\"./img/prediction.png\" width = \"500\" height = \"200\" align=center /></center>"
   ]
  },
  {
   "cell_type": "markdown",
   "id": "certified-optimum",
   "metadata": {},
   "source": [
    "**思考1: 这种基于Fragment插入的结构预测方法有什么局限性？**"
   ]
  },
  {
   "cell_type": "markdown",
   "id": "irish-building",
   "metadata": {},
   "source": [
    "**思考2: 这种基于Fragment插入的结构预测方法最后采样得到的结构分布依然服从玻尔兹曼分布吗？为什么？**"
   ]
  },
  {
   "cell_type": "markdown",
   "id": "nasty-major",
   "metadata": {},
   "source": [
    "目前深度学习的方法预测蛋白质结构已经得到了长足的发展，已经全面超越了传统contacts+folding的建模策略。因此在结构预测领域已经很少使用。但目前Fragment的方法对于结构生成和蛋白质设计依然有着重要的作用。"
   ]
  },
  {
   "cell_type": "markdown",
   "id": "conscious-details",
   "metadata": {},
   "source": [
    "### 练习题:\n"
   ]
  },
  {
   "cell_type": "markdown",
   "id": "metropolitan-rubber",
   "metadata": {},
   "source": [
    "1. 尝试构建一个每次在Fragment插入之后，接着使用SmallMover和ShearMover采样局部结构的结构搜索程序。【提示:可能需要2个mc object】"
   ]
  },
  {
   "cell_type": "markdown",
   "id": "casual-lodge",
   "metadata": {},
   "source": [
    "2. 习题1中添加的模拟退火的步骤，查看对预测结构的影响？"
   ]
  }
 ],
 "metadata": {
  "kernelspec": {
   "display_name": "Python 3",
   "language": "python",
   "name": "python3"
  },
  "language_info": {
   "codemirror_mode": {
    "name": "ipython",
    "version": 3
   },
   "file_extension": ".py",
   "mimetype": "text/x-python",
   "name": "python",
   "nbconvert_exporter": "python",
   "pygments_lexer": "ipython3",
   "version": "3.7.10"
  }
 },
 "nbformat": 4,
 "nbformat_minor": 5
}
