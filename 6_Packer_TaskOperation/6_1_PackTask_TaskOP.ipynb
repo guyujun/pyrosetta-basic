{
 "cells": [
  {
   "cell_type": "markdown",
   "id": "destroyed-catholic",
   "metadata": {},
   "source": [
    "## TaskOperation & PackTask\n",
    "\n",
    "@Author: 吴炜坤\n",
    "\n",
    "@email：weikun.wu@xtalpi.com/weikunwu@163.com"
   ]
  },
  {
   "cell_type": "markdown",
   "id": "promising-budapest",
   "metadata": {},
   "source": [
    "上一节，我们详细介绍了Rotamer以及Rosetta Packer的基本工作原理。Packer有三种工作方式: “Repacking”、“Rotamer Trial”和“Design”。其中Rotamer就有可能存在3种基本状态:\n",
    "- Repacking: 该位点处Rotamer类型只能是同一种氨基酸;\n",
    "- Design: 该位点上Rotamer类型可以是多种氨酸;\n",
    "- Fixed: 该位点Rotamer不允许发生变化。"
   ]
  },
  {
   "cell_type": "markdown",
   "id": "cosmetic-nothing",
   "metadata": {},
   "source": [
    "在本章节中，读者将学习到如何使用TaskOperations来控制Rotamer在Packer中的“行为规范”。"
   ]
  },
  {
   "cell_type": "markdown",
   "id": "objective-sport",
   "metadata": {},
   "source": [
    "### 一、PackerTask与TaskFactory"
   ]
  },
  {
   "cell_type": "markdown",
   "id": "maritime-security",
   "metadata": {},
   "source": [
    "如果把Packer想象成一位“蛋白构建大师”，他正在将一些建筑材料(Rotamer)安装在地基上(Backbone的$C_{\\alpha}$原子)。**但是在施工之前，建筑大师必须知道他需要在每个地基点上能安装什么材料**，并且经过他的深思熟虑(模拟退火)来构建出最完美的艺术品。此时，他需要我们的帮助，给他一张施工的蓝图。而这张蓝图就是PackerTask。\n",
    "\n",
    "<center><img src=\"./img/PackerTask.jpg\" width = \"700\" height = \"200\" align=center /></center>"
   ]
  },
  {
   "cell_type": "code",
   "execution_count": 83,
   "id": "matched-northwest",
   "metadata": {},
   "outputs": [
    {
     "name": "stdout",
     "output_type": "stream",
     "text": [
      "PyRosetta-4 2020 [Rosetta PyRosetta4.conda.mac.cxx11thread.serialization.python36.Release 2020.50+release.1295438cd4bd2be39c9dbbfab8db669ab62415ab 2020-12-12T00:30:01] retrieved from: http://www.pyrosetta.org\n",
      "(C) Copyright Rosetta Commons Member Institutions. Created in JHU by Sergey Lyskov and PyRosetta Team.\n",
      "\u001b[0mcore.init: {0} \u001b[0mChecking for fconfig files in pwd and ./rosetta/flags\n",
      "\u001b[0mcore.init: {0} \u001b[0mRosetta version: PyRosetta4.conda.mac.cxx11thread.serialization.python36.Release r274 2020.50+release.1295438cd4b 1295438cd4bd2be39c9dbbfab8db669ab62415ab http://www.pyrosetta.org 2020-12-12T00:30:01\n",
      "\u001b[0mcore.init: {0} \u001b[0mcommand: PyRosetta -ex1 -ex2aro -database /opt/miniconda3/lib/python3.6/site-packages/pyrosetta/database\n",
      "\u001b[0mbasic.random.init_random_generator: {0} \u001b[0m'RNG device' seed mode, using '/dev/urandom', seed=-858440882 seed_offset=0 real_seed=-858440882 thread_index=0\n",
      "\u001b[0mbasic.random.init_random_generator: {0} \u001b[0mRandomGenerator:init: Normal mode, seed=-858440882 RG_type=mt19937\n",
      "\u001b[0mcore.import_pose.import_pose: {0} \u001b[0mFile './data/helix.pdb' automatically determined to be of type PDB\n",
      "\u001b[0mcore.conformation.Conformation: {0} \u001b[0m\u001b[1m[ WARNING ]\u001b[0m missing heavyatom:  OXT on residue GLY:CtermProteinFull 14\n"
     ]
    }
   ],
   "source": [
    "# 初始化PyRosetta并读取一段螺旋结构的PDB。\n",
    "from pyrosetta import *\n",
    "init()\n",
    "pose = pose_from_pdb('./data/helix.pdb')"
   ]
  },
  {
   "cell_type": "markdown",
   "id": "stuffed-procurement",
   "metadata": {},
   "source": [
    "**PackerTask需要从TaskFactory中进行自动生成。**"
   ]
  },
  {
   "cell_type": "code",
   "execution_count": 69,
   "id": "powered-management",
   "metadata": {},
   "outputs": [
    {
     "name": "stdout",
     "output_type": "stream",
     "text": [
      "#Packer_Task\n",
      "\n",
      "Threads to request: ALL AVAILABLE\n",
      "\n",
      "resid\tpack?\tdesign?\tallowed_aas\n",
      "1\tTRUE\tTRUE\tALA:NtermProteinFull,CYS:NtermProteinFull,ASP:NtermProteinFull,GLU:NtermProteinFull,PHE:NtermProteinFull,GLY:NtermProteinFull,HIS:NtermProteinFull,HIS_D:NtermProteinFull,ILE:NtermProteinFull,LYS:NtermProteinFull,LEU:NtermProteinFull,MET:NtermProteinFull,ASN:NtermProteinFull,PRO:NtermProteinFull,GLN:NtermProteinFull,ARG:NtermProteinFull,SER:NtermProteinFull,THR:NtermProteinFull,VAL:NtermProteinFull,TRP:NtermProteinFull,TYR:NtermProteinFull\n",
      "2\tTRUE\tTRUE\tALA,CYS,ASP,GLU,PHE,GLY,HIS,HIS_D,ILE,LYS,LEU,MET,ASN,PRO,GLN,ARG,SER,THR,VAL,TRP,TYR\n",
      "3\tTRUE\tTRUE\tALA,CYS,ASP,GLU,PHE,GLY,HIS,HIS_D,ILE,LYS,LEU,MET,ASN,PRO,GLN,ARG,SER,THR,VAL,TRP,TYR\n",
      "4\tTRUE\tTRUE\tALA,CYS,ASP,GLU,PHE,GLY,HIS,HIS_D,ILE,LYS,LEU,MET,ASN,PRO,GLN,ARG,SER,THR,VAL,TRP,TYR\n",
      "5\tTRUE\tTRUE\tALA,CYS,ASP,GLU,PHE,GLY,HIS,HIS_D,ILE,LYS,LEU,MET,ASN,PRO,GLN,ARG,SER,THR,VAL,TRP,TYR\n",
      "6\tTRUE\tTRUE\tALA,CYS,ASP,GLU,PHE,GLY,HIS,HIS_D,ILE,LYS,LEU,MET,ASN,PRO,GLN,ARG,SER,THR,VAL,TRP,TYR\n",
      "7\tTRUE\tTRUE\tALA,CYS,ASP,GLU,PHE,GLY,HIS,HIS_D,ILE,LYS,LEU,MET,ASN,PRO,GLN,ARG,SER,THR,VAL,TRP,TYR\n",
      "8\tTRUE\tTRUE\tALA,CYS,ASP,GLU,PHE,GLY,HIS,HIS_D,ILE,LYS,LEU,MET,ASN,PRO,GLN,ARG,SER,THR,VAL,TRP,TYR\n",
      "9\tTRUE\tTRUE\tALA,CYS,ASP,GLU,PHE,GLY,HIS,HIS_D,ILE,LYS,LEU,MET,ASN,PRO,GLN,ARG,SER,THR,VAL,TRP,TYR\n",
      "10\tTRUE\tTRUE\tALA,CYS,ASP,GLU,PHE,GLY,HIS,HIS_D,ILE,LYS,LEU,MET,ASN,PRO,GLN,ARG,SER,THR,VAL,TRP,TYR\n",
      "11\tTRUE\tTRUE\tALA,CYS,ASP,GLU,PHE,GLY,HIS,HIS_D,ILE,LYS,LEU,MET,ASN,PRO,GLN,ARG,SER,THR,VAL,TRP,TYR\n",
      "12\tTRUE\tTRUE\tALA,CYS,ASP,GLU,PHE,GLY,HIS,HIS_D,ILE,LYS,LEU,MET,ASN,PRO,GLN,ARG,SER,THR,VAL,TRP,TYR\n",
      "13\tTRUE\tTRUE\tALA,CYS,ASP,GLU,PHE,GLY,HIS,HIS_D,ILE,LYS,LEU,MET,ASN,PRO,GLN,ARG,SER,THR,VAL,TRP,TYR\n",
      "14\tTRUE\tTRUE\tALA:CtermProteinFull,CYS:CtermProteinFull,ASP:CtermProteinFull,GLU:CtermProteinFull,PHE:CtermProteinFull,GLY:CtermProteinFull,HIS:CtermProteinFull,HIS_D:CtermProteinFull,ILE:CtermProteinFull,LYS:CtermProteinFull,LEU:CtermProteinFull,MET:CtermProteinFull,ASN:CtermProteinFull,PRO:CtermProteinFull,GLN:CtermProteinFull,ARG:CtermProteinFull,SER:CtermProteinFull,THR:CtermProteinFull,VAL:CtermProteinFull,TRP:CtermProteinFull,TYR:CtermProteinFull\n",
      "\n"
     ]
    }
   ],
   "source": [
    "# 从TaskFactory生成packer_task\n",
    "from pyrosetta.rosetta.core.pack.task import TaskFactory\n",
    "tf = TaskFactory()\n",
    "packer_task = tf.create_packer_task(pose)\n",
    "print(packer_task)"
   ]
  },
  {
   "cell_type": "markdown",
   "id": "intellectual-camping",
   "metadata": {},
   "source": [
    "从上述结果可见，默认生成的Packer_Task包含三种数据:\n",
    "- 残基位点编号信息\n",
    "- 每个位点上，Rotamer的3种基本状态\n",
    "- 每个位点上，被允许氨基酸Rotamer类型"
   ]
  },
  {
   "cell_type": "markdown",
   "id": "gross-equity",
   "metadata": {},
   "source": [
    "**并且默认的PackerTask是运行每个位点都包含20种氨基酸的Rotamer**"
   ]
  },
  {
   "cell_type": "markdown",
   "id": "compressed-middle",
   "metadata": {},
   "source": [
    "### 二、什么是TaskOperations?\n",
    "\n",
    "TaskOperations直译的意思即为\"任务操作元件\", **TaskOperations被TaskFactory加载并创建PackerTask。**"
   ]
  },
  {
   "cell_type": "markdown",
   "id": "electric-stranger",
   "metadata": {},
   "source": [
    "TaskOperations可以直观的理解为对**指定位点氨基酸的Rotamer自由度进行消减的过程**，类似做雕刻的过程，一开始默认的PackerTask允许所有20种氨基酸的Rotamer的出现，在加载不同的TaskOperations后，PackerTask的Rotamer自由度开始不断的缩减，直到满足用户设定的需求。其中一点是非常重要的。**一旦将Rotamer的自由度缩减后，将无法在PackerTask中重新被激活。** 如，第一个TaskOperations设定5号位点为“Fixed“的状态，第二个TaskOperations再重新设定5号位点为“Repacking“的状态。TaskFactory生成的PackerTask中5号位点**依然为“Fixed(No_repack)“的状态**。从底层逻辑来理解，TaskFactory将所有的TaskOperations中取Rotamer自由度越小的那个状态来生成PackerTask。"
   ]
  },
  {
   "cell_type": "markdown",
   "id": "fatty-swiss",
   "metadata": {},
   "source": [
    "<center><img src=\"./img/taskop_turnoff.png\" width = \"500\" height = \"200\" align=center /></center>"
   ]
  },
  {
   "cell_type": "markdown",
   "id": "oriental-saskatchewan",
   "metadata": {},
   "source": [
    "小结: \n",
    "* TaskOperations的三层自由度级别: Design/Repack/No_repack;\n",
    "* TaskOperations形象地类似于\"冰雕设计\", 它的作用是告诉TaskFactory在Pose中每个位点的Rotamer自由度大小;\n",
    "* 一旦一个氨基酸或区域被设计定为低自由度状态时，那么这个位点将不能被重新设定为高自由度状态。"
   ]
  },
  {
   "cell_type": "markdown",
   "id": "separated-marble",
   "metadata": {},
   "source": [
    "### 三、TaskOperations的分类"
   ]
  },
  {
   "cell_type": "markdown",
   "id": "suffering-adobe",
   "metadata": {},
   "source": [
    "TaskOperation从构建逻辑上来分类共计有两种类型:\n",
    "\n",
    "* Residue Level TaskOperations: 根据Selector设定选择范围内位点的Rotamer自由度(手动挡);\n",
    "* Specialized Operations: 根据预设好逻辑，对位点进行全局Rotamer操作(自动挡);"
   ]
  },
  {
   "cell_type": "markdown",
   "id": "periodic-transition",
   "metadata": {},
   "source": [
    "#### 3.1 Residue Level TaskOperations的使用示例"
   ]
  },
  {
   "cell_type": "markdown",
   "id": "saved-roberts",
   "metadata": {},
   "source": [
    "Residue Level TaskOperations(RLT)一般需要配合Selector来指定操作的范围。用户可以直观地将RLT理解为一个**自定义版本的Specialized Operations**。\n",
    "\n",
    "**特别注意的是:RLT是无法直接被TaskFactory所读取，其必须通过OperateOnResidueSubset函数来生成一个标准的TaskOperations。**"
   ]
  },
  {
   "cell_type": "markdown",
   "id": "described-baptist",
   "metadata": {},
   "source": [
    "此处举一个简单RestrictToRepackingRLT(顾明思议此RTL是将Rotamer约束到现有氨基酸类型上。)应用的例子："
   ]
  },
  {
   "cell_type": "code",
   "execution_count": 70,
   "id": "fluid-teaching",
   "metadata": {},
   "outputs": [
    {
     "name": "stdout",
     "output_type": "stream",
     "text": [
      "#Packer_Task\n",
      "\n",
      "Threads to request: ALL AVAILABLE\n",
      "\n",
      "resid\tpack?\tdesign?\tallowed_aas\n",
      "1\tTRUE\tFALSE\tASP:NtermProteinFull\n",
      "2\tTRUE\tTRUE\tALA,CYS,ASP,GLU,PHE,GLY,HIS,HIS_D,ILE,LYS,LEU,MET,ASN,PRO,GLN,ARG,SER,THR,VAL,TRP,TYR\n",
      "3\tTRUE\tFALSE\tLEU\n",
      "4\tTRUE\tTRUE\tALA,CYS,ASP,GLU,PHE,GLY,HIS,HIS_D,ILE,LYS,LEU,MET,ASN,PRO,GLN,ARG,SER,THR,VAL,TRP,TYR\n",
      "5\tTRUE\tFALSE\tLYS\n",
      "6\tTRUE\tTRUE\tALA,CYS,ASP,GLU,PHE,GLY,HIS,HIS_D,ILE,LYS,LEU,MET,ASN,PRO,GLN,ARG,SER,THR,VAL,TRP,TYR\n",
      "7\tTRUE\tTRUE\tALA,CYS,ASP,GLU,PHE,GLY,HIS,HIS_D,ILE,LYS,LEU,MET,ASN,PRO,GLN,ARG,SER,THR,VAL,TRP,TYR\n",
      "8\tTRUE\tTRUE\tALA,CYS,ASP,GLU,PHE,GLY,HIS,HIS_D,ILE,LYS,LEU,MET,ASN,PRO,GLN,ARG,SER,THR,VAL,TRP,TYR\n",
      "9\tTRUE\tTRUE\tALA,CYS,ASP,GLU,PHE,GLY,HIS,HIS_D,ILE,LYS,LEU,MET,ASN,PRO,GLN,ARG,SER,THR,VAL,TRP,TYR\n",
      "10\tTRUE\tTRUE\tALA,CYS,ASP,GLU,PHE,GLY,HIS,HIS_D,ILE,LYS,LEU,MET,ASN,PRO,GLN,ARG,SER,THR,VAL,TRP,TYR\n",
      "11\tTRUE\tTRUE\tALA,CYS,ASP,GLU,PHE,GLY,HIS,HIS_D,ILE,LYS,LEU,MET,ASN,PRO,GLN,ARG,SER,THR,VAL,TRP,TYR\n",
      "12\tTRUE\tTRUE\tALA,CYS,ASP,GLU,PHE,GLY,HIS,HIS_D,ILE,LYS,LEU,MET,ASN,PRO,GLN,ARG,SER,THR,VAL,TRP,TYR\n",
      "13\tTRUE\tTRUE\tALA,CYS,ASP,GLU,PHE,GLY,HIS,HIS_D,ILE,LYS,LEU,MET,ASN,PRO,GLN,ARG,SER,THR,VAL,TRP,TYR\n",
      "14\tTRUE\tTRUE\tALA:CtermProteinFull,CYS:CtermProteinFull,ASP:CtermProteinFull,GLU:CtermProteinFull,PHE:CtermProteinFull,GLY:CtermProteinFull,HIS:CtermProteinFull,HIS_D:CtermProteinFull,ILE:CtermProteinFull,LYS:CtermProteinFull,LEU:CtermProteinFull,MET:CtermProteinFull,ASN:CtermProteinFull,PRO:CtermProteinFull,GLN:CtermProteinFull,ARG:CtermProteinFull,SER:CtermProteinFull,THR:CtermProteinFull,VAL:CtermProteinFull,TRP:CtermProteinFull,TYR:CtermProteinFull\n",
      "\n"
     ]
    }
   ],
   "source": [
    "from pyrosetta.rosetta.core.pack.task.operation import RestrictToRepackingRLT, OperateOnResidueSubset\n",
    "from pyrosetta.rosetta.core.select.residue_selector import ResidueIndexSelector\n",
    "# 选择氨基酸范围\n",
    "select_pos3 = ResidueIndexSelector('1,3,5')\n",
    "\n",
    "# 使用OperateOnResidueSubset生成TaskOperations\n",
    "packing_taskop = OperateOnResidueSubset(RestrictToRepackingRLT(), select_pos3, False)\n",
    "\n",
    "# 将TaskOperations加载至TaskFactory中\n",
    "pack_tf = TaskFactory()\n",
    "pack_tf.push_back(packing_taskop)\n",
    "\n",
    "# 生成PackerTask\n",
    "packer_task = pack_tf.create_task_and_apply_taskoperations(pose)\n",
    "print(packer_task)"
   ]
  },
  {
   "cell_type": "markdown",
   "id": "mental-endorsement",
   "metadata": {},
   "source": [
    "此时，通过PackerTask我们可以观测到，我们选择的1,3,5号氨基酸都只被允许为进行pack，氨基酸的类型也只剩下ARG。"
   ]
  },
  {
   "cell_type": "markdown",
   "id": "approximate-level",
   "metadata": {},
   "source": [
    "除了RestrictToRepackingRLT以外，还有许多其他7种常用的RTL类型，此处做一个简单的列表解释用途:\n",
    "- RestrictToRepackingRLT: 将Rotamer自由度设置为repacking\n",
    "- PreventRepackingRLT: 将Rotamer自由度设置为no_repack\n",
    "- RestrictAbsentCanonicalAASExceptNativeRLT: 将Rotamer自由度限定在给定的氨基酸类型列表，并允许保留当前位点氨基酸类型的Rotamer保留\n",
    "- RestrictAbsentCanonicalAASRLT: 将Rotamer自由度限定在给定的氨基酸类型列表。\n",
    "- DisallowIfNonnativeRLT: 将Rotamer自由度限定在**非给定的氨基酸类型列表**，并允许保留当前位点氨基酸类型的Rotamer保留\n",
    "- IncludeCurrentRLT: 设定Packer在执行期间，考虑Pose输入时的Rotamer状态(并非全部忘记)。\n",
    "- ExtraRotamersGenericRLT: 设定在Rotamer采样中，是否考虑增加额外的数量，否则仅会考虑理想型的Rotamer。 \n",
    "\n",
    "上述的这些RTL和Selector就可以组合成任意的TaskOperations，更多RLT的API用法请参考TaskOperations API详解相关的章节。"
   ]
  },
  {
   "cell_type": "markdown",
   "id": "given-hobby",
   "metadata": {},
   "source": [
    "#### 思考\n",
    "如果将OperateOnResidueSubset中的False转变为True，PackerTask会发生什么变化？"
   ]
  },
  {
   "cell_type": "markdown",
   "id": "taken-rolling",
   "metadata": {},
   "source": [
    "#### 3.2 Specialized Operations的使用示例"
   ]
  },
  {
   "cell_type": "markdown",
   "id": "identical-history",
   "metadata": {},
   "source": [
    "Specialized Operations其实就是开发者预先设定好一些应用场景的TaskOperations，这类TaskOperations可以直接被TaskFactory所读取，一般的这种TaskOperations的应用范围都是全局性。"
   ]
  },
  {
   "cell_type": "code",
   "execution_count": 71,
   "id": "lined-prayer",
   "metadata": {},
   "outputs": [
    {
     "name": "stdout",
     "output_type": "stream",
     "text": [
      "#Packer_Task\n",
      "\n",
      "Threads to request: ALL AVAILABLE\n",
      "\n",
      "resid\tpack?\tdesign?\tallowed_aas\n",
      "1\tTRUE\tFALSE\tASP:NtermProteinFull\n",
      "2\tTRUE\tFALSE\tGLU\n",
      "3\tTRUE\tFALSE\tLEU\n",
      "4\tTRUE\tFALSE\tGLN\n",
      "5\tTRUE\tFALSE\tLYS\n",
      "6\tTRUE\tFALSE\tTRP\n",
      "7\tTRUE\tFALSE\tVAL\n",
      "8\tTRUE\tFALSE\tGLU\n",
      "9\tTRUE\tFALSE\tGLN\n",
      "10\tTRUE\tFALSE\tALA\n",
      "11\tTRUE\tFALSE\tGLU\n",
      "12\tTRUE\tFALSE\tARG\n",
      "13\tTRUE\tFALSE\tASN\n",
      "14\tTRUE\tFALSE\tGLY:CtermProteinFull\n",
      "\n"
     ]
    }
   ],
   "source": [
    "from pyrosetta.rosetta.core.pack.task.operation import RestrictToRepacking\n",
    "\n",
    "# 将TaskOperations加载至TaskFactory中\n",
    "pack_tf = TaskFactory()\n",
    "pack_tf.push_back(RestrictToRepacking())\n",
    "\n",
    "# 生成PackerTask\n",
    "packer_task = pack_tf.create_task_and_apply_taskoperations(pose)\n",
    "print(packer_task)"
   ]
  },
  {
   "cell_type": "markdown",
   "id": "funny-nylon",
   "metadata": {},
   "source": [
    "可见所有位点都被限制为repacking的状态，更多Specialized Operations的API用法请参考TaskOperations API详解相关的章节。"
   ]
  },
  {
   "cell_type": "markdown",
   "id": "convenient-virginia",
   "metadata": {
    "tags": []
   },
   "source": [
    "### 四、Pack Rotamer相关Mover"
   ]
  },
  {
   "cell_type": "markdown",
   "id": "recovered-survivor",
   "metadata": {},
   "source": [
    "#### 4.1 PackRotamersMover"
   ]
  },
  {
   "cell_type": "markdown",
   "id": "grateful-patio",
   "metadata": {},
   "source": [
    "上述内容已经清楚地阐释了PackerTask的作用，以及如何去利用TaskOperations和TaskFactory去生成特定用途的PackerTask。当有了这张清晰的“蓝图文件后”，就实际地在Pose结构上进行“施工”，而真正执行任务的Mover大多可以在pyrosetta.rosetta.protocols.minimization_packing的API下找到。此处我们以最简单的PackRotamersMover做实例示范。"
   ]
  },
  {
   "cell_type": "code",
   "execution_count": 84,
   "id": "adjusted-chemical",
   "metadata": {},
   "outputs": [
    {
     "name": "stdout",
     "output_type": "stream",
     "text": [
      "\u001b[0mcore.import_pose.import_pose: {0} \u001b[0mFile './data/helix.pdb' automatically determined to be of type PDB\n",
      "\u001b[0mcore.conformation.Conformation: {0} \u001b[0m\u001b[1m[ WARNING ]\u001b[0m missing heavyatom:  OXT on residue GLY:CtermProteinFull 14\n",
      "\u001b[0mcore.pack.pack_rotamers: {0} \u001b[0mbuilt 182 rotamers at 14 positions.\n",
      "\u001b[0mcore.pack.pack_rotamers: {0} \u001b[0mRequesting all available threads for interaction graph computation.\n",
      "\u001b[0mcore.pack.interaction_graph.interaction_graph_factory: {0} \u001b[0mInstantiating DensePDInteractionGraph\n",
      "\u001b[0mcore.pack.rotamer_set.RotamerSets: {0} \u001b[0mCompleted interaction graph pre-calculation in 1 available threads (1 had been requested).\n"
     ]
    },
    {
     "data": {
      "text/plain": [
       "True"
      ]
     },
     "execution_count": 84,
     "metadata": {},
     "output_type": "execute_result"
    }
   ],
   "source": [
    "from pyrosetta.rosetta.protocols.minimization_packing import PackRotamersMover\n",
    "from pyrosetta import create_score_function\n",
    "pack_mover = PackRotamersMover()\n",
    "ref2015 = create_score_function('ref2015')\n",
    "pose = pose_from_pdb('./data/helix.pdb')\n",
    "\n",
    "# 不需要导入PackTask，只需要输入TaskFactory即可。\n",
    "pack_mover.task_factory(pack_tf)\n",
    "pack_mover.score_function(ref2015)\n",
    "\n",
    "# 执行repacking\n",
    "pack_mover.apply(pose)\n",
    "pose.dump_pdb('./data/repacked.pdb')"
   ]
  },
  {
   "cell_type": "markdown",
   "id": "operational-ridge",
   "metadata": {},
   "source": [
    "对比原始输入结构和repack之后的结构变化，发现只有侧链的rotamer发生了变化，和预期一致。\n",
    "<center><img src=\"./img/repacking_conf.png\" width = \"600\" height = \"200\" align=center /></center>"
   ]
  },
  {
   "cell_type": "markdown",
   "id": "private-fetish",
   "metadata": {},
   "source": [
    "#### 4.2 FastRelax"
   ]
  },
  {
   "cell_type": "markdown",
   "id": "classical-andorra",
   "metadata": {},
   "source": [
    "上述的介绍的PackRotamersMover所做的就仅仅是处理侧链构象相关的模拟退火过程。但是在实际应用中Rosetta常常交替式运行Packer和Minimizer(MinMover)，这类组合型的Mover常有的有FastRelaxMover以及FastDesignMover。这些Mover可以同时优化侧链和骨架去寻找能量更低的构象。"
   ]
  },
  {
   "cell_type": "markdown",
   "id": "brutal-absolute",
   "metadata": {},
   "source": [
    "一张图看懂FastRelax在做什么:"
   ]
  },
  {
   "cell_type": "markdown",
   "id": "marked-prize",
   "metadata": {},
   "source": [
    "<center><img src=\"./img/FastRelax.jpg\" width = \"600\" height = \"200\" align=center /></center>"
   ]
  },
  {
   "cell_type": "code",
   "execution_count": 76,
   "id": "invalid-sweet",
   "metadata": {
    "scrolled": true,
    "tags": []
   },
   "outputs": [
    {
     "name": "stdout",
     "output_type": "stream",
     "text": [
      "\u001b[0mcore.scoring.ScoreFunctionFactory: {0} \u001b[0mSCOREFUNCTION: \u001b[32mref2015\u001b[0m\n",
      "\u001b[0mprotocols.relax.FastRelax: {0} \u001b[0mCMD: repeat  -23.0316  0  0  0.55\n",
      "\u001b[0mprotocols.relax.FastRelax: {0} \u001b[0mCMD: coord_cst_weight  -23.0316  0  0  0.55\n",
      "\u001b[0mprotocols.relax.FastRelax: {0} \u001b[0mCMD: scale:fa_rep  -27.5441  0  0  0.022\n",
      "\u001b[0mcore.pack.task: {0} \u001b[0mPacker task: initialize from command line()\n",
      "\u001b[0mcore.pack.pack_rotamers: {0} \u001b[0mbuilt 209 rotamers at 14 positions.\n",
      "\u001b[0mcore.pack.pack_rotamers: {0} \u001b[0mRequesting all available threads for interaction graph computation.\n",
      "\u001b[0mcore.pack.interaction_graph.interaction_graph_factory: {0} \u001b[0mInstantiating DensePDInteractionGraph\n",
      "\u001b[0mcore.pack.rotamer_set.RotamerSets: {0} \u001b[0mCompleted interaction graph pre-calculation in 1 available threads (1 had been requested).\n",
      "\u001b[0mprotocols.relax.FastRelax: {0} \u001b[0mCMD: repack  -29.2669  0  0  0.022\n",
      "\u001b[0mprotocols.relax.FastRelax: {0} \u001b[0mCMD: scale:fa_rep  -29.1328  0  0  0.02805\n",
      "\u001b[0mprotocols.relax.FastRelax: {0} \u001b[0mCMD: min  -29.1389  0.000249673  0.000249673  0.02805\n",
      "\u001b[0mprotocols.relax.FastRelax: {0} \u001b[0mCMD: coord_cst_weight  -29.1389  0.000249673  0.000249673  0.02805\n",
      "\u001b[0mprotocols.relax.FastRelax: {0} \u001b[0mCMD: scale:fa_rep  -26.5349  0.000249673  0.000249673  0.14575\n",
      "\u001b[0mcore.pack.task: {0} \u001b[0mPacker task: initialize from command line()\n",
      "\u001b[0mcore.pack.pack_rotamers: {0} \u001b[0mbuilt 204 rotamers at 14 positions.\n",
      "\u001b[0mcore.pack.pack_rotamers: {0} \u001b[0mRequesting all available threads for interaction graph computation.\n",
      "\u001b[0mcore.pack.interaction_graph.interaction_graph_factory: {0} \u001b[0mInstantiating DensePDInteractionGraph\n",
      "\u001b[0mcore.pack.rotamer_set.RotamerSets: {0} \u001b[0mCompleted interaction graph pre-calculation in 1 available threads (1 had been requested).\n",
      "\u001b[0mprotocols.relax.FastRelax: {0} \u001b[0mCMD: repack  -26.5349  0.000249673  0.000249673  0.14575\n",
      "\u001b[0mprotocols.relax.FastRelax: {0} \u001b[0mCMD: scale:fa_rep  -26.3524  0.000249673  0.000249673  0.154\n",
      "\u001b[0mprotocols.relax.FastRelax: {0} \u001b[0mCMD: min  -26.3954  0.000747516  0.000747516  0.154\n",
      "\u001b[0mprotocols.relax.FastRelax: {0} \u001b[0mCMD: coord_cst_weight  -26.3954  0.000747516  0.000747516  0.154\n",
      "\u001b[0mprotocols.relax.FastRelax: {0} \u001b[0mCMD: scale:fa_rep  -23.0391  0.000747516  0.000747516  0.30745\n",
      "\u001b[0mcore.pack.task: {0} \u001b[0mPacker task: initialize from command line()\n",
      "\u001b[0mcore.pack.pack_rotamers: {0} \u001b[0mbuilt 201 rotamers at 14 positions.\n",
      "\u001b[0mcore.pack.pack_rotamers: {0} \u001b[0mRequesting all available threads for interaction graph computation.\n",
      "\u001b[0mcore.pack.interaction_graph.interaction_graph_factory: {0} \u001b[0mInstantiating DensePDInteractionGraph\n",
      "\u001b[0mcore.pack.rotamer_set.RotamerSets: {0} \u001b[0mCompleted interaction graph pre-calculation in 1 available threads (1 had been requested).\n",
      "\u001b[0mprotocols.relax.FastRelax: {0} \u001b[0mCMD: repack  -25.0425  0.000747516  0.000747516  0.30745\n",
      "\u001b[0mprotocols.relax.FastRelax: {0} \u001b[0mCMD: scale:fa_rep  -24.9363  0.000747516  0.000747516  0.31955\n",
      "\u001b[0mprotocols.relax.FastRelax: {0} \u001b[0mCMD: min  -24.9367  0.000767537  0.000767537  0.31955\n",
      "\u001b[0mprotocols.relax.FastRelax: {0} \u001b[0mCMD: coord_cst_weight  -24.9367  0.000767537  0.000767537  0.31955\n",
      "\u001b[0mprotocols.relax.FastRelax: {0} \u001b[0mCMD: scale:fa_rep  -22.913  0.000767537  0.000767537  0.55\n",
      "\u001b[0mcore.pack.task: {0} \u001b[0mPacker task: initialize from command line()\n",
      "\u001b[0mcore.pack.pack_rotamers: {0} \u001b[0mbuilt 200 rotamers at 14 positions.\n",
      "\u001b[0mcore.pack.pack_rotamers: {0} \u001b[0mRequesting all available threads for interaction graph computation.\n",
      "\u001b[0mcore.pack.interaction_graph.interaction_graph_factory: {0} \u001b[0mInstantiating DensePDInteractionGraph\n",
      "\u001b[0mcore.pack.rotamer_set.RotamerSets: {0} \u001b[0mCompleted interaction graph pre-calculation in 1 available threads (1 had been requested).\n",
      "\u001b[0mprotocols.relax.FastRelax: {0} \u001b[0mCMD: repack  -22.913  0.000767537  0.000767537  0.55\n",
      "\u001b[0mprotocols.relax.FastRelax: {0} \u001b[0mCMD: min  -23.0315  0.00163607  0.00163607  0.55\n",
      "\u001b[0mprotocols.relax.FastRelax: {0} \u001b[0mMRP: 0  -23.0315  -23.0315  0.00163607  0.00163607\n",
      "\u001b[0mprotocols.relax.FastRelax: {0} \u001b[0mCMD: accept_to_best  -23.0315  0.00163607  0.00163607  0.55\n",
      "\u001b[0mprotocols.relax.FastRelax: {0} \u001b[0mCMD: endrepeat  -23.0315  0.00163607  0.00163607  0.55\n",
      "\u001b[0mprotocols.relax.FastRelax: {0} \u001b[0mCMD: coord_cst_weight  -23.0315  0.00163607  0.00163607  0.55\n",
      "\u001b[0mprotocols.relax.FastRelax: {0} \u001b[0mCMD: scale:fa_rep  -27.5498  0.00163607  0.00163607  0.022\n",
      "\u001b[0mcore.pack.task: {0} \u001b[0mPacker task: initialize from command line()\n",
      "\u001b[0mcore.pack.pack_rotamers: {0} \u001b[0mbuilt 209 rotamers at 14 positions.\n",
      "\u001b[0mcore.pack.pack_rotamers: {0} \u001b[0mRequesting all available threads for interaction graph computation.\n",
      "\u001b[0mcore.pack.interaction_graph.interaction_graph_factory: {0} \u001b[0mInstantiating DensePDInteractionGraph\n",
      "\u001b[0mcore.pack.rotamer_set.RotamerSets: {0} \u001b[0mCompleted interaction graph pre-calculation in 1 available threads (1 had been requested).\n",
      "\u001b[0mprotocols.relax.FastRelax: {0} \u001b[0mCMD: repack  -29.2716  0.00163607  0.00163607  0.022\n",
      "\u001b[0mprotocols.relax.FastRelax: {0} \u001b[0mCMD: scale:fa_rep  -29.1371  0.00163607  0.00163607  0.02805\n",
      "\u001b[0mprotocols.relax.FastRelax: {0} \u001b[0mCMD: min  -29.1432  0.00169413  0.00169413  0.02805\n",
      "\u001b[0mprotocols.relax.FastRelax: {0} \u001b[0mCMD: coord_cst_weight  -29.1432  0.00169413  0.00169413  0.02805\n",
      "\u001b[0mprotocols.relax.FastRelax: {0} \u001b[0mCMD: scale:fa_rep  -26.5314  0.00169413  0.00169413  0.14575\n",
      "\u001b[0mcore.pack.task: {0} \u001b[0mPacker task: initialize from command line()\n",
      "\u001b[0mcore.pack.pack_rotamers: {0} \u001b[0mbuilt 204 rotamers at 14 positions.\n",
      "\u001b[0mcore.pack.pack_rotamers: {0} \u001b[0mRequesting all available threads for interaction graph computation.\n",
      "\u001b[0mcore.pack.interaction_graph.interaction_graph_factory: {0} \u001b[0mInstantiating DensePDInteractionGraph\n",
      "\u001b[0mcore.pack.rotamer_set.RotamerSets: {0} \u001b[0mCompleted interaction graph pre-calculation in 1 available threads (1 had been requested).\n",
      "\u001b[0mprotocols.relax.FastRelax: {0} \u001b[0mCMD: repack  -26.5314  0.00169413  0.00169413  0.14575\n",
      "\u001b[0mprotocols.relax.FastRelax: {0} \u001b[0mCMD: scale:fa_rep  -26.3484  0.00169413  0.00169413  0.154\n",
      "\u001b[0mprotocols.relax.FastRelax: {0} \u001b[0mCMD: min  -26.3916  0.00171291  0.00171291  0.154\n",
      "\u001b[0mprotocols.relax.FastRelax: {0} \u001b[0mCMD: coord_cst_weight  -26.3916  0.00171291  0.00171291  0.154\n",
      "\u001b[0mprotocols.relax.FastRelax: {0} \u001b[0mCMD: scale:fa_rep  -23.0255  0.00171291  0.00171291  0.30745\n",
      "\u001b[0mcore.pack.task: {0} \u001b[0mPacker task: initialize from command line()\n",
      "\u001b[0mcore.pack.pack_rotamers: {0} \u001b[0mbuilt 201 rotamers at 14 positions.\n",
      "\u001b[0mcore.pack.pack_rotamers: {0} \u001b[0mRequesting all available threads for interaction graph computation.\n",
      "\u001b[0mcore.pack.interaction_graph.interaction_graph_factory: {0} \u001b[0mInstantiating DensePDInteractionGraph\n",
      "\u001b[0mcore.pack.rotamer_set.RotamerSets: {0} \u001b[0mCompleted interaction graph pre-calculation in 1 available threads (1 had been requested).\n",
      "\u001b[0mprotocols.relax.FastRelax: {0} \u001b[0mCMD: repack  -25.0453  0.00171291  0.00171291  0.30745\n",
      "\u001b[0mprotocols.relax.FastRelax: {0} \u001b[0mCMD: scale:fa_rep  -24.939  0.00171291  0.00171291  0.31955\n",
      "\u001b[0mprotocols.relax.FastRelax: {0} \u001b[0mCMD: min  -24.9394  0.00176299  0.00176299  0.31955\n",
      "\u001b[0mprotocols.relax.FastRelax: {0} \u001b[0mCMD: coord_cst_weight  -24.9394  0.00176299  0.00176299  0.31955\n",
      "\u001b[0mprotocols.relax.FastRelax: {0} \u001b[0mCMD: scale:fa_rep  -22.9137  0.00176299  0.00176299  0.55\n",
      "\u001b[0mcore.pack.task: {0} \u001b[0mPacker task: initialize from command line()\n",
      "\u001b[0mcore.pack.pack_rotamers: {0} \u001b[0mbuilt 200 rotamers at 14 positions.\n",
      "\u001b[0mcore.pack.pack_rotamers: {0} \u001b[0mRequesting all available threads for interaction graph computation.\n",
      "\u001b[0mcore.pack.interaction_graph.interaction_graph_factory: {0} \u001b[0mInstantiating DensePDInteractionGraph\n",
      "\u001b[0mcore.pack.rotamer_set.RotamerSets: {0} \u001b[0mCompleted interaction graph pre-calculation in 1 available threads (1 had been requested).\n",
      "\u001b[0mprotocols.relax.FastRelax: {0} \u001b[0mCMD: repack  -22.9137  0.00176299  0.00176299  0.55\n",
      "\u001b[0mprotocols.relax.FastRelax: {0} \u001b[0mCMD: min  -23.0301  0.00207882  0.00207882  0.55\n",
      "\u001b[0mprotocols.relax.FastRelax: {0} \u001b[0mMRP: 1  -23.0301  -23.0315  0.00163607  0.00163607\n",
      "\u001b[0mprotocols.relax.FastRelax: {0} \u001b[0mCMD: accept_to_best  -23.0301  0.00207882  0.00207882  0.55\n",
      "\u001b[0mprotocols.relax.FastRelax: {0} \u001b[0mCMD: endrepeat  -23.0301  0.00207882  0.00207882  0.55\n",
      "\u001b[0mprotocols.relax.FastRelax: {0} \u001b[0mCMD: coord_cst_weight  -23.0301  0.00207882  0.00207882  0.55\n",
      "\u001b[0mprotocols.relax.FastRelax: {0} \u001b[0mCMD: scale:fa_rep  -27.5408  0.00207882  0.00207882  0.022\n",
      "\u001b[0mcore.pack.task: {0} \u001b[0mPacker task: initialize from command line()\n",
      "\u001b[0mcore.pack.pack_rotamers: {0} \u001b[0mbuilt 209 rotamers at 14 positions.\n",
      "\u001b[0mcore.pack.pack_rotamers: {0} \u001b[0mRequesting all available threads for interaction graph computation.\n",
      "\u001b[0mcore.pack.interaction_graph.interaction_graph_factory: {0} \u001b[0mInstantiating DensePDInteractionGraph\n",
      "\u001b[0mcore.pack.rotamer_set.RotamerSets: {0} \u001b[0mCompleted interaction graph pre-calculation in 1 available threads (1 had been requested).\n",
      "\u001b[0mprotocols.relax.FastRelax: {0} \u001b[0mCMD: repack  -29.2674  0.00207882  0.00207882  0.022\n",
      "\u001b[0mprotocols.relax.FastRelax: {0} \u001b[0mCMD: scale:fa_rep  -29.1342  0.00207882  0.00207882  0.02805\n",
      "\u001b[0mprotocols.relax.FastRelax: {0} \u001b[0mCMD: min  -29.1403  0.0020363  0.0020363  0.02805\n",
      "\u001b[0mprotocols.relax.FastRelax: {0} \u001b[0mCMD: coord_cst_weight  -29.1403  0.0020363  0.0020363  0.02805\n",
      "\u001b[0mprotocols.relax.FastRelax: {0} \u001b[0mCMD: scale:fa_rep  -26.5551  0.0020363  0.0020363  0.14575\n",
      "\u001b[0mcore.pack.task: {0} \u001b[0mPacker task: initialize from command line()\n",
      "\u001b[0mcore.pack.pack_rotamers: {0} \u001b[0mbuilt 204 rotamers at 14 positions.\n",
      "\u001b[0mcore.pack.pack_rotamers: {0} \u001b[0mRequesting all available threads for interaction graph computation.\n",
      "\u001b[0mcore.pack.interaction_graph.interaction_graph_factory: {0} \u001b[0mInstantiating DensePDInteractionGraph\n",
      "\u001b[0mcore.pack.rotamer_set.RotamerSets: {0} \u001b[0mCompleted interaction graph pre-calculation in 1 available threads (1 had been requested).\n",
      "\u001b[0mprotocols.relax.FastRelax: {0} \u001b[0mCMD: repack  -26.5551  0.0020363  0.0020363  0.14575\n",
      "\u001b[0mprotocols.relax.FastRelax: {0} \u001b[0mCMD: scale:fa_rep  -26.3738  0.0020363  0.0020363  0.154\n",
      "\u001b[0mprotocols.relax.FastRelax: {0} \u001b[0mCMD: min  -26.4158  0.00212565  0.00212565  0.154\n",
      "\u001b[0mprotocols.relax.FastRelax: {0} \u001b[0mCMD: coord_cst_weight  -26.4158  0.00212565  0.00212565  0.154\n",
      "\u001b[0mprotocols.relax.FastRelax: {0} \u001b[0mCMD: scale:fa_rep  -23.083  0.00212565  0.00212565  0.30745\n",
      "\u001b[0mcore.pack.task: {0} \u001b[0mPacker task: initialize from command line()\n",
      "\u001b[0mcore.pack.pack_rotamers: {0} \u001b[0mbuilt 201 rotamers at 14 positions.\n",
      "\u001b[0mcore.pack.pack_rotamers: {0} \u001b[0mRequesting all available threads for interaction graph computation.\n",
      "\u001b[0mcore.pack.interaction_graph.interaction_graph_factory: {0} \u001b[0mInstantiating DensePDInteractionGraph\n",
      "\u001b[0mcore.pack.rotamer_set.RotamerSets: {0} \u001b[0mCompleted interaction graph pre-calculation in 1 available threads (1 had been requested).\n",
      "\u001b[0mprotocols.relax.FastRelax: {0} \u001b[0mCMD: repack  -25.0414  0.00212565  0.00212565  0.30745\n",
      "\u001b[0mprotocols.relax.FastRelax: {0} \u001b[0mCMD: scale:fa_rep  -24.9354  0.00212565  0.00212565  0.31955\n",
      "\u001b[0mprotocols.relax.FastRelax: {0} \u001b[0mCMD: min  -24.9358  0.00212344  0.00212344  0.31955\n",
      "\u001b[0mprotocols.relax.FastRelax: {0} \u001b[0mCMD: coord_cst_weight  -24.9358  0.00212344  0.00212344  0.31955\n",
      "\u001b[0mprotocols.relax.FastRelax: {0} \u001b[0mCMD: scale:fa_rep  -22.9151  0.00212344  0.00212344  0.55\n",
      "\u001b[0mcore.pack.task: {0} \u001b[0mPacker task: initialize from command line()\n",
      "\u001b[0mcore.pack.pack_rotamers: {0} \u001b[0mbuilt 200 rotamers at 14 positions.\n",
      "\u001b[0mcore.pack.pack_rotamers: {0} \u001b[0mRequesting all available threads for interaction graph computation.\n",
      "\u001b[0mcore.pack.interaction_graph.interaction_graph_factory: {0} \u001b[0mInstantiating DensePDInteractionGraph\n",
      "\u001b[0mcore.pack.rotamer_set.RotamerSets: {0} \u001b[0mCompleted interaction graph pre-calculation in 1 available threads (1 had been requested).\n",
      "\u001b[0mprotocols.relax.FastRelax: {0} \u001b[0mCMD: repack  -22.9151  0.00212344  0.00212344  0.55\n",
      "\u001b[0mprotocols.relax.FastRelax: {0} \u001b[0mCMD: min  -23.0298  0.00315131  0.00315131  0.55\n",
      "\u001b[0mprotocols.relax.FastRelax: {0} \u001b[0mMRP: 2  -23.0298  -23.0315  0.00163607  0.00163607\n",
      "\u001b[0mprotocols.relax.FastRelax: {0} \u001b[0mCMD: accept_to_best  -23.0298  0.00315131  0.00315131  0.55\n",
      "\u001b[0mprotocols.relax.FastRelax: {0} \u001b[0mCMD: endrepeat  -23.0298  0.00315131  0.00315131  0.55\n",
      "\u001b[0mprotocols.relax.FastRelax: {0} \u001b[0mCMD: coord_cst_weight  -23.0298  0.00315131  0.00315131  0.55\n",
      "\u001b[0mprotocols.relax.FastRelax: {0} \u001b[0mCMD: scale:fa_rep  -27.5469  0.00315131  0.00315131  0.022\n",
      "\u001b[0mcore.pack.task: {0} \u001b[0mPacker task: initialize from command line()\n",
      "\u001b[0mcore.pack.pack_rotamers: {0} \u001b[0mbuilt 209 rotamers at 14 positions.\n",
      "\u001b[0mcore.pack.pack_rotamers: {0} \u001b[0mRequesting all available threads for interaction graph computation.\n",
      "\u001b[0mcore.pack.interaction_graph.interaction_graph_factory: {0} \u001b[0mInstantiating DensePDInteractionGraph\n",
      "\u001b[0mcore.pack.rotamer_set.RotamerSets: {0} \u001b[0mCompleted interaction graph pre-calculation in 1 available threads (1 had been requested).\n",
      "\u001b[0mprotocols.relax.FastRelax: {0} \u001b[0mCMD: repack  -29.2744  0.00315131  0.00315131  0.022\n",
      "\u001b[0mprotocols.relax.FastRelax: {0} \u001b[0mCMD: scale:fa_rep  -29.1414  0.00315131  0.00315131  0.02805\n",
      "\u001b[0mprotocols.relax.FastRelax: {0} \u001b[0mCMD: min  -29.1473  0.0031607  0.0031607  0.02805\n",
      "\u001b[0mprotocols.relax.FastRelax: {0} \u001b[0mCMD: coord_cst_weight  -29.1473  0.0031607  0.0031607  0.02805\n",
      "\u001b[0mprotocols.relax.FastRelax: {0} \u001b[0mCMD: scale:fa_rep  -26.5641  0.0031607  0.0031607  0.14575\n",
      "\u001b[0mcore.pack.task: {0} \u001b[0mPacker task: initialize from command line()\n",
      "\u001b[0mcore.pack.pack_rotamers: {0} \u001b[0mbuilt 204 rotamers at 14 positions.\n",
      "\u001b[0mcore.pack.pack_rotamers: {0} \u001b[0mRequesting all available threads for interaction graph computation.\n",
      "\u001b[0mcore.pack.interaction_graph.interaction_graph_factory: {0} \u001b[0mInstantiating DensePDInteractionGraph\n",
      "\u001b[0mcore.pack.rotamer_set.RotamerSets: {0} \u001b[0mCompleted interaction graph pre-calculation in 1 available threads (1 had been requested).\n",
      "\u001b[0mprotocols.relax.FastRelax: {0} \u001b[0mCMD: repack  -26.5641  0.0031607  0.0031607  0.14575\n",
      "\u001b[0mprotocols.relax.FastRelax: {0} \u001b[0mCMD: scale:fa_rep  -26.383  0.0031607  0.0031607  0.154\n",
      "\u001b[0mprotocols.relax.FastRelax: {0} \u001b[0mCMD: min  -26.4245  0.00333056  0.00333056  0.154\n",
      "\u001b[0mprotocols.relax.FastRelax: {0} \u001b[0mCMD: coord_cst_weight  -26.4245  0.00333056  0.00333056  0.154\n",
      "\u001b[0mprotocols.relax.FastRelax: {0} \u001b[0mCMD: scale:fa_rep  -23.0941  0.00333056  0.00333056  0.30745\n",
      "\u001b[0mcore.pack.task: {0} \u001b[0mPacker task: initialize from command line()\n",
      "\u001b[0mcore.pack.pack_rotamers: {0} \u001b[0mbuilt 201 rotamers at 14 positions.\n",
      "\u001b[0mcore.pack.pack_rotamers: {0} \u001b[0mRequesting all available threads for interaction graph computation.\n",
      "\u001b[0mcore.pack.interaction_graph.interaction_graph_factory: {0} \u001b[0mInstantiating DensePDInteractionGraph\n",
      "\u001b[0mcore.pack.rotamer_set.RotamerSets: {0} \u001b[0mCompleted interaction graph pre-calculation in 1 available threads (1 had been requested).\n",
      "\u001b[0mprotocols.relax.FastRelax: {0} \u001b[0mCMD: repack  -25.0446  0.00333056  0.00333056  0.30745\n",
      "\u001b[0mprotocols.relax.FastRelax: {0} \u001b[0mCMD: scale:fa_rep  -24.9384  0.00333056  0.00333056  0.31955\n",
      "\u001b[0mprotocols.relax.FastRelax: {0} \u001b[0mCMD: min  -24.9388  0.00334468  0.00334468  0.31955\n",
      "\u001b[0mprotocols.relax.FastRelax: {0} \u001b[0mCMD: coord_cst_weight  -24.9388  0.00334468  0.00334468  0.31955\n",
      "\u001b[0mprotocols.relax.FastRelax: {0} \u001b[0mCMD: scale:fa_rep  -22.9155  0.00334468  0.00334468  0.55\n",
      "\u001b[0mcore.pack.task: {0} \u001b[0mPacker task: initialize from command line()\n",
      "\u001b[0mcore.pack.pack_rotamers: {0} \u001b[0mbuilt 200 rotamers at 14 positions.\n",
      "\u001b[0mcore.pack.pack_rotamers: {0} \u001b[0mRequesting all available threads for interaction graph computation.\n",
      "\u001b[0mcore.pack.interaction_graph.interaction_graph_factory: {0} \u001b[0mInstantiating DensePDInteractionGraph\n",
      "\u001b[0mcore.pack.rotamer_set.RotamerSets: {0} \u001b[0mCompleted interaction graph pre-calculation in 1 available threads (1 had been requested).\n",
      "\u001b[0mprotocols.relax.FastRelax: {0} \u001b[0mCMD: repack  -22.9155  0.00334468  0.00334468  0.55\n",
      "\u001b[0mprotocols.relax.FastRelax: {0} \u001b[0mCMD: min  -23.0318  0.0015339  0.0015339  0.55\n",
      "\u001b[0mprotocols.relax.FastRelax: {0} \u001b[0mMRP: 3  -23.0318  -23.0318  0.0015339  0.0015339\n",
      "\u001b[0mprotocols.relax.FastRelax: {0} \u001b[0mCMD: accept_to_best  -23.0318  0.0015339  0.0015339  0.55\n",
      "\u001b[0mprotocols.relax.FastRelax: {0} \u001b[0mCMD: endrepeat  -23.0318  0.0015339  0.0015339  0.55\n",
      "\u001b[0mprotocols.relax.FastRelax: {0} \u001b[0mCMD: coord_cst_weight  -23.0318  0.0015339  0.0015339  0.55\n",
      "\u001b[0mprotocols.relax.FastRelax: {0} \u001b[0mCMD: scale:fa_rep  -27.5478  0.0015339  0.0015339  0.022\n",
      "\u001b[0mcore.pack.task: {0} \u001b[0mPacker task: initialize from command line()\n",
      "\u001b[0mcore.pack.pack_rotamers: {0} \u001b[0mbuilt 209 rotamers at 14 positions.\n",
      "\u001b[0mcore.pack.pack_rotamers: {0} \u001b[0mRequesting all available threads for interaction graph computation.\n",
      "\u001b[0mcore.pack.interaction_graph.interaction_graph_factory: {0} \u001b[0mInstantiating DensePDInteractionGraph\n",
      "\u001b[0mcore.pack.rotamer_set.RotamerSets: {0} \u001b[0mCompleted interaction graph pre-calculation in 1 available threads (1 had been requested).\n",
      "\u001b[0mprotocols.relax.FastRelax: {0} \u001b[0mCMD: repack  -29.2729  0.0015339  0.0015339  0.022\n",
      "\u001b[0mprotocols.relax.FastRelax: {0} \u001b[0mCMD: scale:fa_rep  -29.1387  0.0015339  0.0015339  0.02805\n",
      "\u001b[0mprotocols.relax.FastRelax: {0} \u001b[0mCMD: min  -29.1448  0.00160207  0.00160207  0.02805\n",
      "\u001b[0mprotocols.relax.FastRelax: {0} \u001b[0mCMD: coord_cst_weight  -29.1448  0.00160207  0.00160207  0.02805\n",
      "\u001b[0mprotocols.relax.FastRelax: {0} \u001b[0mCMD: scale:fa_rep  -26.5385  0.00160207  0.00160207  0.14575\n",
      "\u001b[0mcore.pack.task: {0} \u001b[0mPacker task: initialize from command line()\n",
      "\u001b[0mcore.pack.pack_rotamers: {0} \u001b[0mbuilt 204 rotamers at 14 positions.\n",
      "\u001b[0mcore.pack.pack_rotamers: {0} \u001b[0mRequesting all available threads for interaction graph computation.\n",
      "\u001b[0mcore.pack.interaction_graph.interaction_graph_factory: {0} \u001b[0mInstantiating DensePDInteractionGraph\n",
      "\u001b[0mcore.pack.rotamer_set.RotamerSets: {0} \u001b[0mCompleted interaction graph pre-calculation in 1 available threads (1 had been requested).\n",
      "\u001b[0mprotocols.relax.FastRelax: {0} \u001b[0mCMD: repack  -26.5385  0.00160207  0.00160207  0.14575\n",
      "\u001b[0mprotocols.relax.FastRelax: {0} \u001b[0mCMD: scale:fa_rep  -26.3558  0.00160207  0.00160207  0.154\n",
      "\u001b[0mprotocols.relax.FastRelax: {0} \u001b[0mCMD: min  -26.3988  0.00176028  0.00176028  0.154\n",
      "\u001b[0mprotocols.relax.FastRelax: {0} \u001b[0mCMD: coord_cst_weight  -26.3988  0.00176028  0.00176028  0.154\n",
      "\u001b[0mprotocols.relax.FastRelax: {0} \u001b[0mCMD: scale:fa_rep  -23.0397  0.00176028  0.00176028  0.30745\n",
      "\u001b[0mcore.pack.task: {0} \u001b[0mPacker task: initialize from command line()\n",
      "\u001b[0mcore.pack.pack_rotamers: {0} \u001b[0mbuilt 201 rotamers at 14 positions.\n",
      "\u001b[0mcore.pack.pack_rotamers: {0} \u001b[0mRequesting all available threads for interaction graph computation.\n",
      "\u001b[0mcore.pack.interaction_graph.interaction_graph_factory: {0} \u001b[0mInstantiating DensePDInteractionGraph\n",
      "\u001b[0mcore.pack.rotamer_set.RotamerSets: {0} \u001b[0mCompleted interaction graph pre-calculation in 1 available threads (1 had been requested).\n",
      "\u001b[0mprotocols.relax.FastRelax: {0} \u001b[0mCMD: repack  -25.0444  0.00176028  0.00176028  0.30745\n",
      "\u001b[0mprotocols.relax.FastRelax: {0} \u001b[0mCMD: scale:fa_rep  -24.9381  0.00176028  0.00176028  0.31955\n",
      "\u001b[0mprotocols.relax.FastRelax: {0} \u001b[0mCMD: min  -24.9385  0.00179689  0.00179689  0.31955\n",
      "\u001b[0mprotocols.relax.FastRelax: {0} \u001b[0mCMD: coord_cst_weight  -24.9385  0.00179689  0.00179689  0.31955\n",
      "\u001b[0mprotocols.relax.FastRelax: {0} \u001b[0mCMD: scale:fa_rep  -22.9127  0.00179689  0.00179689  0.55\n",
      "\u001b[0mcore.pack.task: {0} \u001b[0mPacker task: initialize from command line()\n",
      "\u001b[0mcore.pack.pack_rotamers: {0} \u001b[0mbuilt 200 rotamers at 14 positions.\n",
      "\u001b[0mcore.pack.pack_rotamers: {0} \u001b[0mRequesting all available threads for interaction graph computation.\n",
      "\u001b[0mcore.pack.interaction_graph.interaction_graph_factory: {0} \u001b[0mInstantiating DensePDInteractionGraph\n",
      "\u001b[0mcore.pack.rotamer_set.RotamerSets: {0} \u001b[0mCompleted interaction graph pre-calculation in 1 available threads (1 had been requested).\n",
      "\u001b[0mprotocols.relax.FastRelax: {0} \u001b[0mCMD: repack  -22.9127  0.00179689  0.00179689  0.55\n",
      "\u001b[0mprotocols.relax.FastRelax: {0} \u001b[0mCMD: min  -23.03  0.00199737  0.00199737  0.55\n",
      "\u001b[0mprotocols.relax.FastRelax: {0} \u001b[0mMRP: 4  -23.03  -23.0318  0.0015339  0.0015339\n",
      "\u001b[0mprotocols.relax.FastRelax: {0} \u001b[0mCMD: accept_to_best  -23.03  0.00199737  0.00199737  0.55\n",
      "\u001b[0mprotocols.relax.FastRelax: {0} \u001b[0mCMD: endrepeat  -23.03  0.00199737  0.00199737  0.55\n",
      "\u001b[0mprotocols::checkpoint: {0} \u001b[0mDeleting checkpoints of FastRelax\n"
     ]
    },
    {
     "data": {
      "text/plain": [
       "True"
      ]
     },
     "execution_count": 76,
     "metadata": {},
     "output_type": "execute_result"
    }
   ],
   "source": [
    "# FastRelax\n",
    "from pyrosetta.rosetta.protocols.relax import FastRelax\n",
    "fastrelax = FastRelax()\n",
    "fastrelax.set_scorefxn(ref2015)\n",
    "fastrelax.set_default_movemap() #使用默认的Movemap()\n",
    "fastrelax.apply(pose)\n",
    "pose.dump_pdb('./data/fastrelaxed.pdb')"
   ]
  },
  {
   "cell_type": "markdown",
   "id": "consecutive-optics",
   "metadata": {},
   "source": [
    "<center><img src=\"./img/fastrelaxed.png\" width = \"600\" height = \"200\" align=center /></center>"
   ]
  },
  {
   "cell_type": "markdown",
   "id": "champion-harvey",
   "metadata": {},
   "source": [
    "尽管构象没有非常大的变化，但是可见骨架和侧链是同时被优化的。"
   ]
  },
  {
   "cell_type": "markdown",
   "id": "working-provision",
   "metadata": {},
   "source": [
    "#### 4.3 FastDesign"
   ]
  },
  {
   "cell_type": "markdown",
   "id": "beneficial-content",
   "metadata": {},
   "source": [
    "FastDesign其实就是FastRelax的Design版本，允许序列被进行设计。此处我们定一个Task不允许1、3、5、7、9位点design，其余位点允许设计出20种氨基酸。"
   ]
  },
  {
   "cell_type": "code",
   "execution_count": 80,
   "id": "smart-roads",
   "metadata": {},
   "outputs": [
    {
     "name": "stdout",
     "output_type": "stream",
     "text": [
      "#Packer_Task\n",
      "\n",
      "Threads to request: ALL AVAILABLE\n",
      "\n",
      "resid\tpack?\tdesign?\tallowed_aas\n",
      "1\tTRUE\tFALSE\tASP:NtermProteinFull\n",
      "2\tTRUE\tTRUE\tALA,CYS,ASP,GLU,PHE,GLY,HIS,HIS_D,ILE,LYS,LEU,MET,ASN,PRO,GLN,ARG,SER,THR,VAL,TRP,TYR\n",
      "3\tTRUE\tFALSE\tLEU\n",
      "4\tTRUE\tTRUE\tALA,CYS,ASP,GLU,PHE,GLY,HIS,HIS_D,ILE,LYS,LEU,MET,ASN,PRO,GLN,ARG,SER,THR,VAL,TRP,TYR\n",
      "5\tTRUE\tFALSE\tLYS\n",
      "6\tTRUE\tTRUE\tALA,CYS,ASP,GLU,PHE,GLY,HIS,HIS_D,ILE,LYS,LEU,MET,ASN,PRO,GLN,ARG,SER,THR,VAL,TRP,TYR\n",
      "7\tTRUE\tFALSE\tVAL\n",
      "8\tTRUE\tTRUE\tALA,CYS,ASP,GLU,PHE,GLY,HIS,HIS_D,ILE,LYS,LEU,MET,ASN,PRO,GLN,ARG,SER,THR,VAL,TRP,TYR\n",
      "9\tTRUE\tFALSE\tGLN\n",
      "10\tTRUE\tTRUE\tALA,CYS,ASP,GLU,PHE,GLY,HIS,HIS_D,ILE,LYS,LEU,MET,ASN,PRO,GLN,ARG,SER,THR,VAL,TRP,TYR\n",
      "11\tTRUE\tTRUE\tALA,CYS,ASP,GLU,PHE,GLY,HIS,HIS_D,ILE,LYS,LEU,MET,ASN,PRO,GLN,ARG,SER,THR,VAL,TRP,TYR\n",
      "12\tTRUE\tTRUE\tALA,CYS,ASP,GLU,PHE,GLY,HIS,HIS_D,ILE,LYS,LEU,MET,ASN,PRO,GLN,ARG,SER,THR,VAL,TRP,TYR\n",
      "13\tTRUE\tTRUE\tALA,CYS,ASP,GLU,PHE,GLY,HIS,HIS_D,ILE,LYS,LEU,MET,ASN,PRO,GLN,ARG,SER,THR,VAL,TRP,TYR\n",
      "14\tTRUE\tTRUE\tALA:CtermProteinFull,CYS:CtermProteinFull,ASP:CtermProteinFull,GLU:CtermProteinFull,PHE:CtermProteinFull,GLY:CtermProteinFull,HIS:CtermProteinFull,HIS_D:CtermProteinFull,ILE:CtermProteinFull,LYS:CtermProteinFull,LEU:CtermProteinFull,MET:CtermProteinFull,ASN:CtermProteinFull,PRO:CtermProteinFull,GLN:CtermProteinFull,ARG:CtermProteinFull,SER:CtermProteinFull,THR:CtermProteinFull,VAL:CtermProteinFull,TRP:CtermProteinFull,TYR:CtermProteinFull\n",
      "\n"
     ]
    }
   ],
   "source": [
    "# 设置FastDesign的蓝图。\n",
    "from pyrosetta.rosetta.protocols.denovo_design.movers import FastDesign\n",
    "\n",
    "# 将TaskOperations加载至TaskFactory中\n",
    "# 选择氨基酸范围\n",
    "no_design_pos = ResidueIndexSelector('1,3,5,7,9')\n",
    "\n",
    "# 使用OperateOnResidueSubset生成TaskOperations\n",
    "design_taskop = OperateOnResidueSubset(RestrictToRepackingRLT(), no_design_pos, False)\n",
    "\n",
    "design_tf = TaskFactory()\n",
    "design_tf.push_back(design_taskop)\n",
    "\n",
    "# 生成PackerTask\n",
    "design_task = design_tf.create_task_and_apply_taskoperations(pose)\n",
    "print(design_task)"
   ]
  },
  {
   "cell_type": "code",
   "execution_count": 81,
   "id": "computational-medicaid",
   "metadata": {
    "scrolled": true,
    "tags": []
   },
   "outputs": [
    {
     "name": "stdout",
     "output_type": "stream",
     "text": [
      "\u001b[0mcore.scoring.ScoreFunctionFactory: {0} \u001b[0mSCOREFUNCTION: \u001b[32mref2015\u001b[0m\n",
      "\u001b[0mprotocols.denovo_design.movers.FastDesign: {0} \u001b[0m#Packer_Task\n",
      "\u001b[0mprotocols.denovo_design.movers.FastDesign: {0} \u001b[0m\n",
      "\u001b[0mprotocols.denovo_design.movers.FastDesign: {0} \u001b[0mThreads to request: ALL AVAILABLE\n",
      "\u001b[0mprotocols.denovo_design.movers.FastDesign: {0} \u001b[0m\n",
      "\u001b[0mprotocols.denovo_design.movers.FastDesign: {0} \u001b[0mresid\tpack?\tdesign?\tallowed_aas\n",
      "\u001b[0mprotocols.denovo_design.movers.FastDesign: {0} \u001b[0m1\tTRUE\tFALSE\tASP:NtermProteinFull\n",
      "\u001b[0mprotocols.denovo_design.movers.FastDesign: {0} \u001b[0m2\tTRUE\tTRUE\tALA,CYS,ASP,GLU,PHE,GLY,HIS,HIS_D,ILE,LYS,LEU,MET,ASN,PRO,GLN,ARG,SER,THR,VAL,TRP,TYR\n",
      "\u001b[0mprotocols.denovo_design.movers.FastDesign: {0} \u001b[0m3\tTRUE\tFALSE\tLEU\n",
      "\u001b[0mprotocols.denovo_design.movers.FastDesign: {0} \u001b[0m4\tTRUE\tTRUE\tALA,CYS,ASP,GLU,PHE,GLY,HIS,HIS_D,ILE,LYS,LEU,MET,ASN,PRO,GLN,ARG,SER,THR,VAL,TRP,TYR\n",
      "\u001b[0mprotocols.denovo_design.movers.FastDesign: {0} \u001b[0m5\tTRUE\tFALSE\tLYS\n",
      "\u001b[0mprotocols.denovo_design.movers.FastDesign: {0} \u001b[0m6\tTRUE\tTRUE\tALA,CYS,ASP,GLU,PHE,GLY,HIS,HIS_D,ILE,LYS,LEU,MET,ASN,PRO,GLN,ARG,SER,THR,VAL,TRP,TYR\n",
      "\u001b[0mprotocols.denovo_design.movers.FastDesign: {0} \u001b[0m7\tTRUE\tFALSE\tVAL\n",
      "\u001b[0mprotocols.denovo_design.movers.FastDesign: {0} \u001b[0m8\tTRUE\tTRUE\tALA,CYS,ASP,GLU,PHE,GLY,HIS,HIS_D,ILE,LYS,LEU,MET,ASN,PRO,GLN,ARG,SER,THR,VAL,TRP,TYR\n",
      "\u001b[0mprotocols.denovo_design.movers.FastDesign: {0} \u001b[0m9\tTRUE\tFALSE\tGLN\n",
      "\u001b[0mprotocols.denovo_design.movers.FastDesign: {0} \u001b[0m10\tTRUE\tTRUE\tALA,CYS,ASP,GLU,PHE,GLY,HIS,HIS_D,ILE,LYS,LEU,MET,ASN,PRO,GLN,ARG,SER,THR,VAL,TRP,TYR\n",
      "\u001b[0mprotocols.denovo_design.movers.FastDesign: {0} \u001b[0m11\tTRUE\tTRUE\tALA,CYS,ASP,GLU,PHE,GLY,HIS,HIS_D,ILE,LYS,LEU,MET,ASN,PRO,GLN,ARG,SER,THR,VAL,TRP,TYR\n",
      "\u001b[0mprotocols.denovo_design.movers.FastDesign: {0} \u001b[0m12\tTRUE\tTRUE\tALA,CYS,ASP,GLU,PHE,GLY,HIS,HIS_D,ILE,LYS,LEU,MET,ASN,PRO,GLN,ARG,SER,THR,VAL,TRP,TYR\n",
      "\u001b[0mprotocols.denovo_design.movers.FastDesign: {0} \u001b[0m13\tTRUE\tTRUE\tALA,CYS,ASP,GLU,PHE,GLY,HIS,HIS_D,ILE,LYS,LEU,MET,ASN,PRO,GLN,ARG,SER,THR,VAL,TRP,TYR\n",
      "\u001b[0mprotocols.denovo_design.movers.FastDesign: {0} \u001b[0m14\tTRUE\tTRUE\tALA:CtermProteinFull,CYS:CtermProteinFull,ASP:CtermProteinFull,GLU:CtermProteinFull,PHE:CtermProteinFull,GLY:CtermProteinFull,HIS:CtermProteinFull,HIS_D:CtermProteinFull,ILE:CtermProteinFull,LYS:CtermProteinFull,LEU:CtermProteinFull,MET:CtermProteinFull,ASN:CtermProteinFull,PRO:CtermProteinFull,GLN:CtermProteinFull,ARG:CtermProteinFull,SER:CtermProteinFull,THR:CtermProteinFull,VAL:CtermProteinFull,TRP:CtermProteinFull,TYR:CtermProteinFull\n",
      "\u001b[0mprotocols.relax.FastRelax: {0} \u001b[0mCMD: repeat  -23.0318  0  0  0.55\n",
      "\u001b[0mprotocols.relax.FastRelax: {0} \u001b[0mCMD: coord_cst_weight  -23.0318  0  0  0.55\n",
      "\u001b[0mprotocols.relax.FastRelax: {0} \u001b[0mCMD: scale:fa_rep  -27.5478  0  0  0.022\n",
      "\u001b[0mcore.pack.pack_rotamers: {0} \u001b[0mbuilt 2645 rotamers at 14 positions.\n",
      "\u001b[0mcore.pack.pack_rotamers: {0} \u001b[0mRequesting all available threads for interaction graph computation.\n",
      "\u001b[0mcore.pack.interaction_graph.interaction_graph_factory: {0} \u001b[0mInstantiating PDInteractionGraph\n",
      "\u001b[0mcore.pack.rotamer_set.RotamerSets: {0} \u001b[0mCompleted interaction graph pre-calculation in 1 available threads (1 had been requested).\n",
      "\u001b[0mprotocols.relax.FastRelax: {0} \u001b[0mCMD: repack  -34.4568  0  0  0.022\n",
      "\u001b[0mprotocols.relax.FastRelax: {0} \u001b[0mCMD: scale:fa_rep  -33.7664  0  0  0.02805\n",
      "\u001b[0mprotocols.relax.FastRelax: {0} \u001b[0mCMD: min  -33.7838  0.000817945  0.000817945  0.02805\n",
      "\u001b[0mprotocols.relax.FastRelax: {0} \u001b[0mCMD: coord_cst_weight  -33.7838  0.000817945  0.000817945  0.02805\n",
      "\u001b[0mprotocols.relax.FastRelax: {0} \u001b[0mCMD: scale:fa_rep  -20.4205  0.000817945  0.000817945  0.14575\n",
      "\u001b[0mcore.pack.pack_rotamers: {0} \u001b[0mbuilt 2512 rotamers at 14 positions.\n",
      "\u001b[0mcore.pack.pack_rotamers: {0} \u001b[0mRequesting all available threads for interaction graph computation.\n",
      "\u001b[0mcore.pack.interaction_graph.interaction_graph_factory: {0} \u001b[0mInstantiating PDInteractionGraph\n",
      "\u001b[0mcore.pack.rotamer_set.RotamerSets: {0} \u001b[0mCompleted interaction graph pre-calculation in 1 available threads (1 had been requested).\n",
      "\u001b[0mprotocols.relax.FastRelax: {0} \u001b[0mCMD: repack  -30.4504  0.000817945  0.000817945  0.14575\n",
      "\u001b[0mprotocols.relax.FastRelax: {0} \u001b[0mCMD: scale:fa_rep  -30.3047  0.000817945  0.000817945  0.154\n",
      "\u001b[0mprotocols.relax.FastRelax: {0} \u001b[0mCMD: min  -30.3298  0.00159492  0.00159492  0.154\n",
      "\u001b[0mprotocols.relax.FastRelax: {0} \u001b[0mCMD: coord_cst_weight  -30.3298  0.00159492  0.00159492  0.154\n",
      "\u001b[0mprotocols.relax.FastRelax: {0} \u001b[0mCMD: scale:fa_rep  -27.6194  0.00159492  0.00159492  0.30745\n",
      "\u001b[0mcore.pack.pack_rotamers: {0} \u001b[0mbuilt 2439 rotamers at 14 positions.\n",
      "\u001b[0mcore.pack.pack_rotamers: {0} \u001b[0mRequesting all available threads for interaction graph computation.\n",
      "\u001b[0mcore.pack.interaction_graph.interaction_graph_factory: {0} \u001b[0mInstantiating PDInteractionGraph\n",
      "\u001b[0mcore.pack.rotamer_set.RotamerSets: {0} \u001b[0mCompleted interaction graph pre-calculation in 1 available threads (1 had been requested).\n",
      "\u001b[0mprotocols.relax.FastRelax: {0} \u001b[0mCMD: repack  -28.0186  0.00159492  0.00159492  0.30745\n",
      "\u001b[0mprotocols.relax.FastRelax: {0} \u001b[0mCMD: scale:fa_rep  -27.8592  0.00159492  0.00159492  0.31955\n",
      "\u001b[0mprotocols.relax.FastRelax: {0} \u001b[0mCMD: min  -27.87  0.00192662  0.00192662  0.31955\n",
      "\u001b[0mprotocols.relax.FastRelax: {0} \u001b[0mCMD: coord_cst_weight  -27.87  0.00192662  0.00192662  0.31955\n",
      "\u001b[0mprotocols.relax.FastRelax: {0} \u001b[0mCMD: scale:fa_rep  -24.8327  0.00192662  0.00192662  0.55\n",
      "\u001b[0mcore.pack.pack_rotamers: {0} \u001b[0mbuilt 2308 rotamers at 14 positions.\n",
      "\u001b[0mcore.pack.pack_rotamers: {0} \u001b[0mRequesting all available threads for interaction graph computation.\n",
      "\u001b[0mcore.pack.interaction_graph.interaction_graph_factory: {0} \u001b[0mInstantiating PDInteractionGraph\n",
      "\u001b[0mcore.pack.rotamer_set.RotamerSets: {0} \u001b[0mCompleted interaction graph pre-calculation in 1 available threads (1 had been requested).\n",
      "\u001b[0mprotocols.relax.FastRelax: {0} \u001b[0mCMD: repack  -24.8327  0.00192662  0.00192662  0.55\n",
      "\u001b[0mprotocols.relax.FastRelax: {0} \u001b[0mCMD: min  -28.4756  0.189153  0.189153  0.55\n",
      "\u001b[0mprotocols.relax.FastRelax: {0} \u001b[0mMRP: 0  -28.4756  -28.4756  0.189153  0.189153\n",
      "\u001b[0mprotocols.relax.FastRelax: {0} \u001b[0mCMD: accept_to_best  -28.4756  0.189153  0.189153  0.55\n",
      "\u001b[0mprotocols.relax.FastRelax: {0} \u001b[0mCMD: endrepeat  -28.4756  0.189153  0.189153  0.55\n",
      "\u001b[0mprotocols.relax.FastRelax: {0} \u001b[0mCMD: coord_cst_weight  -28.4756  0.189153  0.189153  0.55\n",
      "\u001b[0mprotocols.relax.FastRelax: {0} \u001b[0mCMD: scale:fa_rep  -33.1329  0.189153  0.189153  0.022\n",
      "\u001b[0mcore.pack.pack_rotamers: {0} \u001b[0mbuilt 2673 rotamers at 14 positions.\n",
      "\u001b[0mcore.pack.pack_rotamers: {0} \u001b[0mRequesting all available threads for interaction graph computation.\n",
      "\u001b[0mcore.pack.interaction_graph.interaction_graph_factory: {0} \u001b[0mInstantiating PDInteractionGraph\n",
      "\u001b[0mcore.pack.rotamer_set.RotamerSets: {0} \u001b[0mCompleted interaction graph pre-calculation in 1 available threads (1 had been requested).\n",
      "\u001b[0mprotocols.relax.FastRelax: {0} \u001b[0mCMD: repack  -34.998  0.189153  0.189153  0.022\n",
      "\u001b[0mprotocols.relax.FastRelax: {0} \u001b[0mCMD: scale:fa_rep  -34.8053  0.189153  0.189153  0.02805\n",
      "\u001b[0mprotocols.relax.FastRelax: {0} \u001b[0mCMD: min  -34.8118  0.188913  0.188913  0.02805\n",
      "\u001b[0mprotocols.relax.FastRelax: {0} \u001b[0mCMD: coord_cst_weight  -34.8118  0.188913  0.188913  0.02805\n",
      "\u001b[0mprotocols.relax.FastRelax: {0} \u001b[0mCMD: scale:fa_rep  -31.063  0.188913  0.188913  0.14575\n",
      "\u001b[0mcore.pack.pack_rotamers: {0} \u001b[0mbuilt 2530 rotamers at 14 positions.\n",
      "\u001b[0mcore.pack.pack_rotamers: {0} \u001b[0mRequesting all available threads for interaction graph computation.\n",
      "\u001b[0mcore.pack.interaction_graph.interaction_graph_factory: {0} \u001b[0mInstantiating PDInteractionGraph\n",
      "\u001b[0mcore.pack.rotamer_set.RotamerSets: {0} \u001b[0mCompleted interaction graph pre-calculation in 1 available threads (1 had been requested).\n",
      "\u001b[0mprotocols.relax.FastRelax: {0} \u001b[0mCMD: repack  -31.4282  0.188913  0.188913  0.14575\n",
      "\u001b[0mprotocols.relax.FastRelax: {0} \u001b[0mCMD: scale:fa_rep  -31.3212  0.188913  0.188913  0.154\n",
      "\u001b[0mprotocols.relax.FastRelax: {0} \u001b[0mCMD: min  -31.3292  0.188905  0.188905  0.154\n",
      "\u001b[0mprotocols.relax.FastRelax: {0} \u001b[0mCMD: coord_cst_weight  -31.3292  0.188905  0.188905  0.154\n",
      "\u001b[0mprotocols.relax.FastRelax: {0} \u001b[0mCMD: scale:fa_rep  -29.3433  0.188905  0.188905  0.30745\n",
      "\u001b[0mcore.pack.pack_rotamers: {0} \u001b[0mbuilt 2449 rotamers at 14 positions.\n",
      "\u001b[0mcore.pack.pack_rotamers: {0} \u001b[0mRequesting all available threads for interaction graph computation.\n",
      "\u001b[0mcore.pack.interaction_graph.interaction_graph_factory: {0} \u001b[0mInstantiating PDInteractionGraph\n",
      "\u001b[0mcore.pack.rotamer_set.RotamerSets: {0} \u001b[0mCompleted interaction graph pre-calculation in 1 available threads (1 had been requested).\n",
      "\u001b[0mprotocols.relax.FastRelax: {0} \u001b[0mCMD: repack  -29.3831  0.188905  0.188905  0.30745\n",
      "\u001b[0mprotocols.relax.FastRelax: {0} \u001b[0mCMD: scale:fa_rep  -29.2474  0.188905  0.188905  0.31955\n",
      "\u001b[0mprotocols.relax.FastRelax: {0} \u001b[0mCMD: min  -29.2535  0.188947  0.188947  0.31955\n",
      "\u001b[0mprotocols.relax.FastRelax: {0} \u001b[0mCMD: coord_cst_weight  -29.2535  0.188947  0.188947  0.31955\n",
      "\u001b[0mprotocols.relax.FastRelax: {0} \u001b[0mCMD: scale:fa_rep  -26.6726  0.188947  0.188947  0.55\n",
      "\u001b[0mcore.pack.pack_rotamers: {0} \u001b[0mbuilt 2317 rotamers at 14 positions.\n",
      "\u001b[0mcore.pack.pack_rotamers: {0} \u001b[0mRequesting all available threads for interaction graph computation.\n",
      "\u001b[0mcore.pack.interaction_graph.interaction_graph_factory: {0} \u001b[0mInstantiating PDInteractionGraph\n",
      "\u001b[0mcore.pack.rotamer_set.RotamerSets: {0} \u001b[0mCompleted interaction graph pre-calculation in 1 available threads (1 had been requested).\n",
      "\u001b[0mprotocols.relax.FastRelax: {0} \u001b[0mCMD: repack  -26.7907  0.188947  0.188947  0.55\n",
      "\u001b[0mprotocols.relax.FastRelax: {0} \u001b[0mCMD: min  -28.4769  0.192935  0.192935  0.55\n",
      "\u001b[0mprotocols.relax.FastRelax: {0} \u001b[0mMRP: 1  -28.4769  -28.4769  0.192935  0.192935\n",
      "\u001b[0mprotocols.relax.FastRelax: {0} \u001b[0mCMD: accept_to_best  -28.4769  0.192935  0.192935  0.55\n",
      "\u001b[0mprotocols.relax.FastRelax: {0} \u001b[0mCMD: endrepeat  -28.4769  0.192935  0.192935  0.55\n",
      "\u001b[0mprotocols.relax.FastRelax: {0} \u001b[0mCMD: coord_cst_weight  -28.4769  0.192935  0.192935  0.55\n",
      "\u001b[0mprotocols.relax.FastRelax: {0} \u001b[0mCMD: scale:fa_rep  -33.1338  0.192935  0.192935  0.022\n",
      "\u001b[0mcore.pack.pack_rotamers: {0} \u001b[0mbuilt 2677 rotamers at 14 positions.\n",
      "\u001b[0mcore.pack.pack_rotamers: {0} \u001b[0mRequesting all available threads for interaction graph computation.\n",
      "\u001b[0mcore.pack.interaction_graph.interaction_graph_factory: {0} \u001b[0mInstantiating PDInteractionGraph\n",
      "\u001b[0mcore.pack.rotamer_set.RotamerSets: {0} \u001b[0mCompleted interaction graph pre-calculation in 1 available threads (1 had been requested).\n",
      "\u001b[0mprotocols.relax.FastRelax: {0} \u001b[0mCMD: repack  -35.1389  0.192935  0.192935  0.022\n",
      "\u001b[0mprotocols.relax.FastRelax: {0} \u001b[0mCMD: scale:fa_rep  -34.9699  0.192935  0.192935  0.02805\n",
      "\u001b[0mprotocols.relax.FastRelax: {0} \u001b[0mCMD: min  -34.977  0.192577  0.192577  0.02805\n",
      "\u001b[0mprotocols.relax.FastRelax: {0} \u001b[0mCMD: coord_cst_weight  -34.977  0.192577  0.192577  0.02805\n",
      "\u001b[0mprotocols.relax.FastRelax: {0} \u001b[0mCMD: scale:fa_rep  -31.6887  0.192577  0.192577  0.14575\n",
      "\u001b[0mcore.pack.pack_rotamers: {0} \u001b[0mbuilt 2533 rotamers at 14 positions.\n",
      "\u001b[0mcore.pack.pack_rotamers: {0} \u001b[0mRequesting all available threads for interaction graph computation.\n",
      "\u001b[0mcore.pack.interaction_graph.interaction_graph_factory: {0} \u001b[0mInstantiating PDInteractionGraph\n",
      "\u001b[0mcore.pack.rotamer_set.RotamerSets: {0} \u001b[0mCompleted interaction graph pre-calculation in 1 available threads (1 had been requested).\n",
      "\u001b[0mprotocols.relax.FastRelax: {0} \u001b[0mCMD: repack  -31.3545  0.192577  0.192577  0.14575\n",
      "\u001b[0mprotocols.relax.FastRelax: {0} \u001b[0mCMD: scale:fa_rep  -31.2049  0.192577  0.192577  0.154\n",
      "\u001b[0mprotocols.relax.FastRelax: {0} \u001b[0mCMD: min  -31.2187  0.192464  0.192464  0.154\n",
      "\u001b[0mprotocols.relax.FastRelax: {0} \u001b[0mCMD: coord_cst_weight  -31.2187  0.192464  0.192464  0.154\n",
      "\u001b[0mprotocols.relax.FastRelax: {0} \u001b[0mCMD: scale:fa_rep  -28.4465  0.192464  0.192464  0.30745\n",
      "\u001b[0mcore.pack.pack_rotamers: {0} \u001b[0mbuilt 2453 rotamers at 14 positions.\n",
      "\u001b[0mcore.pack.pack_rotamers: {0} \u001b[0mRequesting all available threads for interaction graph computation.\n",
      "\u001b[0mcore.pack.interaction_graph.interaction_graph_factory: {0} \u001b[0mInstantiating PDInteractionGraph\n",
      "\u001b[0mcore.pack.rotamer_set.RotamerSets: {0} \u001b[0mCompleted interaction graph pre-calculation in 1 available threads (1 had been requested).\n",
      "\u001b[0mprotocols.relax.FastRelax: {0} \u001b[0mCMD: repack  -29.389  0.192464  0.192464  0.30745\n",
      "\u001b[0mprotocols.relax.FastRelax: {0} \u001b[0mCMD: scale:fa_rep  -29.2538  0.192464  0.192464  0.31955\n",
      "\u001b[0mprotocols.relax.FastRelax: {0} \u001b[0mCMD: min  -29.2597  0.192506  0.192506  0.31955\n",
      "\u001b[0mprotocols.relax.FastRelax: {0} \u001b[0mCMD: coord_cst_weight  -29.2597  0.192506  0.192506  0.31955\n",
      "\u001b[0mprotocols.relax.FastRelax: {0} \u001b[0mCMD: scale:fa_rep  -26.6887  0.192506  0.192506  0.55\n",
      "\u001b[0mcore.pack.pack_rotamers: {0} \u001b[0mbuilt 2317 rotamers at 14 positions.\n",
      "\u001b[0mcore.pack.pack_rotamers: {0} \u001b[0mRequesting all available threads for interaction graph computation.\n",
      "\u001b[0mcore.pack.interaction_graph.interaction_graph_factory: {0} \u001b[0mInstantiating PDInteractionGraph\n",
      "\u001b[0mcore.pack.rotamer_set.RotamerSets: {0} \u001b[0mCompleted interaction graph pre-calculation in 1 available threads (1 had been requested).\n",
      "\u001b[0mprotocols.relax.FastRelax: {0} \u001b[0mCMD: repack  -26.6887  0.192506  0.192506  0.55\n",
      "\u001b[0mprotocols.relax.FastRelax: {0} \u001b[0mCMD: min  -30.3349  0.193146  0.193146  0.55\n",
      "\u001b[0mprotocols.relax.FastRelax: {0} \u001b[0mMRP: 2  -30.3349  -30.3349  0.193146  0.193146\n",
      "\u001b[0mprotocols.relax.FastRelax: {0} \u001b[0mCMD: accept_to_best  -30.3349  0.193146  0.193146  0.55\n",
      "\u001b[0mprotocols.relax.FastRelax: {0} \u001b[0mCMD: endrepeat  -30.3349  0.193146  0.193146  0.55\n",
      "\u001b[0mprotocols.relax.FastRelax: {0} \u001b[0mCMD: coord_cst_weight  -30.3349  0.193146  0.193146  0.55\n",
      "\u001b[0mprotocols.relax.FastRelax: {0} \u001b[0mCMD: scale:fa_rep  -34.9262  0.193146  0.193146  0.022\n",
      "\u001b[0mcore.pack.pack_rotamers: {0} \u001b[0mbuilt 2644 rotamers at 14 positions.\n",
      "\u001b[0mcore.pack.pack_rotamers: {0} \u001b[0mRequesting all available threads for interaction graph computation.\n",
      "\u001b[0mcore.pack.interaction_graph.interaction_graph_factory: {0} \u001b[0mInstantiating PDInteractionGraph\n",
      "\u001b[0mcore.pack.rotamer_set.RotamerSets: {0} \u001b[0mCompleted interaction graph pre-calculation in 1 available threads (1 had been requested).\n",
      "\u001b[0mprotocols.relax.FastRelax: {0} \u001b[0mCMD: repack  -38.4644  0.193146  0.193146  0.022\n",
      "\u001b[0mprotocols.relax.FastRelax: {0} \u001b[0mCMD: scale:fa_rep  -37.8303  0.193146  0.193146  0.02805\n",
      "\u001b[0mprotocols.relax.FastRelax: {0} \u001b[0mCMD: min  -37.8684  0.193201  0.193201  0.02805\n",
      "\u001b[0mprotocols.relax.FastRelax: {0} \u001b[0mCMD: coord_cst_weight  -37.8684  0.193201  0.193201  0.02805\n",
      "\u001b[0mprotocols.relax.FastRelax: {0} \u001b[0mCMD: scale:fa_rep  -25.6722  0.193201  0.193201  0.14575\n",
      "\u001b[0mcore.pack.pack_rotamers: {0} \u001b[0mbuilt 2522 rotamers at 14 positions.\n",
      "\u001b[0mcore.pack.pack_rotamers: {0} \u001b[0mRequesting all available threads for interaction graph computation.\n",
      "\u001b[0mcore.pack.interaction_graph.interaction_graph_factory: {0} \u001b[0mInstantiating PDInteractionGraph\n",
      "\u001b[0mcore.pack.rotamer_set.RotamerSets: {0} \u001b[0mCompleted interaction graph pre-calculation in 1 available threads (1 had been requested).\n",
      "\u001b[0mprotocols.relax.FastRelax: {0} \u001b[0mCMD: repack  -33.7329  0.193201  0.193201  0.14575\n",
      "\u001b[0mprotocols.relax.FastRelax: {0} \u001b[0mCMD: scale:fa_rep  -33.6081  0.193201  0.193201  0.154\n",
      "\u001b[0mprotocols.relax.FastRelax: {0} \u001b[0mCMD: min  -33.6187  0.192997  0.192997  0.154\n",
      "\u001b[0mprotocols.relax.FastRelax: {0} \u001b[0mCMD: coord_cst_weight  -33.6187  0.192997  0.192997  0.154\n",
      "\u001b[0mprotocols.relax.FastRelax: {0} \u001b[0mCMD: scale:fa_rep  -31.3035  0.192997  0.192997  0.30745\n",
      "\u001b[0mcore.pack.pack_rotamers: {0} \u001b[0mbuilt 2439 rotamers at 14 positions.\n",
      "\u001b[0mcore.pack.pack_rotamers: {0} \u001b[0mRequesting all available threads for interaction graph computation.\n",
      "\u001b[0mcore.pack.interaction_graph.interaction_graph_factory: {0} \u001b[0mInstantiating PDInteractionGraph\n",
      "\u001b[0mcore.pack.rotamer_set.RotamerSets: {0} \u001b[0mCompleted interaction graph pre-calculation in 1 available threads (1 had been requested).\n",
      "\u001b[0mprotocols.relax.FastRelax: {0} \u001b[0mCMD: repack  -32.0739  0.192997  0.192997  0.30745\n",
      "\u001b[0mprotocols.relax.FastRelax: {0} \u001b[0mCMD: scale:fa_rep  -31.9673  0.192997  0.192997  0.31955\n",
      "\u001b[0mprotocols.relax.FastRelax: {0} \u001b[0mCMD: min  -31.9723  0.192907  0.192907  0.31955\n",
      "\u001b[0mprotocols.relax.FastRelax: {0} \u001b[0mCMD: coord_cst_weight  -31.9723  0.192907  0.192907  0.31955\n",
      "\u001b[0mprotocols.relax.FastRelax: {0} \u001b[0mCMD: scale:fa_rep  -29.9397  0.192907  0.192907  0.55\n",
      "\u001b[0mcore.pack.pack_rotamers: {0} \u001b[0mbuilt 2297 rotamers at 14 positions.\n",
      "\u001b[0mcore.pack.pack_rotamers: {0} \u001b[0mRequesting all available threads for interaction graph computation.\n",
      "\u001b[0mcore.pack.interaction_graph.interaction_graph_factory: {0} \u001b[0mInstantiating PDInteractionGraph\n",
      "\u001b[0mcore.pack.rotamer_set.RotamerSets: {0} \u001b[0mCompleted interaction graph pre-calculation in 1 available threads (1 had been requested).\n",
      "\u001b[0mprotocols.relax.FastRelax: {0} \u001b[0mCMD: repack  -29.8342  0.192907  0.192907  0.55\n",
      "\u001b[0mprotocols.relax.FastRelax: {0} \u001b[0mCMD: min  -30.3356  0.191321  0.191321  0.55\n",
      "\u001b[0mprotocols.relax.FastRelax: {0} \u001b[0mMRP: 3  -30.3356  -30.3356  0.191321  0.191321\n",
      "\u001b[0mprotocols.relax.FastRelax: {0} \u001b[0mCMD: accept_to_best  -30.3356  0.191321  0.191321  0.55\n",
      "\u001b[0mprotocols.relax.FastRelax: {0} \u001b[0mCMD: endrepeat  -30.3356  0.191321  0.191321  0.55\n",
      "\u001b[0mprotocols.relax.FastRelax: {0} \u001b[0mCMD: coord_cst_weight  -30.3356  0.191321  0.191321  0.55\n",
      "\u001b[0mprotocols.relax.FastRelax: {0} \u001b[0mCMD: scale:fa_rep  -34.9428  0.191321  0.191321  0.022\n",
      "\u001b[0mcore.pack.pack_rotamers: {0} \u001b[0mbuilt 2644 rotamers at 14 positions.\n",
      "\u001b[0mcore.pack.pack_rotamers: {0} \u001b[0mRequesting all available threads for interaction graph computation.\n",
      "\u001b[0mcore.pack.interaction_graph.interaction_graph_factory: {0} \u001b[0mInstantiating PDInteractionGraph\n",
      "\u001b[0mcore.pack.rotamer_set.RotamerSets: {0} \u001b[0mCompleted interaction graph pre-calculation in 1 available threads (1 had been requested).\n",
      "\u001b[0mprotocols.relax.FastRelax: {0} \u001b[0mCMD: repack  -38.2064  0.191321  0.191321  0.022\n",
      "\u001b[0mprotocols.relax.FastRelax: {0} \u001b[0mCMD: scale:fa_rep  -37.4255  0.191321  0.191321  0.02805\n",
      "\u001b[0mprotocols.relax.FastRelax: {0} \u001b[0mCMD: min  -37.4669  0.19137  0.19137  0.02805\n",
      "\u001b[0mprotocols.relax.FastRelax: {0} \u001b[0mCMD: coord_cst_weight  -37.4669  0.19137  0.19137  0.02805\n",
      "\u001b[0mprotocols.relax.FastRelax: {0} \u001b[0mCMD: scale:fa_rep  -22.4386  0.19137  0.19137  0.14575\n",
      "\u001b[0mcore.pack.pack_rotamers: {0} \u001b[0mbuilt 2523 rotamers at 14 positions.\n",
      "\u001b[0mcore.pack.pack_rotamers: {0} \u001b[0mRequesting all available threads for interaction graph computation.\n",
      "\u001b[0mcore.pack.interaction_graph.interaction_graph_factory: {0} \u001b[0mInstantiating PDInteractionGraph\n",
      "\u001b[0mcore.pack.rotamer_set.RotamerSets: {0} \u001b[0mCompleted interaction graph pre-calculation in 1 available threads (1 had been requested).\n",
      "\u001b[0mprotocols.relax.FastRelax: {0} \u001b[0mCMD: repack  -32.4793  0.19137  0.19137  0.14575\n",
      "\u001b[0mprotocols.relax.FastRelax: {0} \u001b[0mCMD: scale:fa_rep  -32.4095  0.19137  0.19137  0.154\n",
      "\u001b[0mprotocols.relax.FastRelax: {0} \u001b[0mCMD: min  -32.4128  0.191263  0.191263  0.154\n",
      "\u001b[0mprotocols.relax.FastRelax: {0} \u001b[0mCMD: coord_cst_weight  -32.4128  0.191263  0.191263  0.154\n",
      "\u001b[0mprotocols.relax.FastRelax: {0} \u001b[0mCMD: scale:fa_rep  -31.1129  0.191263  0.191263  0.30745\n",
      "\u001b[0mcore.pack.pack_rotamers: {0} \u001b[0mbuilt 2439 rotamers at 14 positions.\n",
      "\u001b[0mcore.pack.pack_rotamers: {0} \u001b[0mRequesting all available threads for interaction graph computation.\n",
      "\u001b[0mcore.pack.interaction_graph.interaction_graph_factory: {0} \u001b[0mInstantiating PDInteractionGraph\n",
      "\u001b[0mcore.pack.rotamer_set.RotamerSets: {0} \u001b[0mCompleted interaction graph pre-calculation in 1 available threads (1 had been requested).\n",
      "\u001b[0mprotocols.relax.FastRelax: {0} \u001b[0mCMD: repack  -31.454  0.191263  0.191263  0.30745\n",
      "\u001b[0mprotocols.relax.FastRelax: {0} \u001b[0mCMD: scale:fa_rep  -31.3429  0.191263  0.191263  0.31955\n",
      "\u001b[0mprotocols.relax.FastRelax: {0} \u001b[0mCMD: min  -31.3486  0.191271  0.191271  0.31955\n",
      "\u001b[0mprotocols.relax.FastRelax: {0} \u001b[0mCMD: coord_cst_weight  -31.3486  0.191271  0.191271  0.31955\n",
      "\u001b[0mprotocols.relax.FastRelax: {0} \u001b[0mCMD: scale:fa_rep  -29.232  0.191271  0.191271  0.55\n",
      "\u001b[0mcore.pack.pack_rotamers: {0} \u001b[0mbuilt 2295 rotamers at 14 positions.\n",
      "\u001b[0mcore.pack.pack_rotamers: {0} \u001b[0mRequesting all available threads for interaction graph computation.\n",
      "\u001b[0mcore.pack.interaction_graph.interaction_graph_factory: {0} \u001b[0mInstantiating PDInteractionGraph\n",
      "\u001b[0mcore.pack.rotamer_set.RotamerSets: {0} \u001b[0mCompleted interaction graph pre-calculation in 1 available threads (1 had been requested).\n",
      "\u001b[0mprotocols.relax.FastRelax: {0} \u001b[0mCMD: repack  -29.232  0.191271  0.191271  0.55\n",
      "\u001b[0mprotocols.relax.FastRelax: {0} \u001b[0mCMD: min  -30.1678  0.279756  0.279756  0.55\n",
      "\u001b[0mprotocols.relax.FastRelax: {0} \u001b[0mMRP: 4  -30.1678  -30.3356  0.191321  0.191321\n",
      "\u001b[0mprotocols.relax.FastRelax: {0} \u001b[0mCMD: accept_to_best  -30.1678  0.279756  0.279756  0.55\n",
      "\u001b[0mprotocols.relax.FastRelax: {0} \u001b[0mCMD: endrepeat  -30.1678  0.279756  0.279756  0.55\n",
      "\u001b[0mprotocols::checkpoint: {0} \u001b[0mDeleting checkpoints of FastRelax\n",
      "\u001b[0mprotocols.denovo_design.movers.FastDesign: {0} \u001b[0m\n",
      "------------------------------------------------------------\n",
      " Scores                       Weight   Raw Score Wghtd.Score\n",
      "------------------------------------------------------------\n",
      " fa_atr                       1.000     -63.258     -63.258\n",
      " fa_rep                       0.550       8.726       4.799\n",
      " fa_sol                       1.000      66.030      66.030\n",
      " fa_intra_rep                 0.005      25.146       0.126\n",
      " fa_intra_sol_xover4          1.000       4.562       4.562\n",
      " lk_ball_wtd                  1.000      -2.479      -2.479\n",
      " fa_elec                      1.000     -30.936     -30.936\n",
      " pro_close                    1.250       0.000       0.000\n",
      " hbond_sr_bb                  1.000      -9.905      -9.905\n",
      " hbond_lr_bb                  1.000       0.000       0.000\n",
      " hbond_bb_sc                  1.000      -1.055      -1.055\n",
      " hbond_sc                     1.000      -5.218      -5.218\n",
      " dslf_fa13                    1.250       0.000       0.000\n",
      " omega                        0.400       1.701       0.680\n",
      " fa_dun                       0.700      24.886      17.420\n",
      " p_aa_pp                      0.600      -3.570      -2.142\n",
      " yhh_planarity                0.625       0.000       0.000\n",
      " ref                          1.000      -4.873      -4.873\n",
      " rama_prepro                  0.450      -9.082      -4.087\n",
      "---------------------------------------------------\n",
      " Total weighted score:                      -30.336\n"
     ]
    },
    {
     "data": {
      "text/plain": [
       "True"
      ]
     },
     "execution_count": 81,
     "metadata": {},
     "output_type": "execute_result"
    }
   ],
   "source": [
    "# 初始化FastDesign:\n",
    "fastdesign = FastDesign()\n",
    "fastdesign.set_scorefxn(ref2015)\n",
    "fastdesign.set_default_movemap() #使用默认的Movemap()\n",
    "fastdesign.set_task_factory(design_tf)\n",
    "fastdesign.apply(pose)\n",
    "pose.dump_pdb('./data/fastdesign.pdb')"
   ]
  },
  {
   "cell_type": "markdown",
   "id": "swedish-violation",
   "metadata": {},
   "source": [
    "通过结构比对，我发现一些位点上的氨基酸类型发生了变化。\n",
    "<center><img src=\"./img/fastdesign.png\" width = \"500\" height = \"200\" align=center /></center>"
   ]
  },
  {
   "cell_type": "markdown",
   "id": "historic-payroll",
   "metadata": {},
   "source": [
    "### 练习:\n",
    "1. 【LayerDesign】找一个小于60个氨基酸的小蛋白质，通过PyMOL观察，将包埋在内部的氨基酸标记，只允许这些部分设计为疏水氨基酸，其余暴露在溶液中的部分部分只能设计为极性氨基酸，使用相关的ResidueSelector选择并创建相关TaskOperations，最后使用FastDesign进行设计，查看设计的结果。"
   ]
  },
  {
   "cell_type": "code",
   "execution_count": null,
   "id": "norman-footwear",
   "metadata": {},
   "outputs": [],
   "source": []
  }
 ],
 "metadata": {
  "kernelspec": {
   "display_name": "Python 3",
   "language": "python",
   "name": "python3"
  },
  "language_info": {
   "codemirror_mode": {
    "name": "ipython",
    "version": 3
   },
   "file_extension": ".py",
   "mimetype": "text/x-python",
   "name": "python",
   "nbconvert_exporter": "python",
   "pygments_lexer": "ipython3",
   "version": "3.7.10"
  }
 },
 "nbformat": 4,
 "nbformat_minor": 5
}
